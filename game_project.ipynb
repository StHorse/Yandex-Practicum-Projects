{
 "cells": [
  {
   "cell_type": "markdown",
   "metadata": {},
   "source": [
    "# <center><font color='OrangeRed'>План деятельности интернет-магазина \"Стримчик\" на 2017 год</font></center>"
   ]
  },
  {
   "cell_type": "markdown",
   "metadata": {},
   "source": [
    "Данное исследование будет направлено на анализ рынка игровой индустрии до 2016 года, чтобы спрогнозировать, что может быть в 2017 года. \n",
    "\n",
    "Главная **цели** исследования:\n",
    "    1. определить закономерности на рынке компьютерных игр, влияющих на успешность игры.\n",
    "    2. составить портрет пользователя для каждого региона\n",
    "    3. предложить и проверить гипотезы \n",
    "    4. определить потенциально популярный игровой продукт\n",
    "\n",
    "Анализ будет проводиться мной в несколько этапов:\n",
    "    1. Обзор и предобработка данных\n",
    "    2. Исследовательский анализ данных\n",
    "    3. Составление портрета пользователя для каждого региона\n",
    "    4. Предложение и проверка гипотез\n",
    "    5. Вывод\n",
    "    \n",
    "Главным итогом данного анализа должны быть рекомендации, которые позволят интернет-магазину \"Стримчик\" выявить **продукты**, которые могут оказаться наиболее перспективными в 2017 году, а также увеличат прибыль и потребительскую активность."
   ]
  },
  {
   "cell_type": "markdown",
   "metadata": {},
   "source": [
    "# <font style=\"background-color: Cyan; color=black\">Обзор и предобработка данных</font> #"
   ]
  },
  {
   "cell_type": "code",
   "execution_count": 1,
   "metadata": {},
   "outputs": [],
   "source": [
    "import pandas as pd\n",
    "import numpy as np\n",
    "import matplotlib.pyplot as plt\n",
    "from IPython import display\n",
    "from pymystem3 import Mystem\n",
    "import seaborn as sns\n",
    "import math as mt\n",
    "from scipy import stats as st"
   ]
  },
  {
   "cell_type": "markdown",
   "metadata": {},
   "source": [
    "<font color='blue'>Общая информация о представленных данных</font>"
   ]
  },
  {
   "cell_type": "code",
   "execution_count": 2,
   "metadata": {},
   "outputs": [
    {
     "data": {
      "text/html": [
       "<div>\n",
       "<style scoped>\n",
       "    .dataframe tbody tr th:only-of-type {\n",
       "        vertical-align: middle;\n",
       "    }\n",
       "\n",
       "    .dataframe tbody tr th {\n",
       "        vertical-align: top;\n",
       "    }\n",
       "\n",
       "    .dataframe thead th {\n",
       "        text-align: right;\n",
       "    }\n",
       "</style>\n",
       "<table border=\"1\" class=\"dataframe\">\n",
       "  <thead>\n",
       "    <tr style=\"text-align: right;\">\n",
       "      <th></th>\n",
       "      <th>Name</th>\n",
       "      <th>Platform</th>\n",
       "      <th>Year_of_Release</th>\n",
       "      <th>Genre</th>\n",
       "      <th>NA_sales</th>\n",
       "      <th>EU_sales</th>\n",
       "      <th>JP_sales</th>\n",
       "      <th>Other_sales</th>\n",
       "      <th>Critic_Score</th>\n",
       "      <th>User_Score</th>\n",
       "      <th>Rating</th>\n",
       "    </tr>\n",
       "  </thead>\n",
       "  <tbody>\n",
       "    <tr>\n",
       "      <td>0</td>\n",
       "      <td>Wii Sports</td>\n",
       "      <td>Wii</td>\n",
       "      <td>2006.0</td>\n",
       "      <td>Sports</td>\n",
       "      <td>41.36</td>\n",
       "      <td>28.96</td>\n",
       "      <td>3.77</td>\n",
       "      <td>8.45</td>\n",
       "      <td>76.0</td>\n",
       "      <td>8</td>\n",
       "      <td>E</td>\n",
       "    </tr>\n",
       "    <tr>\n",
       "      <td>1</td>\n",
       "      <td>Super Mario Bros.</td>\n",
       "      <td>NES</td>\n",
       "      <td>1985.0</td>\n",
       "      <td>Platform</td>\n",
       "      <td>29.08</td>\n",
       "      <td>3.58</td>\n",
       "      <td>6.81</td>\n",
       "      <td>0.77</td>\n",
       "      <td>NaN</td>\n",
       "      <td>NaN</td>\n",
       "      <td>NaN</td>\n",
       "    </tr>\n",
       "    <tr>\n",
       "      <td>2</td>\n",
       "      <td>Mario Kart Wii</td>\n",
       "      <td>Wii</td>\n",
       "      <td>2008.0</td>\n",
       "      <td>Racing</td>\n",
       "      <td>15.68</td>\n",
       "      <td>12.76</td>\n",
       "      <td>3.79</td>\n",
       "      <td>3.29</td>\n",
       "      <td>82.0</td>\n",
       "      <td>8.3</td>\n",
       "      <td>E</td>\n",
       "    </tr>\n",
       "    <tr>\n",
       "      <td>3</td>\n",
       "      <td>Wii Sports Resort</td>\n",
       "      <td>Wii</td>\n",
       "      <td>2009.0</td>\n",
       "      <td>Sports</td>\n",
       "      <td>15.61</td>\n",
       "      <td>10.93</td>\n",
       "      <td>3.28</td>\n",
       "      <td>2.95</td>\n",
       "      <td>80.0</td>\n",
       "      <td>8</td>\n",
       "      <td>E</td>\n",
       "    </tr>\n",
       "    <tr>\n",
       "      <td>4</td>\n",
       "      <td>Pokemon Red/Pokemon Blue</td>\n",
       "      <td>GB</td>\n",
       "      <td>1996.0</td>\n",
       "      <td>Role-Playing</td>\n",
       "      <td>11.27</td>\n",
       "      <td>8.89</td>\n",
       "      <td>10.22</td>\n",
       "      <td>1.00</td>\n",
       "      <td>NaN</td>\n",
       "      <td>NaN</td>\n",
       "      <td>NaN</td>\n",
       "    </tr>\n",
       "    <tr>\n",
       "      <td>5</td>\n",
       "      <td>Tetris</td>\n",
       "      <td>GB</td>\n",
       "      <td>1989.0</td>\n",
       "      <td>Puzzle</td>\n",
       "      <td>23.20</td>\n",
       "      <td>2.26</td>\n",
       "      <td>4.22</td>\n",
       "      <td>0.58</td>\n",
       "      <td>NaN</td>\n",
       "      <td>NaN</td>\n",
       "      <td>NaN</td>\n",
       "    </tr>\n",
       "    <tr>\n",
       "      <td>6</td>\n",
       "      <td>New Super Mario Bros.</td>\n",
       "      <td>DS</td>\n",
       "      <td>2006.0</td>\n",
       "      <td>Platform</td>\n",
       "      <td>11.28</td>\n",
       "      <td>9.14</td>\n",
       "      <td>6.50</td>\n",
       "      <td>2.88</td>\n",
       "      <td>89.0</td>\n",
       "      <td>8.5</td>\n",
       "      <td>E</td>\n",
       "    </tr>\n",
       "    <tr>\n",
       "      <td>7</td>\n",
       "      <td>Wii Play</td>\n",
       "      <td>Wii</td>\n",
       "      <td>2006.0</td>\n",
       "      <td>Misc</td>\n",
       "      <td>13.96</td>\n",
       "      <td>9.18</td>\n",
       "      <td>2.93</td>\n",
       "      <td>2.84</td>\n",
       "      <td>58.0</td>\n",
       "      <td>6.6</td>\n",
       "      <td>E</td>\n",
       "    </tr>\n",
       "    <tr>\n",
       "      <td>8</td>\n",
       "      <td>New Super Mario Bros. Wii</td>\n",
       "      <td>Wii</td>\n",
       "      <td>2009.0</td>\n",
       "      <td>Platform</td>\n",
       "      <td>14.44</td>\n",
       "      <td>6.94</td>\n",
       "      <td>4.70</td>\n",
       "      <td>2.24</td>\n",
       "      <td>87.0</td>\n",
       "      <td>8.4</td>\n",
       "      <td>E</td>\n",
       "    </tr>\n",
       "    <tr>\n",
       "      <td>9</td>\n",
       "      <td>Duck Hunt</td>\n",
       "      <td>NES</td>\n",
       "      <td>1984.0</td>\n",
       "      <td>Shooter</td>\n",
       "      <td>26.93</td>\n",
       "      <td>0.63</td>\n",
       "      <td>0.28</td>\n",
       "      <td>0.47</td>\n",
       "      <td>NaN</td>\n",
       "      <td>NaN</td>\n",
       "      <td>NaN</td>\n",
       "    </tr>\n",
       "  </tbody>\n",
       "</table>\n",
       "</div>"
      ],
      "text/plain": [
       "                        Name Platform  Year_of_Release         Genre  \\\n",
       "0                 Wii Sports      Wii           2006.0        Sports   \n",
       "1          Super Mario Bros.      NES           1985.0      Platform   \n",
       "2             Mario Kart Wii      Wii           2008.0        Racing   \n",
       "3          Wii Sports Resort      Wii           2009.0        Sports   \n",
       "4   Pokemon Red/Pokemon Blue       GB           1996.0  Role-Playing   \n",
       "5                     Tetris       GB           1989.0        Puzzle   \n",
       "6      New Super Mario Bros.       DS           2006.0      Platform   \n",
       "7                   Wii Play      Wii           2006.0          Misc   \n",
       "8  New Super Mario Bros. Wii      Wii           2009.0      Platform   \n",
       "9                  Duck Hunt      NES           1984.0       Shooter   \n",
       "\n",
       "   NA_sales  EU_sales  JP_sales  Other_sales  Critic_Score User_Score Rating  \n",
       "0     41.36     28.96      3.77         8.45          76.0          8      E  \n",
       "1     29.08      3.58      6.81         0.77           NaN        NaN    NaN  \n",
       "2     15.68     12.76      3.79         3.29          82.0        8.3      E  \n",
       "3     15.61     10.93      3.28         2.95          80.0          8      E  \n",
       "4     11.27      8.89     10.22         1.00           NaN        NaN    NaN  \n",
       "5     23.20      2.26      4.22         0.58           NaN        NaN    NaN  \n",
       "6     11.28      9.14      6.50         2.88          89.0        8.5      E  \n",
       "7     13.96      9.18      2.93         2.84          58.0        6.6      E  \n",
       "8     14.44      6.94      4.70         2.24          87.0        8.4      E  \n",
       "9     26.93      0.63      0.28         0.47           NaN        NaN    NaN  "
      ]
     },
     "execution_count": 2,
     "metadata": {},
     "output_type": "execute_result"
    }
   ],
   "source": [
    "sales = pd.read_csv('/datasets/games.csv')\n",
    "sales.head(10)"
   ]
  },
  {
   "cell_type": "code",
   "execution_count": 3,
   "metadata": {},
   "outputs": [
    {
     "name": "stdout",
     "output_type": "stream",
     "text": [
      "<class 'pandas.core.frame.DataFrame'>\n",
      "RangeIndex: 16715 entries, 0 to 16714\n",
      "Data columns (total 11 columns):\n",
      "Name               16713 non-null object\n",
      "Platform           16715 non-null object\n",
      "Year_of_Release    16446 non-null float64\n",
      "Genre              16713 non-null object\n",
      "NA_sales           16715 non-null float64\n",
      "EU_sales           16715 non-null float64\n",
      "JP_sales           16715 non-null float64\n",
      "Other_sales        16715 non-null float64\n",
      "Critic_Score       8137 non-null float64\n",
      "User_Score         10014 non-null object\n",
      "Rating             9949 non-null object\n",
      "dtypes: float64(6), object(5)\n",
      "memory usage: 1.4+ MB\n"
     ]
    }
   ],
   "source": [
    "sales.info()"
   ]
  },
  {
   "cell_type": "markdown",
   "metadata": {},
   "source": [
    "Общая информация о представленных данных следующая:\n",
    "- всего **16715** строк\n",
    "- присутсвуют столбцы с *объектами* и *числами типа float*\n",
    "- в некоторых столбцах присутствуют *пропуски* (это столбцы с рейтингом (критики, пользователи, рейтинг от ассоциации ESRB)). Связано это может быть с тем, что игра была выпущена достаточно давно (видно по срезу), либо исходны данные неполные"
   ]
  },
  {
   "cell_type": "code",
   "execution_count": 4,
   "metadata": {},
   "outputs": [
    {
     "name": "stdout",
     "output_type": "stream",
     "text": [
      "Уникальных наименований игр 11560\n"
     ]
    }
   ],
   "source": [
    "print('Уникальных наименований игр {:.0f}'.format(len(sales['Name'].unique())))"
   ]
  },
  {
   "cell_type": "code",
   "execution_count": 5,
   "metadata": {},
   "outputs": [
    {
     "name": "stdout",
     "output_type": "stream",
     "text": [
      "Количество платформ - 31\n"
     ]
    }
   ],
   "source": [
    "print('Количество платформ - {:.0f}'.format(len(sales['Platform'].unique())))"
   ]
  },
  {
   "cell_type": "code",
   "execution_count": 6,
   "metadata": {},
   "outputs": [
    {
     "data": {
      "text/plain": [
       "array([1980., 1981., 1982., 1983., 1984., 1985., 1986., 1987., 1988.,\n",
       "       1989., 1990., 1991., 1992., 1993., 1994., 1995., 1996., 1997.,\n",
       "       1998., 1999., 2000., 2001., 2002., 2003., 2004., 2005., 2006.,\n",
       "       2007., 2008., 2009., 2010., 2011., 2012., 2013., 2014., 2015.,\n",
       "       2016.,   nan])"
      ]
     },
     "execution_count": 6,
     "metadata": {},
     "output_type": "execute_result"
    }
   ],
   "source": [
    "sales['Year_of_Release'].sort_values().unique()"
   ]
  },
  {
   "cell_type": "markdown",
   "metadata": {},
   "source": [
    "Годы выпуска игр: с 1980 по 2016, некоторые данные неизвестны."
   ]
  },
  {
   "cell_type": "code",
   "execution_count": 7,
   "metadata": {},
   "outputs": [
    {
     "data": {
      "text/plain": [
       "array(['Action', 'Adventure', 'Fighting', 'Misc', 'Platform', 'Puzzle',\n",
       "       'Racing', 'Role-Playing', 'Shooter', 'Simulation', 'Sports',\n",
       "       'Strategy', nan], dtype=object)"
      ]
     },
     "execution_count": 7,
     "metadata": {},
     "output_type": "execute_result"
    }
   ],
   "source": [
    "sales['Genre'].sort_values().unique()"
   ]
  },
  {
   "cell_type": "code",
   "execution_count": 8,
   "metadata": {},
   "outputs": [
    {
     "data": {
      "text/plain": [
       "13"
      ]
     },
     "execution_count": 8,
     "metadata": {},
     "output_type": "execute_result"
    }
   ],
   "source": [
    "len(sales['Genre'].unique())"
   ]
  },
  {
   "cell_type": "markdown",
   "metadata": {},
   "source": [
    "Игры разделены на **12** (13, так как есть пропуски) жанров"
   ]
  },
  {
   "cell_type": "code",
   "execution_count": 9,
   "metadata": {},
   "outputs": [
    {
     "data": {
      "text/html": [
       "<div>\n",
       "<style scoped>\n",
       "    .dataframe tbody tr th:only-of-type {\n",
       "        vertical-align: middle;\n",
       "    }\n",
       "\n",
       "    .dataframe tbody tr th {\n",
       "        vertical-align: top;\n",
       "    }\n",
       "\n",
       "    .dataframe thead th {\n",
       "        text-align: right;\n",
       "    }\n",
       "</style>\n",
       "<table border=\"1\" class=\"dataframe\">\n",
       "  <thead>\n",
       "    <tr style=\"text-align: right;\">\n",
       "      <th></th>\n",
       "      <th>NA_sales</th>\n",
       "      <th>EU_sales</th>\n",
       "      <th>JP_sales</th>\n",
       "      <th>Other_sales</th>\n",
       "    </tr>\n",
       "  </thead>\n",
       "  <tbody>\n",
       "    <tr>\n",
       "      <td>count</td>\n",
       "      <td>16715.00</td>\n",
       "      <td>16715.00</td>\n",
       "      <td>16715.00</td>\n",
       "      <td>16715.00</td>\n",
       "    </tr>\n",
       "    <tr>\n",
       "      <td>mean</td>\n",
       "      <td>0.26</td>\n",
       "      <td>0.15</td>\n",
       "      <td>0.08</td>\n",
       "      <td>0.05</td>\n",
       "    </tr>\n",
       "    <tr>\n",
       "      <td>std</td>\n",
       "      <td>0.81</td>\n",
       "      <td>0.50</td>\n",
       "      <td>0.31</td>\n",
       "      <td>0.19</td>\n",
       "    </tr>\n",
       "    <tr>\n",
       "      <td>min</td>\n",
       "      <td>0.00</td>\n",
       "      <td>0.00</td>\n",
       "      <td>0.00</td>\n",
       "      <td>0.00</td>\n",
       "    </tr>\n",
       "    <tr>\n",
       "      <td>25%</td>\n",
       "      <td>0.00</td>\n",
       "      <td>0.00</td>\n",
       "      <td>0.00</td>\n",
       "      <td>0.00</td>\n",
       "    </tr>\n",
       "    <tr>\n",
       "      <td>50%</td>\n",
       "      <td>0.08</td>\n",
       "      <td>0.02</td>\n",
       "      <td>0.00</td>\n",
       "      <td>0.01</td>\n",
       "    </tr>\n",
       "    <tr>\n",
       "      <td>75%</td>\n",
       "      <td>0.24</td>\n",
       "      <td>0.11</td>\n",
       "      <td>0.04</td>\n",
       "      <td>0.03</td>\n",
       "    </tr>\n",
       "    <tr>\n",
       "      <td>max</td>\n",
       "      <td>41.36</td>\n",
       "      <td>28.96</td>\n",
       "      <td>10.22</td>\n",
       "      <td>10.57</td>\n",
       "    </tr>\n",
       "  </tbody>\n",
       "</table>\n",
       "</div>"
      ],
      "text/plain": [
       "       NA_sales  EU_sales  JP_sales  Other_sales\n",
       "count  16715.00  16715.00  16715.00     16715.00\n",
       "mean       0.26      0.15      0.08         0.05\n",
       "std        0.81      0.50      0.31         0.19\n",
       "min        0.00      0.00      0.00         0.00\n",
       "25%        0.00      0.00      0.00         0.00\n",
       "50%        0.08      0.02      0.00         0.01\n",
       "75%        0.24      0.11      0.04         0.03\n",
       "max       41.36     28.96     10.22        10.57"
      ]
     },
     "execution_count": 9,
     "metadata": {},
     "output_type": "execute_result"
    }
   ],
   "source": [
    "sales[['NA_sales', 'EU_sales', 'JP_sales', 'Other_sales']].describe().round(2)"
   ]
  },
  {
   "cell_type": "markdown",
   "metadata": {},
   "source": [
    "Данные по продажам поделены на несколько основных категорий по странам: \n",
    "    - Северная Америка\n",
    "    - Европа\n",
    "    - Япония\n",
    "    - Остальной мир\n",
    "    \n",
    "Количество проданных копий игры распределился следующим образом (в млн):\n",
    "    - Северная Америка - от 0 до 41,36 \n",
    "    - Европа - от 0 до 28,96\n",
    "    - Япония - от 0 до 10,22\n",
    "    - Остальной мир - от 0 до 10,57\n",
    "    \n",
    "Как мы видим, наибольшие продажи случались в Северной Америке (это и не удивительно, так как основной конечный потребитель у видеоигр действительно находится в США (тот, кто реально покупает, и где жестко борются с пиратством(скачанные нелегальные версии игры никак не учитываются рейтингом)). \n",
    "Следом идет Европа, гда также высокие показатели продаж (но в Европе множество стран, а бумом покупательской активности могут служить пара (напрмиер, Франция и Германия).\n",
    "Показатели Японии и Остального мира примерно одинаковые, но учитывая, что мы сравниваем одну страну со множеством стран, то Япония один из лидеров по продажам в мире в целом (не в последнюю очередь это связано с тем, что в Японии свои консоли разрабатываются, а также присутствует множество игр исключительно для внутреннего пользователя (в основном Аниме))\n",
    "\n",
    "Для каждой категории виден разброс, стандартное отклонение существенно: самый низкий показатель у Остального мира, самый высокий - у Северной Америки."
   ]
  },
  {
   "cell_type": "code",
   "execution_count": 10,
   "metadata": {},
   "outputs": [
    {
     "data": {
      "text/html": [
       "<div>\n",
       "<style scoped>\n",
       "    .dataframe tbody tr th:only-of-type {\n",
       "        vertical-align: middle;\n",
       "    }\n",
       "\n",
       "    .dataframe tbody tr th {\n",
       "        vertical-align: top;\n",
       "    }\n",
       "\n",
       "    .dataframe thead th {\n",
       "        text-align: right;\n",
       "    }\n",
       "</style>\n",
       "<table border=\"1\" class=\"dataframe\">\n",
       "  <thead>\n",
       "    <tr style=\"text-align: right;\">\n",
       "      <th></th>\n",
       "      <th>Critic_Score</th>\n",
       "    </tr>\n",
       "  </thead>\n",
       "  <tbody>\n",
       "    <tr>\n",
       "      <td>count</td>\n",
       "      <td>8137.00</td>\n",
       "    </tr>\n",
       "    <tr>\n",
       "      <td>mean</td>\n",
       "      <td>68.97</td>\n",
       "    </tr>\n",
       "    <tr>\n",
       "      <td>std</td>\n",
       "      <td>13.94</td>\n",
       "    </tr>\n",
       "    <tr>\n",
       "      <td>min</td>\n",
       "      <td>13.00</td>\n",
       "    </tr>\n",
       "    <tr>\n",
       "      <td>25%</td>\n",
       "      <td>60.00</td>\n",
       "    </tr>\n",
       "    <tr>\n",
       "      <td>50%</td>\n",
       "      <td>71.00</td>\n",
       "    </tr>\n",
       "    <tr>\n",
       "      <td>75%</td>\n",
       "      <td>79.00</td>\n",
       "    </tr>\n",
       "    <tr>\n",
       "      <td>max</td>\n",
       "      <td>98.00</td>\n",
       "    </tr>\n",
       "  </tbody>\n",
       "</table>\n",
       "</div>"
      ],
      "text/plain": [
       "       Critic_Score\n",
       "count       8137.00\n",
       "mean          68.97\n",
       "std           13.94\n",
       "min           13.00\n",
       "25%           60.00\n",
       "50%           71.00\n",
       "75%           79.00\n",
       "max           98.00"
      ]
     },
     "execution_count": 10,
     "metadata": {},
     "output_type": "execute_result"
    }
   ],
   "source": [
    "sales[['Critic_Score']].describe().round(2)"
   ]
  },
  {
   "cell_type": "markdown",
   "metadata": {},
   "source": [
    "Известно, что рейтинги всегда составляются либо в десятичных значениях, либо в %. В нашем случае данные указаны как простые числа, но можно с уверенностью утверждать, что в оригинале данные значения - % положительных отзывов.\n",
    "Всего значений - **8137**, что значительно меньше, чем общее количество игр и данных в исходных данных.\n",
    "Оценка критиков держится в пределах от 13 до 98 баллов за игру со средним значением в 69 баллов, близким к медианному (71 балл). Это значит, что данные по рейтингу представлены равномерно."
   ]
  },
  {
   "cell_type": "code",
   "execution_count": 11,
   "metadata": {},
   "outputs": [
    {
     "data": {
      "text/plain": [
       "array(['0', '0.2', '0.3', '0.5', '0.6', '0.7', '0.9', '1', '1.1', '1.2',\n",
       "       '1.3', '1.4', '1.5', '1.6', '1.7', '1.8', '1.9', '2', '2.1', '2.2',\n",
       "       '2.3', '2.4', '2.5', '2.6', '2.7', '2.8', '2.9', '3', '3.1', '3.2',\n",
       "       '3.3', '3.4', '3.5', '3.6', '3.7', '3.8', '3.9', '4', '4.1', '4.2',\n",
       "       '4.3', '4.4', '4.5', '4.6', '4.7', '4.8', '4.9', '5', '5.1', '5.2',\n",
       "       '5.3', '5.4', '5.5', '5.6', '5.7', '5.8', '5.9', '6', '6.1', '6.2',\n",
       "       '6.3', '6.4', '6.5', '6.6', '6.7', '6.8', '6.9', '7', '7.1', '7.2',\n",
       "       '7.3', '7.4', '7.5', '7.6', '7.7', '7.8', '7.9', '8', '8.1', '8.2',\n",
       "       '8.3', '8.4', '8.5', '8.6', '8.7', '8.8', '8.9', '9', '9.1', '9.2',\n",
       "       '9.3', '9.4', '9.5', '9.6', '9.7', 'tbd', nan], dtype=object)"
      ]
     },
     "execution_count": 11,
     "metadata": {},
     "output_type": "execute_result"
    }
   ],
   "source": [
    "sales['User_Score'].sort_values().unique()"
   ]
  },
  {
   "cell_type": "markdown",
   "metadata": {},
   "source": [
    "Пользовательский рейтинг представлен в десятичных значениях. И, как и ожидалось, этот рейтинг составили значения от 0 до 9,7. Однако, присутствуют значения **tbd** (Согласно данным из [База Данных по Бизнес-анализу](https://analytics.infozone.pro/requirements-analysis/glossary-requirements-development-wiegers-2013/) **TBD** — сокращение от To Be Determined, служит для отметки неясностей или пропусков). Это значит, что эти данные неизвестны (их можно приравнять к пропускам)"
   ]
  },
  {
   "cell_type": "code",
   "execution_count": 12,
   "metadata": {},
   "outputs": [
    {
     "data": {
      "text/plain": [
       "2424"
      ]
     },
     "execution_count": 12,
     "metadata": {},
     "output_type": "execute_result"
    }
   ],
   "source": [
    "sales.loc[sales['User_Score'] == 'tbd', 'User_Score'].count()"
   ]
  },
  {
   "cell_type": "markdown",
   "metadata": {},
   "source": [
    "Неопределенных данных у нас **2424**. Приму их во внимание чуть позже"
   ]
  },
  {
   "cell_type": "code",
   "execution_count": 13,
   "metadata": {},
   "outputs": [
    {
     "name": "stdout",
     "output_type": "stream",
     "text": [
      "Общее количество значений рейтинга ESRB - 9\n"
     ]
    }
   ],
   "source": [
    "print('Общее количество значений рейтинга ESRB - {:.0f}'.format(len(sales['Rating'].unique())))"
   ]
  },
  {
   "cell_type": "code",
   "execution_count": 14,
   "metadata": {},
   "outputs": [
    {
     "data": {
      "text/plain": [
       "array(['AO', 'E', 'E10+', 'EC', 'K-A', 'M', 'RP', 'T', nan], dtype=object)"
      ]
     },
     "execution_count": 14,
     "metadata": {},
     "output_type": "execute_result"
    }
   ],
   "source": [
    "sales['Rating'].sort_values().unique()"
   ]
  },
  {
   "cell_type": "markdown",
   "metadata": {},
   "source": [
    "Данные значения рейтинга выставляет специальная организация ESRB. Чтобы разобраться, что каждый из них означает, я воспользовался статьей на известном сайте [Википедия](https://ru.wikipedia.org/wiki/Entertainment_Software_Rating_Board)\n",
    "- AO (\"Adults Only 18+\") — «Только для взрослых»: Содержание игры только для взрослых старше 18 лет;\n",
    "- E (\"Everyone\") — «Для всех»: Содержание вполне подходит для возрастной категории от 6 лет и старше, такие игры могут понравиться и взрослым;\n",
    "- E10+ (\"Everyone 10 and older\") — «Для всех от 10 лет и старше»: Проекты с данным рейтингом могут содержать немного больше мультипликационного или мягкого насилия, или несколько откровенные сцены или минимальное количество крови;\n",
    "- EC (\"Early childhood\") — «Для детей младшего возраста»: Игра подходит для детей от 3 лет и старше и не содержит материалов, которые родители могли бы счесть неподходящими;\n",
    "- K-A (\"Kids to Adult\") — «От детей до взрослых»: Игры, содержание которых подходит любой аудитории;\n",
    "- M («Mature») — «Для взрослых»: Материалы игры не подходят для подростков младше 17 лет.\n",
    "- T («Teen») — «Подросткам»: Игра подходит для лиц от 13 лет и старше.\n",
    "- RP («Rating Pending») — «Рейтинг ожидается»: Продукт был отправлен в ESRB и ожидает присвоения рейтинга."
   ]
  },
  {
   "cell_type": "markdown",
   "metadata": {},
   "source": [
    "# <font color='blue'>Обработка данных (пропуски, дубликаты, типы данных)</font>#"
   ]
  },
  {
   "cell_type": "markdown",
   "metadata": {},
   "source": [
    "По заданию мне необходимо изменить названия столбцов (привести к нижнему регистру). Мое личное мнение - это необязательно, особенно в продажах (страны с маленькой буквы?). "
   ]
  },
  {
   "cell_type": "code",
   "execution_count": 15,
   "metadata": {},
   "outputs": [
    {
     "data": {
      "text/plain": [
       "Index(['name', 'platform', 'year_of_release', 'genre', 'na_sales', 'eu_sales',\n",
       "       'jp_sales', 'other_sales', 'critic_score', 'user_score', 'rating'],\n",
       "      dtype='object')"
      ]
     },
     "execution_count": 15,
     "metadata": {},
     "output_type": "execute_result"
    }
   ],
   "source": [
    "sales.columns = sales.columns.str.lower()\n",
    "sales.columns"
   ]
  },
  {
   "cell_type": "markdown",
   "metadata": {},
   "source": [
    "Теперь столбцы приведены к нижнему регистру"
   ]
  },
  {
   "cell_type": "markdown",
   "metadata": {},
   "source": [
    "<font color='blue'>Пропуски</font>"
   ]
  },
  {
   "cell_type": "code",
   "execution_count": 16,
   "metadata": {},
   "outputs": [
    {
     "data": {
      "text/plain": [
       "name                  2\n",
       "platform              0\n",
       "year_of_release     269\n",
       "genre                 2\n",
       "na_sales              0\n",
       "eu_sales              0\n",
       "jp_sales              0\n",
       "other_sales           0\n",
       "critic_score       8578\n",
       "user_score         6701\n",
       "rating             6766\n",
       "dtype: int64"
      ]
     },
     "execution_count": 16,
     "metadata": {},
     "output_type": "execute_result"
    }
   ],
   "source": [
    "sales.isna().sum()"
   ]
  },
  {
   "cell_type": "markdown",
   "metadata": {},
   "source": [
    "Пропуски присутствуют в столбцах:\n",
    "- наименование игры\n",
    "- год релиза\n",
    "- жанр\n",
    "- рейтинг критиков\n",
    "- пользовательский рейтинг\n",
    "- рейтинг ESRB"
   ]
  },
  {
   "cell_type": "markdown",
   "metadata": {},
   "source": [
    "<font color='green'>Название игр</font>"
   ]
  },
  {
   "cell_type": "code",
   "execution_count": 17,
   "metadata": {},
   "outputs": [
    {
     "data": {
      "text/html": [
       "<div>\n",
       "<style scoped>\n",
       "    .dataframe tbody tr th:only-of-type {\n",
       "        vertical-align: middle;\n",
       "    }\n",
       "\n",
       "    .dataframe tbody tr th {\n",
       "        vertical-align: top;\n",
       "    }\n",
       "\n",
       "    .dataframe thead th {\n",
       "        text-align: right;\n",
       "    }\n",
       "</style>\n",
       "<table border=\"1\" class=\"dataframe\">\n",
       "  <thead>\n",
       "    <tr style=\"text-align: right;\">\n",
       "      <th></th>\n",
       "      <th>name</th>\n",
       "      <th>platform</th>\n",
       "      <th>year_of_release</th>\n",
       "      <th>genre</th>\n",
       "      <th>na_sales</th>\n",
       "      <th>eu_sales</th>\n",
       "      <th>jp_sales</th>\n",
       "      <th>other_sales</th>\n",
       "      <th>critic_score</th>\n",
       "      <th>user_score</th>\n",
       "      <th>rating</th>\n",
       "    </tr>\n",
       "  </thead>\n",
       "  <tbody>\n",
       "    <tr>\n",
       "      <td>659</td>\n",
       "      <td>NaN</td>\n",
       "      <td>GEN</td>\n",
       "      <td>1993.0</td>\n",
       "      <td>NaN</td>\n",
       "      <td>1.78</td>\n",
       "      <td>0.53</td>\n",
       "      <td>0.00</td>\n",
       "      <td>0.08</td>\n",
       "      <td>NaN</td>\n",
       "      <td>NaN</td>\n",
       "      <td>NaN</td>\n",
       "    </tr>\n",
       "    <tr>\n",
       "      <td>14244</td>\n",
       "      <td>NaN</td>\n",
       "      <td>GEN</td>\n",
       "      <td>1993.0</td>\n",
       "      <td>NaN</td>\n",
       "      <td>0.00</td>\n",
       "      <td>0.00</td>\n",
       "      <td>0.03</td>\n",
       "      <td>0.00</td>\n",
       "      <td>NaN</td>\n",
       "      <td>NaN</td>\n",
       "      <td>NaN</td>\n",
       "    </tr>\n",
       "  </tbody>\n",
       "</table>\n",
       "</div>"
      ],
      "text/plain": [
       "      name platform  year_of_release genre  na_sales  eu_sales  jp_sales  \\\n",
       "659    NaN      GEN           1993.0   NaN      1.78      0.53      0.00   \n",
       "14244  NaN      GEN           1993.0   NaN      0.00      0.00      0.03   \n",
       "\n",
       "       other_sales  critic_score user_score rating  \n",
       "659           0.08           NaN        NaN    NaN  \n",
       "14244         0.00           NaN        NaN    NaN  "
      ]
     },
     "execution_count": 17,
     "metadata": {},
     "output_type": "execute_result"
    }
   ],
   "source": [
    "sales.loc[sales['name'].isna() == True]"
   ]
  },
  {
   "cell_type": "markdown",
   "metadata": {},
   "source": [
    "Игр, в которых пропущено название, оказалось всего **2**. Это очень маленькое значение. Тем более для современного анализа продаж (игры выпущены в 1993 году, только для платформы Sega Genesis). Вторая игра продавалась исключительно в Японии (игра для внутреннего пользователя). Эти игры можно смело *удалять* (не маловажен факт, что одна из целей проекта - определить потенциально популярный игровой продукт в 2017 году - а без названия игры это сделать невозможно)"
   ]
  },
  {
   "cell_type": "code",
   "execution_count": 18,
   "metadata": {},
   "outputs": [],
   "source": [
    "sales.dropna(subset = ['name'], inplace = True)"
   ]
  },
  {
   "cell_type": "markdown",
   "metadata": {},
   "source": [
    "<font color='green'>Год выпуска</font>"
   ]
  },
  {
   "cell_type": "code",
   "execution_count": 19,
   "metadata": {},
   "outputs": [
    {
     "data": {
      "text/html": [
       "<div>\n",
       "<style scoped>\n",
       "    .dataframe tbody tr th:only-of-type {\n",
       "        vertical-align: middle;\n",
       "    }\n",
       "\n",
       "    .dataframe tbody tr th {\n",
       "        vertical-align: top;\n",
       "    }\n",
       "\n",
       "    .dataframe thead th {\n",
       "        text-align: right;\n",
       "    }\n",
       "</style>\n",
       "<table border=\"1\" class=\"dataframe\">\n",
       "  <thead>\n",
       "    <tr style=\"text-align: right;\">\n",
       "      <th></th>\n",
       "      <th>name</th>\n",
       "      <th>platform</th>\n",
       "      <th>year_of_release</th>\n",
       "      <th>genre</th>\n",
       "      <th>na_sales</th>\n",
       "      <th>eu_sales</th>\n",
       "      <th>jp_sales</th>\n",
       "      <th>other_sales</th>\n",
       "      <th>critic_score</th>\n",
       "      <th>user_score</th>\n",
       "      <th>rating</th>\n",
       "    </tr>\n",
       "  </thead>\n",
       "  <tbody>\n",
       "    <tr>\n",
       "      <td>8150</td>\n",
       "      <td>Twisted Metal: Small Brawl</td>\n",
       "      <td>PS</td>\n",
       "      <td>NaN</td>\n",
       "      <td>Action</td>\n",
       "      <td>0.10</td>\n",
       "      <td>0.07</td>\n",
       "      <td>0.00</td>\n",
       "      <td>0.01</td>\n",
       "      <td>51.0</td>\n",
       "      <td>7.6</td>\n",
       "      <td>T</td>\n",
       "    </tr>\n",
       "    <tr>\n",
       "      <td>2132</td>\n",
       "      <td>LEGO Harry Potter: Years 5-7</td>\n",
       "      <td>X360</td>\n",
       "      <td>NaN</td>\n",
       "      <td>Action</td>\n",
       "      <td>0.51</td>\n",
       "      <td>0.37</td>\n",
       "      <td>0.00</td>\n",
       "      <td>0.09</td>\n",
       "      <td>77.0</td>\n",
       "      <td>7.9</td>\n",
       "      <td>E10+</td>\n",
       "    </tr>\n",
       "    <tr>\n",
       "      <td>8632</td>\n",
       "      <td>Vegas Party</td>\n",
       "      <td>Wii</td>\n",
       "      <td>NaN</td>\n",
       "      <td>Misc</td>\n",
       "      <td>0.15</td>\n",
       "      <td>0.00</td>\n",
       "      <td>0.00</td>\n",
       "      <td>0.01</td>\n",
       "      <td>33.0</td>\n",
       "      <td>tbd</td>\n",
       "      <td>T</td>\n",
       "    </tr>\n",
       "    <tr>\n",
       "      <td>4127</td>\n",
       "      <td>Sonic the Hedgehog</td>\n",
       "      <td>PS3</td>\n",
       "      <td>NaN</td>\n",
       "      <td>Platform</td>\n",
       "      <td>0.00</td>\n",
       "      <td>0.48</td>\n",
       "      <td>0.00</td>\n",
       "      <td>0.00</td>\n",
       "      <td>43.0</td>\n",
       "      <td>4.1</td>\n",
       "      <td>E10+</td>\n",
       "    </tr>\n",
       "    <tr>\n",
       "      <td>14369</td>\n",
       "      <td>Majesty 2: The Fantasy Kingdom Sim</td>\n",
       "      <td>X360</td>\n",
       "      <td>NaN</td>\n",
       "      <td>Simulation</td>\n",
       "      <td>0.03</td>\n",
       "      <td>0.00</td>\n",
       "      <td>0.00</td>\n",
       "      <td>0.00</td>\n",
       "      <td>NaN</td>\n",
       "      <td>NaN</td>\n",
       "      <td>NaN</td>\n",
       "    </tr>\n",
       "    <tr>\n",
       "      <td>5156</td>\n",
       "      <td>NBA Live 2003</td>\n",
       "      <td>XB</td>\n",
       "      <td>NaN</td>\n",
       "      <td>Sports</td>\n",
       "      <td>0.31</td>\n",
       "      <td>0.04</td>\n",
       "      <td>0.00</td>\n",
       "      <td>0.01</td>\n",
       "      <td>82.0</td>\n",
       "      <td>8.8</td>\n",
       "      <td>E</td>\n",
       "    </tr>\n",
       "    <tr>\n",
       "      <td>10317</td>\n",
       "      <td>Happy Feet Two</td>\n",
       "      <td>PS3</td>\n",
       "      <td>NaN</td>\n",
       "      <td>Action</td>\n",
       "      <td>0.09</td>\n",
       "      <td>0.00</td>\n",
       "      <td>0.00</td>\n",
       "      <td>0.01</td>\n",
       "      <td>NaN</td>\n",
       "      <td>NaN</td>\n",
       "      <td>NaN</td>\n",
       "    </tr>\n",
       "    <tr>\n",
       "      <td>6199</td>\n",
       "      <td>Pac-Man Fever</td>\n",
       "      <td>GC</td>\n",
       "      <td>NaN</td>\n",
       "      <td>Misc</td>\n",
       "      <td>0.21</td>\n",
       "      <td>0.06</td>\n",
       "      <td>0.00</td>\n",
       "      <td>0.01</td>\n",
       "      <td>54.0</td>\n",
       "      <td>6.3</td>\n",
       "      <td>E</td>\n",
       "    </tr>\n",
       "    <tr>\n",
       "      <td>15795</td>\n",
       "      <td>Shonen Jump's Yu-Gi-Oh! GX Card Almanac</td>\n",
       "      <td>DS</td>\n",
       "      <td>NaN</td>\n",
       "      <td>Misc</td>\n",
       "      <td>0.00</td>\n",
       "      <td>0.00</td>\n",
       "      <td>0.02</td>\n",
       "      <td>0.00</td>\n",
       "      <td>NaN</td>\n",
       "      <td>NaN</td>\n",
       "      <td>NaN</td>\n",
       "    </tr>\n",
       "    <tr>\n",
       "      <td>11943</td>\n",
       "      <td>Dream Trigger 3D</td>\n",
       "      <td>3DS</td>\n",
       "      <td>NaN</td>\n",
       "      <td>Shooter</td>\n",
       "      <td>0.04</td>\n",
       "      <td>0.02</td>\n",
       "      <td>0.00</td>\n",
       "      <td>0.01</td>\n",
       "      <td>54.0</td>\n",
       "      <td>6.3</td>\n",
       "      <td>E</td>\n",
       "    </tr>\n",
       "  </tbody>\n",
       "</table>\n",
       "</div>"
      ],
      "text/plain": [
       "                                          name platform  year_of_release  \\\n",
       "8150                Twisted Metal: Small Brawl       PS              NaN   \n",
       "2132              LEGO Harry Potter: Years 5-7     X360              NaN   \n",
       "8632                               Vegas Party      Wii              NaN   \n",
       "4127                        Sonic the Hedgehog      PS3              NaN   \n",
       "14369       Majesty 2: The Fantasy Kingdom Sim     X360              NaN   \n",
       "5156                             NBA Live 2003       XB              NaN   \n",
       "10317                           Happy Feet Two      PS3              NaN   \n",
       "6199                             Pac-Man Fever       GC              NaN   \n",
       "15795  Shonen Jump's Yu-Gi-Oh! GX Card Almanac       DS              NaN   \n",
       "11943                         Dream Trigger 3D      3DS              NaN   \n",
       "\n",
       "            genre  na_sales  eu_sales  jp_sales  other_sales  critic_score  \\\n",
       "8150       Action      0.10      0.07      0.00         0.01          51.0   \n",
       "2132       Action      0.51      0.37      0.00         0.09          77.0   \n",
       "8632         Misc      0.15      0.00      0.00         0.01          33.0   \n",
       "4127     Platform      0.00      0.48      0.00         0.00          43.0   \n",
       "14369  Simulation      0.03      0.00      0.00         0.00           NaN   \n",
       "5156       Sports      0.31      0.04      0.00         0.01          82.0   \n",
       "10317      Action      0.09      0.00      0.00         0.01           NaN   \n",
       "6199         Misc      0.21      0.06      0.00         0.01          54.0   \n",
       "15795        Misc      0.00      0.00      0.02         0.00           NaN   \n",
       "11943     Shooter      0.04      0.02      0.00         0.01          54.0   \n",
       "\n",
       "      user_score rating  \n",
       "8150         7.6      T  \n",
       "2132         7.9   E10+  \n",
       "8632         tbd      T  \n",
       "4127         4.1   E10+  \n",
       "14369        NaN    NaN  \n",
       "5156         8.8      E  \n",
       "10317        NaN    NaN  \n",
       "6199         6.3      E  \n",
       "15795        NaN    NaN  \n",
       "11943        6.3      E  "
      ]
     },
     "execution_count": 19,
     "metadata": {},
     "output_type": "execute_result"
    }
   ],
   "source": [
    "sales.loc[sales['year_of_release'].isna() == True].sample(10)"
   ]
  },
  {
   "cell_type": "markdown",
   "metadata": {},
   "source": [
    "Обращает на себя внимание, что по некоторым играм год указан в названии. Однако, чаще всего, это спортивные симуляторы, выход которых происходит за несколько месяцев до нового *спортивного сезона*.\n",
    "Я создам список, в котором будут представлены все возможные годы выпуска игр. После чего в новом столбце через лемматизацию удалю из названия последние 4 символа игр, так как год, как правило, мы видим в конце названия. Затем заполню пропуски года выпуска, исходя из полученных лемм, входящих в список с возможным годом выпуска.\n",
    "\n",
    "Конечно, при таком заполнении будут определенные неточности (опять же из-за спортивных симуляторов, в основном, потому что я подставлю год в названии, как год выхода игры). Либо игра могла выйти в декабре какого-то года, но в названии содержать число следующего года. \n",
    "Альтернативой данного метода мне видится только поиск года выхода игры вручную, но это слишком долгий процесс."
   ]
  },
  {
   "cell_type": "code",
   "execution_count": 20,
   "metadata": {},
   "outputs": [],
   "source": [
    "release = pd.Series(sales.loc[sales['year_of_release'].isna() != True, 'year_of_release']\n",
    "         .astype('int').sort_values().unique(), name='release').astype('str')"
   ]
  },
  {
   "cell_type": "code",
   "execution_count": 21,
   "metadata": {},
   "outputs": [],
   "source": [
    "m = Mystem()\n",
    "name_lem = []\n",
    "for i in sales['name']:\n",
    "    result = ''.join(m.lemmatize(i)).strip()[-4:]\n",
    "    name_lem.append(result)\n",
    "sales['name_lem'] = name_lem"
   ]
  },
  {
   "cell_type": "code",
   "execution_count": 22,
   "metadata": {},
   "outputs": [],
   "source": [
    "sales.loc[(sales['year_of_release'].isna()==True) & (sales['name_lem'].isin(release) == True), 'year_of_release'] = (\n",
    "sales.loc[(sales['year_of_release'].isna()==True) & (sales['name_lem'].isin(release) == True), 'name_lem'])\n",
    "sales.drop('name_lem', axis='columns', inplace=True)"
   ]
  },
  {
   "cell_type": "code",
   "execution_count": 23,
   "metadata": {},
   "outputs": [
    {
     "data": {
      "text/html": [
       "<div>\n",
       "<style scoped>\n",
       "    .dataframe tbody tr th:only-of-type {\n",
       "        vertical-align: middle;\n",
       "    }\n",
       "\n",
       "    .dataframe tbody tr th {\n",
       "        vertical-align: top;\n",
       "    }\n",
       "\n",
       "    .dataframe thead th {\n",
       "        text-align: right;\n",
       "    }\n",
       "</style>\n",
       "<table border=\"1\" class=\"dataframe\">\n",
       "  <thead>\n",
       "    <tr style=\"text-align: right;\">\n",
       "      <th></th>\n",
       "      <th>name</th>\n",
       "      <th>platform</th>\n",
       "      <th>year_of_release</th>\n",
       "      <th>genre</th>\n",
       "      <th>na_sales</th>\n",
       "      <th>eu_sales</th>\n",
       "      <th>jp_sales</th>\n",
       "      <th>other_sales</th>\n",
       "      <th>critic_score</th>\n",
       "      <th>user_score</th>\n",
       "      <th>rating</th>\n",
       "    </tr>\n",
       "  </thead>\n",
       "  <tbody>\n",
       "    <tr>\n",
       "      <td>5315</td>\n",
       "      <td>From TV Animation One Piece: Tobidase Kaizokudan!</td>\n",
       "      <td>PS</td>\n",
       "      <td>2001</td>\n",
       "      <td>Role-Playing</td>\n",
       "      <td>0.00</td>\n",
       "      <td>0.00</td>\n",
       "      <td>0.32</td>\n",
       "      <td>0.02</td>\n",
       "      <td>NaN</td>\n",
       "      <td>NaN</td>\n",
       "      <td>NaN</td>\n",
       "    </tr>\n",
       "    <tr>\n",
       "      <td>15823</td>\n",
       "      <td>Dynasty Warriors: Eiketsuden</td>\n",
       "      <td>PS4</td>\n",
       "      <td>2016</td>\n",
       "      <td>Action</td>\n",
       "      <td>0.00</td>\n",
       "      <td>0.00</td>\n",
       "      <td>0.02</td>\n",
       "      <td>0.00</td>\n",
       "      <td>NaN</td>\n",
       "      <td>NaN</td>\n",
       "      <td>NaN</td>\n",
       "    </tr>\n",
       "    <tr>\n",
       "      <td>4006</td>\n",
       "      <td>Madden NFL 07</td>\n",
       "      <td>Wii</td>\n",
       "      <td>2006</td>\n",
       "      <td>Sports</td>\n",
       "      <td>0.46</td>\n",
       "      <td>0.00</td>\n",
       "      <td>0.00</td>\n",
       "      <td>0.04</td>\n",
       "      <td>81.0</td>\n",
       "      <td>8</td>\n",
       "      <td>E</td>\n",
       "    </tr>\n",
       "    <tr>\n",
       "      <td>12333</td>\n",
       "      <td>Mario vs. Donkey Kong: Tipping Stars</td>\n",
       "      <td>3DS</td>\n",
       "      <td>2015</td>\n",
       "      <td>Puzzle</td>\n",
       "      <td>0.00</td>\n",
       "      <td>0.00</td>\n",
       "      <td>0.06</td>\n",
       "      <td>0.00</td>\n",
       "      <td>70.0</td>\n",
       "      <td>7.5</td>\n",
       "      <td>E</td>\n",
       "    </tr>\n",
       "    <tr>\n",
       "      <td>2812</td>\n",
       "      <td>Katamari Damacy</td>\n",
       "      <td>PS2</td>\n",
       "      <td>2004</td>\n",
       "      <td>Puzzle</td>\n",
       "      <td>0.47</td>\n",
       "      <td>0.02</td>\n",
       "      <td>0.17</td>\n",
       "      <td>0.08</td>\n",
       "      <td>86.0</td>\n",
       "      <td>9</td>\n",
       "      <td>E</td>\n",
       "    </tr>\n",
       "    <tr>\n",
       "      <td>11235</td>\n",
       "      <td>F.E.A.R. Files</td>\n",
       "      <td>X360</td>\n",
       "      <td>2007</td>\n",
       "      <td>Shooter</td>\n",
       "      <td>0.07</td>\n",
       "      <td>0.01</td>\n",
       "      <td>0.00</td>\n",
       "      <td>0.01</td>\n",
       "      <td>66.0</td>\n",
       "      <td>7.1</td>\n",
       "      <td>M</td>\n",
       "    </tr>\n",
       "    <tr>\n",
       "      <td>191</td>\n",
       "      <td>Donkey Kong Country 2: Diddy's Kong Quest</td>\n",
       "      <td>SNES</td>\n",
       "      <td>1995</td>\n",
       "      <td>Platform</td>\n",
       "      <td>2.10</td>\n",
       "      <td>0.74</td>\n",
       "      <td>2.20</td>\n",
       "      <td>0.11</td>\n",
       "      <td>NaN</td>\n",
       "      <td>NaN</td>\n",
       "      <td>NaN</td>\n",
       "    </tr>\n",
       "    <tr>\n",
       "      <td>3944</td>\n",
       "      <td>WWE SmackDown vs. RAW 2007</td>\n",
       "      <td>X360</td>\n",
       "      <td>2006</td>\n",
       "      <td>Fighting</td>\n",
       "      <td>0.44</td>\n",
       "      <td>0.03</td>\n",
       "      <td>0.00</td>\n",
       "      <td>0.04</td>\n",
       "      <td>81.0</td>\n",
       "      <td>7.8</td>\n",
       "      <td>T</td>\n",
       "    </tr>\n",
       "    <tr>\n",
       "      <td>11189</td>\n",
       "      <td>Chou Jigen Game Neptune Mk-II</td>\n",
       "      <td>PS3</td>\n",
       "      <td>2011</td>\n",
       "      <td>Role-Playing</td>\n",
       "      <td>0.00</td>\n",
       "      <td>0.00</td>\n",
       "      <td>0.09</td>\n",
       "      <td>0.00</td>\n",
       "      <td>NaN</td>\n",
       "      <td>NaN</td>\n",
       "      <td>NaN</td>\n",
       "    </tr>\n",
       "    <tr>\n",
       "      <td>3767</td>\n",
       "      <td>Just Dance 2015</td>\n",
       "      <td>XOne</td>\n",
       "      <td>2014</td>\n",
       "      <td>Misc</td>\n",
       "      <td>0.35</td>\n",
       "      <td>0.13</td>\n",
       "      <td>0.00</td>\n",
       "      <td>0.05</td>\n",
       "      <td>70.0</td>\n",
       "      <td>7.5</td>\n",
       "      <td>E10+</td>\n",
       "    </tr>\n",
       "  </tbody>\n",
       "</table>\n",
       "</div>"
      ],
      "text/plain": [
       "                                                    name platform  \\\n",
       "5315   From TV Animation One Piece: Tobidase Kaizokudan!       PS   \n",
       "15823                       Dynasty Warriors: Eiketsuden      PS4   \n",
       "4006                                       Madden NFL 07      Wii   \n",
       "12333               Mario vs. Donkey Kong: Tipping Stars      3DS   \n",
       "2812                                     Katamari Damacy      PS2   \n",
       "11235                                     F.E.A.R. Files     X360   \n",
       "191            Donkey Kong Country 2: Diddy's Kong Quest     SNES   \n",
       "3944                          WWE SmackDown vs. RAW 2007     X360   \n",
       "11189                      Chou Jigen Game Neptune Mk-II      PS3   \n",
       "3767                                     Just Dance 2015     XOne   \n",
       "\n",
       "      year_of_release         genre  na_sales  eu_sales  jp_sales  \\\n",
       "5315             2001  Role-Playing      0.00      0.00      0.32   \n",
       "15823            2016        Action      0.00      0.00      0.02   \n",
       "4006             2006        Sports      0.46      0.00      0.00   \n",
       "12333            2015        Puzzle      0.00      0.00      0.06   \n",
       "2812             2004        Puzzle      0.47      0.02      0.17   \n",
       "11235            2007       Shooter      0.07      0.01      0.00   \n",
       "191              1995      Platform      2.10      0.74      2.20   \n",
       "3944             2006      Fighting      0.44      0.03      0.00   \n",
       "11189            2011  Role-Playing      0.00      0.00      0.09   \n",
       "3767             2014          Misc      0.35      0.13      0.00   \n",
       "\n",
       "       other_sales  critic_score user_score rating  \n",
       "5315          0.02           NaN        NaN    NaN  \n",
       "15823         0.00           NaN        NaN    NaN  \n",
       "4006          0.04          81.0          8      E  \n",
       "12333         0.00          70.0        7.5      E  \n",
       "2812          0.08          86.0          9      E  \n",
       "11235         0.01          66.0        7.1      M  \n",
       "191           0.11           NaN        NaN    NaN  \n",
       "3944          0.04          81.0        7.8      T  \n",
       "11189         0.00           NaN        NaN    NaN  \n",
       "3767          0.05          70.0        7.5   E10+  "
      ]
     },
     "execution_count": 23,
     "metadata": {},
     "output_type": "execute_result"
    }
   ],
   "source": [
    "sales.sample(10)"
   ]
  },
  {
   "cell_type": "code",
   "execution_count": 24,
   "metadata": {},
   "outputs": [
    {
     "data": {
      "text/plain": [
       "0.0152"
      ]
     },
     "execution_count": 24,
     "metadata": {},
     "output_type": "execute_result"
    }
   ],
   "source": [
    "sales['year_of_release'].isna().mean().round(4)"
   ]
  },
  {
   "cell_type": "markdown",
   "metadata": {},
   "source": [
    "Оставшиеся пропущенные значения составляют около 1,5% от всех данных, поэтому я их *удаляю*. После чего можем заменю тип данных в столбце на int."
   ]
  },
  {
   "cell_type": "code",
   "execution_count": 25,
   "metadata": {},
   "outputs": [],
   "source": [
    "sales.drop(sales.loc[(sales['year_of_release'].isnull())].index, inplace=True)\n",
    "sales['year_of_release'] = sales['year_of_release'].astype('int')"
   ]
  },
  {
   "cell_type": "markdown",
   "metadata": {},
   "source": [
    "<font color='green'>Жанр</font>"
   ]
  },
  {
   "cell_type": "markdown",
   "metadata": {},
   "source": [
    "Было известно, что в столбце жанр было только **2** пропуска. Эти данные я *удалил*, когда убрал информацию о двех играх 1993 года."
   ]
  },
  {
   "cell_type": "code",
   "execution_count": 26,
   "metadata": {},
   "outputs": [
    {
     "data": {
      "text/plain": [
       "name                  0\n",
       "platform              0\n",
       "year_of_release       0\n",
       "genre                 0\n",
       "na_sales              0\n",
       "eu_sales              0\n",
       "jp_sales              0\n",
       "other_sales           0\n",
       "critic_score       8465\n",
       "user_score         6609\n",
       "rating             6681\n",
       "dtype: int64"
      ]
     },
     "execution_count": 26,
     "metadata": {},
     "output_type": "execute_result"
    }
   ],
   "source": [
    "sales.isna().sum()"
   ]
  },
  {
   "cell_type": "markdown",
   "metadata": {},
   "source": [
    "<font color='green'>Рейтинг критиков и пользовательский рейтинг</font>"
   ]
  },
  {
   "cell_type": "markdown",
   "metadata": {},
   "source": [
    "Нам известно, что количество пропусков по данным показателям:\n",
    "- **8465** в столбце с критиками\n",
    "- **6609** в столбце с пользователями\n",
    "\n",
    "Однако, как я упомянул выше, присутствует такой тип данных у пользователей, как **tbd**. Я выяснил, что эти данные можно смело приравнять к пропускам."
   ]
  },
  {
   "cell_type": "code",
   "execution_count": 27,
   "metadata": {},
   "outputs": [],
   "source": [
    "sales.loc[sales['user_score'] == 'tbd', 'user_score'] = np.nan\n",
    "sales['user_score'] = sales['user_score'].astype('float')"
   ]
  },
  {
   "cell_type": "code",
   "execution_count": 28,
   "metadata": {},
   "outputs": [
    {
     "name": "stderr",
     "output_type": "stream",
     "text": [
      "/opt/conda/lib/python3.7/site-packages/pandas/core/ops/__init__.py:1115: FutureWarning: elementwise comparison failed; returning scalar instead, but in the future will perform elementwise comparison\n",
      "  result = method(y)\n"
     ]
    },
    {
     "data": {
      "text/plain": [
       "0"
      ]
     },
     "execution_count": 28,
     "metadata": {},
     "output_type": "execute_result"
    }
   ],
   "source": [
    "sales.loc[sales['user_score'] == 'tbd', 'user_score'].count()"
   ]
  },
  {
   "cell_type": "markdown",
   "metadata": {},
   "source": [
    "Готово. Теперь посмотрю, что из себя представляют пропуски по рейтингам"
   ]
  },
  {
   "cell_type": "code",
   "execution_count": 29,
   "metadata": {},
   "outputs": [
    {
     "data": {
      "text/plain": [
       "0.51"
      ]
     },
     "execution_count": 29,
     "metadata": {},
     "output_type": "execute_result"
    }
   ],
   "source": [
    "sales['critic_score'].isna().mean().round(2)"
   ]
  },
  {
   "cell_type": "code",
   "execution_count": 30,
   "metadata": {},
   "outputs": [
    {
     "data": {
      "text/plain": [
       "0.55"
      ]
     },
     "execution_count": 30,
     "metadata": {},
     "output_type": "execute_result"
    }
   ],
   "source": [
    "sales['user_score'].isna().mean().round(2)"
   ]
  },
  {
   "cell_type": "markdown",
   "metadata": {},
   "source": [
    "Около **51%** пропусков у критиков, почти **55%** - пользовательский рейтинг. Большое количество данных, удалить их нельзя. \n",
    "Заменить по какому-то определенному параметру (среднее, медиана) сейчас я не могу, так как данные по рейтингу строятся на множестве факторов (каждая игра уникальна и производит определнное впечатление (даже игры серии спортивных симуляторов, где каждая игра может иметь уникальные нововведения)). \n",
    "\n",
    "Проанализирую эти пропуски. Рассмотрю количество пропусков по годам"
   ]
  },
  {
   "cell_type": "code",
   "execution_count": 31,
   "metadata": {},
   "outputs": [],
   "source": [
    "critics = (sales\n",
    "                .loc[sales['critic_score'].isna()==True]\n",
    "                .pivot_table(index='year_of_release', values='name', aggfunc='count')\n",
    "                .reset_index()\n",
    "            )\n",
    "users = (sales\n",
    "            .loc[sales['user_score'].isna()==True]\n",
    "            .pivot_table(index='year_of_release', values='name', aggfunc='count')\n",
    "            .reset_index()\n",
    "        )"
   ]
  },
  {
   "cell_type": "code",
   "execution_count": 32,
   "metadata": {},
   "outputs": [
    {
     "data": {
      "image/png": "[encoded data removed]",
      "text/plain": [
       "<Figure size 432x288 with 1 Axes>"
      ]
     },
     "metadata": {
      "needs_background": "light"
     },
     "output_type": "display_data"
    }
   ],
   "source": [
    "fig, ax = plt.subplots()\n",
    "ax.set(title='Количество пропущенных оценок по годам выпуска игр',\n",
    "       xlabel='год выпуска', ylabel='игры без оценок')\n",
    "ax.plot(critics['year_of_release'], critics['name'], 'X-', color='lime', label='критики')\n",
    "ax.plot(users['year_of_release'], users['name'], 'X--', color='DarkRed', label='пользователи')\n",
    "ax.grid()\n",
    "ax.legend(frameon=False)\n",
    "plt.show()"
   ]
  },
  {
   "cell_type": "markdown",
   "metadata": {},
   "source": [
    "На данном графике мы видим резкий рост отсутствия рейтингов в *1995* году и после *2005* с пиковым значением в **2009** году.\n",
    "Вероятно, это связано с несколькими факторами:\n",
    "- в эти годы случались *прорывы* в игровой индустрии и критики и пользователи не успевали *распробовать* все игры.\n",
    "- данные по этим играм просто не были загружены в исходный файл (я больше склоняюсь к этому варианту, потому что со временем все игры обретают рейтинг, так как у пользователей *доходят руки* до них)"
   ]
  },
  {
   "cell_type": "code",
   "execution_count": 33,
   "metadata": {},
   "outputs": [
    {
     "data": {
      "text/plain": [
       "569"
      ]
     },
     "execution_count": 33,
     "metadata": {},
     "output_type": "execute_result"
    }
   ],
   "source": [
    "len(sales.loc[(sales['critic_score'].isna()==True) & (sales['user_score'].isna()!=True)])"
   ]
  },
  {
   "cell_type": "markdown",
   "metadata": {},
   "source": [
    "Количество игр, у которых отсутствует оценка критиков, но есть оценка пользоватей: **569**"
   ]
  },
  {
   "cell_type": "code",
   "execution_count": 34,
   "metadata": {},
   "outputs": [
    {
     "data": {
      "text/plain": [
       "1091"
      ]
     },
     "execution_count": 34,
     "metadata": {},
     "output_type": "execute_result"
    }
   ],
   "source": [
    "len(sales.loc[(sales['user_score'].isna()==True) & (sales['critic_score'].isna()!=True)])"
   ]
  },
  {
   "cell_type": "markdown",
   "metadata": {},
   "source": [
    "Количество игр, у которых отсутствует оценка пользователей, но есть оценка критиков: **1091**"
   ]
  },
  {
   "cell_type": "code",
   "execution_count": 35,
   "metadata": {},
   "outputs": [
    {
     "data": {
      "text/plain": [
       "7896"
      ]
     },
     "execution_count": 35,
     "metadata": {},
     "output_type": "execute_result"
    }
   ],
   "source": [
    "len(sales.loc[(sales['critic_score'].isna()==True) & (sales['user_score'].isna()==True)])"
   ]
  },
  {
   "cell_type": "markdown",
   "metadata": {},
   "source": [
    "Количество игр, у которых отсутствует и оценка критиков, и оценка пользователей: **7896**"
   ]
  },
  {
   "cell_type": "markdown",
   "metadata": {},
   "source": [
    "<font color='green'>Рейтинг ESRB</font>"
   ]
  },
  {
   "cell_type": "code",
   "execution_count": 36,
   "metadata": {},
   "outputs": [
    {
     "data": {
      "text/plain": [
       "0.41"
      ]
     },
     "execution_count": 36,
     "metadata": {},
     "output_type": "execute_result"
    }
   ],
   "source": [
    "sales['rating'].isna().mean().round(2)"
   ]
  },
  {
   "cell_type": "markdown",
   "metadata": {},
   "source": [
    "Пропущенных значений в столбце рейтинга ESRB около **41%**. Это значимая величина. Но сами мы заполнить эти данные не можем, так как выставление рейтинга имеет определенные критерии. Единственно верный путь заполнить пропуски - самому искать рейтинг вручную. Это украдет у меня колоссальное количество времени.\n",
    "Поэтому придется оставить данные с пропусками.\n",
    "Попробую разобраться, из-за чего это могло произойти"
   ]
  },
  {
   "cell_type": "markdown",
   "metadata": {},
   "source": [
    "Изучу данные о пропусках по примеру предыдущих рейтингов, а именно - за основу возьму *год выхода* игр."
   ]
  },
  {
   "cell_type": "code",
   "execution_count": 37,
   "metadata": {},
   "outputs": [],
   "source": [
    "esrb = (sales\n",
    "            .loc[sales['rating'].isna()==True]\n",
    "            .pivot_table(index='year_of_release', values='name', aggfunc='count')\n",
    "            .reset_index()\n",
    "            )"
   ]
  },
  {
   "cell_type": "code",
   "execution_count": 38,
   "metadata": {},
   "outputs": [
    {
     "data": {
      "image/png": "[encoded data removed]",
      "text/plain": [
       "<Figure size 432x288 with 1 Axes>"
      ]
     },
     "metadata": {
      "needs_background": "light"
     },
     "output_type": "display_data"
    }
   ],
   "source": [
    "fig, ax = plt.subplots()\n",
    "ax.set(title='Количество игр без рейтинга ESRB по годам их выпуска',\n",
    "       xlabel='Год выпуска', ylabel='Количество игр')\n",
    "ax.plot(esrb['year_of_release'], esrb['name'], 'X--', color='Navy', markersize=8, label='без рейтинга ESRB')\n",
    "ax.grid()\n",
    "ax.legend(frameon=False)\n",
    "plt.show()"
   ]
  },
  {
   "cell_type": "markdown",
   "metadata": {},
   "source": [
    "Наблюдаю схожую динамику, как и пропуски в рейтингах пользователей и критиков. Скорее всего, это подтверждает мою догадку, что данные не были загружены в датасет. Потому что рейтинг ESRB сейчас присутствует на всех играх, фильмах. И сложно представить, что с 1995 года было не оценено экспертами такое количество игр."
   ]
  },
  {
   "cell_type": "markdown",
   "metadata": {},
   "source": [
    "<font color='Red'>Вывод:</font> Я считаю, что пропуски в столбцах рейтинга критиков, пользовательского рейтинга и рейтинга ESRB были допущены по причине **невнесения** этих данных в исходную таблицу. "
   ]
  },
  {
   "cell_type": "code",
   "execution_count": 39,
   "metadata": {},
   "outputs": [
    {
     "data": {
      "text/plain": [
       "name                  0\n",
       "platform              0\n",
       "year_of_release       0\n",
       "genre                 0\n",
       "na_sales              0\n",
       "eu_sales              0\n",
       "jp_sales              0\n",
       "other_sales           0\n",
       "critic_score       8465\n",
       "user_score         8987\n",
       "rating             6681\n",
       "dtype: int64"
      ]
     },
     "execution_count": 39,
     "metadata": {},
     "output_type": "execute_result"
    }
   ],
   "source": [
    "sales.isna().sum()"
   ]
  },
  {
   "cell_type": "markdown",
   "metadata": {},
   "source": [
    "Все <font color='blue'>пропуски</font>, которые я мог заменить на логические числа, были предобработаны"
   ]
  },
  {
   "cell_type": "markdown",
   "metadata": {},
   "source": [
    "# <font color='blue'>Суммарные продажи</font> #"
   ]
  },
  {
   "cell_type": "markdown",
   "metadata": {},
   "source": [
    "Для того, чтобы расчитать суммарное количество проданных копий по всем регионам, я просуммирую значения по каждому региону."
   ]
  },
  {
   "cell_type": "code",
   "execution_count": 40,
   "metadata": {},
   "outputs": [
    {
     "data": {
      "text/html": [
       "<div>\n",
       "<style scoped>\n",
       "    .dataframe tbody tr th:only-of-type {\n",
       "        vertical-align: middle;\n",
       "    }\n",
       "\n",
       "    .dataframe tbody tr th {\n",
       "        vertical-align: top;\n",
       "    }\n",
       "\n",
       "    .dataframe thead th {\n",
       "        text-align: right;\n",
       "    }\n",
       "</style>\n",
       "<table border=\"1\" class=\"dataframe\">\n",
       "  <thead>\n",
       "    <tr style=\"text-align: right;\">\n",
       "      <th></th>\n",
       "      <th>name</th>\n",
       "      <th>platform</th>\n",
       "      <th>year_of_release</th>\n",
       "      <th>genre</th>\n",
       "      <th>na_sales</th>\n",
       "      <th>eu_sales</th>\n",
       "      <th>jp_sales</th>\n",
       "      <th>other_sales</th>\n",
       "      <th>critic_score</th>\n",
       "      <th>user_score</th>\n",
       "      <th>rating</th>\n",
       "      <th>total_sales</th>\n",
       "    </tr>\n",
       "  </thead>\n",
       "  <tbody>\n",
       "    <tr>\n",
       "      <td>13137</td>\n",
       "      <td>Arcana Heart 3</td>\n",
       "      <td>X360</td>\n",
       "      <td>2011</td>\n",
       "      <td>Fighting</td>\n",
       "      <td>0.00</td>\n",
       "      <td>0.02</td>\n",
       "      <td>0.02</td>\n",
       "      <td>0.00</td>\n",
       "      <td>68.0</td>\n",
       "      <td>NaN</td>\n",
       "      <td>T</td>\n",
       "      <td>0.04</td>\n",
       "    </tr>\n",
       "    <tr>\n",
       "      <td>5328</td>\n",
       "      <td>Rally Cross 2</td>\n",
       "      <td>PS</td>\n",
       "      <td>1998</td>\n",
       "      <td>Racing</td>\n",
       "      <td>0.19</td>\n",
       "      <td>0.13</td>\n",
       "      <td>0.00</td>\n",
       "      <td>0.02</td>\n",
       "      <td>NaN</td>\n",
       "      <td>NaN</td>\n",
       "      <td>NaN</td>\n",
       "      <td>0.34</td>\n",
       "    </tr>\n",
       "    <tr>\n",
       "      <td>15387</td>\n",
       "      <td>Mar Heaven: Karudea no Akuma</td>\n",
       "      <td>DS</td>\n",
       "      <td>2006</td>\n",
       "      <td>Role-Playing</td>\n",
       "      <td>0.00</td>\n",
       "      <td>0.00</td>\n",
       "      <td>0.02</td>\n",
       "      <td>0.00</td>\n",
       "      <td>NaN</td>\n",
       "      <td>NaN</td>\n",
       "      <td>NaN</td>\n",
       "      <td>0.02</td>\n",
       "    </tr>\n",
       "    <tr>\n",
       "      <td>9937</td>\n",
       "      <td>Nightshade</td>\n",
       "      <td>PS2</td>\n",
       "      <td>2003</td>\n",
       "      <td>Action</td>\n",
       "      <td>0.06</td>\n",
       "      <td>0.04</td>\n",
       "      <td>0.00</td>\n",
       "      <td>0.01</td>\n",
       "      <td>68.0</td>\n",
       "      <td>7.7</td>\n",
       "      <td>M</td>\n",
       "      <td>0.11</td>\n",
       "    </tr>\n",
       "    <tr>\n",
       "      <td>10375</td>\n",
       "      <td>Kamen Rider: Climax Heroes</td>\n",
       "      <td>PS2</td>\n",
       "      <td>2009</td>\n",
       "      <td>Fighting</td>\n",
       "      <td>0.00</td>\n",
       "      <td>0.00</td>\n",
       "      <td>0.11</td>\n",
       "      <td>0.00</td>\n",
       "      <td>NaN</td>\n",
       "      <td>NaN</td>\n",
       "      <td>NaN</td>\n",
       "      <td>0.11</td>\n",
       "    </tr>\n",
       "    <tr>\n",
       "      <td>16537</td>\n",
       "      <td>Clive Barker's Jericho</td>\n",
       "      <td>PC</td>\n",
       "      <td>2007</td>\n",
       "      <td>Shooter</td>\n",
       "      <td>0.00</td>\n",
       "      <td>0.01</td>\n",
       "      <td>0.00</td>\n",
       "      <td>0.00</td>\n",
       "      <td>63.0</td>\n",
       "      <td>7.5</td>\n",
       "      <td>M</td>\n",
       "      <td>0.01</td>\n",
       "    </tr>\n",
       "    <tr>\n",
       "      <td>3354</td>\n",
       "      <td>From TV Animation One Piece: Grand Battle 2</td>\n",
       "      <td>PS</td>\n",
       "      <td>2002</td>\n",
       "      <td>Fighting</td>\n",
       "      <td>0.00</td>\n",
       "      <td>0.00</td>\n",
       "      <td>0.56</td>\n",
       "      <td>0.04</td>\n",
       "      <td>NaN</td>\n",
       "      <td>NaN</td>\n",
       "      <td>NaN</td>\n",
       "      <td>0.60</td>\n",
       "    </tr>\n",
       "    <tr>\n",
       "      <td>8664</td>\n",
       "      <td>MX 2002 Featuring Ricky Carmichael</td>\n",
       "      <td>GBA</td>\n",
       "      <td>2001</td>\n",
       "      <td>Racing</td>\n",
       "      <td>0.11</td>\n",
       "      <td>0.04</td>\n",
       "      <td>0.00</td>\n",
       "      <td>0.00</td>\n",
       "      <td>NaN</td>\n",
       "      <td>NaN</td>\n",
       "      <td>NaN</td>\n",
       "      <td>0.15</td>\n",
       "    </tr>\n",
       "  </tbody>\n",
       "</table>\n",
       "</div>"
      ],
      "text/plain": [
       "                                              name platform  year_of_release  \\\n",
       "13137                               Arcana Heart 3     X360             2011   \n",
       "5328                                 Rally Cross 2       PS             1998   \n",
       "15387                 Mar Heaven: Karudea no Akuma       DS             2006   \n",
       "9937                                    Nightshade      PS2             2003   \n",
       "10375                   Kamen Rider: Climax Heroes      PS2             2009   \n",
       "16537                       Clive Barker's Jericho       PC             2007   \n",
       "3354   From TV Animation One Piece: Grand Battle 2       PS             2002   \n",
       "8664            MX 2002 Featuring Ricky Carmichael      GBA             2001   \n",
       "\n",
       "              genre  na_sales  eu_sales  jp_sales  other_sales  critic_score  \\\n",
       "13137      Fighting      0.00      0.02      0.02         0.00          68.0   \n",
       "5328         Racing      0.19      0.13      0.00         0.02           NaN   \n",
       "15387  Role-Playing      0.00      0.00      0.02         0.00           NaN   \n",
       "9937         Action      0.06      0.04      0.00         0.01          68.0   \n",
       "10375      Fighting      0.00      0.00      0.11         0.00           NaN   \n",
       "16537       Shooter      0.00      0.01      0.00         0.00          63.0   \n",
       "3354       Fighting      0.00      0.00      0.56         0.04           NaN   \n",
       "8664         Racing      0.11      0.04      0.00         0.00           NaN   \n",
       "\n",
       "       user_score rating  total_sales  \n",
       "13137         NaN      T         0.04  \n",
       "5328          NaN    NaN         0.34  \n",
       "15387         NaN    NaN         0.02  \n",
       "9937          7.7      M         0.11  \n",
       "10375         NaN    NaN         0.11  \n",
       "16537         7.5      M         0.01  \n",
       "3354          NaN    NaN         0.60  \n",
       "8664          NaN    NaN         0.15  "
      ]
     },
     "execution_count": 40,
     "metadata": {},
     "output_type": "execute_result"
    }
   ],
   "source": [
    "sales['total_sales'] = sales['na_sales'] + sales['eu_sales'] + sales['jp_sales'] + sales['other_sales']\n",
    "sales.sample(8)"
   ]
  },
  {
   "cell_type": "markdown",
   "metadata": {},
   "source": [
    "# <font color='red'>Вывод</font> #"
   ]
  },
  {
   "cell_type": "markdown",
   "metadata": {},
   "source": [
    "При предобработке данных мною были сделаны следующие шаги:\n",
    "- названия столбцов привел к нижнему регистру\n",
    "- обработал, где возможно, пропуски\n",
    "- суммарные продажи по всем регионам посчитал и добавил в отдельный столбец\n",
    "- заменил типы данных, где это было необходимо\n",
    "\n",
    "Во время обработки данных обнаружил закономерность, что количество пропусков в столбцах с рейтингом пользователей, критиков и рейтингом ESRB было примерно одинаковым по годам. Мое четкое убеждение, что это упущение исходных данных. Так как могут где-то не быть оценены игры пользователями (непопулярная), может игра \"пройти мимо\" критиков (казуальные, инди-проекты), даже могу допустить, что профессиональные оценщики пропустили игру и она попала на рынок (это крайне маловероятно), но слишком четкая закономерность и похожие графики. Вывод один - данные о рейтингах не были внесены в исходную таблицу."
   ]
  },
  {
   "cell_type": "markdown",
   "metadata": {},
   "source": [
    "# <font style=\"background-color: Cyan; color=black\">Исследовательский анализ данных</font> #"
   ]
  },
  {
   "cell_type": "markdown",
   "metadata": {},
   "source": [
    "<font color='blue'>Количество выпущенных игр за разные годы</font>"
   ]
  },
  {
   "cell_type": "code",
   "execution_count": 41,
   "metadata": {},
   "outputs": [],
   "source": [
    "games_per_year = sales.pivot_table(index='year_of_release', values='name', aggfunc='count').reset_index()"
   ]
  },
  {
   "cell_type": "code",
   "execution_count": 42,
   "metadata": {},
   "outputs": [
    {
     "data": {
      "image/png": "[encoded data removed]",
      "text/plain": [
       "<Figure size 432x288 with 1 Axes>"
      ]
     },
     "metadata": {
      "needs_background": "light"
     },
     "output_type": "display_data"
    }
   ],
   "source": [
    "fig, ax = plt.subplots()\n",
    "ax.set(title='Количество выпущенных по годам их выпуска',\n",
    "       xlabel='год выпуска', ylabel='количество выпущенных игр')\n",
    "ax.plot(games_per_year['year_of_release'], games_per_year['name'], 'o--', color='purple', markersize=5)\n",
    "ax.grid()\n",
    "plt.show()"
   ]
  },
  {
   "cell_type": "markdown",
   "metadata": {},
   "source": [
    "Отправной точкой для рынка видеоигр, согласно нашему графику, является **1994** год. Именно с этого момента намечается явный рост по количеству выпущенных видеоигр в год. Яркий всплеск роста выпускаемых игр начался с **2000** года. Для анализа мне нужно избавиться от \"хвоста\" - \"резать\" будем от 1994 года.\n"
   ]
  },
  {
   "cell_type": "markdown",
   "metadata": {},
   "source": [
    "<font color='blue'>Продажи по платформам</font>"
   ]
  },
  {
   "cell_type": "markdown",
   "metadata": {},
   "source": [
    "Изучу данные по продажам для каждой игровой платформы."
   ]
  },
  {
   "cell_type": "code",
   "execution_count": 43,
   "metadata": {},
   "outputs": [
    {
     "data": {
      "text/html": [
       "<div>\n",
       "<style scoped>\n",
       "    .dataframe tbody tr th:only-of-type {\n",
       "        vertical-align: middle;\n",
       "    }\n",
       "\n",
       "    .dataframe tbody tr th {\n",
       "        vertical-align: top;\n",
       "    }\n",
       "\n",
       "    .dataframe thead th {\n",
       "        text-align: right;\n",
       "    }\n",
       "</style>\n",
       "<table border=\"1\" class=\"dataframe\">\n",
       "  <thead>\n",
       "    <tr style=\"text-align: right;\">\n",
       "      <th></th>\n",
       "      <th>platform</th>\n",
       "      <th>total_sales</th>\n",
       "    </tr>\n",
       "  </thead>\n",
       "  <tbody>\n",
       "    <tr>\n",
       "      <td>0</td>\n",
       "      <td>PS2</td>\n",
       "      <td>1247.28</td>\n",
       "    </tr>\n",
       "    <tr>\n",
       "      <td>1</td>\n",
       "      <td>X360</td>\n",
       "      <td>961.30</td>\n",
       "    </tr>\n",
       "    <tr>\n",
       "      <td>2</td>\n",
       "      <td>PS3</td>\n",
       "      <td>931.34</td>\n",
       "    </tr>\n",
       "    <tr>\n",
       "      <td>3</td>\n",
       "      <td>Wii</td>\n",
       "      <td>891.18</td>\n",
       "    </tr>\n",
       "    <tr>\n",
       "      <td>4</td>\n",
       "      <td>DS</td>\n",
       "      <td>802.79</td>\n",
       "    </tr>\n",
       "    <tr>\n",
       "      <td>5</td>\n",
       "      <td>PS</td>\n",
       "      <td>727.58</td>\n",
       "    </tr>\n",
       "    <tr>\n",
       "      <td>6</td>\n",
       "      <td>PS4</td>\n",
       "      <td>314.14</td>\n",
       "    </tr>\n",
       "    <tr>\n",
       "      <td>7</td>\n",
       "      <td>GBA</td>\n",
       "      <td>312.88</td>\n",
       "    </tr>\n",
       "    <tr>\n",
       "      <td>8</td>\n",
       "      <td>PSP</td>\n",
       "      <td>289.54</td>\n",
       "    </tr>\n",
       "    <tr>\n",
       "      <td>9</td>\n",
       "      <td>3DS</td>\n",
       "      <td>257.81</td>\n",
       "    </tr>\n",
       "  </tbody>\n",
       "</table>\n",
       "</div>"
      ],
      "text/plain": [
       "  platform  total_sales\n",
       "0      PS2      1247.28\n",
       "1     X360       961.30\n",
       "2      PS3       931.34\n",
       "3      Wii       891.18\n",
       "4       DS       802.79\n",
       "5       PS       727.58\n",
       "6      PS4       314.14\n",
       "7      GBA       312.88\n",
       "8      PSP       289.54\n",
       "9      3DS       257.81"
      ]
     },
     "execution_count": 43,
     "metadata": {},
     "output_type": "execute_result"
    }
   ],
   "source": [
    "platform_sales = (sales\n",
    "                        .pivot_table(index='platform', values='total_sales', aggfunc='sum')\n",
    "                        .reset_index()\n",
    "                        .sort_values(by='total_sales', ascending=False)\n",
    "                        .head(10)\n",
    "                        .reset_index(drop=True)\n",
    "                   )\n",
    "platform_sales"
   ]
  },
  {
   "cell_type": "markdown",
   "metadata": {},
   "source": [
    "Тот факт, что лидером является PlayStation2, нисколько не удивляет. Известно, что это до сих пор остается самой популярной игровой приставкой в истории и на нее было продано больше всего игр (рейтинг подтверждает). Следом идет XBOX360 и PlayStation3 (что также не удивляет). \n",
    "\n",
    "Самым большим откровением для меня стал тот факт, что в рейтинге отсутствует XBOX One. Вероятно, это связано с тем, что у Microsoft очень развита система подписок (Xbox live Gold и Game Pass). С помощью них можно получить цифровую версию игры на время или навсегда. Но тогда игра не будет учитываться, как проданная. (Это было актуально и в 2016 году, и в 2017).\n",
    "\n",
    "Построю распределение суммарных продаж по годам для каждой платформы из 10 самых популярных.\n",
    "\n",
    "Для этого создам список из топ 10 консолей"
   ]
  },
  {
   "cell_type": "code",
   "execution_count": 44,
   "metadata": {},
   "outputs": [],
   "source": [
    "top_consoles = platform_sales['platform']"
   ]
  },
  {
   "cell_type": "code",
   "execution_count": 45,
   "metadata": {},
   "outputs": [],
   "source": [
    "platform_per_year = (sales\n",
    "                      .loc[sales['platform'].isin(top_consoles)]\n",
    "                      .pivot_table(index=['platform', 'year_of_release'], values='total_sales', aggfunc='sum')\n",
    "                      .reset_index()\n",
    "                 )"
   ]
  },
  {
   "cell_type": "code",
   "execution_count": 46,
   "metadata": {},
   "outputs": [
    {
     "data": {
      "image/png": "[encoded data removed]",
      "text/plain": [
       "<Figure size 1584x576 with 1 Axes>"
      ]
     },
     "metadata": {
      "needs_background": "light"
     },
     "output_type": "display_data"
    }
   ],
   "source": [
    "plot = sns.catplot('year_of_release', 'total_sales', hue='platform', kind='bar', data=platform_per_year)\n",
    "plt.title('Количество проданных копий за год', fontsize=12)\n",
    "plt.xlabel('Год выпуска', fontsize=12)\n",
    "plt.ylabel('Суммарные продажи (млн копий)', fontsize=12)\n",
    "plot.fig.set_size_inches(22,8)\n",
    "plt.grid()\n",
    "plt.show()"
   ]
  },
  {
   "cell_type": "markdown",
   "metadata": {},
   "source": [
    "Самый главный вывод, который можно сделать, глядя на эту таблицу - активный *\"жизненный цикл\"* каждой консоли составляет **8-10** лет. Постепенно набирая популярность она выходит на пик, затем появляется новая, более современная консоль, а лидер былых лет уходит \"на покой\".\n",
    "\n",
    "Как я и говорил раньше, самой популярной консолью была **PlayStation 2**. На самом деле, все консоли от Sony гиперпопулярны. Они смогли захватить рынок и не отпускать его. Обусловлено это и качеством самой приставки, и количеством эклсклюзивных серий игр. На примере **PlayStation 4** можно заметить, что она уже не такая популярная. Связано это может быть с тем, что консоль потеряла свою \"изюминку\". Да, по-прежнему выходят красивые, качественные игры, но вот невероятных эксклюзивов уже не хватает.\n",
    "\n",
    "Отдельно хочу отметить рывок **Wii**, которая вошла на рынок в *2006* году и была на пике поулярности в *2009*. Это объяснимо тем, что в то время уже несколько лет существовал и Xbox360 и Playstation3, силы Sony и Microsoft были брошены на разработку новых поколений консолей, нежели на активное поддержание предыдущего поколения. И в этот момент Wii удалось выпустить новый, крайне интересный продукт, который дал импульс рынку и смог завоевать своего покупателя.\n"
   ]
  },
  {
   "cell_type": "markdown",
   "metadata": {},
   "source": [
    "<font color='blue'>Анализ **актуального периода**</font>"
   ]
  },
  {
   "cell_type": "markdown",
   "metadata": {},
   "source": [
    "В качестве **актуального периода** я выберу данные с 2005 по 2015 годы. В 2005 мы видим появление новых консолей, активный интерес покупателей, который только рос с годами. Не взял верхним порогом 2016 год, так как данные по нему выглядят крайне неполными."
   ]
  },
  {
   "cell_type": "code",
   "execution_count": 47,
   "metadata": {},
   "outputs": [],
   "source": [
    "actual=sales.query('year_of_release >= 2005 & year_of_release <= 2015')"
   ]
  },
  {
   "cell_type": "markdown",
   "metadata": {},
   "source": [
    "Главное, что нам нужно учитывать только платформы, которые в данный момент еще пребывают в жизнеспособном состоянии. Потому что в этот период закрались консоли, которые еще продаются, но уже подходят к концу не только продаж, но даже выпуска."
   ]
  },
  {
   "cell_type": "code",
   "execution_count": 48,
   "metadata": {},
   "outputs": [
    {
     "data": {
      "text/html": [
       "<div>\n",
       "<style scoped>\n",
       "    .dataframe tbody tr th:only-of-type {\n",
       "        vertical-align: middle;\n",
       "    }\n",
       "\n",
       "    .dataframe tbody tr th {\n",
       "        vertical-align: top;\n",
       "    }\n",
       "\n",
       "    .dataframe thead th {\n",
       "        text-align: right;\n",
       "    }\n",
       "</style>\n",
       "<table border=\"1\" class=\"dataframe\">\n",
       "  <thead>\n",
       "    <tr style=\"text-align: right;\">\n",
       "      <th>year_of_release</th>\n",
       "      <th>2005</th>\n",
       "      <th>2006</th>\n",
       "      <th>2007</th>\n",
       "      <th>2008</th>\n",
       "      <th>2009</th>\n",
       "      <th>2010</th>\n",
       "      <th>2011</th>\n",
       "      <th>2012</th>\n",
       "      <th>2013</th>\n",
       "      <th>2014</th>\n",
       "      <th>2015</th>\n",
       "    </tr>\n",
       "    <tr>\n",
       "      <th>platform</th>\n",
       "      <th></th>\n",
       "      <th></th>\n",
       "      <th></th>\n",
       "      <th></th>\n",
       "      <th></th>\n",
       "      <th></th>\n",
       "      <th></th>\n",
       "      <th></th>\n",
       "      <th></th>\n",
       "      <th></th>\n",
       "      <th></th>\n",
       "    </tr>\n",
       "  </thead>\n",
       "  <tbody>\n",
       "    <tr>\n",
       "      <td>3DS</td>\n",
       "      <td>NaN</td>\n",
       "      <td>NaN</td>\n",
       "      <td>NaN</td>\n",
       "      <td>NaN</td>\n",
       "      <td>NaN</td>\n",
       "      <td>NaN</td>\n",
       "      <td>63.20</td>\n",
       "      <td>51.36</td>\n",
       "      <td>56.57</td>\n",
       "      <td>43.76</td>\n",
       "      <td>27.78</td>\n",
       "    </tr>\n",
       "    <tr>\n",
       "      <td>DC</td>\n",
       "      <td>NaN</td>\n",
       "      <td>NaN</td>\n",
       "      <td>0.02</td>\n",
       "      <td>0.04</td>\n",
       "      <td>NaN</td>\n",
       "      <td>NaN</td>\n",
       "      <td>NaN</td>\n",
       "      <td>NaN</td>\n",
       "      <td>NaN</td>\n",
       "      <td>NaN</td>\n",
       "      <td>NaN</td>\n",
       "    </tr>\n",
       "    <tr>\n",
       "      <td>DS</td>\n",
       "      <td>130.14</td>\n",
       "      <td>119.81</td>\n",
       "      <td>146.94</td>\n",
       "      <td>145.32</td>\n",
       "      <td>119.54</td>\n",
       "      <td>85.02</td>\n",
       "      <td>26.18</td>\n",
       "      <td>11.01</td>\n",
       "      <td>1.54</td>\n",
       "      <td>NaN</td>\n",
       "      <td>NaN</td>\n",
       "    </tr>\n",
       "    <tr>\n",
       "      <td>GBA</td>\n",
       "      <td>33.86</td>\n",
       "      <td>5.28</td>\n",
       "      <td>3.40</td>\n",
       "      <td>NaN</td>\n",
       "      <td>NaN</td>\n",
       "      <td>NaN</td>\n",
       "      <td>NaN</td>\n",
       "      <td>NaN</td>\n",
       "      <td>NaN</td>\n",
       "      <td>NaN</td>\n",
       "      <td>NaN</td>\n",
       "    </tr>\n",
       "    <tr>\n",
       "      <td>GC</td>\n",
       "      <td>27.62</td>\n",
       "      <td>11.26</td>\n",
       "      <td>0.27</td>\n",
       "      <td>NaN</td>\n",
       "      <td>NaN</td>\n",
       "      <td>NaN</td>\n",
       "      <td>NaN</td>\n",
       "      <td>NaN</td>\n",
       "      <td>NaN</td>\n",
       "      <td>NaN</td>\n",
       "      <td>NaN</td>\n",
       "    </tr>\n",
       "    <tr>\n",
       "      <td>PC</td>\n",
       "      <td>4.37</td>\n",
       "      <td>2.85</td>\n",
       "      <td>9.28</td>\n",
       "      <td>12.42</td>\n",
       "      <td>16.91</td>\n",
       "      <td>24.28</td>\n",
       "      <td>35.03</td>\n",
       "      <td>23.22</td>\n",
       "      <td>12.38</td>\n",
       "      <td>13.28</td>\n",
       "      <td>8.52</td>\n",
       "    </tr>\n",
       "    <tr>\n",
       "      <td>PS2</td>\n",
       "      <td>160.98</td>\n",
       "      <td>106.46</td>\n",
       "      <td>75.99</td>\n",
       "      <td>53.90</td>\n",
       "      <td>26.40</td>\n",
       "      <td>5.64</td>\n",
       "      <td>0.45</td>\n",
       "      <td>NaN</td>\n",
       "      <td>NaN</td>\n",
       "      <td>NaN</td>\n",
       "      <td>NaN</td>\n",
       "    </tr>\n",
       "    <tr>\n",
       "      <td>PS3</td>\n",
       "      <td>NaN</td>\n",
       "      <td>20.96</td>\n",
       "      <td>73.19</td>\n",
       "      <td>118.52</td>\n",
       "      <td>130.93</td>\n",
       "      <td>142.17</td>\n",
       "      <td>156.78</td>\n",
       "      <td>107.36</td>\n",
       "      <td>113.25</td>\n",
       "      <td>47.76</td>\n",
       "      <td>16.82</td>\n",
       "    </tr>\n",
       "    <tr>\n",
       "      <td>PS4</td>\n",
       "      <td>NaN</td>\n",
       "      <td>NaN</td>\n",
       "      <td>NaN</td>\n",
       "      <td>NaN</td>\n",
       "      <td>NaN</td>\n",
       "      <td>NaN</td>\n",
       "      <td>NaN</td>\n",
       "      <td>NaN</td>\n",
       "      <td>25.99</td>\n",
       "      <td>100.00</td>\n",
       "      <td>118.90</td>\n",
       "    </tr>\n",
       "    <tr>\n",
       "      <td>PSP</td>\n",
       "      <td>43.84</td>\n",
       "      <td>55.32</td>\n",
       "      <td>46.93</td>\n",
       "      <td>34.56</td>\n",
       "      <td>37.78</td>\n",
       "      <td>35.04</td>\n",
       "      <td>17.82</td>\n",
       "      <td>7.69</td>\n",
       "      <td>3.14</td>\n",
       "      <td>0.24</td>\n",
       "      <td>0.12</td>\n",
       "    </tr>\n",
       "    <tr>\n",
       "      <td>PSV</td>\n",
       "      <td>NaN</td>\n",
       "      <td>NaN</td>\n",
       "      <td>NaN</td>\n",
       "      <td>NaN</td>\n",
       "      <td>NaN</td>\n",
       "      <td>NaN</td>\n",
       "      <td>4.63</td>\n",
       "      <td>16.19</td>\n",
       "      <td>10.59</td>\n",
       "      <td>11.90</td>\n",
       "      <td>6.25</td>\n",
       "    </tr>\n",
       "    <tr>\n",
       "      <td>Wii</td>\n",
       "      <td>NaN</td>\n",
       "      <td>137.15</td>\n",
       "      <td>152.77</td>\n",
       "      <td>171.32</td>\n",
       "      <td>206.97</td>\n",
       "      <td>127.95</td>\n",
       "      <td>59.65</td>\n",
       "      <td>21.71</td>\n",
       "      <td>8.59</td>\n",
       "      <td>3.75</td>\n",
       "      <td>1.14</td>\n",
       "    </tr>\n",
       "    <tr>\n",
       "      <td>WiiU</td>\n",
       "      <td>NaN</td>\n",
       "      <td>NaN</td>\n",
       "      <td>NaN</td>\n",
       "      <td>NaN</td>\n",
       "      <td>NaN</td>\n",
       "      <td>NaN</td>\n",
       "      <td>NaN</td>\n",
       "      <td>17.56</td>\n",
       "      <td>21.65</td>\n",
       "      <td>22.03</td>\n",
       "      <td>16.35</td>\n",
       "    </tr>\n",
       "    <tr>\n",
       "      <td>X360</td>\n",
       "      <td>8.25</td>\n",
       "      <td>51.62</td>\n",
       "      <td>95.42</td>\n",
       "      <td>135.26</td>\n",
       "      <td>120.29</td>\n",
       "      <td>170.03</td>\n",
       "      <td>143.89</td>\n",
       "      <td>99.74</td>\n",
       "      <td>88.58</td>\n",
       "      <td>34.74</td>\n",
       "      <td>11.96</td>\n",
       "    </tr>\n",
       "    <tr>\n",
       "      <td>XB</td>\n",
       "      <td>49.23</td>\n",
       "      <td>10.04</td>\n",
       "      <td>0.55</td>\n",
       "      <td>0.18</td>\n",
       "      <td>NaN</td>\n",
       "      <td>NaN</td>\n",
       "      <td>NaN</td>\n",
       "      <td>NaN</td>\n",
       "      <td>NaN</td>\n",
       "      <td>NaN</td>\n",
       "      <td>NaN</td>\n",
       "    </tr>\n",
       "    <tr>\n",
       "      <td>XOne</td>\n",
       "      <td>NaN</td>\n",
       "      <td>NaN</td>\n",
       "      <td>NaN</td>\n",
       "      <td>NaN</td>\n",
       "      <td>NaN</td>\n",
       "      <td>NaN</td>\n",
       "      <td>NaN</td>\n",
       "      <td>NaN</td>\n",
       "      <td>18.96</td>\n",
       "      <td>54.07</td>\n",
       "      <td>60.14</td>\n",
       "    </tr>\n",
       "  </tbody>\n",
       "</table>\n",
       "</div>"
      ],
      "text/plain": [
       "year_of_release    2005    2006    2007    2008    2009    2010    2011  \\\n",
       "platform                                                                  \n",
       "3DS                 NaN     NaN     NaN     NaN     NaN     NaN   63.20   \n",
       "DC                  NaN     NaN    0.02    0.04     NaN     NaN     NaN   \n",
       "DS               130.14  119.81  146.94  145.32  119.54   85.02   26.18   \n",
       "GBA               33.86    5.28    3.40     NaN     NaN     NaN     NaN   \n",
       "GC                27.62   11.26    0.27     NaN     NaN     NaN     NaN   \n",
       "PC                 4.37    2.85    9.28   12.42   16.91   24.28   35.03   \n",
       "PS2              160.98  106.46   75.99   53.90   26.40    5.64    0.45   \n",
       "PS3                 NaN   20.96   73.19  118.52  130.93  142.17  156.78   \n",
       "PS4                 NaN     NaN     NaN     NaN     NaN     NaN     NaN   \n",
       "PSP               43.84   55.32   46.93   34.56   37.78   35.04   17.82   \n",
       "PSV                 NaN     NaN     NaN     NaN     NaN     NaN    4.63   \n",
       "Wii                 NaN  137.15  152.77  171.32  206.97  127.95   59.65   \n",
       "WiiU                NaN     NaN     NaN     NaN     NaN     NaN     NaN   \n",
       "X360               8.25   51.62   95.42  135.26  120.29  170.03  143.89   \n",
       "XB                49.23   10.04    0.55    0.18     NaN     NaN     NaN   \n",
       "XOne                NaN     NaN     NaN     NaN     NaN     NaN     NaN   \n",
       "\n",
       "year_of_release    2012    2013    2014    2015  \n",
       "platform                                         \n",
       "3DS               51.36   56.57   43.76   27.78  \n",
       "DC                  NaN     NaN     NaN     NaN  \n",
       "DS                11.01    1.54     NaN     NaN  \n",
       "GBA                 NaN     NaN     NaN     NaN  \n",
       "GC                  NaN     NaN     NaN     NaN  \n",
       "PC                23.22   12.38   13.28    8.52  \n",
       "PS2                 NaN     NaN     NaN     NaN  \n",
       "PS3              107.36  113.25   47.76   16.82  \n",
       "PS4                 NaN   25.99  100.00  118.90  \n",
       "PSP                7.69    3.14    0.24    0.12  \n",
       "PSV               16.19   10.59   11.90    6.25  \n",
       "Wii               21.71    8.59    3.75    1.14  \n",
       "WiiU              17.56   21.65   22.03   16.35  \n",
       "X360              99.74   88.58   34.74   11.96  \n",
       "XB                  NaN     NaN     NaN     NaN  \n",
       "XOne                NaN   18.96   54.07   60.14  "
      ]
     },
     "execution_count": 48,
     "metadata": {},
     "output_type": "execute_result"
    }
   ],
   "source": [
    "top_actual = actual.pivot_table(index='platform', columns='year_of_release', values='total_sales', aggfunc='sum')\n",
    "top_actual"
   ]
  },
  {
   "cell_type": "markdown",
   "metadata": {},
   "source": [
    "Я взял за основу тот факт, что *жизненный цикл* консоли составляет 8-10 лет. Возьмем верхний порог (10 лет) и удалим консоли, которые сойдут с рынка в 2017 году (нижний порог ставим **2007** год). Также, у нас уже отсутствуют значения по некоторым консолям за **2015** год. Они свое уже \"отработали\", их я тоже удалю."
   ]
  },
  {
   "cell_type": "code",
   "execution_count": 49,
   "metadata": {},
   "outputs": [
    {
     "data": {
      "text/html": [
       "<div>\n",
       "<style scoped>\n",
       "    .dataframe tbody tr th:only-of-type {\n",
       "        vertical-align: middle;\n",
       "    }\n",
       "\n",
       "    .dataframe tbody tr th {\n",
       "        vertical-align: top;\n",
       "    }\n",
       "\n",
       "    .dataframe thead th {\n",
       "        text-align: right;\n",
       "    }\n",
       "</style>\n",
       "<table border=\"1\" class=\"dataframe\">\n",
       "  <thead>\n",
       "    <tr style=\"text-align: right;\">\n",
       "      <th>year_of_release</th>\n",
       "      <th>2005</th>\n",
       "      <th>2006</th>\n",
       "      <th>2007</th>\n",
       "      <th>2008</th>\n",
       "      <th>2009</th>\n",
       "      <th>2010</th>\n",
       "      <th>2011</th>\n",
       "      <th>2012</th>\n",
       "      <th>2013</th>\n",
       "      <th>2014</th>\n",
       "      <th>2015</th>\n",
       "    </tr>\n",
       "    <tr>\n",
       "      <th>platform</th>\n",
       "      <th></th>\n",
       "      <th></th>\n",
       "      <th></th>\n",
       "      <th></th>\n",
       "      <th></th>\n",
       "      <th></th>\n",
       "      <th></th>\n",
       "      <th></th>\n",
       "      <th></th>\n",
       "      <th></th>\n",
       "      <th></th>\n",
       "    </tr>\n",
       "  </thead>\n",
       "  <tbody>\n",
       "    <tr>\n",
       "      <td>3DS</td>\n",
       "      <td>NaN</td>\n",
       "      <td>NaN</td>\n",
       "      <td>NaN</td>\n",
       "      <td>NaN</td>\n",
       "      <td>NaN</td>\n",
       "      <td>NaN</td>\n",
       "      <td>63.20</td>\n",
       "      <td>51.36</td>\n",
       "      <td>56.57</td>\n",
       "      <td>43.76</td>\n",
       "      <td>27.78</td>\n",
       "    </tr>\n",
       "    <tr>\n",
       "      <td>PS4</td>\n",
       "      <td>NaN</td>\n",
       "      <td>NaN</td>\n",
       "      <td>NaN</td>\n",
       "      <td>NaN</td>\n",
       "      <td>NaN</td>\n",
       "      <td>NaN</td>\n",
       "      <td>NaN</td>\n",
       "      <td>NaN</td>\n",
       "      <td>25.99</td>\n",
       "      <td>100.00</td>\n",
       "      <td>118.90</td>\n",
       "    </tr>\n",
       "    <tr>\n",
       "      <td>PSV</td>\n",
       "      <td>NaN</td>\n",
       "      <td>NaN</td>\n",
       "      <td>NaN</td>\n",
       "      <td>NaN</td>\n",
       "      <td>NaN</td>\n",
       "      <td>NaN</td>\n",
       "      <td>4.63</td>\n",
       "      <td>16.19</td>\n",
       "      <td>10.59</td>\n",
       "      <td>11.90</td>\n",
       "      <td>6.25</td>\n",
       "    </tr>\n",
       "    <tr>\n",
       "      <td>WiiU</td>\n",
       "      <td>NaN</td>\n",
       "      <td>NaN</td>\n",
       "      <td>NaN</td>\n",
       "      <td>NaN</td>\n",
       "      <td>NaN</td>\n",
       "      <td>NaN</td>\n",
       "      <td>NaN</td>\n",
       "      <td>17.56</td>\n",
       "      <td>21.65</td>\n",
       "      <td>22.03</td>\n",
       "      <td>16.35</td>\n",
       "    </tr>\n",
       "    <tr>\n",
       "      <td>XOne</td>\n",
       "      <td>NaN</td>\n",
       "      <td>NaN</td>\n",
       "      <td>NaN</td>\n",
       "      <td>NaN</td>\n",
       "      <td>NaN</td>\n",
       "      <td>NaN</td>\n",
       "      <td>NaN</td>\n",
       "      <td>NaN</td>\n",
       "      <td>18.96</td>\n",
       "      <td>54.07</td>\n",
       "      <td>60.14</td>\n",
       "    </tr>\n",
       "  </tbody>\n",
       "</table>\n",
       "</div>"
      ],
      "text/plain": [
       "year_of_release  2005  2006  2007  2008  2009  2010   2011   2012   2013  \\\n",
       "platform                                                                   \n",
       "3DS               NaN   NaN   NaN   NaN   NaN   NaN  63.20  51.36  56.57   \n",
       "PS4               NaN   NaN   NaN   NaN   NaN   NaN    NaN    NaN  25.99   \n",
       "PSV               NaN   NaN   NaN   NaN   NaN   NaN   4.63  16.19  10.59   \n",
       "WiiU              NaN   NaN   NaN   NaN   NaN   NaN    NaN  17.56  21.65   \n",
       "XOne              NaN   NaN   NaN   NaN   NaN   NaN    NaN    NaN  18.96   \n",
       "\n",
       "year_of_release    2014    2015  \n",
       "platform                         \n",
       "3DS               43.76   27.78  \n",
       "PS4              100.00  118.90  \n",
       "PSV               11.90    6.25  \n",
       "WiiU              22.03   16.35  \n",
       "XOne              54.07   60.14  "
      ]
     },
     "execution_count": 49,
     "metadata": {},
     "output_type": "execute_result"
    }
   ],
   "source": [
    "top_actual = top_actual.loc[top_actual[2006].isna()==True].copy()\n",
    "top_actual.dropna(subset = [2015], inplace = True)\n",
    "top_actual"
   ]
  },
  {
   "cell_type": "markdown",
   "metadata": {},
   "source": [
    "У меня есть топ консолей по продажам, которые сейчас находятся на хорошем этапе \"жизненного цикла\".\n",
    "Удалю пустые столбцы и проанализирую данные."
   ]
  },
  {
   "cell_type": "code",
   "execution_count": 50,
   "metadata": {},
   "outputs": [],
   "source": [
    "top_actual.drop([2005, 2006, 2007, 2008, 2009, 2010], axis='columns', inplace=True)"
   ]
  },
  {
   "cell_type": "code",
   "execution_count": 51,
   "metadata": {},
   "outputs": [
    {
     "data": {
      "image/png": "[encoded data removed]",
      "text/plain": [
       "<Figure size 720x360 with 1 Axes>"
      ]
     },
     "metadata": {
      "needs_background": "light"
     },
     "output_type": "display_data"
    }
   ],
   "source": [
    "top_actual = (actual\n",
    "                    .loc[(actual['platform'].isin((\"3DS\", \"PS4\", \"PSV\", \"WiiU\", \"XOne\"))==True) & (\n",
    "                        actual['year_of_release'].isin((2011, 2012, 2013, 2014, 2015))==True)]\n",
    "                    .pivot_table(index=['platform', 'year_of_release'], values='total_sales', aggfunc='sum')\n",
    "                    .reset_index()\n",
    "                 )\n",
    "plot = sns.catplot(x='year_of_release', y='total_sales', hue='platform', kind='bar', data=top_actual)\n",
    "plt.title('Суммарные продажи по годам', fontsize=12)\n",
    "plt.xlabel('Год выпуска', fontsize=10)\n",
    "plt.ylabel('Суммарные продажи (млн копий)', fontsize=10)\n",
    "plt.grid()\n",
    "plot.fig.set_size_inches(10,5)"
   ]
  },
  {
   "cell_type": "markdown",
   "metadata": {},
   "source": [
    "С помощью анализа по \"актуальному периоду\" получил потенциальные популярные консоли в 2017 году: \n",
    "- 3DS, которая уже несколько лет пользуется популярностью у потребителей игр\n",
    "- PlayStation 4, только набирающая обороты и приносящая самый высокий доход от продаж\n",
    "- PlayStation Vita, не настолько популярная (что может быть связано с меньшим количеством игр на данной платформе, урезанным качеством и высокой стоиостью), но потенциально прибыльная в ближайшие 2-3 года\n",
    "- WiiU, являющаяся преемником Wii, которая тоже была достаточно популярна в своё время\n",
    "- XBoxOne, способный составить достойную конкуренцию PlayStation 4.\n",
    "\n",
    "Наблюдается подение интереса к платформам 3DS, PlayStation Vita и WiiU, но в 2017 году они еще принесут прибыль и найдут своего покупателя.\n",
    "\n"
   ]
  },
  {
   "cell_type": "markdown",
   "metadata": {},
   "source": [
    "<font color='blue'>\"Ящики с усами\" по глобальным продажам игр</font>"
   ]
  },
  {
   "cell_type": "markdown",
   "metadata": {},
   "source": [
    "Я выяснил, какие платформы наиболее актуальны сейчас. По ним и буду делать анализ. "
   ]
  },
  {
   "cell_type": "code",
   "execution_count": 52,
   "metadata": {},
   "outputs": [
    {
     "data": {
      "text/html": [
       "<div>\n",
       "<style scoped>\n",
       "    .dataframe tbody tr th:only-of-type {\n",
       "        vertical-align: middle;\n",
       "    }\n",
       "\n",
       "    .dataframe tbody tr th {\n",
       "        vertical-align: top;\n",
       "    }\n",
       "\n",
       "    .dataframe thead th {\n",
       "        text-align: right;\n",
       "    }\n",
       "</style>\n",
       "<table border=\"1\" class=\"dataframe\">\n",
       "  <thead>\n",
       "    <tr style=\"text-align: right;\">\n",
       "      <th></th>\n",
       "      <th>name</th>\n",
       "      <th>platform</th>\n",
       "      <th>year_of_release</th>\n",
       "      <th>genre</th>\n",
       "      <th>na_sales</th>\n",
       "      <th>eu_sales</th>\n",
       "      <th>jp_sales</th>\n",
       "      <th>other_sales</th>\n",
       "      <th>critic_score</th>\n",
       "      <th>user_score</th>\n",
       "      <th>rating</th>\n",
       "      <th>total_sales</th>\n",
       "    </tr>\n",
       "  </thead>\n",
       "  <tbody>\n",
       "    <tr>\n",
       "      <td>0</td>\n",
       "      <td>Call of Duty: Black Ops 3</td>\n",
       "      <td>PS4</td>\n",
       "      <td>2015</td>\n",
       "      <td>Shooter</td>\n",
       "      <td>6.03</td>\n",
       "      <td>5.86</td>\n",
       "      <td>0.36</td>\n",
       "      <td>2.38</td>\n",
       "      <td>NaN</td>\n",
       "      <td>NaN</td>\n",
       "      <td>NaN</td>\n",
       "      <td>14.63</td>\n",
       "    </tr>\n",
       "    <tr>\n",
       "      <td>1</td>\n",
       "      <td>Pokemon X/Pokemon Y</td>\n",
       "      <td>3DS</td>\n",
       "      <td>2013</td>\n",
       "      <td>Role-Playing</td>\n",
       "      <td>5.28</td>\n",
       "      <td>4.19</td>\n",
       "      <td>4.35</td>\n",
       "      <td>0.78</td>\n",
       "      <td>NaN</td>\n",
       "      <td>NaN</td>\n",
       "      <td>NaN</td>\n",
       "      <td>14.60</td>\n",
       "    </tr>\n",
       "    <tr>\n",
       "      <td>2</td>\n",
       "      <td>Mario Kart 7</td>\n",
       "      <td>3DS</td>\n",
       "      <td>2011</td>\n",
       "      <td>Racing</td>\n",
       "      <td>5.03</td>\n",
       "      <td>4.02</td>\n",
       "      <td>2.69</td>\n",
       "      <td>0.91</td>\n",
       "      <td>85.0</td>\n",
       "      <td>8.2</td>\n",
       "      <td>E</td>\n",
       "      <td>12.65</td>\n",
       "    </tr>\n",
       "    <tr>\n",
       "      <td>3</td>\n",
       "      <td>Grand Theft Auto V</td>\n",
       "      <td>PS4</td>\n",
       "      <td>2014</td>\n",
       "      <td>Action</td>\n",
       "      <td>3.96</td>\n",
       "      <td>6.31</td>\n",
       "      <td>0.38</td>\n",
       "      <td>1.97</td>\n",
       "      <td>97.0</td>\n",
       "      <td>8.3</td>\n",
       "      <td>M</td>\n",
       "      <td>12.62</td>\n",
       "    </tr>\n",
       "    <tr>\n",
       "      <td>4</td>\n",
       "      <td>Pokemon Omega Ruby/Pokemon Alpha Sapphire</td>\n",
       "      <td>3DS</td>\n",
       "      <td>2014</td>\n",
       "      <td>Role-Playing</td>\n",
       "      <td>4.35</td>\n",
       "      <td>3.49</td>\n",
       "      <td>3.10</td>\n",
       "      <td>0.74</td>\n",
       "      <td>NaN</td>\n",
       "      <td>NaN</td>\n",
       "      <td>NaN</td>\n",
       "      <td>11.68</td>\n",
       "    </tr>\n",
       "    <tr>\n",
       "      <td>5</td>\n",
       "      <td>Super Mario 3D Land</td>\n",
       "      <td>3DS</td>\n",
       "      <td>2011</td>\n",
       "      <td>Platform</td>\n",
       "      <td>4.89</td>\n",
       "      <td>3.00</td>\n",
       "      <td>2.14</td>\n",
       "      <td>0.78</td>\n",
       "      <td>90.0</td>\n",
       "      <td>8.4</td>\n",
       "      <td>E</td>\n",
       "      <td>10.81</td>\n",
       "    </tr>\n",
       "    <tr>\n",
       "      <td>6</td>\n",
       "      <td>New Super Mario Bros. 2</td>\n",
       "      <td>3DS</td>\n",
       "      <td>2012</td>\n",
       "      <td>Platform</td>\n",
       "      <td>3.66</td>\n",
       "      <td>3.14</td>\n",
       "      <td>2.47</td>\n",
       "      <td>0.63</td>\n",
       "      <td>78.0</td>\n",
       "      <td>7.2</td>\n",
       "      <td>E</td>\n",
       "      <td>9.90</td>\n",
       "    </tr>\n",
       "    <tr>\n",
       "      <td>7</td>\n",
       "      <td>Animal Crossing: New Leaf</td>\n",
       "      <td>3DS</td>\n",
       "      <td>2012</td>\n",
       "      <td>Simulation</td>\n",
       "      <td>2.03</td>\n",
       "      <td>2.36</td>\n",
       "      <td>4.39</td>\n",
       "      <td>0.39</td>\n",
       "      <td>88.0</td>\n",
       "      <td>8.7</td>\n",
       "      <td>E</td>\n",
       "      <td>9.17</td>\n",
       "    </tr>\n",
       "    <tr>\n",
       "      <td>8</td>\n",
       "      <td>FIFA 16</td>\n",
       "      <td>PS4</td>\n",
       "      <td>2015</td>\n",
       "      <td>Sports</td>\n",
       "      <td>1.12</td>\n",
       "      <td>6.12</td>\n",
       "      <td>0.06</td>\n",
       "      <td>1.28</td>\n",
       "      <td>82.0</td>\n",
       "      <td>4.3</td>\n",
       "      <td>E</td>\n",
       "      <td>8.58</td>\n",
       "    </tr>\n",
       "    <tr>\n",
       "      <td>9</td>\n",
       "      <td>Star Wars Battlefront (2015)</td>\n",
       "      <td>PS4</td>\n",
       "      <td>2015</td>\n",
       "      <td>Shooter</td>\n",
       "      <td>2.99</td>\n",
       "      <td>3.49</td>\n",
       "      <td>0.22</td>\n",
       "      <td>1.28</td>\n",
       "      <td>NaN</td>\n",
       "      <td>NaN</td>\n",
       "      <td>NaN</td>\n",
       "      <td>7.98</td>\n",
       "    </tr>\n",
       "  </tbody>\n",
       "</table>\n",
       "</div>"
      ],
      "text/plain": [
       "                                        name platform  year_of_release  \\\n",
       "0                  Call of Duty: Black Ops 3      PS4             2015   \n",
       "1                        Pokemon X/Pokemon Y      3DS             2013   \n",
       "2                               Mario Kart 7      3DS             2011   \n",
       "3                         Grand Theft Auto V      PS4             2014   \n",
       "4  Pokemon Omega Ruby/Pokemon Alpha Sapphire      3DS             2014   \n",
       "5                        Super Mario 3D Land      3DS             2011   \n",
       "6                    New Super Mario Bros. 2      3DS             2012   \n",
       "7                  Animal Crossing: New Leaf      3DS             2012   \n",
       "8                                    FIFA 16      PS4             2015   \n",
       "9               Star Wars Battlefront (2015)      PS4             2015   \n",
       "\n",
       "          genre  na_sales  eu_sales  jp_sales  other_sales  critic_score  \\\n",
       "0       Shooter      6.03      5.86      0.36         2.38           NaN   \n",
       "1  Role-Playing      5.28      4.19      4.35         0.78           NaN   \n",
       "2        Racing      5.03      4.02      2.69         0.91          85.0   \n",
       "3        Action      3.96      6.31      0.38         1.97          97.0   \n",
       "4  Role-Playing      4.35      3.49      3.10         0.74           NaN   \n",
       "5      Platform      4.89      3.00      2.14         0.78          90.0   \n",
       "6      Platform      3.66      3.14      2.47         0.63          78.0   \n",
       "7    Simulation      2.03      2.36      4.39         0.39          88.0   \n",
       "8        Sports      1.12      6.12      0.06         1.28          82.0   \n",
       "9       Shooter      2.99      3.49      0.22         1.28           NaN   \n",
       "\n",
       "   user_score rating  total_sales  \n",
       "0         NaN    NaN        14.63  \n",
       "1         NaN    NaN        14.60  \n",
       "2         8.2      E        12.65  \n",
       "3         8.3      M        12.62  \n",
       "4         NaN    NaN        11.68  \n",
       "5         8.4      E        10.81  \n",
       "6         7.2      E         9.90  \n",
       "7         8.7      E         9.17  \n",
       "8         4.3      E         8.58  \n",
       "9         NaN    NaN         7.98  "
      ]
     },
     "execution_count": 52,
     "metadata": {},
     "output_type": "execute_result"
    }
   ],
   "source": [
    "actual_consoles = pd.Series(top_actual['platform'].unique())\n",
    "popular_games = actual.loc[actual['platform'].isin(actual_consoles)==True].reset_index(drop=True)\n",
    "popular_games.head(10)"
   ]
  },
  {
   "cell_type": "markdown",
   "metadata": {},
   "source": [
    "У меня есть топ игр по продажам для актуальных консолей. Сейчас создам таблицу, которая поможет мне создать \"ящики с усами\", покажет выбросы."
   ]
  },
  {
   "cell_type": "code",
   "execution_count": 53,
   "metadata": {},
   "outputs": [
    {
     "data": {
      "text/html": [
       "<div>\n",
       "<style scoped>\n",
       "    .dataframe tbody tr th:only-of-type {\n",
       "        vertical-align: middle;\n",
       "    }\n",
       "\n",
       "    .dataframe tbody tr th {\n",
       "        vertical-align: top;\n",
       "    }\n",
       "\n",
       "    .dataframe thead th {\n",
       "        text-align: right;\n",
       "    }\n",
       "</style>\n",
       "<table border=\"1\" class=\"dataframe\">\n",
       "  <thead>\n",
       "    <tr style=\"text-align: right;\">\n",
       "      <th></th>\n",
       "      <th>platform</th>\n",
       "      <th>name</th>\n",
       "      <th>total_sales</th>\n",
       "    </tr>\n",
       "  </thead>\n",
       "  <tbody>\n",
       "    <tr>\n",
       "      <td>1011</td>\n",
       "      <td>PSV</td>\n",
       "      <td>Tsuki ni Yori Sou Otome no Sahou: Hidamari no ...</td>\n",
       "      <td>0.02</td>\n",
       "    </tr>\n",
       "    <tr>\n",
       "      <td>1261</td>\n",
       "      <td>XOne</td>\n",
       "      <td>NBA Live 15</td>\n",
       "      <td>0.21</td>\n",
       "    </tr>\n",
       "    <tr>\n",
       "      <td>287</td>\n",
       "      <td>3DS</td>\n",
       "      <td>PAC-MAN and the Ghostly Adventures</td>\n",
       "      <td>0.10</td>\n",
       "    </tr>\n",
       "    <tr>\n",
       "      <td>645</td>\n",
       "      <td>PS4</td>\n",
       "      <td>Sword Art Online: Lost Song</td>\n",
       "      <td>0.25</td>\n",
       "    </tr>\n",
       "    <tr>\n",
       "      <td>1309</td>\n",
       "      <td>XOne</td>\n",
       "      <td>The Witcher 3: Wild Hunt</td>\n",
       "      <td>1.30</td>\n",
       "    </tr>\n",
       "    <tr>\n",
       "      <td>18</td>\n",
       "      <td>3DS</td>\n",
       "      <td>Angry Birds Trilogy</td>\n",
       "      <td>0.63</td>\n",
       "    </tr>\n",
       "    <tr>\n",
       "      <td>637</td>\n",
       "      <td>PS4</td>\n",
       "      <td>Skylanders: SuperChargers</td>\n",
       "      <td>0.30</td>\n",
       "    </tr>\n",
       "    <tr>\n",
       "      <td>792</td>\n",
       "      <td>PSV</td>\n",
       "      <td>Genkai Tokki Monster Monpiece</td>\n",
       "      <td>0.06</td>\n",
       "    </tr>\n",
       "    <tr>\n",
       "      <td>183</td>\n",
       "      <td>3DS</td>\n",
       "      <td>Kamen Rider: Travelers Senki</td>\n",
       "      <td>0.08</td>\n",
       "    </tr>\n",
       "    <tr>\n",
       "      <td>331</td>\n",
       "      <td>3DS</td>\n",
       "      <td>Puzzle &amp; Dragons</td>\n",
       "      <td>1.51</td>\n",
       "    </tr>\n",
       "  </tbody>\n",
       "</table>\n",
       "</div>"
      ],
      "text/plain": [
       "     platform                                               name  total_sales\n",
       "1011      PSV  Tsuki ni Yori Sou Otome no Sahou: Hidamari no ...         0.02\n",
       "1261     XOne                                        NBA Live 15         0.21\n",
       "287       3DS                 PAC-MAN and the Ghostly Adventures         0.10\n",
       "645       PS4                        Sword Art Online: Lost Song         0.25\n",
       "1309     XOne                           The Witcher 3: Wild Hunt         1.30\n",
       "18        3DS                                Angry Birds Trilogy         0.63\n",
       "637       PS4                          Skylanders: SuperChargers         0.30\n",
       "792       PSV                      Genkai Tokki Monster Monpiece         0.06\n",
       "183       3DS                       Kamen Rider: Travelers Senki         0.08\n",
       "331       3DS                                   Puzzle & Dragons         1.51"
      ]
     },
     "execution_count": 53,
     "metadata": {},
     "output_type": "execute_result"
    }
   ],
   "source": [
    "games_sale = popular_games.pivot_table(index=['platform', 'name'], values='total_sales', aggfunc='sum').reset_index()\n",
    "games_sale.sample(10)"
   ]
  },
  {
   "cell_type": "markdown",
   "metadata": {},
   "source": [
    "У меня есть платформа, наименование игр, их суммарные продажи. Построю боксплоты для каждой консоли"
   ]
  },
  {
   "cell_type": "code",
   "execution_count": 54,
   "metadata": {},
   "outputs": [
    {
     "data": {
      "image/png": "[encoded data removed]",
      "text/plain": [
       "<Figure size 720x576 with 1 Axes>"
      ]
     },
     "metadata": {
      "needs_background": "light"
     },
     "output_type": "display_data"
    }
   ],
   "source": [
    "fig = plt.subplots(figsize=(10,8))\n",
    "plt.title('Количество проданных копий и выбросы')\n",
    "plot = sns.boxplot(x=\"platform\", y=\"total_sales\", data=games_sale, palette='Set3')\n",
    "plt.xlabel('Консоль')\n",
    "plt.ylabel('суммарные продажи (млн копий)')\n",
    "plt.show()"
   ]
  },
  {
   "cell_type": "markdown",
   "metadata": {},
   "source": [
    "Из графика видно, что для каждой из игровых консолей существует большое количество игр, суммарные продажи по которым выбиваются из квартильных значений. \n",
    "Разница в суммарны продажах для каждой из платформ *велика* для 3DS и PlayStation 4, *чуть меньше* для WiiU и Xbox One, относительно *небольшая* для PlayStation Vita\n"
   ]
  },
  {
   "cell_type": "markdown",
   "metadata": {},
   "source": [
    "<font color='blue'>Влияние отзывов пользователей и критиков на покупку игр для популярно консоли</font>"
   ]
  },
  {
   "cell_type": "markdown",
   "metadata": {},
   "source": [
    "Интересно, как влияют отзывы критиков и пользователей на продажи игр. Возьмем за основу одну популярную платформу. В моем случае это будет Sony PlayStation 4 - актуальная, современная платформа, лидер по продажам."
   ]
  },
  {
   "cell_type": "code",
   "execution_count": 55,
   "metadata": {},
   "outputs": [
    {
     "data": {
      "text/html": [
       "<div>\n",
       "<style scoped>\n",
       "    .dataframe tbody tr th:only-of-type {\n",
       "        vertical-align: middle;\n",
       "    }\n",
       "\n",
       "    .dataframe tbody tr th {\n",
       "        vertical-align: top;\n",
       "    }\n",
       "\n",
       "    .dataframe thead th {\n",
       "        text-align: right;\n",
       "    }\n",
       "</style>\n",
       "<table border=\"1\" class=\"dataframe\">\n",
       "  <thead>\n",
       "    <tr style=\"text-align: right;\">\n",
       "      <th></th>\n",
       "      <th>name</th>\n",
       "      <th>platform</th>\n",
       "      <th>year_of_release</th>\n",
       "      <th>genre</th>\n",
       "      <th>na_sales</th>\n",
       "      <th>eu_sales</th>\n",
       "      <th>jp_sales</th>\n",
       "      <th>other_sales</th>\n",
       "      <th>critic_score</th>\n",
       "      <th>user_score</th>\n",
       "      <th>rating</th>\n",
       "      <th>total_sales</th>\n",
       "    </tr>\n",
       "  </thead>\n",
       "  <tbody>\n",
       "    <tr>\n",
       "      <td>31</td>\n",
       "      <td>Call of Duty: Black Ops 3</td>\n",
       "      <td>PS4</td>\n",
       "      <td>2015</td>\n",
       "      <td>Shooter</td>\n",
       "      <td>6.03</td>\n",
       "      <td>5.86</td>\n",
       "      <td>0.36</td>\n",
       "      <td>2.38</td>\n",
       "      <td>NaN</td>\n",
       "      <td>NaN</td>\n",
       "      <td>NaN</td>\n",
       "      <td>14.63</td>\n",
       "    </tr>\n",
       "    <tr>\n",
       "      <td>42</td>\n",
       "      <td>Grand Theft Auto V</td>\n",
       "      <td>PS4</td>\n",
       "      <td>2014</td>\n",
       "      <td>Action</td>\n",
       "      <td>3.96</td>\n",
       "      <td>6.31</td>\n",
       "      <td>0.38</td>\n",
       "      <td>1.97</td>\n",
       "      <td>97.0</td>\n",
       "      <td>8.3</td>\n",
       "      <td>M</td>\n",
       "      <td>12.62</td>\n",
       "    </tr>\n",
       "    <tr>\n",
       "      <td>77</td>\n",
       "      <td>FIFA 16</td>\n",
       "      <td>PS4</td>\n",
       "      <td>2015</td>\n",
       "      <td>Sports</td>\n",
       "      <td>1.12</td>\n",
       "      <td>6.12</td>\n",
       "      <td>0.06</td>\n",
       "      <td>1.28</td>\n",
       "      <td>82.0</td>\n",
       "      <td>4.3</td>\n",
       "      <td>E</td>\n",
       "      <td>8.58</td>\n",
       "    </tr>\n",
       "    <tr>\n",
       "      <td>87</td>\n",
       "      <td>Star Wars Battlefront (2015)</td>\n",
       "      <td>PS4</td>\n",
       "      <td>2015</td>\n",
       "      <td>Shooter</td>\n",
       "      <td>2.99</td>\n",
       "      <td>3.49</td>\n",
       "      <td>0.22</td>\n",
       "      <td>1.28</td>\n",
       "      <td>NaN</td>\n",
       "      <td>NaN</td>\n",
       "      <td>NaN</td>\n",
       "      <td>7.98</td>\n",
       "    </tr>\n",
       "    <tr>\n",
       "      <td>92</td>\n",
       "      <td>Call of Duty: Advanced Warfare</td>\n",
       "      <td>PS4</td>\n",
       "      <td>2014</td>\n",
       "      <td>Shooter</td>\n",
       "      <td>2.81</td>\n",
       "      <td>3.48</td>\n",
       "      <td>0.14</td>\n",
       "      <td>1.23</td>\n",
       "      <td>83.0</td>\n",
       "      <td>5.7</td>\n",
       "      <td>M</td>\n",
       "      <td>7.66</td>\n",
       "    </tr>\n",
       "    <tr>\n",
       "      <td>...</td>\n",
       "      <td>...</td>\n",
       "      <td>...</td>\n",
       "      <td>...</td>\n",
       "      <td>...</td>\n",
       "      <td>...</td>\n",
       "      <td>...</td>\n",
       "      <td>...</td>\n",
       "      <td>...</td>\n",
       "      <td>...</td>\n",
       "      <td>...</td>\n",
       "      <td>...</td>\n",
       "      <td>...</td>\n",
       "    </tr>\n",
       "    <tr>\n",
       "      <td>15556</td>\n",
       "      <td>Natsuiro High School: Seishun Hakusho</td>\n",
       "      <td>PS4</td>\n",
       "      <td>2015</td>\n",
       "      <td>Action</td>\n",
       "      <td>0.00</td>\n",
       "      <td>0.00</td>\n",
       "      <td>0.02</td>\n",
       "      <td>0.00</td>\n",
       "      <td>NaN</td>\n",
       "      <td>NaN</td>\n",
       "      <td>NaN</td>\n",
       "      <td>0.02</td>\n",
       "    </tr>\n",
       "    <tr>\n",
       "      <td>15762</td>\n",
       "      <td>Rabbids Invasion: The Interactive TV Show</td>\n",
       "      <td>PS4</td>\n",
       "      <td>2014</td>\n",
       "      <td>Misc</td>\n",
       "      <td>0.00</td>\n",
       "      <td>0.01</td>\n",
       "      <td>0.00</td>\n",
       "      <td>0.00</td>\n",
       "      <td>NaN</td>\n",
       "      <td>NaN</td>\n",
       "      <td>NaN</td>\n",
       "      <td>0.01</td>\n",
       "    </tr>\n",
       "    <tr>\n",
       "      <td>15943</td>\n",
       "      <td>Professional Farmer 2016</td>\n",
       "      <td>PS4</td>\n",
       "      <td>2015</td>\n",
       "      <td>Action</td>\n",
       "      <td>0.00</td>\n",
       "      <td>0.01</td>\n",
       "      <td>0.00</td>\n",
       "      <td>0.00</td>\n",
       "      <td>NaN</td>\n",
       "      <td>NaN</td>\n",
       "      <td>NaN</td>\n",
       "      <td>0.01</td>\n",
       "    </tr>\n",
       "    <tr>\n",
       "      <td>16158</td>\n",
       "      <td>Raven's Cry</td>\n",
       "      <td>PS4</td>\n",
       "      <td>2015</td>\n",
       "      <td>Role-Playing</td>\n",
       "      <td>0.00</td>\n",
       "      <td>0.01</td>\n",
       "      <td>0.00</td>\n",
       "      <td>0.00</td>\n",
       "      <td>NaN</td>\n",
       "      <td>NaN</td>\n",
       "      <td>NaN</td>\n",
       "      <td>0.01</td>\n",
       "    </tr>\n",
       "    <tr>\n",
       "      <td>16398</td>\n",
       "      <td>Chaos;Child</td>\n",
       "      <td>PS4</td>\n",
       "      <td>2015</td>\n",
       "      <td>Adventure</td>\n",
       "      <td>0.00</td>\n",
       "      <td>0.00</td>\n",
       "      <td>0.01</td>\n",
       "      <td>0.00</td>\n",
       "      <td>NaN</td>\n",
       "      <td>NaN</td>\n",
       "      <td>NaN</td>\n",
       "      <td>0.01</td>\n",
       "    </tr>\n",
       "  </tbody>\n",
       "</table>\n",
       "<p>228 rows × 12 columns</p>\n",
       "</div>"
      ],
      "text/plain": [
       "                                            name platform  year_of_release  \\\n",
       "31                     Call of Duty: Black Ops 3      PS4             2015   \n",
       "42                            Grand Theft Auto V      PS4             2014   \n",
       "77                                       FIFA 16      PS4             2015   \n",
       "87                  Star Wars Battlefront (2015)      PS4             2015   \n",
       "92                Call of Duty: Advanced Warfare      PS4             2014   \n",
       "...                                          ...      ...              ...   \n",
       "15556      Natsuiro High School: Seishun Hakusho      PS4             2015   \n",
       "15762  Rabbids Invasion: The Interactive TV Show      PS4             2014   \n",
       "15943                   Professional Farmer 2016      PS4             2015   \n",
       "16158                                Raven's Cry      PS4             2015   \n",
       "16398                                Chaos;Child      PS4             2015   \n",
       "\n",
       "              genre  na_sales  eu_sales  jp_sales  other_sales  critic_score  \\\n",
       "31          Shooter      6.03      5.86      0.36         2.38           NaN   \n",
       "42           Action      3.96      6.31      0.38         1.97          97.0   \n",
       "77           Sports      1.12      6.12      0.06         1.28          82.0   \n",
       "87          Shooter      2.99      3.49      0.22         1.28           NaN   \n",
       "92          Shooter      2.81      3.48      0.14         1.23          83.0   \n",
       "...             ...       ...       ...       ...          ...           ...   \n",
       "15556        Action      0.00      0.00      0.02         0.00           NaN   \n",
       "15762          Misc      0.00      0.01      0.00         0.00           NaN   \n",
       "15943        Action      0.00      0.01      0.00         0.00           NaN   \n",
       "16158  Role-Playing      0.00      0.01      0.00         0.00           NaN   \n",
       "16398     Adventure      0.00      0.00      0.01         0.00           NaN   \n",
       "\n",
       "       user_score rating  total_sales  \n",
       "31            NaN    NaN        14.63  \n",
       "42            8.3      M        12.62  \n",
       "77            4.3      E         8.58  \n",
       "87            NaN    NaN         7.98  \n",
       "92            5.7      M         7.66  \n",
       "...           ...    ...          ...  \n",
       "15556         NaN    NaN         0.02  \n",
       "15762         NaN    NaN         0.01  \n",
       "15943         NaN    NaN         0.01  \n",
       "16158         NaN    NaN         0.01  \n",
       "16398         NaN    NaN         0.01  \n",
       "\n",
       "[228 rows x 12 columns]"
      ]
     },
     "execution_count": 55,
     "metadata": {},
     "output_type": "execute_result"
    }
   ],
   "source": [
    "ps=actual.loc[actual['platform'] == 'PS4']\n",
    "ps"
   ]
  },
  {
   "cell_type": "code",
   "execution_count": 56,
   "metadata": {},
   "outputs": [
    {
     "data": {
      "image/png": "[encoded data removed]",
      "text/plain": [
       "<Figure size 540x540 with 9 Axes>"
      ]
     },
     "metadata": {
      "needs_background": "light"
     },
     "output_type": "display_data"
    }
   ],
   "source": [
    "scaterplots = sns.PairGrid(ps[['critic_score', 'user_score', 'total_sales']])\n",
    "scaterplots.map(plt.scatter, color='Maroon')\n",
    "plt.show()"
   ]
  },
  {
   "cell_type": "code",
   "execution_count": 57,
   "metadata": {},
   "outputs": [
    {
     "data": {
      "text/html": [
       "<div>\n",
       "<style scoped>\n",
       "    .dataframe tbody tr th:only-of-type {\n",
       "        vertical-align: middle;\n",
       "    }\n",
       "\n",
       "    .dataframe tbody tr th {\n",
       "        vertical-align: top;\n",
       "    }\n",
       "\n",
       "    .dataframe thead th {\n",
       "        text-align: right;\n",
       "    }\n",
       "</style>\n",
       "<table border=\"1\" class=\"dataframe\">\n",
       "  <thead>\n",
       "    <tr style=\"text-align: right;\">\n",
       "      <th></th>\n",
       "      <th>year_of_release</th>\n",
       "      <th>na_sales</th>\n",
       "      <th>eu_sales</th>\n",
       "      <th>jp_sales</th>\n",
       "      <th>other_sales</th>\n",
       "      <th>critic_score</th>\n",
       "      <th>user_score</th>\n",
       "      <th>total_sales</th>\n",
       "    </tr>\n",
       "  </thead>\n",
       "  <tbody>\n",
       "    <tr>\n",
       "      <td>year_of_release</td>\n",
       "      <td>1.00</td>\n",
       "      <td>-0.14</td>\n",
       "      <td>-0.13</td>\n",
       "      <td>-0.01</td>\n",
       "      <td>-0.13</td>\n",
       "      <td>0.00</td>\n",
       "      <td>0.22</td>\n",
       "      <td>-0.14</td>\n",
       "    </tr>\n",
       "    <tr>\n",
       "      <td>na_sales</td>\n",
       "      <td>-0.14</td>\n",
       "      <td>1.00</td>\n",
       "      <td>0.81</td>\n",
       "      <td>0.53</td>\n",
       "      <td>0.95</td>\n",
       "      <td>0.44</td>\n",
       "      <td>0.04</td>\n",
       "      <td>0.94</td>\n",
       "    </tr>\n",
       "    <tr>\n",
       "      <td>eu_sales</td>\n",
       "      <td>-0.13</td>\n",
       "      <td>0.81</td>\n",
       "      <td>1.00</td>\n",
       "      <td>0.54</td>\n",
       "      <td>0.95</td>\n",
       "      <td>0.37</td>\n",
       "      <td>-0.00</td>\n",
       "      <td>0.96</td>\n",
       "    </tr>\n",
       "    <tr>\n",
       "      <td>jp_sales</td>\n",
       "      <td>-0.01</td>\n",
       "      <td>0.53</td>\n",
       "      <td>0.54</td>\n",
       "      <td>1.00</td>\n",
       "      <td>0.56</td>\n",
       "      <td>0.31</td>\n",
       "      <td>0.23</td>\n",
       "      <td>0.59</td>\n",
       "    </tr>\n",
       "    <tr>\n",
       "      <td>other_sales</td>\n",
       "      <td>-0.13</td>\n",
       "      <td>0.95</td>\n",
       "      <td>0.95</td>\n",
       "      <td>0.56</td>\n",
       "      <td>1.00</td>\n",
       "      <td>0.43</td>\n",
       "      <td>0.02</td>\n",
       "      <td>1.00</td>\n",
       "    </tr>\n",
       "    <tr>\n",
       "      <td>critic_score</td>\n",
       "      <td>0.00</td>\n",
       "      <td>0.44</td>\n",
       "      <td>0.37</td>\n",
       "      <td>0.31</td>\n",
       "      <td>0.43</td>\n",
       "      <td>1.00</td>\n",
       "      <td>0.61</td>\n",
       "      <td>0.43</td>\n",
       "    </tr>\n",
       "    <tr>\n",
       "      <td>user_score</td>\n",
       "      <td>0.22</td>\n",
       "      <td>0.04</td>\n",
       "      <td>-0.00</td>\n",
       "      <td>0.23</td>\n",
       "      <td>0.02</td>\n",
       "      <td>0.61</td>\n",
       "      <td>1.00</td>\n",
       "      <td>0.02</td>\n",
       "    </tr>\n",
       "    <tr>\n",
       "      <td>total_sales</td>\n",
       "      <td>-0.14</td>\n",
       "      <td>0.94</td>\n",
       "      <td>0.96</td>\n",
       "      <td>0.59</td>\n",
       "      <td>1.00</td>\n",
       "      <td>0.43</td>\n",
       "      <td>0.02</td>\n",
       "      <td>1.00</td>\n",
       "    </tr>\n",
       "  </tbody>\n",
       "</table>\n",
       "</div>"
      ],
      "text/plain": [
       "                 year_of_release  na_sales  eu_sales  jp_sales  other_sales  \\\n",
       "year_of_release             1.00     -0.14     -0.13     -0.01        -0.13   \n",
       "na_sales                   -0.14      1.00      0.81      0.53         0.95   \n",
       "eu_sales                   -0.13      0.81      1.00      0.54         0.95   \n",
       "jp_sales                   -0.01      0.53      0.54      1.00         0.56   \n",
       "other_sales                -0.13      0.95      0.95      0.56         1.00   \n",
       "critic_score                0.00      0.44      0.37      0.31         0.43   \n",
       "user_score                  0.22      0.04     -0.00      0.23         0.02   \n",
       "total_sales                -0.14      0.94      0.96      0.59         1.00   \n",
       "\n",
       "                 critic_score  user_score  total_sales  \n",
       "year_of_release          0.00        0.22        -0.14  \n",
       "na_sales                 0.44        0.04         0.94  \n",
       "eu_sales                 0.37       -0.00         0.96  \n",
       "jp_sales                 0.31        0.23         0.59  \n",
       "other_sales              0.43        0.02         1.00  \n",
       "critic_score             1.00        0.61         0.43  \n",
       "user_score               0.61        1.00         0.02  \n",
       "total_sales              0.43        0.02         1.00  "
      ]
     },
     "execution_count": 57,
     "metadata": {},
     "output_type": "execute_result"
    }
   ],
   "source": [
    "correlation = ps.corr().round(2)\n",
    "correlation"
   ]
  },
  {
   "cell_type": "code",
   "execution_count": 58,
   "metadata": {},
   "outputs": [
    {
     "data": {
      "image/png": "[encoded data removed]",
      "text/plain": [
       "<Figure size 432x288 with 2 Axes>"
      ]
     },
     "metadata": {
      "needs_background": "light"
     },
     "output_type": "display_data"
    }
   ],
   "source": [
    "fig, ax = plt.subplots()\n",
    "plt.title('Корреляция между основными числовыми данными')\n",
    "mask = np.triu(np.ones_like(correlation, dtype=np.bool))\n",
    "sns.heatmap(correlation, vmin=-1, vmax=1, linewidths=.5, mask=mask, ax=ax, cmap='summer')\n",
    "plt.show()"
   ]
  },
  {
   "cell_type": "markdown",
   "metadata": {},
   "source": [
    "Коэффициент корреляции между рецензиями критиков и совокупными продажами составил **0,43**. По регионам:\n",
    "- в Северной Америке - 0,44\n",
    "- в Европе - 0,37\n",
    "- в Японии - 0,31\n",
    "- в Остальном мире - 0,43\n",
    "\n",
    "Это говорит о том, что зависимость есть, но она не играет решающую роль. Схожий вывод можно сделать из диаграммы рассеивания: игры с низкими оценками критиков практически не продаются, в то время как игры с высокими оценками имеют больше продаж. Это может быть связано с тем, что люди действительно изучают рейтинги, смотрят обзоры, читают статьи об игре, прежде, чем ее купить. Но корреляция невысокая, соответственно, это не ключевой показатель. Однако, надо понимать, что чем более игра разрекламированна, тем больше она привлечет к себе внимания и критиков, и пользователей, и тем больше получит оценок.\n",
    "\n",
    "Коэффициент корреляции между оценкой покупателей и совокупными продажами составил **0,02**, что говорит об отсутствии зависимости между этими показателями. При этом диаграмма рассения схожа с диаграммой рассеяния по оценкам критиков продажам, но имеет больший разброс при низких оценках. Это может быть связано с тем, что пользователь покупает игры и потом уже сам ставит ей оценку. То есть продажи идут, а рейтинг обновляется уже после.\n",
    "\n",
    "<font color='red'>Вывод:</font> оценка пользователей не влияет на продажи игр для Sony PlayStation 4"
   ]
  },
  {
   "cell_type": "markdown",
   "metadata": {},
   "source": [
    "<font color='blue'>Влияние отзывов пользователей и критиков на покупку игр для остальных консолей</font>"
   ]
  },
  {
   "cell_type": "markdown",
   "metadata": {},
   "source": [
    "Проверю, как сильно влияют аналогичне показатели на непопулярные игровые консоли"
   ]
  },
  {
   "cell_type": "code",
   "execution_count": 59,
   "metadata": {},
   "outputs": [],
   "source": [
    "other=actual.loc[actual['platform'].isin(actual_consoles)!=True].reset_index(drop=True)"
   ]
  },
  {
   "cell_type": "code",
   "execution_count": 60,
   "metadata": {},
   "outputs": [
    {
     "data": {
      "image/png": "[encoded data removed]",
      "text/plain": [
       "<Figure size 540x540 with 9 Axes>"
      ]
     },
     "metadata": {
      "needs_background": "light"
     },
     "output_type": "display_data"
    }
   ],
   "source": [
    "scaterplots = sns.PairGrid(other[['critic_score', 'user_score', 'total_sales']])\n",
    "scaterplots.map(plt.scatter, color='Goldenrod')\n",
    "plt.show()"
   ]
  },
  {
   "cell_type": "code",
   "execution_count": 61,
   "metadata": {},
   "outputs": [
    {
     "data": {
      "text/html": [
       "<div>\n",
       "<style scoped>\n",
       "    .dataframe tbody tr th:only-of-type {\n",
       "        vertical-align: middle;\n",
       "    }\n",
       "\n",
       "    .dataframe tbody tr th {\n",
       "        vertical-align: top;\n",
       "    }\n",
       "\n",
       "    .dataframe thead th {\n",
       "        text-align: right;\n",
       "    }\n",
       "</style>\n",
       "<table border=\"1\" class=\"dataframe\">\n",
       "  <thead>\n",
       "    <tr style=\"text-align: right;\">\n",
       "      <th></th>\n",
       "      <th>year_of_release</th>\n",
       "      <th>na_sales</th>\n",
       "      <th>eu_sales</th>\n",
       "      <th>jp_sales</th>\n",
       "      <th>other_sales</th>\n",
       "      <th>critic_score</th>\n",
       "      <th>user_score</th>\n",
       "      <th>total_sales</th>\n",
       "    </tr>\n",
       "  </thead>\n",
       "  <tbody>\n",
       "    <tr>\n",
       "      <td>year_of_release</td>\n",
       "      <td>1.00</td>\n",
       "      <td>-0.02</td>\n",
       "      <td>0.03</td>\n",
       "      <td>-0.03</td>\n",
       "      <td>0.00</td>\n",
       "      <td>0.08</td>\n",
       "      <td>-0.20</td>\n",
       "      <td>-0.00</td>\n",
       "    </tr>\n",
       "    <tr>\n",
       "      <td>na_sales</td>\n",
       "      <td>-0.02</td>\n",
       "      <td>1.00</td>\n",
       "      <td>0.87</td>\n",
       "      <td>0.45</td>\n",
       "      <td>0.82</td>\n",
       "      <td>0.22</td>\n",
       "      <td>0.07</td>\n",
       "      <td>0.96</td>\n",
       "    </tr>\n",
       "    <tr>\n",
       "      <td>eu_sales</td>\n",
       "      <td>0.03</td>\n",
       "      <td>0.87</td>\n",
       "      <td>1.00</td>\n",
       "      <td>0.51</td>\n",
       "      <td>0.87</td>\n",
       "      <td>0.21</td>\n",
       "      <td>0.06</td>\n",
       "      <td>0.95</td>\n",
       "    </tr>\n",
       "    <tr>\n",
       "      <td>jp_sales</td>\n",
       "      <td>-0.03</td>\n",
       "      <td>0.45</td>\n",
       "      <td>0.51</td>\n",
       "      <td>1.00</td>\n",
       "      <td>0.45</td>\n",
       "      <td>0.13</td>\n",
       "      <td>0.11</td>\n",
       "      <td>0.60</td>\n",
       "    </tr>\n",
       "    <tr>\n",
       "      <td>other_sales</td>\n",
       "      <td>0.00</td>\n",
       "      <td>0.82</td>\n",
       "      <td>0.87</td>\n",
       "      <td>0.45</td>\n",
       "      <td>1.00</td>\n",
       "      <td>0.23</td>\n",
       "      <td>0.08</td>\n",
       "      <td>0.89</td>\n",
       "    </tr>\n",
       "    <tr>\n",
       "      <td>critic_score</td>\n",
       "      <td>0.08</td>\n",
       "      <td>0.22</td>\n",
       "      <td>0.21</td>\n",
       "      <td>0.13</td>\n",
       "      <td>0.23</td>\n",
       "      <td>1.00</td>\n",
       "      <td>0.57</td>\n",
       "      <td>0.23</td>\n",
       "    </tr>\n",
       "    <tr>\n",
       "      <td>user_score</td>\n",
       "      <td>-0.20</td>\n",
       "      <td>0.07</td>\n",
       "      <td>0.06</td>\n",
       "      <td>0.11</td>\n",
       "      <td>0.08</td>\n",
       "      <td>0.57</td>\n",
       "      <td>1.00</td>\n",
       "      <td>0.08</td>\n",
       "    </tr>\n",
       "    <tr>\n",
       "      <td>total_sales</td>\n",
       "      <td>-0.00</td>\n",
       "      <td>0.96</td>\n",
       "      <td>0.95</td>\n",
       "      <td>0.60</td>\n",
       "      <td>0.89</td>\n",
       "      <td>0.23</td>\n",
       "      <td>0.08</td>\n",
       "      <td>1.00</td>\n",
       "    </tr>\n",
       "  </tbody>\n",
       "</table>\n",
       "</div>"
      ],
      "text/plain": [
       "                 year_of_release  na_sales  eu_sales  jp_sales  other_sales  \\\n",
       "year_of_release             1.00     -0.02      0.03     -0.03         0.00   \n",
       "na_sales                   -0.02      1.00      0.87      0.45         0.82   \n",
       "eu_sales                    0.03      0.87      1.00      0.51         0.87   \n",
       "jp_sales                   -0.03      0.45      0.51      1.00         0.45   \n",
       "other_sales                 0.00      0.82      0.87      0.45         1.00   \n",
       "critic_score                0.08      0.22      0.21      0.13         0.23   \n",
       "user_score                 -0.20      0.07      0.06      0.11         0.08   \n",
       "total_sales                -0.00      0.96      0.95      0.60         0.89   \n",
       "\n",
       "                 critic_score  user_score  total_sales  \n",
       "year_of_release          0.08       -0.20        -0.00  \n",
       "na_sales                 0.22        0.07         0.96  \n",
       "eu_sales                 0.21        0.06         0.95  \n",
       "jp_sales                 0.13        0.11         0.60  \n",
       "other_sales              0.23        0.08         0.89  \n",
       "critic_score             1.00        0.57         0.23  \n",
       "user_score               0.57        1.00         0.08  \n",
       "total_sales              0.23        0.08         1.00  "
      ]
     },
     "execution_count": 61,
     "metadata": {},
     "output_type": "execute_result"
    }
   ],
   "source": [
    "correlation = other.corr().round(2)\n",
    "correlation"
   ]
  },
  {
   "cell_type": "code",
   "execution_count": 62,
   "metadata": {},
   "outputs": [
    {
     "data": {
      "image/png": "[encoded data removed]",
      "text/plain": [
       "<Figure size 432x288 with 2 Axes>"
      ]
     },
     "metadata": {
      "needs_background": "light"
     },
     "output_type": "display_data"
    }
   ],
   "source": [
    "fig, ax = plt.subplots()\n",
    "plt.title('Корреляция между основными числовыми данными')\n",
    "mask = np.triu(np.ones_like(correlation, dtype=np.bool))\n",
    "sns.heatmap(correlation, vmin=-1, vmax=1, linewidths=.5, mask=mask, ax=ax, cmap='RdYlGn')\n",
    "plt.show()"
   ]
  },
  {
   "cell_type": "markdown",
   "metadata": {},
   "source": [
    "Коэффициент корреляции между оценкой критиков и совокупными продажами для непопулярных платформ составил **0,23**. По регионам:\n",
    "- в Северной Америке - 0,22\n",
    "- в Европе - 0,21\n",
    "- в Японии - 0,13\n",
    "- в Остальном мире - 0,23\n",
    "\n",
    "Данные идентичны и говорят о том, что во всем мире отзывы критиков не влияют на продажи игр для непопулярных консолей.\n",
    "Вероятно, это связано с тем, что у непопулярных игровых консолей большинство пользователей - фанаты, которым нравится большинство игр именно для этой платформы и им не интересны отзывы критиков, как и пользовательские отзывы (показатель всего **0,08**)."
   ]
  },
  {
   "cell_type": "markdown",
   "metadata": {},
   "source": [
    "<font color='red'>Вывод:</font> сравнив влияние отзывов критиков и пользователей на продажи игр для популярной консоли (PlayStation 4) и группой непопулярных игровых консолей, пришли к выводу, что в эти показатели не оказывают существенного влияния на продажи игр. Причем для второй группы это даже более заметно\n"
   ]
  },
  {
   "cell_type": "markdown",
   "metadata": {},
   "source": [
    "<font color='blue'>Распределение игр по жанрам</font>"
   ]
  },
  {
   "cell_type": "markdown",
   "metadata": {},
   "source": [
    "Для того, чтобы проанализировать показатели продаж игр непосредственно по жанрам, построю боксплоты для каждого жанра"
   ]
  },
  {
   "cell_type": "code",
   "execution_count": 63,
   "metadata": {},
   "outputs": [
    {
     "data": {
      "image/png": "[encoded data removed]",
      "text/plain": [
       "<Figure size 1080x576 with 1 Axes>"
      ]
     },
     "metadata": {
      "needs_background": "light"
     },
     "output_type": "display_data"
    }
   ],
   "source": [
    "fig = plt.subplots(figsize=(15,8))\n",
    "plt.title('Продажи игр по жанрам')\n",
    "plot = sns.boxplot(x=\"genre\", y=\"total_sales\", data=actual, palette='rainbow', showfliers=False)\n",
    "plt.xlabel('Название жанра')\n",
    "plt.ylabel('Суммарные продажи (млн копий)')\n",
    "plt.show()"
   ]
  },
  {
   "cell_type": "markdown",
   "metadata": {},
   "source": [
    "Ниже создам таблицу, где у меня будут жанры в порядке убывания по суммарным продажам."
   ]
  },
  {
   "cell_type": "code",
   "execution_count": 64,
   "metadata": {},
   "outputs": [
    {
     "data": {
      "text/html": [
       "<div>\n",
       "<style scoped>\n",
       "    .dataframe tbody tr th:only-of-type {\n",
       "        vertical-align: middle;\n",
       "    }\n",
       "\n",
       "    .dataframe tbody tr th {\n",
       "        vertical-align: top;\n",
       "    }\n",
       "\n",
       "    .dataframe thead th {\n",
       "        text-align: right;\n",
       "    }\n",
       "</style>\n",
       "<table border=\"1\" class=\"dataframe\">\n",
       "  <thead>\n",
       "    <tr style=\"text-align: right;\">\n",
       "      <th></th>\n",
       "      <th>genre</th>\n",
       "      <th>total_sales</th>\n",
       "    </tr>\n",
       "  </thead>\n",
       "  <tbody>\n",
       "    <tr>\n",
       "      <td>0</td>\n",
       "      <td>Action</td>\n",
       "      <td>1171.93</td>\n",
       "    </tr>\n",
       "    <tr>\n",
       "      <td>1</td>\n",
       "      <td>Sports</td>\n",
       "      <td>830.35</td>\n",
       "    </tr>\n",
       "    <tr>\n",
       "      <td>2</td>\n",
       "      <td>Shooter</td>\n",
       "      <td>720.34</td>\n",
       "    </tr>\n",
       "    <tr>\n",
       "      <td>3</td>\n",
       "      <td>Misc</td>\n",
       "      <td>613.23</td>\n",
       "    </tr>\n",
       "    <tr>\n",
       "      <td>4</td>\n",
       "      <td>Role-Playing</td>\n",
       "      <td>532.60</td>\n",
       "    </tr>\n",
       "    <tr>\n",
       "      <td>5</td>\n",
       "      <td>Racing</td>\n",
       "      <td>352.33</td>\n",
       "    </tr>\n",
       "    <tr>\n",
       "      <td>6</td>\n",
       "      <td>Platform</td>\n",
       "      <td>299.83</td>\n",
       "    </tr>\n",
       "    <tr>\n",
       "      <td>7</td>\n",
       "      <td>Simulation</td>\n",
       "      <td>267.73</td>\n",
       "    </tr>\n",
       "    <tr>\n",
       "      <td>8</td>\n",
       "      <td>Fighting</td>\n",
       "      <td>206.60</td>\n",
       "    </tr>\n",
       "    <tr>\n",
       "      <td>9</td>\n",
       "      <td>Adventure</td>\n",
       "      <td>145.99</td>\n",
       "    </tr>\n",
       "    <tr>\n",
       "      <td>10</td>\n",
       "      <td>Puzzle</td>\n",
       "      <td>110.27</td>\n",
       "    </tr>\n",
       "    <tr>\n",
       "      <td>11</td>\n",
       "      <td>Strategy</td>\n",
       "      <td>77.29</td>\n",
       "    </tr>\n",
       "  </tbody>\n",
       "</table>\n",
       "</div>"
      ],
      "text/plain": [
       "           genre  total_sales\n",
       "0         Action      1171.93\n",
       "1         Sports       830.35\n",
       "2        Shooter       720.34\n",
       "3           Misc       613.23\n",
       "4   Role-Playing       532.60\n",
       "5         Racing       352.33\n",
       "6       Platform       299.83\n",
       "7     Simulation       267.73\n",
       "8       Fighting       206.60\n",
       "9      Adventure       145.99\n",
       "10        Puzzle       110.27\n",
       "11      Strategy        77.29"
      ]
     },
     "execution_count": 64,
     "metadata": {},
     "output_type": "execute_result"
    }
   ],
   "source": [
    "(actual\n",
    "    .pivot_table(index='genre', values='total_sales', aggfunc='sum')\n",
    "    .sort_values(by='total_sales', ascending=False)\n",
    "    .reset_index()\n",
    ")"
   ]
  },
  {
   "cell_type": "markdown",
   "metadata": {},
   "source": [
    "<font color='red'>Вывод:</font> самый популярны жанр - Action. Это не удивительно, так как на консолях больше всего игр именно этого жанра. На втором месте - Sport. С развитием видеоблогерства (в 2016 особо было заметно), фанбаза спортивных игр для консолей только увеличивалась. Также спортивные игры покупают владельцы кафе, где можно поиграть с друзьями, да и обычные владельцы консолей покупают спортивные игры, потому что в них можно интересно поиграть с родными, товарищами, партнером.\n",
    "\n",
    "Наиболее низкие продажи в жанре - Strategy. Здесь тоже нет ничего удивительного: данные игры действительно не самые популярные, их мало на консолях (в основном связано с дискомфортом управления), но эта ниша всегда найдет своего покупателя, в любое время.\n",
    "\n",
    "Интересная ситуация с третьей позицией - Shooter. Это самое доходное, в среднем, направление игр, пользующееся высоким спросом. Средний и медианный уровни продаж этого жанра выше значений по любому другому жанру; а также датасет в разрезе данного жанра сильно скошен вправо (какие-то игры покупаются в очень большом количестве), а значит, это перспективное направление для продажи."
   ]
  },
  {
   "cell_type": "markdown",
   "metadata": {},
   "source": [
    "# <font color='red'>Вывод</font> #"
   ]
  },
  {
   "cell_type": "markdown",
   "metadata": {},
   "source": [
    "Проведя *исследовательский анализ данных* я выявил, что в разные годы были популярны разные игры, разные платформы. Особо на общем фоне выделяются консоли от Sony: лидерство PlayStation, затем лидерство PlayStation 2 (абсолютный мировой лидер), PlayStation 3 тоже в топе. Неплохо проявила себ приставка Nintndo Wii, которая была выпущена вовремя и действительно выстрелила на рынке игровых консолей. \"Жизненный цикл\" игровых консолей составляет 8-10 лет.\n",
    "\n",
    "Смело могу заявить, что для полноценного анализа данных по игровым консолям, данные до 1994 года можно не брать в расчет. Выходило крайне мало игр, не было четкого лидера среди консолей. Интересным для меня является период с 2005 года, когда на рынке начинают появляться новые консоли, их становится больше, конкуренция растет.\n",
    "\n",
    "Изучив связь между оценками критиков и пользователей и продажами, я пришел к выводу, что между ними есть слабая связь, причём для самой популярной платформы (PlayStation 4) она чуть сильнее. и между оценкой пользователей и совокупными продажами нет связи (ни для популярных, ни для непопулярных платформ). С одной стороны, это может быть связано с тем, что люди обращают внимание на оценку игры, прежде чем покупают её (но корреляция невысокая, соответственно, это не ключевой показатель). С другой стороны, возможно, критиками оцениваются не все игры, а наиболее популярные у покупателей (или потенциально популярные). Но главное, что эти оценки не оказывают тотального влияние на продажи. На них влияют другие факторы.\n",
    "\n",
    "Анализируя данные по продажам было выявлено топ 3 самых популярных жанров:\n",
    "- Action\n",
    "- Sport\n",
    "- Shooter\n",
    "\n",
    "Но это не стало для меня открытием, так как на консолях больше всего игр именно этих жанров. \n",
    "Меньше всего покупают Strategy, но этот жанр игр ближе к Персональным компьютерам, а не к консолям."
   ]
  },
  {
   "cell_type": "markdown",
   "metadata": {},
   "source": [
    "# <font style=\"background-color: Cyan; color=black\">Портрет пользователя для каждого региона</font> #"
   ]
  },
  {
   "cell_type": "markdown",
   "metadata": {},
   "source": [
    "Для каждого региона определю своего пользователя. В основу лягут 3 основные характеристики - топ-5 популярных платформ, топ-5 популярных жанров, влияние рейтинга ESRB."
   ]
  },
  {
   "cell_type": "markdown",
   "metadata": {},
   "source": [
    "<font color='blue'>Топ-5 популярных платформ</font>"
   ]
  },
  {
   "cell_type": "markdown",
   "metadata": {},
   "source": [
    "<font color='green'>Северная Америка</font>"
   ]
  },
  {
   "cell_type": "code",
   "execution_count": 65,
   "metadata": {},
   "outputs": [
    {
     "data": {
      "text/html": [
       "<div>\n",
       "<style scoped>\n",
       "    .dataframe tbody tr th:only-of-type {\n",
       "        vertical-align: middle;\n",
       "    }\n",
       "\n",
       "    .dataframe tbody tr th {\n",
       "        vertical-align: top;\n",
       "    }\n",
       "\n",
       "    .dataframe thead th {\n",
       "        text-align: right;\n",
       "    }\n",
       "</style>\n",
       "<table border=\"1\" class=\"dataframe\">\n",
       "  <thead>\n",
       "    <tr style=\"text-align: right;\">\n",
       "      <th></th>\n",
       "      <th>platform</th>\n",
       "      <th>na_sales</th>\n",
       "      <th>na_ratio</th>\n",
       "    </tr>\n",
       "  </thead>\n",
       "  <tbody>\n",
       "    <tr>\n",
       "      <td>0</td>\n",
       "      <td>X360</td>\n",
       "      <td>595.05</td>\n",
       "      <td>0.23</td>\n",
       "    </tr>\n",
       "    <tr>\n",
       "      <td>1</td>\n",
       "      <td>Wii</td>\n",
       "      <td>486.81</td>\n",
       "      <td>0.19</td>\n",
       "    </tr>\n",
       "    <tr>\n",
       "      <td>2</td>\n",
       "      <td>PS3</td>\n",
       "      <td>389.46</td>\n",
       "      <td>0.15</td>\n",
       "    </tr>\n",
       "    <tr>\n",
       "      <td>3</td>\n",
       "      <td>DS</td>\n",
       "      <td>371.99</td>\n",
       "      <td>0.14</td>\n",
       "    </tr>\n",
       "    <tr>\n",
       "      <td>4</td>\n",
       "      <td>PS2</td>\n",
       "      <td>202.22</td>\n",
       "      <td>0.08</td>\n",
       "    </tr>\n",
       "  </tbody>\n",
       "</table>\n",
       "</div>"
      ],
      "text/plain": [
       "  platform  na_sales  na_ratio\n",
       "0     X360    595.05      0.23\n",
       "1      Wii    486.81      0.19\n",
       "2      PS3    389.46      0.15\n",
       "3       DS    371.99      0.14\n",
       "4      PS2    202.22      0.08"
      ]
     },
     "execution_count": 65,
     "metadata": {},
     "output_type": "execute_result"
    }
   ],
   "source": [
    "na_games = (actual\n",
    "                .pivot_table(index='platform', values='na_sales', aggfunc='sum')\n",
    "                .sort_values(by='na_sales', ascending=False)\n",
    "                .reset_index()\n",
    "            )\n",
    "na_games['na_ratio'] = round(na_games['na_sales'] / sum(na_games['na_sales']), 2)\n",
    "na_top_games = na_games.head(5)\n",
    "na_top_games"
   ]
  },
  {
   "cell_type": "markdown",
   "metadata": {},
   "source": [
    "В *Северной Америке* самыми популярными платформами являются XBox 360 (**23%** от общего рынка), Wii, PlayStation 3, DS и PlayStation 2.\n",
    "\n",
    "Рассмотрим продаваемость игр на самых перспективных и популярных платформах на данный момент"
   ]
  },
  {
   "cell_type": "code",
   "execution_count": 66,
   "metadata": {},
   "outputs": [
    {
     "data": {
      "text/html": [
       "<div>\n",
       "<style scoped>\n",
       "    .dataframe tbody tr th:only-of-type {\n",
       "        vertical-align: middle;\n",
       "    }\n",
       "\n",
       "    .dataframe tbody tr th {\n",
       "        vertical-align: top;\n",
       "    }\n",
       "\n",
       "    .dataframe thead th {\n",
       "        text-align: right;\n",
       "    }\n",
       "</style>\n",
       "<table border=\"1\" class=\"dataframe\">\n",
       "  <thead>\n",
       "    <tr style=\"text-align: right;\">\n",
       "      <th></th>\n",
       "      <th>platform</th>\n",
       "      <th>na_sales</th>\n",
       "      <th>na_ratio</th>\n",
       "    </tr>\n",
       "  </thead>\n",
       "  <tbody>\n",
       "    <tr>\n",
       "      <td>6</td>\n",
       "      <td>PS4</td>\n",
       "      <td>87.25</td>\n",
       "      <td>0.03</td>\n",
       "    </tr>\n",
       "    <tr>\n",
       "      <td>7</td>\n",
       "      <td>XOne</td>\n",
       "      <td>78.85</td>\n",
       "      <td>0.03</td>\n",
       "    </tr>\n",
       "    <tr>\n",
       "      <td>8</td>\n",
       "      <td>3DS</td>\n",
       "      <td>78.51</td>\n",
       "      <td>0.03</td>\n",
       "    </tr>\n",
       "    <tr>\n",
       "      <td>11</td>\n",
       "      <td>WiiU</td>\n",
       "      <td>36.00</td>\n",
       "      <td>0.01</td>\n",
       "    </tr>\n",
       "    <tr>\n",
       "      <td>14</td>\n",
       "      <td>PSV</td>\n",
       "      <td>12.32</td>\n",
       "      <td>0.00</td>\n",
       "    </tr>\n",
       "  </tbody>\n",
       "</table>\n",
       "</div>"
      ],
      "text/plain": [
       "   platform  na_sales  na_ratio\n",
       "6       PS4     87.25      0.03\n",
       "7      XOne     78.85      0.03\n",
       "8       3DS     78.51      0.03\n",
       "11     WiiU     36.00      0.01\n",
       "14      PSV     12.32      0.00"
      ]
     },
     "execution_count": 66,
     "metadata": {},
     "output_type": "execute_result"
    }
   ],
   "source": [
    "na_actual = na_games.loc[na_games['platform'].isin(actual_consoles)==True]\n",
    "na_actual"
   ]
  },
  {
   "cell_type": "markdown",
   "metadata": {},
   "source": [
    "PlayStation 4 и Xbox One вплотную приближаются к лидерам. Возможно, в 2017 году произойдет рывок этих консолей на рынке Северной Америки"
   ]
  },
  {
   "cell_type": "markdown",
   "metadata": {},
   "source": [
    "<font color='green'>Европа</font>"
   ]
  },
  {
   "cell_type": "code",
   "execution_count": 67,
   "metadata": {},
   "outputs": [
    {
     "data": {
      "text/html": [
       "<div>\n",
       "<style scoped>\n",
       "    .dataframe tbody tr th:only-of-type {\n",
       "        vertical-align: middle;\n",
       "    }\n",
       "\n",
       "    .dataframe tbody tr th {\n",
       "        vertical-align: top;\n",
       "    }\n",
       "\n",
       "    .dataframe thead th {\n",
       "        text-align: right;\n",
       "    }\n",
       "</style>\n",
       "<table border=\"1\" class=\"dataframe\">\n",
       "  <thead>\n",
       "    <tr style=\"text-align: right;\">\n",
       "      <th></th>\n",
       "      <th>platform</th>\n",
       "      <th>eu_sales</th>\n",
       "      <th>eu_ratio</th>\n",
       "    </tr>\n",
       "  </thead>\n",
       "  <tbody>\n",
       "    <tr>\n",
       "      <td>0</td>\n",
       "      <td>PS3</td>\n",
       "      <td>325.95</td>\n",
       "      <td>0.21</td>\n",
       "    </tr>\n",
       "    <tr>\n",
       "      <td>1</td>\n",
       "      <td>X360</td>\n",
       "      <td>267.66</td>\n",
       "      <td>0.17</td>\n",
       "    </tr>\n",
       "    <tr>\n",
       "      <td>2</td>\n",
       "      <td>Wii</td>\n",
       "      <td>258.21</td>\n",
       "      <td>0.16</td>\n",
       "    </tr>\n",
       "    <tr>\n",
       "      <td>3</td>\n",
       "      <td>DS</td>\n",
       "      <td>184.48</td>\n",
       "      <td>0.12</td>\n",
       "    </tr>\n",
       "    <tr>\n",
       "      <td>4</td>\n",
       "      <td>PS4</td>\n",
       "      <td>109.31</td>\n",
       "      <td>0.07</td>\n",
       "    </tr>\n",
       "  </tbody>\n",
       "</table>\n",
       "</div>"
      ],
      "text/plain": [
       "  platform  eu_sales  eu_ratio\n",
       "0      PS3    325.95      0.21\n",
       "1     X360    267.66      0.17\n",
       "2      Wii    258.21      0.16\n",
       "3       DS    184.48      0.12\n",
       "4      PS4    109.31      0.07"
      ]
     },
     "execution_count": 67,
     "metadata": {},
     "output_type": "execute_result"
    }
   ],
   "source": [
    "eu_games = (actual\n",
    "                .pivot_table(index='platform', values='eu_sales', aggfunc='sum')\n",
    "                .sort_values(by='eu_sales', ascending=False)\n",
    "                .reset_index()\n",
    "            )\n",
    "eu_games['eu_ratio'] = round(eu_games['eu_sales'] / sum(eu_games['eu_sales']), 2)\n",
    "eu_top_games = eu_games.head(5)\n",
    "eu_top_games"
   ]
  },
  {
   "cell_type": "markdown",
   "metadata": {},
   "source": [
    "В Европе большую часть рынка захватил PlayStation 3. Интересно, что в Топ-5 входит PlayStation 4 с солидными **7%** (против 3% в Северной Америке)"
   ]
  },
  {
   "cell_type": "code",
   "execution_count": 68,
   "metadata": {},
   "outputs": [
    {
     "data": {
      "text/html": [
       "<div>\n",
       "<style scoped>\n",
       "    .dataframe tbody tr th:only-of-type {\n",
       "        vertical-align: middle;\n",
       "    }\n",
       "\n",
       "    .dataframe tbody tr th {\n",
       "        vertical-align: top;\n",
       "    }\n",
       "\n",
       "    .dataframe thead th {\n",
       "        text-align: right;\n",
       "    }\n",
       "</style>\n",
       "<table border=\"1\" class=\"dataframe\">\n",
       "  <thead>\n",
       "    <tr style=\"text-align: right;\">\n",
       "      <th></th>\n",
       "      <th>platform</th>\n",
       "      <th>eu_sales</th>\n",
       "      <th>eu_ratio</th>\n",
       "    </tr>\n",
       "  </thead>\n",
       "  <tbody>\n",
       "    <tr>\n",
       "      <td>4</td>\n",
       "      <td>PS4</td>\n",
       "      <td>109.31</td>\n",
       "      <td>0.07</td>\n",
       "    </tr>\n",
       "    <tr>\n",
       "      <td>8</td>\n",
       "      <td>3DS</td>\n",
       "      <td>58.94</td>\n",
       "      <td>0.04</td>\n",
       "    </tr>\n",
       "    <tr>\n",
       "      <td>9</td>\n",
       "      <td>XOne</td>\n",
       "      <td>41.96</td>\n",
       "      <td>0.03</td>\n",
       "    </tr>\n",
       "    <tr>\n",
       "      <td>10</td>\n",
       "      <td>WiiU</td>\n",
       "      <td>23.65</td>\n",
       "      <td>0.02</td>\n",
       "    </tr>\n",
       "    <tr>\n",
       "      <td>12</td>\n",
       "      <td>PSV</td>\n",
       "      <td>12.68</td>\n",
       "      <td>0.01</td>\n",
       "    </tr>\n",
       "  </tbody>\n",
       "</table>\n",
       "</div>"
      ],
      "text/plain": [
       "   platform  eu_sales  eu_ratio\n",
       "4       PS4    109.31      0.07\n",
       "8       3DS     58.94      0.04\n",
       "9      XOne     41.96      0.03\n",
       "10     WiiU     23.65      0.02\n",
       "12      PSV     12.68      0.01"
      ]
     },
     "execution_count": 68,
     "metadata": {},
     "output_type": "execute_result"
    }
   ],
   "source": [
    "eu_actual = eu_games.loc[eu_games['platform'].isin(actual_consoles)==True]\n",
    "eu_actual"
   ]
  },
  {
   "cell_type": "markdown",
   "metadata": {},
   "source": [
    "Среди актуальных консолей в Европе проигрывает свои позиции Xbox One, хоть и держит уровень в **3%**"
   ]
  },
  {
   "cell_type": "markdown",
   "metadata": {},
   "source": [
    "<font color='green'>Япония</font>"
   ]
  },
  {
   "cell_type": "code",
   "execution_count": 69,
   "metadata": {},
   "outputs": [
    {
     "data": {
      "text/html": [
       "<div>\n",
       "<style scoped>\n",
       "    .dataframe tbody tr th:only-of-type {\n",
       "        vertical-align: middle;\n",
       "    }\n",
       "\n",
       "    .dataframe tbody tr th {\n",
       "        vertical-align: top;\n",
       "    }\n",
       "\n",
       "    .dataframe thead th {\n",
       "        text-align: right;\n",
       "    }\n",
       "</style>\n",
       "<table border=\"1\" class=\"dataframe\">\n",
       "  <thead>\n",
       "    <tr style=\"text-align: right;\">\n",
       "      <th></th>\n",
       "      <th>platform</th>\n",
       "      <th>jp_sales</th>\n",
       "      <th>jp_ratio</th>\n",
       "    </tr>\n",
       "  </thead>\n",
       "  <tbody>\n",
       "    <tr>\n",
       "      <td>0</td>\n",
       "      <td>DS</td>\n",
       "      <td>171.35</td>\n",
       "      <td>0.29</td>\n",
       "    </tr>\n",
       "    <tr>\n",
       "      <td>1</td>\n",
       "      <td>3DS</td>\n",
       "      <td>92.59</td>\n",
       "      <td>0.16</td>\n",
       "    </tr>\n",
       "    <tr>\n",
       "      <td>2</td>\n",
       "      <td>PS3</td>\n",
       "      <td>78.11</td>\n",
       "      <td>0.13</td>\n",
       "    </tr>\n",
       "    <tr>\n",
       "      <td>3</td>\n",
       "      <td>PSP</td>\n",
       "      <td>73.85</td>\n",
       "      <td>0.12</td>\n",
       "    </tr>\n",
       "    <tr>\n",
       "      <td>4</td>\n",
       "      <td>Wii</td>\n",
       "      <td>68.28</td>\n",
       "      <td>0.11</td>\n",
       "    </tr>\n",
       "  </tbody>\n",
       "</table>\n",
       "</div>"
      ],
      "text/plain": [
       "  platform  jp_sales  jp_ratio\n",
       "0       DS    171.35      0.29\n",
       "1      3DS     92.59      0.16\n",
       "2      PS3     78.11      0.13\n",
       "3      PSP     73.85      0.12\n",
       "4      Wii     68.28      0.11"
      ]
     },
     "execution_count": 69,
     "metadata": {},
     "output_type": "execute_result"
    }
   ],
   "source": [
    "jp_games = (actual\n",
    "                .pivot_table(index='platform', values='jp_sales', aggfunc='sum')\n",
    "                .sort_values(by='jp_sales', ascending=False)\n",
    "                .reset_index()\n",
    "            )\n",
    "jp_games['jp_ratio'] = round(jp_games['jp_sales'] / sum(jp_games['jp_sales']), 2)\n",
    "jp_top_games = jp_games.head(5)\n",
    "jp_top_games"
   ]
  },
  {
   "cell_type": "markdown",
   "metadata": {},
   "source": [
    "Япония заметно отличается от всех остальных (это не удивительно, у них своя культура видеоигр). Поэтому с большим отрывом у них на первом месте DS и **29%**, следом идет 3DS, PlayStation 3, PSP.\n",
    "\n",
    "Вероятно, это обусловлено тем, что японцы предпочитают игры на портативных устройствах, а не стационарных (DS, 3DS, Vita в топе)."
   ]
  },
  {
   "cell_type": "code",
   "execution_count": 70,
   "metadata": {},
   "outputs": [
    {
     "data": {
      "text/html": [
       "<div>\n",
       "<style scoped>\n",
       "    .dataframe tbody tr th:only-of-type {\n",
       "        vertical-align: middle;\n",
       "    }\n",
       "\n",
       "    .dataframe tbody tr th {\n",
       "        vertical-align: top;\n",
       "    }\n",
       "\n",
       "    .dataframe thead th {\n",
       "        text-align: right;\n",
       "    }\n",
       "</style>\n",
       "<table border=\"1\" class=\"dataframe\">\n",
       "  <thead>\n",
       "    <tr style=\"text-align: right;\">\n",
       "      <th></th>\n",
       "      <th>platform</th>\n",
       "      <th>jp_sales</th>\n",
       "      <th>jp_ratio</th>\n",
       "    </tr>\n",
       "  </thead>\n",
       "  <tbody>\n",
       "    <tr>\n",
       "      <td>1</td>\n",
       "      <td>3DS</td>\n",
       "      <td>92.59</td>\n",
       "      <td>0.16</td>\n",
       "    </tr>\n",
       "    <tr>\n",
       "      <td>6</td>\n",
       "      <td>PSV</td>\n",
       "      <td>18.28</td>\n",
       "      <td>0.03</td>\n",
       "    </tr>\n",
       "    <tr>\n",
       "      <td>7</td>\n",
       "      <td>WiiU</td>\n",
       "      <td>12.34</td>\n",
       "      <td>0.02</td>\n",
       "    </tr>\n",
       "    <tr>\n",
       "      <td>9</td>\n",
       "      <td>PS4</td>\n",
       "      <td>10.22</td>\n",
       "      <td>0.02</td>\n",
       "    </tr>\n",
       "    <tr>\n",
       "      <td>12</td>\n",
       "      <td>XOne</td>\n",
       "      <td>0.33</td>\n",
       "      <td>0.00</td>\n",
       "    </tr>\n",
       "  </tbody>\n",
       "</table>\n",
       "</div>"
      ],
      "text/plain": [
       "   platform  jp_sales  jp_ratio\n",
       "1       3DS     92.59      0.16\n",
       "6       PSV     18.28      0.03\n",
       "7      WiiU     12.34      0.02\n",
       "9       PS4     10.22      0.02\n",
       "12     XOne      0.33      0.00"
      ]
     },
     "execution_count": 70,
     "metadata": {},
     "output_type": "execute_result"
    }
   ],
   "source": [
    "jp_actual = jp_games.loc[jp_games['platform'].isin(actual_consoles)==True]\n",
    "jp_actual"
   ]
  },
  {
   "cell_type": "markdown",
   "metadata": {},
   "source": [
    "Xbox One совсем не популярен в Японии, PlayStation 4 тоже проигрывает позиции. А из актуальных и перспективных первое место уверенно занимает 3DS."
   ]
  },
  {
   "cell_type": "markdown",
   "metadata": {},
   "source": [
    "Сравню показатели и опишу *доли продаж*"
   ]
  },
  {
   "cell_type": "code",
   "execution_count": 71,
   "metadata": {},
   "outputs": [
    {
     "data": {
      "text/html": [
       "<div>\n",
       "<style scoped>\n",
       "    .dataframe tbody tr th:only-of-type {\n",
       "        vertical-align: middle;\n",
       "    }\n",
       "\n",
       "    .dataframe tbody tr th {\n",
       "        vertical-align: top;\n",
       "    }\n",
       "\n",
       "    .dataframe thead th {\n",
       "        text-align: right;\n",
       "    }\n",
       "</style>\n",
       "<table border=\"1\" class=\"dataframe\">\n",
       "  <thead>\n",
       "    <tr style=\"text-align: right;\">\n",
       "      <th></th>\n",
       "      <th>platform</th>\n",
       "      <th>na_ratio</th>\n",
       "      <th>eu_ratio</th>\n",
       "      <th>jp_ratio</th>\n",
       "    </tr>\n",
       "  </thead>\n",
       "  <tbody>\n",
       "    <tr>\n",
       "      <td>0</td>\n",
       "      <td>3DS</td>\n",
       "      <td>NaN</td>\n",
       "      <td>NaN</td>\n",
       "      <td>0.16</td>\n",
       "    </tr>\n",
       "    <tr>\n",
       "      <td>1</td>\n",
       "      <td>DS</td>\n",
       "      <td>0.14</td>\n",
       "      <td>0.12</td>\n",
       "      <td>0.29</td>\n",
       "    </tr>\n",
       "    <tr>\n",
       "      <td>2</td>\n",
       "      <td>PS2</td>\n",
       "      <td>0.08</td>\n",
       "      <td>NaN</td>\n",
       "      <td>NaN</td>\n",
       "    </tr>\n",
       "    <tr>\n",
       "      <td>3</td>\n",
       "      <td>PS3</td>\n",
       "      <td>0.15</td>\n",
       "      <td>0.21</td>\n",
       "      <td>0.13</td>\n",
       "    </tr>\n",
       "    <tr>\n",
       "      <td>4</td>\n",
       "      <td>PS4</td>\n",
       "      <td>NaN</td>\n",
       "      <td>0.07</td>\n",
       "      <td>NaN</td>\n",
       "    </tr>\n",
       "    <tr>\n",
       "      <td>5</td>\n",
       "      <td>PSP</td>\n",
       "      <td>NaN</td>\n",
       "      <td>NaN</td>\n",
       "      <td>0.12</td>\n",
       "    </tr>\n",
       "    <tr>\n",
       "      <td>6</td>\n",
       "      <td>Wii</td>\n",
       "      <td>0.19</td>\n",
       "      <td>0.16</td>\n",
       "      <td>0.11</td>\n",
       "    </tr>\n",
       "    <tr>\n",
       "      <td>7</td>\n",
       "      <td>X360</td>\n",
       "      <td>0.23</td>\n",
       "      <td>0.17</td>\n",
       "      <td>NaN</td>\n",
       "    </tr>\n",
       "  </tbody>\n",
       "</table>\n",
       "</div>"
      ],
      "text/plain": [
       "  platform  na_ratio  eu_ratio  jp_ratio\n",
       "0      3DS       NaN       NaN      0.16\n",
       "1       DS      0.14      0.12      0.29\n",
       "2      PS2      0.08       NaN       NaN\n",
       "3      PS3      0.15      0.21      0.13\n",
       "4      PS4       NaN      0.07       NaN\n",
       "5      PSP       NaN       NaN      0.12\n",
       "6      Wii      0.19      0.16      0.11\n",
       "7     X360      0.23      0.17       NaN"
      ]
     },
     "execution_count": 71,
     "metadata": {},
     "output_type": "execute_result"
    }
   ],
   "source": [
    "top_games = na_top_games.merge(eu_top_games, on=['platform'], how='outer')\n",
    "top_games = top_games.merge(jp_top_games, on=['platform'], how='outer')\n",
    "top_games.drop(['na_sales', 'eu_sales', 'jp_sales'], axis='columns', inplace=True)\n",
    "top_games.sort_values(by='platform').reset_index(drop=True)"
   ]
  },
  {
   "cell_type": "code",
   "execution_count": 72,
   "metadata": {},
   "outputs": [
    {
     "data": {
      "image/png": "[encoded data removed]",
      "text/plain": [
       "<Figure size 432x288 with 1 Axes>"
      ]
     },
     "metadata": {
      "needs_background": "light"
     },
     "output_type": "display_data"
    }
   ],
   "source": [
    "fig, ax = plt.subplots()\n",
    "ax.set(title='Доля продаж игр на популярных консолях по регионам',\n",
    "       xlabel='Консоль', ylabel='Доля продаж')\n",
    "x1 = np.arange(1,9) - 0.3\n",
    "x2 = np.arange(1,9)\n",
    "x3 = np.arange(1,9) + 0.3\n",
    "plt.xticks([1, 2, 3, 4, 5, 6, 7, 8], ['X360', 'Wii', 'PS3', 'DS', 'PS2', 'PS4', '3DS', 'PSP'])\n",
    "ax.bar(x1, top_games['na_ratio'], width=0.3, label='Северная Америка')\n",
    "ax.bar(x2, top_games['eu_ratio'], width=0.3, label='Европа')\n",
    "ax.bar(x3, top_games['jp_ratio'], width=0.3, label='Япония')\n",
    "ax.grid()\n",
    "ax.legend(bbox_to_anchor=(1.45, 1), frameon=True, loc='upper right')\n",
    "plt.show()"
   ]
  },
  {
   "cell_type": "markdown",
   "metadata": {},
   "source": [
    "В Северной Америке наиболее популярны игры на платформе XBox 360 - **23%**, на этой же платформе достаточно популярны игры в Европе - **17%**, в Японии они не продавались. \n",
    "\n",
    "В Европе самыми популярными являются игры на Playstation3 - **21%**, на этой же платформе достаточно популярны игры в Северной Америке - **15%**, и в Японии - **14%**. \n",
    "\n",
    "В Японии наиболее продаваемыми являются игры на платформе DS - **29%**, платформа менее популярна в Северной Америке - **14%**, в Европе - **12%**. \n",
    "\n",
    "Во всех регионах игры на платформе Wii: в Северной Америке продажи составили **19%** , в Европе - **16%**, в Японии - **11%**."
   ]
  },
  {
   "cell_type": "markdown",
   "metadata": {},
   "source": [
    "Соберу данные по актуальным и потенциально прибыльным платформам в регионах, сравню показатели"
   ]
  },
  {
   "cell_type": "code",
   "execution_count": 73,
   "metadata": {},
   "outputs": [
    {
     "data": {
      "text/html": [
       "<div>\n",
       "<style scoped>\n",
       "    .dataframe tbody tr th:only-of-type {\n",
       "        vertical-align: middle;\n",
       "    }\n",
       "\n",
       "    .dataframe tbody tr th {\n",
       "        vertical-align: top;\n",
       "    }\n",
       "\n",
       "    .dataframe thead th {\n",
       "        text-align: right;\n",
       "    }\n",
       "</style>\n",
       "<table border=\"1\" class=\"dataframe\">\n",
       "  <thead>\n",
       "    <tr style=\"text-align: right;\">\n",
       "      <th></th>\n",
       "      <th>platform</th>\n",
       "      <th>na_ratio</th>\n",
       "      <th>eu_ratio</th>\n",
       "      <th>jp_ratio</th>\n",
       "    </tr>\n",
       "  </thead>\n",
       "  <tbody>\n",
       "    <tr>\n",
       "      <td>0</td>\n",
       "      <td>3DS</td>\n",
       "      <td>0.03</td>\n",
       "      <td>0.04</td>\n",
       "      <td>0.16</td>\n",
       "    </tr>\n",
       "    <tr>\n",
       "      <td>1</td>\n",
       "      <td>PS4</td>\n",
       "      <td>0.03</td>\n",
       "      <td>0.07</td>\n",
       "      <td>0.02</td>\n",
       "    </tr>\n",
       "    <tr>\n",
       "      <td>2</td>\n",
       "      <td>PSV</td>\n",
       "      <td>0.00</td>\n",
       "      <td>0.01</td>\n",
       "      <td>0.03</td>\n",
       "    </tr>\n",
       "    <tr>\n",
       "      <td>3</td>\n",
       "      <td>WiiU</td>\n",
       "      <td>0.01</td>\n",
       "      <td>0.02</td>\n",
       "      <td>0.02</td>\n",
       "    </tr>\n",
       "    <tr>\n",
       "      <td>4</td>\n",
       "      <td>XOne</td>\n",
       "      <td>0.03</td>\n",
       "      <td>0.03</td>\n",
       "      <td>0.00</td>\n",
       "    </tr>\n",
       "  </tbody>\n",
       "</table>\n",
       "</div>"
      ],
      "text/plain": [
       "  platform  na_ratio  eu_ratio  jp_ratio\n",
       "0      3DS      0.03      0.04      0.16\n",
       "1      PS4      0.03      0.07      0.02\n",
       "2      PSV      0.00      0.01      0.03\n",
       "3     WiiU      0.01      0.02      0.02\n",
       "4     XOne      0.03      0.03      0.00"
      ]
     },
     "execution_count": 73,
     "metadata": {},
     "output_type": "execute_result"
    }
   ],
   "source": [
    "actual_new_games = na_actual.merge(eu_actual, on=['platform'], how='outer')\n",
    "actual_new_games = actual_new_games.merge(jp_actual, on=['platform'], how='outer')\n",
    "actual_new_games.drop(['na_sales', 'eu_sales', 'jp_sales'], axis='columns', inplace=True)\n",
    "actual_new_games.sort_values(by='platform').reset_index(drop=True)"
   ]
  },
  {
   "cell_type": "code",
   "execution_count": 74,
   "metadata": {
    "scrolled": true
   },
   "outputs": [
    {
     "data": {
      "image/png": "[encoded data removed]",
      "text/plain": [
       "<Figure size 432x288 with 1 Axes>"
      ]
     },
     "metadata": {
      "needs_background": "light"
     },
     "output_type": "display_data"
    }
   ],
   "source": [
    "fig, ax = plt.subplots()\n",
    "ax.set(title='Доля продаж игр на актуальных консолях по регионам',\n",
    "       xlabel='Консоль', ylabel='Доля продаж')\n",
    "x1 = np.arange(1,6) - 0.3\n",
    "x2 = np.arange(1,6)\n",
    "x3 = np.arange(1,6) + 0.3\n",
    "plt.xticks([1, 2, 3, 4, 5], ['PS4', 'XOne', '3DS', 'WiiU', 'PSV'])\n",
    "ax.bar(x1, actual_new_games['na_ratio'], width=0.3, label='Северная Америка')\n",
    "ax.bar(x2, actual_new_games['eu_ratio'], width=0.3, label='Европа')\n",
    "ax.bar(x3, actual_new_games['jp_ratio'], width=0.3, label='Япония')\n",
    "ax.grid()\n",
    "ax.legend(bbox_to_anchor=(1.45, 1), frameon=True, loc='upper right')\n",
    "plt.show()"
   ]
  },
  {
   "cell_type": "markdown",
   "metadata": {},
   "source": [
    "Для актуальных и перспективных консолей на 2017 год можно заметить следующие распределения долей по продажам в регионах:\n",
    "- Северная Америка - примерно поровну распределился рынок между PlayStation 4, Xbox One и 3DS (по **3%**)\n",
    "- Европа - наиболее популярна Playstation4 - **7%**, следом идет 3DS и **4%**\n",
    "- Япония - самая популярная - 3DS - **16%**, на втором месте (но с большим отставанием) - PlayStation Vita (**3%**)\n",
    "\n",
    "Такие небольшие объёмы продаж свидетельствуют о том, что данные консоли только набирают ход. В ближайшее время должен случиться прорыв."
   ]
  },
  {
   "cell_type": "markdown",
   "metadata": {},
   "source": [
    "<font color='blue'>Топ-5 жанров</font>"
   ]
  },
  {
   "cell_type": "markdown",
   "metadata": {},
   "source": [
    "<font color='green'>Северная Америка</font>"
   ]
  },
  {
   "cell_type": "code",
   "execution_count": 75,
   "metadata": {},
   "outputs": [
    {
     "data": {
      "text/html": [
       "<div>\n",
       "<style scoped>\n",
       "    .dataframe tbody tr th:only-of-type {\n",
       "        vertical-align: middle;\n",
       "    }\n",
       "\n",
       "    .dataframe tbody tr th {\n",
       "        vertical-align: top;\n",
       "    }\n",
       "\n",
       "    .dataframe thead th {\n",
       "        text-align: right;\n",
       "    }\n",
       "</style>\n",
       "<table border=\"1\" class=\"dataframe\">\n",
       "  <thead>\n",
       "    <tr style=\"text-align: right;\">\n",
       "      <th></th>\n",
       "      <th>genre</th>\n",
       "      <th>na_sales</th>\n",
       "      <th>na_ratio</th>\n",
       "    </tr>\n",
       "  </thead>\n",
       "  <tbody>\n",
       "    <tr>\n",
       "      <td>0</td>\n",
       "      <td>Action</td>\n",
       "      <td>570.75</td>\n",
       "      <td>0.22</td>\n",
       "    </tr>\n",
       "    <tr>\n",
       "      <td>1</td>\n",
       "      <td>Sports</td>\n",
       "      <td>425.45</td>\n",
       "      <td>0.16</td>\n",
       "    </tr>\n",
       "    <tr>\n",
       "      <td>2</td>\n",
       "      <td>Shooter</td>\n",
       "      <td>384.72</td>\n",
       "      <td>0.15</td>\n",
       "    </tr>\n",
       "    <tr>\n",
       "      <td>3</td>\n",
       "      <td>Misc</td>\n",
       "      <td>311.06</td>\n",
       "      <td>0.12</td>\n",
       "    </tr>\n",
       "    <tr>\n",
       "      <td>4</td>\n",
       "      <td>Role-Playing</td>\n",
       "      <td>205.96</td>\n",
       "      <td>0.08</td>\n",
       "    </tr>\n",
       "  </tbody>\n",
       "</table>\n",
       "</div>"
      ],
      "text/plain": [
       "          genre  na_sales  na_ratio\n",
       "0        Action    570.75      0.22\n",
       "1        Sports    425.45      0.16\n",
       "2       Shooter    384.72      0.15\n",
       "3          Misc    311.06      0.12\n",
       "4  Role-Playing    205.96      0.08"
      ]
     },
     "execution_count": 75,
     "metadata": {},
     "output_type": "execute_result"
    }
   ],
   "source": [
    "na_genres = (actual\n",
    "                .pivot_table(index='genre', values='na_sales', aggfunc='sum')\n",
    "                .sort_values(by='na_sales', ascending=False)\n",
    "                .reset_index()\n",
    "                )\n",
    "na_genres['na_ratio'] = round(na_genres['na_sales'] / sum(na_genres['na_sales']), 2)\n",
    "na_popular_genres = na_genres.head(5)\n",
    "na_popular_genres"
   ]
  },
  {
   "cell_type": "markdown",
   "metadata": {},
   "source": [
    "Доли рынка в Северной Америке среди популярных жанров распределены:\n",
    "- Action - **22%**\n",
    "- Sports - **16%**\n",
    "- Shooter - **15%**\n",
    "- Misc - **12%**\n",
    "- Role-Playing - **8%**"
   ]
  },
  {
   "cell_type": "markdown",
   "metadata": {},
   "source": [
    "<font color='green'>Европа</font>"
   ]
  },
  {
   "cell_type": "code",
   "execution_count": 76,
   "metadata": {},
   "outputs": [
    {
     "data": {
      "text/html": [
       "<div>\n",
       "<style scoped>\n",
       "    .dataframe tbody tr th:only-of-type {\n",
       "        vertical-align: middle;\n",
       "    }\n",
       "\n",
       "    .dataframe tbody tr th {\n",
       "        vertical-align: top;\n",
       "    }\n",
       "\n",
       "    .dataframe thead th {\n",
       "        text-align: right;\n",
       "    }\n",
       "</style>\n",
       "<table border=\"1\" class=\"dataframe\">\n",
       "  <thead>\n",
       "    <tr style=\"text-align: right;\">\n",
       "      <th></th>\n",
       "      <th>genre</th>\n",
       "      <th>eu_sales</th>\n",
       "      <th>eu_ratio</th>\n",
       "    </tr>\n",
       "  </thead>\n",
       "  <tbody>\n",
       "    <tr>\n",
       "      <td>0</td>\n",
       "      <td>Action</td>\n",
       "      <td>361.90</td>\n",
       "      <td>0.23</td>\n",
       "    </tr>\n",
       "    <tr>\n",
       "      <td>1</td>\n",
       "      <td>Sports</td>\n",
       "      <td>253.76</td>\n",
       "      <td>0.16</td>\n",
       "    </tr>\n",
       "    <tr>\n",
       "      <td>2</td>\n",
       "      <td>Shooter</td>\n",
       "      <td>232.17</td>\n",
       "      <td>0.15</td>\n",
       "    </tr>\n",
       "    <tr>\n",
       "      <td>3</td>\n",
       "      <td>Misc</td>\n",
       "      <td>166.43</td>\n",
       "      <td>0.11</td>\n",
       "    </tr>\n",
       "    <tr>\n",
       "      <td>4</td>\n",
       "      <td>Racing</td>\n",
       "      <td>127.32</td>\n",
       "      <td>0.08</td>\n",
       "    </tr>\n",
       "  </tbody>\n",
       "</table>\n",
       "</div>"
      ],
      "text/plain": [
       "     genre  eu_sales  eu_ratio\n",
       "0   Action    361.90      0.23\n",
       "1   Sports    253.76      0.16\n",
       "2  Shooter    232.17      0.15\n",
       "3     Misc    166.43      0.11\n",
       "4   Racing    127.32      0.08"
      ]
     },
     "execution_count": 76,
     "metadata": {},
     "output_type": "execute_result"
    }
   ],
   "source": [
    "eu_genres = (actual\n",
    "                .pivot_table(index='genre', values='eu_sales', aggfunc='sum')\n",
    "                .sort_values(by='eu_sales', ascending=False)\n",
    "                .reset_index()\n",
    "                )\n",
    "eu_genres['eu_ratio'] = round(eu_genres['eu_sales'] / sum(eu_genres['eu_sales']), 2)\n",
    "eu_popular_genres = eu_genres.head(5)\n",
    "eu_popular_genres"
   ]
  },
  {
   "cell_type": "markdown",
   "metadata": {},
   "source": [
    "Доли рынка в Европе среди популярных жанров распределены:\n",
    "- Action - **23%**\n",
    "- Sports - **16%**\n",
    "- Shooter - **15%**\n",
    "- Misc - **11%**\n",
    "- Role-Playing - **8%**"
   ]
  },
  {
   "cell_type": "markdown",
   "metadata": {},
   "source": [
    "<font color='green'>Япония</font>"
   ]
  },
  {
   "cell_type": "code",
   "execution_count": 77,
   "metadata": {},
   "outputs": [
    {
     "data": {
      "text/html": [
       "<div>\n",
       "<style scoped>\n",
       "    .dataframe tbody tr th:only-of-type {\n",
       "        vertical-align: middle;\n",
       "    }\n",
       "\n",
       "    .dataframe tbody tr th {\n",
       "        vertical-align: top;\n",
       "    }\n",
       "\n",
       "    .dataframe thead th {\n",
       "        text-align: right;\n",
       "    }\n",
       "</style>\n",
       "<table border=\"1\" class=\"dataframe\">\n",
       "  <thead>\n",
       "    <tr style=\"text-align: right;\">\n",
       "      <th></th>\n",
       "      <th>genre</th>\n",
       "      <th>jp_sales</th>\n",
       "      <th>jp_ratio</th>\n",
       "    </tr>\n",
       "  </thead>\n",
       "  <tbody>\n",
       "    <tr>\n",
       "      <td>0</td>\n",
       "      <td>Role-Playing</td>\n",
       "      <td>172.99</td>\n",
       "      <td>0.29</td>\n",
       "    </tr>\n",
       "    <tr>\n",
       "      <td>1</td>\n",
       "      <td>Action</td>\n",
       "      <td>101.32</td>\n",
       "      <td>0.17</td>\n",
       "    </tr>\n",
       "    <tr>\n",
       "      <td>2</td>\n",
       "      <td>Misc</td>\n",
       "      <td>71.45</td>\n",
       "      <td>0.12</td>\n",
       "    </tr>\n",
       "    <tr>\n",
       "      <td>3</td>\n",
       "      <td>Sports</td>\n",
       "      <td>51.59</td>\n",
       "      <td>0.09</td>\n",
       "    </tr>\n",
       "    <tr>\n",
       "      <td>4</td>\n",
       "      <td>Platform</td>\n",
       "      <td>36.21</td>\n",
       "      <td>0.06</td>\n",
       "    </tr>\n",
       "  </tbody>\n",
       "</table>\n",
       "</div>"
      ],
      "text/plain": [
       "          genre  jp_sales  jp_ratio\n",
       "0  Role-Playing    172.99      0.29\n",
       "1        Action    101.32      0.17\n",
       "2          Misc     71.45      0.12\n",
       "3        Sports     51.59      0.09\n",
       "4      Platform     36.21      0.06"
      ]
     },
     "execution_count": 77,
     "metadata": {},
     "output_type": "execute_result"
    }
   ],
   "source": [
    "jp_genres = (actual\n",
    "                .pivot_table(index='genre', values='jp_sales', aggfunc='sum')\n",
    "                .sort_values(by='jp_sales', ascending=False)\n",
    "                .reset_index()\n",
    "                )\n",
    "jp_genres['jp_ratio'] = round(jp_genres['jp_sales'] / sum(jp_genres['jp_sales']), 2)\n",
    "jp_popular_genres = jp_genres.head(5)\n",
    "jp_popular_genres"
   ]
  },
  {
   "cell_type": "markdown",
   "metadata": {},
   "source": [
    "Доли рынка в Японии среди популярных жанров распределены:\n",
    "- Role-Playing - **29%**\n",
    "- Action - **17%**\n",
    "- Misc - **12%**\n",
    "- Sports - **9%**\n",
    "- platform - **6%**"
   ]
  },
  {
   "cell_type": "markdown",
   "metadata": {},
   "source": [
    "<font color='green'>Таблица по всем регионам</font>"
   ]
  },
  {
   "cell_type": "code",
   "execution_count": 78,
   "metadata": {},
   "outputs": [
    {
     "data": {
      "text/html": [
       "<div>\n",
       "<style scoped>\n",
       "    .dataframe tbody tr th:only-of-type {\n",
       "        vertical-align: middle;\n",
       "    }\n",
       "\n",
       "    .dataframe tbody tr th {\n",
       "        vertical-align: top;\n",
       "    }\n",
       "\n",
       "    .dataframe thead th {\n",
       "        text-align: right;\n",
       "    }\n",
       "</style>\n",
       "<table border=\"1\" class=\"dataframe\">\n",
       "  <thead>\n",
       "    <tr style=\"text-align: right;\">\n",
       "      <th></th>\n",
       "      <th>genre</th>\n",
       "      <th>na_ratio</th>\n",
       "      <th>eu_ratio</th>\n",
       "      <th>jp_ratio</th>\n",
       "    </tr>\n",
       "  </thead>\n",
       "  <tbody>\n",
       "    <tr>\n",
       "      <td>0</td>\n",
       "      <td>Action</td>\n",
       "      <td>0.22</td>\n",
       "      <td>0.23</td>\n",
       "      <td>0.17</td>\n",
       "    </tr>\n",
       "    <tr>\n",
       "      <td>1</td>\n",
       "      <td>Misc</td>\n",
       "      <td>0.12</td>\n",
       "      <td>0.11</td>\n",
       "      <td>0.12</td>\n",
       "    </tr>\n",
       "    <tr>\n",
       "      <td>2</td>\n",
       "      <td>Platform</td>\n",
       "      <td>NaN</td>\n",
       "      <td>NaN</td>\n",
       "      <td>0.06</td>\n",
       "    </tr>\n",
       "    <tr>\n",
       "      <td>3</td>\n",
       "      <td>Racing</td>\n",
       "      <td>NaN</td>\n",
       "      <td>0.08</td>\n",
       "      <td>NaN</td>\n",
       "    </tr>\n",
       "    <tr>\n",
       "      <td>4</td>\n",
       "      <td>Role-Playing</td>\n",
       "      <td>0.08</td>\n",
       "      <td>NaN</td>\n",
       "      <td>0.29</td>\n",
       "    </tr>\n",
       "    <tr>\n",
       "      <td>5</td>\n",
       "      <td>Shooter</td>\n",
       "      <td>0.15</td>\n",
       "      <td>0.15</td>\n",
       "      <td>NaN</td>\n",
       "    </tr>\n",
       "    <tr>\n",
       "      <td>6</td>\n",
       "      <td>Sports</td>\n",
       "      <td>0.16</td>\n",
       "      <td>0.16</td>\n",
       "      <td>0.09</td>\n",
       "    </tr>\n",
       "  </tbody>\n",
       "</table>\n",
       "</div>"
      ],
      "text/plain": [
       "          genre  na_ratio  eu_ratio  jp_ratio\n",
       "0        Action      0.22      0.23      0.17\n",
       "1          Misc      0.12      0.11      0.12\n",
       "2      Platform       NaN       NaN      0.06\n",
       "3        Racing       NaN      0.08       NaN\n",
       "4  Role-Playing      0.08       NaN      0.29\n",
       "5       Shooter      0.15      0.15       NaN\n",
       "6        Sports      0.16      0.16      0.09"
      ]
     },
     "execution_count": 78,
     "metadata": {},
     "output_type": "execute_result"
    }
   ],
   "source": [
    "popular_genres = na_popular_genres.merge(eu_popular_genres, on=['genre'], how='outer')\n",
    "popular_genres = popular_genres.merge(jp_popular_genres, on=['genre'], how='outer')\n",
    "popular_genres.drop(['na_sales', 'eu_sales', 'jp_sales'], axis='columns', inplace=True)\n",
    "popular_genres.sort_values(by='genre').reset_index(drop=True)"
   ]
  },
  {
   "cell_type": "code",
   "execution_count": 79,
   "metadata": {},
   "outputs": [
    {
     "data": {
      "image/png": "[encoded data removed]",
      "text/plain": [
       "<Figure size 432x288 with 1 Axes>"
      ]
     },
     "metadata": {
      "needs_background": "light"
     },
     "output_type": "display_data"
    }
   ],
   "source": [
    "fig, ax = plt.subplots()\n",
    "ax.set(title='Доля продаж игр по жанрам в регионах',\n",
    "       xlabel='Жанр', ylabel='Доля продаж')\n",
    "x1 = np.arange(1,8) - 0.3\n",
    "x2 = np.arange(1,8)\n",
    "x3 = np.arange(1,8) + 0.3\n",
    "plt.xticks([1, 2, 3, 4, 5, 6, 7], ['Action', 'Sports', 'Shooter', 'Misc', 'Role-Playing', 'Racing', 'Platform'])\n",
    "ax.bar(x1, popular_genres['na_ratio'], width=0.3, label='Северная Америка')\n",
    "ax.bar(x2, popular_genres['eu_ratio'], width=0.3, label='Европа')\n",
    "ax.bar(x3, popular_genres['jp_ratio'], width=0.3, label='Япония')\n",
    "ax.grid()\n",
    "ax.legend(bbox_to_anchor=(1.45, 1), frameon=True, loc='upper right')\n",
    "plt.show()"
   ]
  },
  {
   "cell_type": "markdown",
   "metadata": {},
   "source": [
    "Жанр Action популярен во всех трёх регионах и находится примерно на одном урове (разве что в Японии чуть проседает).\n",
    "\n",
    "В Японии самым популярным жанром считается Role-Playing (RPG) (**29%**), и это не удивительно, так как один из самых популярных поджанров - RPG с пошаговым, тактическим боем. Таие игры очень популярны на портативных устройствах. В Северной Америке доля данных игр составила - 6%, а вот в Европе совсем не пользуется данный жанр популярностью.\n",
    "\n",
    "Интересно отметить игры, которые не относятся, как таковые, ни к одному жанру - Misc. А у них солидный уровень доли рынка (по **12%** в Японии и Северной Америке, **11%** в Европе). Эти игры еще называют \"игры для компаний\" - Just Dance (потанцевать), например. Популярноть этих игр обусловлена возможностью весело провести время с друзья, потренироваться. \n",
    "\n",
    "Различия в приверженности к жанрам может быть связано с образом жизни: в Японии постоянное движение, поэтому там так популярны портативные консоли. Если прибавить к этому RPG-игры в стиле аниме, то мы получаем ответ, почему они пользуются такой популярностью. В Европе популярны Racing (гонки) - как известно, в Европе множетсво трасс для Формулы-1, известных гонщиков. У них это крайне популярно, отсюда и любовь к этому жанру игр. \n",
    "\n",
    "Популярность Action и Shooter не должна вызывать удивления, так как эти жанры в принципе идут рука об руку, а на консолях множество игр этих жанров.\n"
   ]
  },
  {
   "cell_type": "markdown",
   "metadata": {},
   "source": [
    "<font color='blue'>Влияние рейтинга ESRB на продажи</font>"
   ]
  },
  {
   "cell_type": "markdown",
   "metadata": {},
   "source": [
    "<font color='green'>Северная Америка</font>"
   ]
  },
  {
   "cell_type": "code",
   "execution_count": 80,
   "metadata": {},
   "outputs": [
    {
     "data": {
      "text/html": [
       "<div>\n",
       "<style scoped>\n",
       "    .dataframe tbody tr th:only-of-type {\n",
       "        vertical-align: middle;\n",
       "    }\n",
       "\n",
       "    .dataframe tbody tr th {\n",
       "        vertical-align: top;\n",
       "    }\n",
       "\n",
       "    .dataframe thead th {\n",
       "        text-align: right;\n",
       "    }\n",
       "</style>\n",
       "<table border=\"1\" class=\"dataframe\">\n",
       "  <thead>\n",
       "    <tr style=\"text-align: right;\">\n",
       "      <th></th>\n",
       "      <th>rating</th>\n",
       "      <th>na_sales</th>\n",
       "      <th>na_ratio</th>\n",
       "    </tr>\n",
       "  </thead>\n",
       "  <tbody>\n",
       "    <tr>\n",
       "      <td>0</td>\n",
       "      <td>E</td>\n",
       "      <td>865.40</td>\n",
       "      <td>0.38</td>\n",
       "    </tr>\n",
       "    <tr>\n",
       "      <td>1</td>\n",
       "      <td>M</td>\n",
       "      <td>591.67</td>\n",
       "      <td>0.26</td>\n",
       "    </tr>\n",
       "    <tr>\n",
       "      <td>2</td>\n",
       "      <td>T</td>\n",
       "      <td>470.13</td>\n",
       "      <td>0.21</td>\n",
       "    </tr>\n",
       "    <tr>\n",
       "      <td>3</td>\n",
       "      <td>E10+</td>\n",
       "      <td>339.22</td>\n",
       "      <td>0.15</td>\n",
       "    </tr>\n",
       "    <tr>\n",
       "      <td>4</td>\n",
       "      <td>EC</td>\n",
       "      <td>1.53</td>\n",
       "      <td>0.00</td>\n",
       "    </tr>\n",
       "    <tr>\n",
       "      <td>5</td>\n",
       "      <td>AO</td>\n",
       "      <td>1.26</td>\n",
       "      <td>0.00</td>\n",
       "    </tr>\n",
       "    <tr>\n",
       "      <td>6</td>\n",
       "      <td>RP</td>\n",
       "      <td>0.00</td>\n",
       "      <td>0.00</td>\n",
       "    </tr>\n",
       "  </tbody>\n",
       "</table>\n",
       "</div>"
      ],
      "text/plain": [
       "  rating  na_sales  na_ratio\n",
       "0      E    865.40      0.38\n",
       "1      M    591.67      0.26\n",
       "2      T    470.13      0.21\n",
       "3   E10+    339.22      0.15\n",
       "4     EC      1.53      0.00\n",
       "5     AO      1.26      0.00\n",
       "6     RP      0.00      0.00"
      ]
     },
     "execution_count": 80,
     "metadata": {},
     "output_type": "execute_result"
    }
   ],
   "source": [
    "na_esrb = (actual\n",
    "                .pivot_table(index='rating', values='na_sales', aggfunc='sum')\n",
    "                .sort_values(by='na_sales', ascending=False)\n",
    "                .reset_index()\n",
    "                )\n",
    "na_esrb['na_ratio'] = round(na_esrb['na_sales'] / sum(na_esrb['na_sales']), 2)\n",
    "na_esrb"
   ]
  },
  {
   "cell_type": "markdown",
   "metadata": {},
   "source": [
    "Доли рынка в Северной Америке по рейтингу ESRB:\n",
    "\n",
    "- E(\"Everyone\") — «Для всех» - **38%**\n",
    "- M («Mature») — «Для взрослых» - **26%**\n",
    "- T («Teen») — «Подросткам» - **21%**\n",
    "- E10+ (\"Everyone 10 and older\") — «Для всех от 10 лет и старше» - **15%**"
   ]
  },
  {
   "cell_type": "markdown",
   "metadata": {},
   "source": [
    "<font color='green'>Европа</font>"
   ]
  },
  {
   "cell_type": "code",
   "execution_count": 81,
   "metadata": {},
   "outputs": [
    {
     "data": {
      "text/html": [
       "<div>\n",
       "<style scoped>\n",
       "    .dataframe tbody tr th:only-of-type {\n",
       "        vertical-align: middle;\n",
       "    }\n",
       "\n",
       "    .dataframe tbody tr th {\n",
       "        vertical-align: top;\n",
       "    }\n",
       "\n",
       "    .dataframe thead th {\n",
       "        text-align: right;\n",
       "    }\n",
       "</style>\n",
       "<table border=\"1\" class=\"dataframe\">\n",
       "  <thead>\n",
       "    <tr style=\"text-align: right;\">\n",
       "      <th></th>\n",
       "      <th>rating</th>\n",
       "      <th>eu_sales</th>\n",
       "      <th>eu_ratio</th>\n",
       "    </tr>\n",
       "  </thead>\n",
       "  <tbody>\n",
       "    <tr>\n",
       "      <td>0</td>\n",
       "      <td>E</td>\n",
       "      <td>495.25</td>\n",
       "      <td>0.38</td>\n",
       "    </tr>\n",
       "    <tr>\n",
       "      <td>1</td>\n",
       "      <td>M</td>\n",
       "      <td>397.57</td>\n",
       "      <td>0.30</td>\n",
       "    </tr>\n",
       "    <tr>\n",
       "      <td>2</td>\n",
       "      <td>T</td>\n",
       "      <td>248.38</td>\n",
       "      <td>0.19</td>\n",
       "    </tr>\n",
       "    <tr>\n",
       "      <td>3</td>\n",
       "      <td>E10+</td>\n",
       "      <td>178.11</td>\n",
       "      <td>0.13</td>\n",
       "    </tr>\n",
       "    <tr>\n",
       "      <td>4</td>\n",
       "      <td>AO</td>\n",
       "      <td>0.61</td>\n",
       "      <td>0.00</td>\n",
       "    </tr>\n",
       "    <tr>\n",
       "      <td>5</td>\n",
       "      <td>EC</td>\n",
       "      <td>0.11</td>\n",
       "      <td>0.00</td>\n",
       "    </tr>\n",
       "    <tr>\n",
       "      <td>6</td>\n",
       "      <td>RP</td>\n",
       "      <td>0.03</td>\n",
       "      <td>0.00</td>\n",
       "    </tr>\n",
       "  </tbody>\n",
       "</table>\n",
       "</div>"
      ],
      "text/plain": [
       "  rating  eu_sales  eu_ratio\n",
       "0      E    495.25      0.38\n",
       "1      M    397.57      0.30\n",
       "2      T    248.38      0.19\n",
       "3   E10+    178.11      0.13\n",
       "4     AO      0.61      0.00\n",
       "5     EC      0.11      0.00\n",
       "6     RP      0.03      0.00"
      ]
     },
     "execution_count": 81,
     "metadata": {},
     "output_type": "execute_result"
    }
   ],
   "source": [
    "eu_esrb = (actual\n",
    "                .pivot_table(index='rating', values='eu_sales', aggfunc='sum')\n",
    "                .sort_values(by='eu_sales', ascending=False)\n",
    "                .reset_index()\n",
    "                )\n",
    "eu_esrb['eu_ratio'] = round(eu_esrb['eu_sales'] / sum(eu_esrb['eu_sales']), 2)\n",
    "eu_esrb"
   ]
  },
  {
   "cell_type": "markdown",
   "metadata": {},
   "source": [
    "Доли рынка в Европе по рейтингу ESRB:\n",
    "\n",
    "- E(\"Everyone\") — «Для всех» - **38%**\n",
    "- M («Mature») — «Для взрослых» - **30%**\n",
    "- T («Teen») — «Подросткам» - **19%**\n",
    "- E10+ (\"Everyone 10 and older\") — «Для всех от 10 лет и старше» - **13%**"
   ]
  },
  {
   "cell_type": "markdown",
   "metadata": {},
   "source": [
    "<font color='green'>Япония</font>"
   ]
  },
  {
   "cell_type": "code",
   "execution_count": 82,
   "metadata": {},
   "outputs": [
    {
     "data": {
      "text/html": [
       "<div>\n",
       "<style scoped>\n",
       "    .dataframe tbody tr th:only-of-type {\n",
       "        vertical-align: middle;\n",
       "    }\n",
       "\n",
       "    .dataframe tbody tr th {\n",
       "        vertical-align: top;\n",
       "    }\n",
       "\n",
       "    .dataframe thead th {\n",
       "        text-align: right;\n",
       "    }\n",
       "</style>\n",
       "<table border=\"1\" class=\"dataframe\">\n",
       "  <thead>\n",
       "    <tr style=\"text-align: right;\">\n",
       "      <th></th>\n",
       "      <th>rating</th>\n",
       "      <th>jp_sales</th>\n",
       "      <th>jp_ratio</th>\n",
       "    </tr>\n",
       "  </thead>\n",
       "  <tbody>\n",
       "    <tr>\n",
       "      <td>0</td>\n",
       "      <td>E</td>\n",
       "      <td>146.26</td>\n",
       "      <td>0.46</td>\n",
       "    </tr>\n",
       "    <tr>\n",
       "      <td>1</td>\n",
       "      <td>T</td>\n",
       "      <td>89.05</td>\n",
       "      <td>0.28</td>\n",
       "    </tr>\n",
       "    <tr>\n",
       "      <td>2</td>\n",
       "      <td>M</td>\n",
       "      <td>45.03</td>\n",
       "      <td>0.14</td>\n",
       "    </tr>\n",
       "    <tr>\n",
       "      <td>3</td>\n",
       "      <td>E10+</td>\n",
       "      <td>38.60</td>\n",
       "      <td>0.12</td>\n",
       "    </tr>\n",
       "    <tr>\n",
       "      <td>4</td>\n",
       "      <td>AO</td>\n",
       "      <td>0.00</td>\n",
       "      <td>0.00</td>\n",
       "    </tr>\n",
       "    <tr>\n",
       "      <td>5</td>\n",
       "      <td>EC</td>\n",
       "      <td>0.00</td>\n",
       "      <td>0.00</td>\n",
       "    </tr>\n",
       "    <tr>\n",
       "      <td>6</td>\n",
       "      <td>RP</td>\n",
       "      <td>0.00</td>\n",
       "      <td>0.00</td>\n",
       "    </tr>\n",
       "  </tbody>\n",
       "</table>\n",
       "</div>"
      ],
      "text/plain": [
       "  rating  jp_sales  jp_ratio\n",
       "0      E    146.26      0.46\n",
       "1      T     89.05      0.28\n",
       "2      M     45.03      0.14\n",
       "3   E10+     38.60      0.12\n",
       "4     AO      0.00      0.00\n",
       "5     EC      0.00      0.00\n",
       "6     RP      0.00      0.00"
      ]
     },
     "execution_count": 82,
     "metadata": {},
     "output_type": "execute_result"
    }
   ],
   "source": [
    "jp_esrb = (actual\n",
    "                .pivot_table(index='rating', values='jp_sales', aggfunc='sum')\n",
    "                .sort_values(by='jp_sales', ascending=False)\n",
    "                .reset_index()\n",
    "                )\n",
    "jp_esrb['jp_ratio'] = round(jp_esrb['jp_sales'] / sum(jp_esrb['jp_sales']), 2)\n",
    "jp_esrb"
   ]
  },
  {
   "cell_type": "markdown",
   "metadata": {},
   "source": [
    "Доли рынка в Японии по рейтингу ESRB:\n",
    "\n",
    "- E(\"Everyone\") — «Для всех» - **46%**\n",
    "- M («Mature») — «Для взрослых» - **14%**\n",
    "- T («Teen») — «Подросткам» - **28%**\n",
    "- E10+ (\"Everyone 10 and older\") — «Для всех от 10 лет и старше» - **12%**"
   ]
  },
  {
   "cell_type": "markdown",
   "metadata": {},
   "source": [
    "Данные по всем регионам примерно одинаковые. Больше всего игр продается с рейтингом E(\"Everyove\") - это не удивительно, так как большинство игр, представленных на рынке, выходят с таким рейтингом. \n",
    "\n",
    "Заметно отличие, что в Японии игры с рейтингом T («Teen») более популярны, чем игры для взрослых. Но это не означает, что игры покупают исключительно подростки.\n",
    "\n",
    "На все остальные рейтинг спрос чрезвычайно мал везде. \n"
   ]
  },
  {
   "cell_type": "markdown",
   "metadata": {},
   "source": [
    "# <font color='red'>Вывод</font> #"
   ]
  },
  {
   "cell_type": "markdown",
   "metadata": {},
   "source": [
    "Моей целью было создать **портрет пользователя каждого региона**. В действительности, данные позволяют мне предположить, каким выглядит покупатель в каждом регионе.\n",
    "\n",
    "В Северной Америке: наиболее популярна игровая приставка Xbox 360, из актуальных подбираются PlayStation 4 и Xbox one. Получается, американский потребитель скорее патриот, так как покупает продукцию Microsoft. Значит в 2017 году должен произойти резкий рост продаж консоли Xbox one в этом регионе. Пользователи предпочитают жанры Action, Sports и Shooter. Это объясняет, почему издатели игр стараются выпускать игры популярных серий каждый год (Call of duty, Assassins Creed), ведь самый покупаемый регион как раз Северная Америка, нельзя упускать такую \"рыбу\". И при этом здесь любят покупать игры E, для всех. Значит типичный потребитель в Северной Америке - любит расслабиться и пострелять в какой-нибудь игре, либо порубать мечом или каким другим приспособлением, тем самым скоротав время. Обязательно купит себе очередную часть спортивного симулятора, вель у него в колледже/школе обязательно есть футбольная команда, или хоккейная секция, или баскетбольная команда, а, значит, придут друзья, с которыми можно поиграть (либо через интернет). Но он может быть взрослым, тогда он обязательно купит себе или Just Dance, или guitar hero, потому что кто не мечтал играть настоящий рок в гараже.\n",
    "\n",
    "В Европе: самая популярная приставка - Playstation 3, из актуальных вырывается вперед PlayStation 4. И как тут не вспомнить, что европейцы очень любят гонки. А ведь только на Playstation выходит эксклюзивная серия игр Gran Turismo, где можно покататься по прекрасным европейским улочкам, представляя себя кумиром детства (например, Шумахер). Про популярность жанра Sports даже и предполагать не надо, ведь Европа - центр мирового футбола (небольшое отступление - популярность видеоигры FIFA подтвердилось в очередной раз в этом году (федерация ФИФА за 2020 год получила от видеоигр дохода больше, чем от самого футбола), конечно, сказался коронавирус, но ведь это показатель). А жанры Action и Shooter здесь также популярны, ведь это самый простой способ отвлечься и погрузиться в интересный мир.\n",
    "\n",
    "В Японии: удивительная страна - Япония. И покупатели игр здесь удивительные. Самые популярные приставки - DS, 3DS и PSV. Как я говорил выше - у них бешеный ритм жизни, поэтому много времени они проодят на ногах, либо в транспорте. Поэтому так популярны у них портативные консоли. А их любовь к фентези, аниме и волшебству породило огромный спрос на RPG игры, где можно отыграть роль любимого персонажа. Этим во многом и объясняется тот факт, что у них популярен рейтинг T, для подростков, ведь такие игры не содержат ничего запретного. Но в тоже время их рынок видеоигр крайне специфичен, существует множество игр, которые не доходят о остального мира."
   ]
  },
  {
   "cell_type": "markdown",
   "metadata": {},
   "source": [
    "# <font style=\"background-color: Cyan; color=black\">Проверка гипотез</font> #"
   ]
  },
  {
   "cell_type": "markdown",
   "metadata": {},
   "source": [
    "<font color='blue'>Гипотеза 1. Средние пользовательские рейтинги платформ Xbox One и PC одинаковые</font>"
   ]
  },
  {
   "cell_type": "markdown",
   "metadata": {},
   "source": [
    "Буду анализировать две генеральные совокупности: рейтинг пользователей игр Xbox One и PC"
   ]
  },
  {
   "cell_type": "code",
   "execution_count": 83,
   "metadata": {},
   "outputs": [],
   "source": [
    "xboxone = actual.loc[(actual['user_score'].isna()!=True) & (actual['platform'] == \"XOne\")]\n",
    "pc = actual.loc[(actual['user_score'].isna()!=True) & (actual['platform'] == \"PC\")]"
   ]
  },
  {
   "cell_type": "markdown",
   "metadata": {},
   "source": [
    "Проверю, что сравниваемые выборки имеют нормальное распределение"
   ]
  },
  {
   "cell_type": "code",
   "execution_count": 84,
   "metadata": {},
   "outputs": [
    {
     "data": {
      "image/png": "[encoded data removed]",
      "text/plain": [
       "<Figure size 432x288 with 1 Axes>"
      ]
     },
     "metadata": {
      "needs_background": "light"
     },
     "output_type": "display_data"
    }
   ],
   "source": [
    "fig = plt.figure()\n",
    "plt.xlabel('xlabel')\n",
    "plt.ylabel('Распределение')\n",
    "plt.title('Сопоставление распределения')\n",
    "sns.distplot(xboxone['user_score'], label='XOne', color='LimeGreen')\n",
    "sns.distplot(pc['user_score'], label='PC', color='LightCoral')\n",
    "plt.legend()\n",
    "plt.show()"
   ]
  },
  {
   "cell_type": "markdown",
   "metadata": {},
   "source": [
    "Данные распределены нормально,немного смещены вправо.\n",
    "\n",
    "Нулевая гипотеза H0: Средние двух генеральных совокупностей равны между собой.\n",
    "\n",
    "Альтернативная гипотеза H1: Средние двух генеральных совокупностей не равны между собой.\n",
    "\n",
    "xboxone и pc - это не совсем генеральные совокупности, а скорее, выборки; но согласно *центральной предельной теореме*, выборочные средние распределены нормально вокруг истинного среднего генеральной совокупности. \n",
    "\n",
    "Eровень значимости, определяющий близость к среднему значению: 5%.\n",
    "\n",
    "Дисперсия каждой выборки должна быть оценена по датасету каждой из выборок, а не по их объединению. Также отметим, что выборки являются независимыми.\n",
    "\n",
    "Проверим гипотезы через распределение t-Стьюдента."
   ]
  },
  {
   "cell_type": "code",
   "execution_count": 85,
   "metadata": {},
   "outputs": [
    {
     "name": "stdout",
     "output_type": "stream",
     "text": [
      "p-значение: 0.0009390620930121275\n",
      "Отвергаем нулевую гипотезу.\n"
     ]
    }
   ],
   "source": [
    "sample_1 = xboxone['user_score']\n",
    "sample_2 = pc['user_score']\n",
    "\n",
    "alpha = 0.05\n",
    "\n",
    "results = st.ttest_ind(sample_1, sample_2, equal_var=False)\n",
    "print('p-значение:', results.pvalue)\n",
    "\n",
    "if results.pvalue < alpha:\n",
    "    print('Отвергаем нулевую гипотезу.')\n",
    "else:\n",
    "    print('Не получилось отвергнуть нулевую гипотезу.')"
   ]
  },
  {
   "cell_type": "markdown",
   "metadata": {},
   "source": [
    "p-значение оказалось меньше уровня значимости в 5%. Мы отвергли нулевую гипотезу; приняли альтернативную гипотезу: средние двух генеральных совокупностей не равны между собой.\n",
    "\n",
    "<font color='red'>Вывод:</font> средние пользовательские рейтинги платформ Xbox One и PC *различаются*."
   ]
  },
  {
   "cell_type": "markdown",
   "metadata": {},
   "source": [
    "<font color='blue'>Гипотеза 2. Cредние пользовательские рейтинги жанров Action и Sports разные</font>"
   ]
  },
  {
   "cell_type": "markdown",
   "metadata": {},
   "source": [
    "Анализирую две генеральные совокупности: рейтинг пользователей игр в жанрах Action и Sports "
   ]
  },
  {
   "cell_type": "code",
   "execution_count": 86,
   "metadata": {},
   "outputs": [],
   "source": [
    "action = actual.loc[(actual['user_score'].isna()!=True) & (actual['genre'] == \"Action\")]\n",
    "sports = actual.loc[(actual['user_score'].isna()!=True) & (actual['genre'] == \"Sports\")]"
   ]
  },
  {
   "cell_type": "markdown",
   "metadata": {},
   "source": [
    "Проверю, что сравниваемые выборки имеют нормальное распределение"
   ]
  },
  {
   "cell_type": "code",
   "execution_count": 87,
   "metadata": {},
   "outputs": [
    {
     "data": {
      "image/png": "[encoded data removed]",
      "text/plain": [
       "<Figure size 432x288 with 1 Axes>"
      ]
     },
     "metadata": {
      "needs_background": "light"
     },
     "output_type": "display_data"
    }
   ],
   "source": [
    "\n",
    "fig = plt.figure()\n",
    "plt.xlabel('xlabel')\n",
    "plt.ylabel('Распределение')\n",
    "plt.title('Сопоставление распределения')\n",
    "sns.distplot(action['user_score'], label='Action', color='Violet')\n",
    "sns.distplot(sports['user_score'], label='Sports', color='Navy')\n",
    "plt.legend()\n",
    "plt.show()"
   ]
  },
  {
   "cell_type": "markdown",
   "metadata": {},
   "source": [
    "Данные немного смещены вправо, имеют нормальное распределение.\n",
    "\n",
    "Нулевую гипотезу H0: Средние двух генеральных совокупностей равны между собой.\n",
    "\n",
    "Альтернативная гипотеза H1: Средние двух генераальных совокупностей не равны между собой.\n",
    "\n",
    "action и sports - это не совсем генеральные совокупности, а скорее, выборки; но согласно *центральной предельной теореме*, выборочные средние распределены нормально вокруг истинного среднего генеральной совокупности.\n",
    "\n",
    "Уровень значимости, определяющий близость к среднему значению: 5%.\n",
    "\n",
    "Кроме того, дисперсия каждой выборки должна быть оценена по датасету каждой из выборок, а не по их объединению. Выборки являются независимыми.\n",
    "\n",
    "Проверим гипотезы через распределение t-Стьюдента."
   ]
  },
  {
   "cell_type": "code",
   "execution_count": 88,
   "metadata": {},
   "outputs": [
    {
     "name": "stdout",
     "output_type": "stream",
     "text": [
      "p-значение: 2.2385740793260452e-07\n",
      "Отвергаем нулевую гипотезу.\n"
     ]
    }
   ],
   "source": [
    "sample_1 = action['user_score']\n",
    "sample_2 = sports['user_score']\n",
    "\n",
    "alpha = 0.05\n",
    "\n",
    "results = st.ttest_ind(sample_1, sample_2, equal_var=False)\n",
    "print('p-значение:', results.pvalue)\n",
    "\n",
    "if results.pvalue < alpha:\n",
    "    print('Отвергаем нулевую гипотезу.')\n",
    "else:\n",
    "    print('Не получилось отвергнуть нулевую гипотезу.')"
   ]
  },
  {
   "cell_type": "markdown",
   "metadata": {},
   "source": [
    "p-значение оказалось меньше уровня значимости в 5%. Мы отвергли нулевую гипотезу; приняли альтернативную гипотезу: средние двух генеральных совокупностей не равны между собой.\n",
    "\n",
    "<font color='red'>Вывод:</font> средние пользовательские рейтинги жанров Action и Sports различаются.\n",
    "\n",
    "<div style=\"border:solid green 2px; padding: 20px\"> "
   ]
  },
  {
   "cell_type": "markdown",
   "metadata": {},
   "source": [
    "# <font color='red'>Вывод</font> #"
   ]
  },
  {
   "cell_type": "markdown",
   "metadata": {},
   "source": [
    "С помощью t-тестов проверки двусторонних гипотез для двух независимых выборок я получил результат, что средние пользовательские рейтинги платформ Xbox One и PC различаются, средние пользовательские рейтинги жанров Action и Sports также различаются."
   ]
  },
  {
   "cell_type": "markdown",
   "metadata": {},
   "source": [
    "# <font style=\"background-color: Cyan; color=black\">Общий вывод</font> #"
   ]
  },
  {
   "cell_type": "markdown",
   "metadata": {},
   "source": [
    "Я провел исследование рынка компьютерных игр, на который ориентируется в своей деятельности интернет-магазин «Стримчик», продающий игры по всему миру. \n",
    "\n",
    "При предобработке данных я выявил, что присутствуют пропуски в столбцах рейтингов критиков, пользователей и рейтинга ESRB. Данные пропуски показались мне необычными, сверил на графиках, взяв за основу год выхода игры, и получил, что данные почти идентичны. Я твердо убежден, что было допущено некорректное заполнение данных, и рейтинг не внесли.\n",
    "Часть пропусков была связана с показателем tbd (to be determined): игра была оценена, но система не посчитала рейтинг на момент выгрузки данных.\n",
    "\n",
    "С помощью исследовательского анализа я узнал, что в разные годы были популярны игры на разных платформах. Игры на PlayStation набирали популярность с 1994 года, достигли пика по продажам в 1990 году и \"сошли на нет\" в 2002-2003 годах. Им на замену в 2000 году пришли игры на PlayStation 2, которая в итоге стала абсолютным лидером и рекордсменом по продажам. \n",
    "\n",
    "В 2004 году выходит на рынок DS, которая сходу обретает популярность.\n",
    "\n",
    "Практически в то же время (с 2006 по 2010 гг. с пиком в 2009 г.) были популярны игры на платформе Wii (с самой малоразмерной на тот момент приставкой Nintendo Wii). В те же годы на смену PlayStation 2 пришли игры на платформе PlaySstation 3, которые продавались максимально хорошо в 2008-2013 гг. Вместе с PlayStation3 в те же годы были популярны игры на Xbox360. \n",
    "\n",
    "\"Жизненный цикл\" каждой платформы, составляет около 8-10 лет. Также следует отметить, что со временем стало появляться больше конкурентоспособных платформ, способных занять место на рынке консолей и привлечь свою категорию потребителей.\n",
    "\n",
    "Исходя из анализа количества выпущенных игр по годам и анализа продаж по платформам, продажа игр на которых приносит наибольший доход, можем сделать вывод о том, что период до 1994 года не является актуальным для анализа. До 1994 года выходило слишком мало игр, относительно общих данных. А также не наблюдалось лидирующих по суммарным продажам платформ. \n",
    "\n",
    "На основе анализа продаж можем сделать прогноз, что потенциально прибыльными в 2017 году будут платформы: PlayStation 4 и Xbox One, которые должны будут совершить рывок и занять место своих предшественников, 3DS, которая уже несколько лет пользуется популярностью у потребителей игр; WiiU, являющаяся преемником Wii, которая тоже была достаточно популярна в своё время.\n",
    "\n",
    "На каждой из платформ существует большое количество игр, суммарные продажи по которым выбиваются из квартильных значений. В целом, разница в суммарных продажах игр в рамках каждой из платформ очень велика для 3DS и Playstation 4; чуть меньше - для WiiU и XBoxOne; и относительно небольшая - для PlayStation Vita. \n",
    "\n",
    "По всем платформам наблюдается превышение среднего значения над медианным и скос датасетов вправо: для Playstation4 и XBoxOne наиболее сильно, для 3DS и WiiU - чуть меньше, и для PlayStationVita - относительно небольшой. Также видим различия в медианных значениях: игры y PlayStation 4 и XBox One имеют схожие боксплоты (квартильные, средние и медианные значения), а WiiU характеризуется меньшим значением; затем идёт 3DS и PlayStationVita. Это может быть связано с разнобразием игр на ведущих платформах: поскольку платформы Playstation и XBox достаточно давно приобрели популярность среди потребителей, они могут позволить себе выпуск достаточно ранжированного по цене игрового контента, способного найти потребителя: поэтому их боксплоты шире и растянутее.\n",
    "\n",
    "При анализе связи между оценкой игры и совокупными продажами было выявлено, что между оценкой критиков и продажами есть слабая связь (во всех регионах). Между оценкой пользователей и совокупными продажами нет связи. С одной стороны, это может быть связано с тем, что люди обращают внимание на оценку игры, прежде чем покупают её (но корреляция невысокая, соответственно, это не ключевой показатель). С другой стороны, возможно, критиками оцениваются не все игры, а наиболее популярные у покупателей (или потенциально популярные). В то же время потребитель сначала покупает игру, а затем, поиграв, ставит ей оценку, исходя из субъективного впечатления. Таким образом, одна и та же игра может оставить как хорошее, так и плохое впечатление - в зависимости от индивидуальных предпочтений. Поскольку связь оценок с сумммами продаж не является сильной, мы можем сделать вывод, что на продажи игр влияют какие-то иные факторы.\n",
    "\n",
    "Жанр Action популярен во всех трёх регионах и находится примерно на одном урове (разве что в Японии чуть проседает).\n",
    "\n",
    "В Японии самым популярным жанром считается Role-Playing (RPG) (29%), и это не удивительно, так как один из самых популярных поджанров - RPG с пошаговым, тактическим боем. Таие игры очень популярны на портативных устройствах. В Северной Америке доля данных игр составила - 6%, а вот в Европе совсем не пользуется данный жанр популярностью.\n",
    "\n",
    "Далее был составлен портрет пользователя в каждом регионе. Мои портреты \"типичного пользователя консолей\" по каждому региону можно найти выше.\n",
    "\n",
    "Кроме того, были проведены t-тесты, в результате которых было выявлено, что средние пользовательские рейтинги платформ Xbox One и PC различаются; и средние пользовательские рейтинги жанров Action и Sports также различаются."
   ]
  },
  {
   "cell_type": "markdown",
   "metadata": {},
   "source": [
    "# <font style=\"background-color: Cyan; color=black\">Рекомендации</font> #"
   ]
  },
  {
   "cell_type": "markdown",
   "metadata": {},
   "source": [
    "1. При продаже игр не брать во внимание оценки пользователей и критиков, но их можно использовать как рекламу (\"только хорошие отзывы\")\n",
    "\n",
    "2. \"Жизненный цикл\" консолей 8-10 лет. Поэтому держать под рукой некоторое количество совсем старых консолей, чуть больше консолей предыдущего поколения, основной упор - на современные консоли.\n",
    "\n",
    "3. Сделать равномерный упор на все консоли текущего поколения, чуть усилить продвижение PlayStation 4 (на Xbox One надежды немного с его подписками)\n",
    "\n",
    "4. Продажа игр по платформам по регионам: \n",
    "- в Северной Америке и Европе следует продавать игры на PlaySstation 4 и Xbox One, делая акцент на играх в жанре Action, Sports и Shooter\n",
    "- в Японии следует продавать игры на 3DS, делая акцент на играх в жанрах Role-Playing.\n",
    "\n",
    "5. В каждом из регионов рекомендуется осуществлять продажи игр с рейтингом E. В Северной Америке и Европе также возможны высокие продажи игр с рейтингом M (\"для взрослых\"), а в Японии - с рейтингом T (\"для подростков\")."
   ]
  },
  {
   "cell_type": "code",
   "execution_count": null,
   "metadata": {},
   "outputs": [],
   "source": []
  }
 ],
 "metadata": {
  "kernelspec": {
   "display_name": "Python 3 (ipykernel)",
   "language": "python",
   "name": "python3"
  },
  "language_info": {
   "codemirror_mode": {
    "name": "ipython",
    "version": 3
   },
   "file_extension": ".py",
   "mimetype": "text/x-python",
   "name": "python",
   "nbconvert_exporter": "python",
   "pygments_lexer": "ipython3",
   "version": "3.9.7"
  },
  "toc": {
   "base_numbering": 1,
   "nav_menu": {},
   "number_sections": true,
   "sideBar": true,
   "skip_h1_title": true,
   "title_cell": "Table of Contents",
   "title_sidebar": "Contents",
   "toc_cell": false,
   "toc_position": {},
   "toc_section_display": true,
   "toc_window_display": false
  }
 },
 "nbformat": 4,
 "nbformat_minor": 2
}
