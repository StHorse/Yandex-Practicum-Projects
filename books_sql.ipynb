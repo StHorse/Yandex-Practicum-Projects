{
 "cells": [
  {
   "cell_type": "markdown",
   "metadata": {},
   "source": [
    "# <center><font color='OrangeRed'> Анализ базы данных сервиса для чтения книг по подписке</font></center>"
   ]
  },
  {
   "cell_type": "markdown",
   "metadata": {},
   "source": [
    "Мною будет проведен анализ базы данных сервиса для чтения книг по подписке."
   ]
  },
  {
   "cell_type": "markdown",
   "metadata": {},
   "source": [
    "**Задачи**:\n",
    "- Выяснить, сколько книг вышло после *1 января 2000 года*;\n",
    "- Для каждой книги посчитать *количество обзоров и среднюю оценку*;\n",
    "- Определите издательство, которое выпустило наибольшее число книг толще 50 страниц (так я исключу из анализа брошюры);\n",
    "- Определите автора с *самой высокой средней оценкой книг* — будут учитываться только книги с 50 и более оценками;\n",
    "- Посчитать среднее количество обзоров от пользователей, которые поставили больше 50 оценок."
   ]
  },
  {
   "cell_type": "markdown",
   "metadata": {},
   "source": [
    "Данные для анализа:\n",
    "- Данные о книгах **books**:\n",
    "    - *book_id* — идентификатор книги;\n",
    "    - *author_id* — идентификатор автора;\n",
    "    - *title* — название книги;\n",
    "    - *num_pages* — количество страниц;\n",
    "    - *publication_date* — дата публикации книги;\n",
    "    - *publisher_id* — идентификатор издателя.\n",
    "- Данные об авторах **authors**:\n",
    "    - *author_id* — идентификатор автора;\n",
    "    - *author* — имя автора.\n",
    "- Данные об издательствах **publishers**:\n",
    "    - *publisher_id* — идентификатор издательства;\n",
    "    - *publisher* — название издательства;\n",
    "- Данные о пользовательских оценках книг **ratings**:\n",
    "    - *rating_id* — идентификатор оценки;\n",
    "    - *book_id* — идентификатор книги;\n",
    "    - *username* — имя пользователя, оставившего оценку;\n",
    "    - *rating* — оценка книги;\n",
    "- Данные о пользовательских обзорах на книги **reviews**:\n",
    "    - *review_id* — идентификатор обзора;\n",
    "    - *book_id* — идентификатор книги;\n",
    "    - *username* — имя пользователя, написавшего обзор;\n",
    "    - *text* — текст обзора."
   ]
  },
  {
   "cell_type": "markdown",
   "metadata": {},
   "source": [
    "**Этапы исследования**:\n",
    "   1. [Изучение и предобработка данных](#obzor)\n",
    "   2. [Анализ базы данных](#analyz)\n",
    "   3. [Общий вывод](#vyvod)"
   ]
  },
  {
   "cell_type": "code",
   "execution_count": 1,
   "metadata": {},
   "outputs": [],
   "source": [
    "import pandas as pd\n",
    "from sqlalchemy import create_engine\n",
    "from pandas.io import sql\n",
    "import sqlite3"
   ]
  },
  {
   "cell_type": "markdown",
   "metadata": {},
   "source": [
    "# <a id=\"obzor\"></a><font style=\"background-color: Cyan; color=black\">1. Изучение и предобработка данных</font> #"
   ]
  },
  {
   "cell_type": "code",
   "execution_count": 2,
   "metadata": {},
   "outputs": [],
   "source": [
    "db_config = {'user': 'praktikum_student', # имя пользователя\n",
    " 'pwd': 'Sdf4$2;d-d30pp', # пароль\n",
    " 'host': 'rc1b-wcoijxj3yxfsf3fs.mdb.yandexcloud.net',\n",
    " 'port': 6432, # порт подключения\n",
    " 'db': 'data-analyst-final-project-db'} # название базы данных\n",
    "connection_string = 'postgresql://{}:{}@{}:{}/{}'.format(db_config['user'],\n",
    "                                                        db_config['pwd'],\n",
    "                                                        db_config['host'],\n",
    "                                                        db_config['port'],\n",
    "                                                        db_config['db'])\n",
    "# Сохраняем коннектор\n",
    "engine = create_engine(connection_string, connect_args={'sslmode':'require'}) "
   ]
  },
  {
   "cell_type": "markdown",
   "metadata": {},
   "source": [
    "Чтобы изучить данные использую формулу, которая по запросу возвращает 2 строки таблицы"
   ]
  },
  {
   "cell_type": "code",
   "execution_count": 3,
   "metadata": {},
   "outputs": [],
   "source": [
    "def sql(query):\n",
    "    return pd.io.sql.read_sql(query, con = engine)\n",
    "def  df_view(table):\n",
    "    result = sql(f'''\n",
    "            SELECT\n",
    "                *\n",
    "            FROM\n",
    "                {table}\n",
    "            LIMIT\n",
    "                2\n",
    "            ''')\n",
    "    return result"
   ]
  },
  {
   "cell_type": "code",
   "execution_count": 4,
   "metadata": {},
   "outputs": [],
   "source": [
    "def df_viewing(df):\n",
    "    print(f'Количество дубликатов в таблице - {df.duplicated().sum()}')\n",
    "    print('Общая информация о датасете') \n",
    "    display(df.info()) "
   ]
  },
  {
   "cell_type": "markdown",
   "metadata": {},
   "source": [
    "Запрос к базам данных по каждому датафрейму"
   ]
  },
  {
   "cell_type": "markdown",
   "metadata": {},
   "source": [
    "<font color='green'>Книги</font>"
   ]
  },
  {
   "cell_type": "code",
   "execution_count": 5,
   "metadata": {},
   "outputs": [],
   "source": [
    "query_1 = ''' SELECT *\n",
    "            FROM books\n",
    "        '''\n",
    "books = pd.io.sql.read_sql(query_1, con = engine) "
   ]
  },
  {
   "cell_type": "code",
   "execution_count": 6,
   "metadata": {},
   "outputs": [
    {
     "data": {
      "text/html": [
       "<div>\n",
       "<style scoped>\n",
       "    .dataframe tbody tr th:only-of-type {\n",
       "        vertical-align: middle;\n",
       "    }\n",
       "\n",
       "    .dataframe tbody tr th {\n",
       "        vertical-align: top;\n",
       "    }\n",
       "\n",
       "    .dataframe thead th {\n",
       "        text-align: right;\n",
       "    }\n",
       "</style>\n",
       "<table border=\"1\" class=\"dataframe\">\n",
       "  <thead>\n",
       "    <tr style=\"text-align: right;\">\n",
       "      <th></th>\n",
       "      <th>book_id</th>\n",
       "      <th>author_id</th>\n",
       "      <th>title</th>\n",
       "      <th>num_pages</th>\n",
       "      <th>publication_date</th>\n",
       "      <th>publisher_id</th>\n",
       "    </tr>\n",
       "  </thead>\n",
       "  <tbody>\n",
       "    <tr>\n",
       "      <td>0</td>\n",
       "      <td>1</td>\n",
       "      <td>546</td>\n",
       "      <td>'Salem's Lot</td>\n",
       "      <td>594</td>\n",
       "      <td>2005-11-01</td>\n",
       "      <td>93</td>\n",
       "    </tr>\n",
       "    <tr>\n",
       "      <td>1</td>\n",
       "      <td>2</td>\n",
       "      <td>465</td>\n",
       "      <td>1 000 Places to See Before You Die</td>\n",
       "      <td>992</td>\n",
       "      <td>2003-05-22</td>\n",
       "      <td>336</td>\n",
       "    </tr>\n",
       "  </tbody>\n",
       "</table>\n",
       "</div>"
      ],
      "text/plain": [
       "   book_id  author_id                               title  num_pages  \\\n",
       "0        1        546                        'Salem's Lot        594   \n",
       "1        2        465  1 000 Places to See Before You Die        992   \n",
       "\n",
       "  publication_date  publisher_id  \n",
       "0       2005-11-01            93  \n",
       "1       2003-05-22           336  "
      ]
     },
     "execution_count": 6,
     "metadata": {},
     "output_type": "execute_result"
    }
   ],
   "source": [
    "df_view('books')"
   ]
  },
  {
   "cell_type": "code",
   "execution_count": 7,
   "metadata": {},
   "outputs": [
    {
     "name": "stdout",
     "output_type": "stream",
     "text": [
      "Количество дубликатов в таблице - 0\n",
      "Общая информация о датасете\n",
      "<class 'pandas.core.frame.DataFrame'>\n",
      "RangeIndex: 1000 entries, 0 to 999\n",
      "Data columns (total 6 columns):\n",
      "book_id             1000 non-null int64\n",
      "author_id           1000 non-null int64\n",
      "title               1000 non-null object\n",
      "num_pages           1000 non-null int64\n",
      "publication_date    1000 non-null object\n",
      "publisher_id        1000 non-null int64\n",
      "dtypes: int64(4), object(2)\n",
      "memory usage: 47.0+ KB\n"
     ]
    },
    {
     "data": {
      "text/plain": [
       "None"
      ]
     },
     "metadata": {},
     "output_type": "display_data"
    }
   ],
   "source": [
    "df_viewing(books)"
   ]
  },
  {
   "cell_type": "markdown",
   "metadata": {},
   "source": [
    "- 6 столбцов; \n",
    "- 1 000 строк; \n",
    "- Пропуски данных и дубликаты отсутствуют."
   ]
  },
  {
   "cell_type": "markdown",
   "metadata": {},
   "source": [
    "<font color='green'>Авторы</font>"
   ]
  },
  {
   "cell_type": "code",
   "execution_count": 8,
   "metadata": {},
   "outputs": [],
   "source": [
    "query_2 = ''' SELECT *\n",
    "            FROM authors\n",
    "        '''\n",
    "authors = pd.io.sql.read_sql(query_2, con = engine) "
   ]
  },
  {
   "cell_type": "code",
   "execution_count": 9,
   "metadata": {},
   "outputs": [
    {
     "data": {
      "text/html": [
       "<div>\n",
       "<style scoped>\n",
       "    .dataframe tbody tr th:only-of-type {\n",
       "        vertical-align: middle;\n",
       "    }\n",
       "\n",
       "    .dataframe tbody tr th {\n",
       "        vertical-align: top;\n",
       "    }\n",
       "\n",
       "    .dataframe thead th {\n",
       "        text-align: right;\n",
       "    }\n",
       "</style>\n",
       "<table border=\"1\" class=\"dataframe\">\n",
       "  <thead>\n",
       "    <tr style=\"text-align: right;\">\n",
       "      <th></th>\n",
       "      <th>author_id</th>\n",
       "      <th>author</th>\n",
       "    </tr>\n",
       "  </thead>\n",
       "  <tbody>\n",
       "    <tr>\n",
       "      <td>0</td>\n",
       "      <td>1</td>\n",
       "      <td>A.S. Byatt</td>\n",
       "    </tr>\n",
       "    <tr>\n",
       "      <td>1</td>\n",
       "      <td>2</td>\n",
       "      <td>Aesop/Laura Harris/Laura Gibbs</td>\n",
       "    </tr>\n",
       "  </tbody>\n",
       "</table>\n",
       "</div>"
      ],
      "text/plain": [
       "   author_id                          author\n",
       "0          1                      A.S. Byatt\n",
       "1          2  Aesop/Laura Harris/Laura Gibbs"
      ]
     },
     "execution_count": 9,
     "metadata": {},
     "output_type": "execute_result"
    }
   ],
   "source": [
    "df_view('authors')"
   ]
  },
  {
   "cell_type": "code",
   "execution_count": 10,
   "metadata": {},
   "outputs": [
    {
     "name": "stdout",
     "output_type": "stream",
     "text": [
      "Количество дубликатов в таблице - 0\n",
      "Общая информация о датасете\n",
      "<class 'pandas.core.frame.DataFrame'>\n",
      "RangeIndex: 636 entries, 0 to 635\n",
      "Data columns (total 2 columns):\n",
      "author_id    636 non-null int64\n",
      "author       636 non-null object\n",
      "dtypes: int64(1), object(1)\n",
      "memory usage: 10.1+ KB\n"
     ]
    },
    {
     "data": {
      "text/plain": [
       "None"
      ]
     },
     "metadata": {},
     "output_type": "display_data"
    }
   ],
   "source": [
    "df_viewing(authors)"
   ]
  },
  {
   "cell_type": "markdown",
   "metadata": {},
   "source": [
    "- 2 столбца; \n",
    "- 636 строк; \n",
    "- Пропуски данных и дубликаты отсутствуют."
   ]
  },
  {
   "cell_type": "markdown",
   "metadata": {},
   "source": [
    "<font color='green'>Издательства</font>"
   ]
  },
  {
   "cell_type": "code",
   "execution_count": 11,
   "metadata": {},
   "outputs": [],
   "source": [
    "query_3 = ''' SELECT *\n",
    "            FROM publishers\n",
    "        '''\n",
    "publishers = pd.io.sql.read_sql(query_3, con = engine) "
   ]
  },
  {
   "cell_type": "code",
   "execution_count": 12,
   "metadata": {},
   "outputs": [
    {
     "data": {
      "text/html": [
       "<div>\n",
       "<style scoped>\n",
       "    .dataframe tbody tr th:only-of-type {\n",
       "        vertical-align: middle;\n",
       "    }\n",
       "\n",
       "    .dataframe tbody tr th {\n",
       "        vertical-align: top;\n",
       "    }\n",
       "\n",
       "    .dataframe thead th {\n",
       "        text-align: right;\n",
       "    }\n",
       "</style>\n",
       "<table border=\"1\" class=\"dataframe\">\n",
       "  <thead>\n",
       "    <tr style=\"text-align: right;\">\n",
       "      <th></th>\n",
       "      <th>publisher_id</th>\n",
       "      <th>publisher</th>\n",
       "    </tr>\n",
       "  </thead>\n",
       "  <tbody>\n",
       "    <tr>\n",
       "      <td>0</td>\n",
       "      <td>1</td>\n",
       "      <td>Ace</td>\n",
       "    </tr>\n",
       "    <tr>\n",
       "      <td>1</td>\n",
       "      <td>2</td>\n",
       "      <td>Ace Book</td>\n",
       "    </tr>\n",
       "  </tbody>\n",
       "</table>\n",
       "</div>"
      ],
      "text/plain": [
       "   publisher_id publisher\n",
       "0             1       Ace\n",
       "1             2  Ace Book"
      ]
     },
     "execution_count": 12,
     "metadata": {},
     "output_type": "execute_result"
    }
   ],
   "source": [
    "df_view('publishers')"
   ]
  },
  {
   "cell_type": "code",
   "execution_count": 13,
   "metadata": {},
   "outputs": [
    {
     "name": "stdout",
     "output_type": "stream",
     "text": [
      "Количество дубликатов в таблице - 0\n",
      "Общая информация о датасете\n",
      "<class 'pandas.core.frame.DataFrame'>\n",
      "RangeIndex: 340 entries, 0 to 339\n",
      "Data columns (total 2 columns):\n",
      "publisher_id    340 non-null int64\n",
      "publisher       340 non-null object\n",
      "dtypes: int64(1), object(1)\n",
      "memory usage: 5.4+ KB\n"
     ]
    },
    {
     "data": {
      "text/plain": [
       "None"
      ]
     },
     "metadata": {},
     "output_type": "display_data"
    }
   ],
   "source": [
    "df_viewing(publishers)"
   ]
  },
  {
   "cell_type": "markdown",
   "metadata": {},
   "source": [
    "- 2 столбца; \n",
    "- 340 строк; \n",
    "- Пропуски данных и дубликаты отсутствуют."
   ]
  },
  {
   "cell_type": "markdown",
   "metadata": {},
   "source": [
    "<font color='green'>Оценки пользователей</font>"
   ]
  },
  {
   "cell_type": "code",
   "execution_count": 14,
   "metadata": {},
   "outputs": [],
   "source": [
    "query_4 = ''' SELECT *\n",
    "            FROM ratings\n",
    "        '''\n",
    "ratings = pd.io.sql.read_sql(query_4, con = engine) "
   ]
  },
  {
   "cell_type": "code",
   "execution_count": 15,
   "metadata": {},
   "outputs": [
    {
     "data": {
      "text/html": [
       "<div>\n",
       "<style scoped>\n",
       "    .dataframe tbody tr th:only-of-type {\n",
       "        vertical-align: middle;\n",
       "    }\n",
       "\n",
       "    .dataframe tbody tr th {\n",
       "        vertical-align: top;\n",
       "    }\n",
       "\n",
       "    .dataframe thead th {\n",
       "        text-align: right;\n",
       "    }\n",
       "</style>\n",
       "<table border=\"1\" class=\"dataframe\">\n",
       "  <thead>\n",
       "    <tr style=\"text-align: right;\">\n",
       "      <th></th>\n",
       "      <th>rating_id</th>\n",
       "      <th>book_id</th>\n",
       "      <th>username</th>\n",
       "      <th>rating</th>\n",
       "    </tr>\n",
       "  </thead>\n",
       "  <tbody>\n",
       "    <tr>\n",
       "      <td>0</td>\n",
       "      <td>1</td>\n",
       "      <td>1</td>\n",
       "      <td>ryanfranco</td>\n",
       "      <td>4</td>\n",
       "    </tr>\n",
       "    <tr>\n",
       "      <td>1</td>\n",
       "      <td>2</td>\n",
       "      <td>1</td>\n",
       "      <td>grantpatricia</td>\n",
       "      <td>2</td>\n",
       "    </tr>\n",
       "  </tbody>\n",
       "</table>\n",
       "</div>"
      ],
      "text/plain": [
       "   rating_id  book_id       username  rating\n",
       "0          1        1     ryanfranco       4\n",
       "1          2        1  grantpatricia       2"
      ]
     },
     "execution_count": 15,
     "metadata": {},
     "output_type": "execute_result"
    }
   ],
   "source": [
    "df_view('ratings')"
   ]
  },
  {
   "cell_type": "code",
   "execution_count": 16,
   "metadata": {},
   "outputs": [
    {
     "name": "stdout",
     "output_type": "stream",
     "text": [
      "Количество дубликатов в таблице - 0\n",
      "Общая информация о датасете\n",
      "<class 'pandas.core.frame.DataFrame'>\n",
      "RangeIndex: 6456 entries, 0 to 6455\n",
      "Data columns (total 4 columns):\n",
      "rating_id    6456 non-null int64\n",
      "book_id      6456 non-null int64\n",
      "username     6456 non-null object\n",
      "rating       6456 non-null int64\n",
      "dtypes: int64(3), object(1)\n",
      "memory usage: 201.9+ KB\n"
     ]
    },
    {
     "data": {
      "text/plain": [
       "None"
      ]
     },
     "metadata": {},
     "output_type": "display_data"
    }
   ],
   "source": [
    "df_viewing(ratings)"
   ]
  },
  {
   "cell_type": "markdown",
   "metadata": {},
   "source": [
    "- 4 столбца; \n",
    "- 6456 строк; \n",
    "- Пропуски данных и дубликаты отсутствуют."
   ]
  },
  {
   "cell_type": "markdown",
   "metadata": {},
   "source": [
    "<font color='green'>Обзоры на книги</font>"
   ]
  },
  {
   "cell_type": "code",
   "execution_count": 17,
   "metadata": {},
   "outputs": [],
   "source": [
    "query_5 = ''' SELECT *\n",
    "            FROM reviews\n",
    "        '''\n",
    "reviews = pd.io.sql.read_sql(query_5, con = engine) "
   ]
  },
  {
   "cell_type": "code",
   "execution_count": 18,
   "metadata": {},
   "outputs": [
    {
     "data": {
      "text/html": [
       "<div>\n",
       "<style scoped>\n",
       "    .dataframe tbody tr th:only-of-type {\n",
       "        vertical-align: middle;\n",
       "    }\n",
       "\n",
       "    .dataframe tbody tr th {\n",
       "        vertical-align: top;\n",
       "    }\n",
       "\n",
       "    .dataframe thead th {\n",
       "        text-align: right;\n",
       "    }\n",
       "</style>\n",
       "<table border=\"1\" class=\"dataframe\">\n",
       "  <thead>\n",
       "    <tr style=\"text-align: right;\">\n",
       "      <th></th>\n",
       "      <th>review_id</th>\n",
       "      <th>book_id</th>\n",
       "      <th>username</th>\n",
       "      <th>text</th>\n",
       "    </tr>\n",
       "  </thead>\n",
       "  <tbody>\n",
       "    <tr>\n",
       "      <td>0</td>\n",
       "      <td>1</td>\n",
       "      <td>1</td>\n",
       "      <td>brandtandrea</td>\n",
       "      <td>Mention society tell send professor analysis. ...</td>\n",
       "    </tr>\n",
       "    <tr>\n",
       "      <td>1</td>\n",
       "      <td>2</td>\n",
       "      <td>1</td>\n",
       "      <td>ryanfranco</td>\n",
       "      <td>Foot glass pretty audience hit themselves. Amo...</td>\n",
       "    </tr>\n",
       "  </tbody>\n",
       "</table>\n",
       "</div>"
      ],
      "text/plain": [
       "   review_id  book_id      username  \\\n",
       "0          1        1  brandtandrea   \n",
       "1          2        1    ryanfranco   \n",
       "\n",
       "                                                text  \n",
       "0  Mention society tell send professor analysis. ...  \n",
       "1  Foot glass pretty audience hit themselves. Amo...  "
      ]
     },
     "execution_count": 18,
     "metadata": {},
     "output_type": "execute_result"
    }
   ],
   "source": [
    "df_view('reviews')"
   ]
  },
  {
   "cell_type": "code",
   "execution_count": 19,
   "metadata": {},
   "outputs": [
    {
     "name": "stdout",
     "output_type": "stream",
     "text": [
      "Количество дубликатов в таблице - 0\n",
      "Общая информация о датасете\n",
      "<class 'pandas.core.frame.DataFrame'>\n",
      "RangeIndex: 2793 entries, 0 to 2792\n",
      "Data columns (total 4 columns):\n",
      "review_id    2793 non-null int64\n",
      "book_id      2793 non-null int64\n",
      "username     2793 non-null object\n",
      "text         2793 non-null object\n",
      "dtypes: int64(2), object(2)\n",
      "memory usage: 87.4+ KB\n"
     ]
    },
    {
     "data": {
      "text/plain": [
       "None"
      ]
     },
     "metadata": {},
     "output_type": "display_data"
    }
   ],
   "source": [
    "df_viewing(reviews)"
   ]
  },
  {
   "cell_type": "markdown",
   "metadata": {},
   "source": [
    "- 4 столбца; \n",
    "- 2793 строки; \n",
    "- Пропуски данных и дубликаты отсутствуют."
   ]
  },
  {
   "cell_type": "markdown",
   "metadata": {},
   "source": [
    "Данные корректны, могу приступать к анализу"
   ]
  },
  {
   "cell_type": "markdown",
   "metadata": {},
   "source": [
    "# <a id=\"analyz\"></a><font style=\"background-color: Cyan; color=black\">2. Анализ базы данных</font> #"
   ]
  },
  {
   "cell_type": "markdown",
   "metadata": {},
   "source": [
    "<font color='blue'>**Сколько книг вышло после 1 января 2000 года**</font>"
   ]
  },
  {
   "cell_type": "code",
   "execution_count": 20,
   "metadata": {},
   "outputs": [
    {
     "data": {
      "text/html": [
       "<div>\n",
       "<style scoped>\n",
       "    .dataframe tbody tr th:only-of-type {\n",
       "        vertical-align: middle;\n",
       "    }\n",
       "\n",
       "    .dataframe tbody tr th {\n",
       "        vertical-align: top;\n",
       "    }\n",
       "\n",
       "    .dataframe thead th {\n",
       "        text-align: right;\n",
       "    }\n",
       "</style>\n",
       "<table border=\"1\" class=\"dataframe\">\n",
       "  <thead>\n",
       "    <tr style=\"text-align: right;\">\n",
       "      <th></th>\n",
       "      <th>cnt_book_2000</th>\n",
       "    </tr>\n",
       "  </thead>\n",
       "  <tbody>\n",
       "    <tr>\n",
       "      <td>0</td>\n",
       "      <td>819</td>\n",
       "    </tr>\n",
       "  </tbody>\n",
       "</table>\n",
       "</div>"
      ],
      "text/plain": [
       "   cnt_book_2000\n",
       "0            819"
      ]
     },
     "execution_count": 20,
     "metadata": {},
     "output_type": "execute_result"
    }
   ],
   "source": [
    "query_6 = ''' SELECT\n",
    "                    COUNT(book_id) AS cnt_book_2000\n",
    "                FROM\n",
    "                    books\n",
    "                WHERE\n",
    "                   publication_date > '2000-01-01' \n",
    "            '''\n",
    "over_2000 = pd.io.sql.read_sql(query_6, con = engine) \n",
    "\n",
    "over_2000"
   ]
  },
  {
   "cell_type": "markdown",
   "metadata": {},
   "source": [
    "После 01.01.2000 выпущено **819 книг**."
   ]
  },
  {
   "cell_type": "markdown",
   "metadata": {},
   "source": [
    "<font color='blue'>**Для каждой книги количество обзоров и среднюю оценку**</font>"
   ]
  },
  {
   "cell_type": "code",
   "execution_count": 21,
   "metadata": {},
   "outputs": [
    {
     "data": {
      "text/html": [
       "<div>\n",
       "<style scoped>\n",
       "    .dataframe tbody tr th:only-of-type {\n",
       "        vertical-align: middle;\n",
       "    }\n",
       "\n",
       "    .dataframe tbody tr th {\n",
       "        vertical-align: top;\n",
       "    }\n",
       "\n",
       "    .dataframe thead th {\n",
       "        text-align: right;\n",
       "    }\n",
       "</style>\n",
       "<table border=\"1\" class=\"dataframe\">\n",
       "  <thead>\n",
       "    <tr style=\"text-align: right;\">\n",
       "      <th></th>\n",
       "      <th>author</th>\n",
       "      <th>title</th>\n",
       "      <th>cnt_reviews_book</th>\n",
       "      <th>median_rating</th>\n",
       "    </tr>\n",
       "  </thead>\n",
       "  <tbody>\n",
       "    <tr>\n",
       "      <td>0</td>\n",
       "      <td>A.S. Byatt</td>\n",
       "      <td>Possession</td>\n",
       "      <td>3</td>\n",
       "      <td>4.000000</td>\n",
       "    </tr>\n",
       "    <tr>\n",
       "      <td>1</td>\n",
       "      <td>Aesop/Laura Harris/Laura Gibbs</td>\n",
       "      <td>Aesop's Fables</td>\n",
       "      <td>2</td>\n",
       "      <td>3.750000</td>\n",
       "    </tr>\n",
       "    <tr>\n",
       "      <td>2</td>\n",
       "      <td>Agatha Christie</td>\n",
       "      <td>A Murder Is Announced (Miss Marple  #5)</td>\n",
       "      <td>2</td>\n",
       "      <td>4.000000</td>\n",
       "    </tr>\n",
       "    <tr>\n",
       "      <td>3</td>\n",
       "      <td>Agatha Christie</td>\n",
       "      <td>And Then There Were None</td>\n",
       "      <td>5</td>\n",
       "      <td>4.454545</td>\n",
       "    </tr>\n",
       "    <tr>\n",
       "      <td>4</td>\n",
       "      <td>Agatha Christie</td>\n",
       "      <td>Evil Under the Sun (Hercule Poirot  #24)</td>\n",
       "      <td>2</td>\n",
       "      <td>5.000000</td>\n",
       "    </tr>\n",
       "    <tr>\n",
       "      <td>...</td>\n",
       "      <td>...</td>\n",
       "      <td>...</td>\n",
       "      <td>...</td>\n",
       "      <td>...</td>\n",
       "    </tr>\n",
       "    <tr>\n",
       "      <td>994</td>\n",
       "      <td>Zadie Smith</td>\n",
       "      <td>On Beauty</td>\n",
       "      <td>2</td>\n",
       "      <td>4.500000</td>\n",
       "    </tr>\n",
       "    <tr>\n",
       "      <td>995</td>\n",
       "      <td>Zadie Smith</td>\n",
       "      <td>White Teeth</td>\n",
       "      <td>4</td>\n",
       "      <td>3.750000</td>\n",
       "    </tr>\n",
       "    <tr>\n",
       "      <td>996</td>\n",
       "      <td>Zilpha Keatley Snyder</td>\n",
       "      <td>The Egypt Game</td>\n",
       "      <td>2</td>\n",
       "      <td>4.000000</td>\n",
       "    </tr>\n",
       "    <tr>\n",
       "      <td>997</td>\n",
       "      <td>Zora Neale Hurston</td>\n",
       "      <td>Their Eyes Were Watching God</td>\n",
       "      <td>4</td>\n",
       "      <td>4.125000</td>\n",
       "    </tr>\n",
       "    <tr>\n",
       "      <td>998</td>\n",
       "      <td>Åsne Seierstad/Ingrid Christopherson</td>\n",
       "      <td>The Bookseller of Kabul</td>\n",
       "      <td>2</td>\n",
       "      <td>4.000000</td>\n",
       "    </tr>\n",
       "  </tbody>\n",
       "</table>\n",
       "<p>999 rows × 4 columns</p>\n",
       "</div>"
      ],
      "text/plain": [
       "                                   author  \\\n",
       "0                              A.S. Byatt   \n",
       "1          Aesop/Laura Harris/Laura Gibbs   \n",
       "2                         Agatha Christie   \n",
       "3                         Agatha Christie   \n",
       "4                         Agatha Christie   \n",
       "..                                    ...   \n",
       "994                           Zadie Smith   \n",
       "995                           Zadie Smith   \n",
       "996                 Zilpha Keatley Snyder   \n",
       "997                    Zora Neale Hurston   \n",
       "998  Åsne Seierstad/Ingrid Christopherson   \n",
       "\n",
       "                                        title  cnt_reviews_book  median_rating  \n",
       "0                                  Possession                 3       4.000000  \n",
       "1                              Aesop's Fables                 2       3.750000  \n",
       "2     A Murder Is Announced (Miss Marple  #5)                 2       4.000000  \n",
       "3                    And Then There Were None                 5       4.454545  \n",
       "4    Evil Under the Sun (Hercule Poirot  #24)                 2       5.000000  \n",
       "..                                        ...               ...            ...  \n",
       "994                                 On Beauty                 2       4.500000  \n",
       "995                               White Teeth                 4       3.750000  \n",
       "996                            The Egypt Game                 2       4.000000  \n",
       "997              Their Eyes Were Watching God                 4       4.125000  \n",
       "998                   The Bookseller of Kabul                 2       4.000000  \n",
       "\n",
       "[999 rows x 4 columns]"
      ]
     },
     "execution_count": 21,
     "metadata": {},
     "output_type": "execute_result"
    }
   ],
   "source": [
    "query_7 = ''' SELECT\n",
    "                authors.author AS author, \n",
    "                books.title, \n",
    "                COUNT(DISTINCT reviews.review_id) AS cnt_reviews_book, \n",
    "                AVG (ratings.rating) AS median_rating  \n",
    "            FROM\n",
    "                authors\n",
    "                INNER JOIN books ON books.author_id  = authors.author_id\n",
    "                LEFT JOIN reviews ON books.book_id  = reviews.book_id\n",
    "                INNER JOIN ratings ON books.book_id  = ratings.book_id\n",
    "            \n",
    "            GROUP BY\n",
    "                  authors.author, \n",
    "                books.title \n",
    "            ORDER BY \n",
    "                authors.author \n",
    "            '''\n",
    "overview = pd.io.sql.read_sql(query_7, con = engine) \n",
    "\n",
    "overview"
   ]
  },
  {
   "cell_type": "markdown",
   "metadata": {},
   "source": [
    "*999 строк* - таблица содержит на <font color='red'>1 книгу меньше, чем по данным о книгах</font>. \n",
    "\n",
    "Дополнительно посмотрю на число книг по *ID и по названию*."
   ]
  },
  {
   "cell_type": "code",
   "execution_count": 22,
   "metadata": {},
   "outputs": [
    {
     "data": {
      "text/html": [
       "<div>\n",
       "<style scoped>\n",
       "    .dataframe tbody tr th:only-of-type {\n",
       "        vertical-align: middle;\n",
       "    }\n",
       "\n",
       "    .dataframe tbody tr th {\n",
       "        vertical-align: top;\n",
       "    }\n",
       "\n",
       "    .dataframe thead th {\n",
       "        text-align: right;\n",
       "    }\n",
       "</style>\n",
       "<table border=\"1\" class=\"dataframe\">\n",
       "  <thead>\n",
       "    <tr style=\"text-align: right;\">\n",
       "      <th></th>\n",
       "      <th>count</th>\n",
       "    </tr>\n",
       "  </thead>\n",
       "  <tbody>\n",
       "    <tr>\n",
       "      <td>0</td>\n",
       "      <td>1000</td>\n",
       "    </tr>\n",
       "  </tbody>\n",
       "</table>\n",
       "</div>"
      ],
      "text/plain": [
       "   count\n",
       "0   1000"
      ]
     },
     "execution_count": 22,
     "metadata": {},
     "output_type": "execute_result"
    }
   ],
   "source": [
    "query_7_1 = ''' SELECT\n",
    "                COUNT(DISTINCT books.book_id) \n",
    "                \n",
    "            FROM\n",
    "                books\n",
    "            '''\n",
    "id = pd.io.sql.read_sql(query_7_1, con = engine) \n",
    "\n",
    "id"
   ]
  },
  {
   "cell_type": "code",
   "execution_count": 23,
   "metadata": {},
   "outputs": [
    {
     "data": {
      "text/html": [
       "<div>\n",
       "<style scoped>\n",
       "    .dataframe tbody tr th:only-of-type {\n",
       "        vertical-align: middle;\n",
       "    }\n",
       "\n",
       "    .dataframe tbody tr th {\n",
       "        vertical-align: top;\n",
       "    }\n",
       "\n",
       "    .dataframe thead th {\n",
       "        text-align: right;\n",
       "    }\n",
       "</style>\n",
       "<table border=\"1\" class=\"dataframe\">\n",
       "  <thead>\n",
       "    <tr style=\"text-align: right;\">\n",
       "      <th></th>\n",
       "      <th>count</th>\n",
       "    </tr>\n",
       "  </thead>\n",
       "  <tbody>\n",
       "    <tr>\n",
       "      <td>0</td>\n",
       "      <td>999</td>\n",
       "    </tr>\n",
       "  </tbody>\n",
       "</table>\n",
       "</div>"
      ],
      "text/plain": [
       "   count\n",
       "0    999"
      ]
     },
     "execution_count": 23,
     "metadata": {},
     "output_type": "execute_result"
    }
   ],
   "source": [
    "query_7_1 = ''' SELECT\n",
    "                COUNT(DISTINCT books.title) \n",
    "                \n",
    "            FROM\n",
    "                books\n",
    "            '''\n",
    "title = pd.io.sql.read_sql(query_7_1, con = engine) \n",
    "\n",
    "title"
   ]
  },
  {
   "cell_type": "markdown",
   "metadata": {},
   "source": [
    "В данных присутствует **одна книга с одинаковым названием, но разными ID.**"
   ]
  },
  {
   "cell_type": "markdown",
   "metadata": {},
   "source": [
    "В итоге получил **999 книг с отзывами (от 2 до 1120 на книгу) и средними оценками от 1,5 до 5**."
   ]
  },
  {
   "cell_type": "markdown",
   "metadata": {},
   "source": [
    "<font color='blue'>**Издательство, которое выпустило наибольшее число книг толще 50 страниц (исключаю брошюры)**</font>"
   ]
  },
  {
   "cell_type": "code",
   "execution_count": 24,
   "metadata": {},
   "outputs": [
    {
     "data": {
      "text/html": [
       "<div>\n",
       "<style scoped>\n",
       "    .dataframe tbody tr th:only-of-type {\n",
       "        vertical-align: middle;\n",
       "    }\n",
       "\n",
       "    .dataframe tbody tr th {\n",
       "        vertical-align: top;\n",
       "    }\n",
       "\n",
       "    .dataframe thead th {\n",
       "        text-align: right;\n",
       "    }\n",
       "</style>\n",
       "<table border=\"1\" class=\"dataframe\">\n",
       "  <thead>\n",
       "    <tr style=\"text-align: right;\">\n",
       "      <th></th>\n",
       "      <th>publishing_house</th>\n",
       "      <th>cnt_real_book</th>\n",
       "    </tr>\n",
       "  </thead>\n",
       "  <tbody>\n",
       "    <tr>\n",
       "      <td>0</td>\n",
       "      <td>Penguin Books</td>\n",
       "      <td>42</td>\n",
       "    </tr>\n",
       "    <tr>\n",
       "      <td>1</td>\n",
       "      <td>Vintage</td>\n",
       "      <td>31</td>\n",
       "    </tr>\n",
       "    <tr>\n",
       "      <td>2</td>\n",
       "      <td>Grand Central Publishing</td>\n",
       "      <td>25</td>\n",
       "    </tr>\n",
       "    <tr>\n",
       "      <td>3</td>\n",
       "      <td>Penguin Classics</td>\n",
       "      <td>24</td>\n",
       "    </tr>\n",
       "    <tr>\n",
       "      <td>4</td>\n",
       "      <td>Bantam</td>\n",
       "      <td>19</td>\n",
       "    </tr>\n",
       "    <tr>\n",
       "      <td>...</td>\n",
       "      <td>...</td>\n",
       "      <td>...</td>\n",
       "    </tr>\n",
       "    <tr>\n",
       "      <td>329</td>\n",
       "      <td>Random House Anchor</td>\n",
       "      <td>1</td>\n",
       "    </tr>\n",
       "    <tr>\n",
       "      <td>330</td>\n",
       "      <td>Random House Audio Publishing Group</td>\n",
       "      <td>1</td>\n",
       "    </tr>\n",
       "    <tr>\n",
       "      <td>331</td>\n",
       "      <td>Random House Large Print Publishing</td>\n",
       "      <td>1</td>\n",
       "    </tr>\n",
       "    <tr>\n",
       "      <td>332</td>\n",
       "      <td>Random House Trade</td>\n",
       "      <td>1</td>\n",
       "    </tr>\n",
       "    <tr>\n",
       "      <td>333</td>\n",
       "      <td>Random House Vintage</td>\n",
       "      <td>1</td>\n",
       "    </tr>\n",
       "  </tbody>\n",
       "</table>\n",
       "<p>334 rows × 2 columns</p>\n",
       "</div>"
      ],
      "text/plain": [
       "                        publishing_house  cnt_real_book\n",
       "0                          Penguin Books             42\n",
       "1                                Vintage             31\n",
       "2               Grand Central Publishing             25\n",
       "3                       Penguin Classics             24\n",
       "4                                 Bantam             19\n",
       "..                                   ...            ...\n",
       "329                  Random House Anchor              1\n",
       "330  Random House Audio Publishing Group              1\n",
       "331  Random House Large Print Publishing              1\n",
       "332                   Random House Trade              1\n",
       "333                 Random House Vintage              1\n",
       "\n",
       "[334 rows x 2 columns]"
      ]
     },
     "execution_count": 24,
     "metadata": {},
     "output_type": "execute_result"
    }
   ],
   "source": [
    "query_8 = ''' SELECT\n",
    "                publishers.publisher AS publishing_house, \n",
    "                COUNT(DISTINCT books.book_id) AS cnt_real_book \n",
    "            FROM\n",
    "                publishers\n",
    "                INNER JOIN books ON books.publisher_id  = publishers.publisher_id\n",
    "            WHERE\n",
    "                books.num_pages > 50\n",
    "            GROUP BY\n",
    "                  publishers.publisher \n",
    "            ORDER BY  \n",
    "                cnt_real_book DESC\n",
    "            '''\n",
    "publishing_house = pd.io.sql.read_sql(query_8, con = engine) \n",
    "\n",
    "publishing_house"
   ]
  },
  {
   "cell_type": "markdown",
   "metadata": {},
   "source": [
    "**\"Penguin Books\"** - издательство, выпустившее наибольшее количество книг (42), толщиной более 50 страниц."
   ]
  },
  {
   "cell_type": "markdown",
   "metadata": {},
   "source": [
    "<font color='blue'>**Автор с самой высокой средней оценкой книг (учитываются только книги с 50 и более оценками)**</font>"
   ]
  },
  {
   "cell_type": "code",
   "execution_count": 25,
   "metadata": {},
   "outputs": [
    {
     "data": {
      "text/html": [
       "<div>\n",
       "<style scoped>\n",
       "    .dataframe tbody tr th:only-of-type {\n",
       "        vertical-align: middle;\n",
       "    }\n",
       "\n",
       "    .dataframe tbody tr th {\n",
       "        vertical-align: top;\n",
       "    }\n",
       "\n",
       "    .dataframe thead th {\n",
       "        text-align: right;\n",
       "    }\n",
       "</style>\n",
       "<table border=\"1\" class=\"dataframe\">\n",
       "  <thead>\n",
       "    <tr style=\"text-align: right;\">\n",
       "      <th></th>\n",
       "      <th>author</th>\n",
       "      <th>cnt_rating_book</th>\n",
       "      <th>median_rating</th>\n",
       "    </tr>\n",
       "  </thead>\n",
       "  <tbody>\n",
       "    <tr>\n",
       "      <td>0</td>\n",
       "      <td>J.K. Rowling/Mary GrandPré</td>\n",
       "      <td>312</td>\n",
       "      <td>4.288462</td>\n",
       "    </tr>\n",
       "    <tr>\n",
       "      <td>1</td>\n",
       "      <td>Agatha Christie</td>\n",
       "      <td>53</td>\n",
       "      <td>4.283019</td>\n",
       "    </tr>\n",
       "    <tr>\n",
       "      <td>2</td>\n",
       "      <td>Markus Zusak/Cao Xuân Việt Khương</td>\n",
       "      <td>53</td>\n",
       "      <td>4.264151</td>\n",
       "    </tr>\n",
       "    <tr>\n",
       "      <td>3</td>\n",
       "      <td>J.R.R. Tolkien</td>\n",
       "      <td>166</td>\n",
       "      <td>4.240964</td>\n",
       "    </tr>\n",
       "    <tr>\n",
       "      <td>4</td>\n",
       "      <td>Roald Dahl/Quentin Blake</td>\n",
       "      <td>62</td>\n",
       "      <td>4.209677</td>\n",
       "    </tr>\n",
       "    <tr>\n",
       "      <td>5</td>\n",
       "      <td>Louisa May Alcott</td>\n",
       "      <td>54</td>\n",
       "      <td>4.203704</td>\n",
       "    </tr>\n",
       "    <tr>\n",
       "      <td>6</td>\n",
       "      <td>Rick Riordan</td>\n",
       "      <td>84</td>\n",
       "      <td>4.130952</td>\n",
       "    </tr>\n",
       "    <tr>\n",
       "      <td>7</td>\n",
       "      <td>Arthur Golden</td>\n",
       "      <td>56</td>\n",
       "      <td>4.107143</td>\n",
       "    </tr>\n",
       "    <tr>\n",
       "      <td>8</td>\n",
       "      <td>Stephen King</td>\n",
       "      <td>106</td>\n",
       "      <td>4.009434</td>\n",
       "    </tr>\n",
       "    <tr>\n",
       "      <td>9</td>\n",
       "      <td>John Grisham</td>\n",
       "      <td>70</td>\n",
       "      <td>3.971429</td>\n",
       "    </tr>\n",
       "    <tr>\n",
       "      <td>10</td>\n",
       "      <td>William Golding</td>\n",
       "      <td>71</td>\n",
       "      <td>3.901408</td>\n",
       "    </tr>\n",
       "    <tr>\n",
       "      <td>11</td>\n",
       "      <td>Nicholas Sparks</td>\n",
       "      <td>111</td>\n",
       "      <td>3.882883</td>\n",
       "    </tr>\n",
       "    <tr>\n",
       "      <td>12</td>\n",
       "      <td>Jodi Picoult</td>\n",
       "      <td>76</td>\n",
       "      <td>3.881579</td>\n",
       "    </tr>\n",
       "    <tr>\n",
       "      <td>13</td>\n",
       "      <td>Sophie Kinsella</td>\n",
       "      <td>57</td>\n",
       "      <td>3.877193</td>\n",
       "    </tr>\n",
       "    <tr>\n",
       "      <td>14</td>\n",
       "      <td>James Patterson</td>\n",
       "      <td>64</td>\n",
       "      <td>3.859375</td>\n",
       "    </tr>\n",
       "    <tr>\n",
       "      <td>15</td>\n",
       "      <td>J.D. Salinger</td>\n",
       "      <td>98</td>\n",
       "      <td>3.846939</td>\n",
       "    </tr>\n",
       "    <tr>\n",
       "      <td>16</td>\n",
       "      <td>Paulo Coelho/Alan R. Clarke/Özdemir İnce</td>\n",
       "      <td>57</td>\n",
       "      <td>3.789474</td>\n",
       "    </tr>\n",
       "    <tr>\n",
       "      <td>17</td>\n",
       "      <td>William Shakespeare/Paul Werstine/Barbara A. M...</td>\n",
       "      <td>66</td>\n",
       "      <td>3.787879</td>\n",
       "    </tr>\n",
       "    <tr>\n",
       "      <td>18</td>\n",
       "      <td>Dan Brown</td>\n",
       "      <td>143</td>\n",
       "      <td>3.741259</td>\n",
       "    </tr>\n",
       "    <tr>\n",
       "      <td>19</td>\n",
       "      <td>Lois Lowry</td>\n",
       "      <td>65</td>\n",
       "      <td>3.738462</td>\n",
       "    </tr>\n",
       "    <tr>\n",
       "      <td>20</td>\n",
       "      <td>George Orwell/Boris Grabnar/Peter Škerl</td>\n",
       "      <td>74</td>\n",
       "      <td>3.729730</td>\n",
       "    </tr>\n",
       "    <tr>\n",
       "      <td>21</td>\n",
       "      <td>Stephenie Meyer</td>\n",
       "      <td>160</td>\n",
       "      <td>3.662500</td>\n",
       "    </tr>\n",
       "    <tr>\n",
       "      <td>22</td>\n",
       "      <td>John Steinbeck</td>\n",
       "      <td>73</td>\n",
       "      <td>3.643836</td>\n",
       "    </tr>\n",
       "  </tbody>\n",
       "</table>\n",
       "</div>"
      ],
      "text/plain": [
       "                                               author  cnt_rating_book  \\\n",
       "0                          J.K. Rowling/Mary GrandPré              312   \n",
       "1                                     Agatha Christie               53   \n",
       "2                   Markus Zusak/Cao Xuân Việt Khương               53   \n",
       "3                                      J.R.R. Tolkien              166   \n",
       "4                            Roald Dahl/Quentin Blake               62   \n",
       "5                                   Louisa May Alcott               54   \n",
       "6                                        Rick Riordan               84   \n",
       "7                                       Arthur Golden               56   \n",
       "8                                        Stephen King              106   \n",
       "9                                        John Grisham               70   \n",
       "10                                    William Golding               71   \n",
       "11                                    Nicholas Sparks              111   \n",
       "12                                       Jodi Picoult               76   \n",
       "13                                    Sophie Kinsella               57   \n",
       "14                                    James Patterson               64   \n",
       "15                                      J.D. Salinger               98   \n",
       "16           Paulo Coelho/Alan R. Clarke/Özdemir İnce               57   \n",
       "17  William Shakespeare/Paul Werstine/Barbara A. M...               66   \n",
       "18                                          Dan Brown              143   \n",
       "19                                         Lois Lowry               65   \n",
       "20            George Orwell/Boris Grabnar/Peter Škerl               74   \n",
       "21                                    Stephenie Meyer              160   \n",
       "22                                     John Steinbeck               73   \n",
       "\n",
       "    median_rating  \n",
       "0        4.288462  \n",
       "1        4.283019  \n",
       "2        4.264151  \n",
       "3        4.240964  \n",
       "4        4.209677  \n",
       "5        4.203704  \n",
       "6        4.130952  \n",
       "7        4.107143  \n",
       "8        4.009434  \n",
       "9        3.971429  \n",
       "10       3.901408  \n",
       "11       3.882883  \n",
       "12       3.881579  \n",
       "13       3.877193  \n",
       "14       3.859375  \n",
       "15       3.846939  \n",
       "16       3.789474  \n",
       "17       3.787879  \n",
       "18       3.741259  \n",
       "19       3.738462  \n",
       "20       3.729730  \n",
       "21       3.662500  \n",
       "22       3.643836  "
      ]
     },
     "execution_count": 25,
     "metadata": {},
     "output_type": "execute_result"
    }
   ],
   "source": [
    "query_9 = ''' SELECT\n",
    "                authors.author AS author, \n",
    "                COUNT(DISTINCT ratings.rating_id) AS cnt_rating_book,\n",
    "                AVG (ratings.rating) AS median_rating  \n",
    "            FROM\n",
    "                authors\n",
    "                INNER JOIN books ON books.author_id  = authors.author_id\n",
    "                INNER JOIN ratings ON books.book_id  = ratings.book_id\n",
    "            GROUP BY\n",
    "                  authors.author \n",
    "            HAVING\n",
    "                COUNT(DISTINCT ratings.rating_id) > 50\n",
    "            ORDER BY \n",
    "                median_rating DESC\n",
    "            '''\n",
    "author_rating = pd.io.sql.read_sql(query_9, con = engine) \n",
    "\n",
    "author_rating"
   ]
  },
  {
   "cell_type": "markdown",
   "metadata": {},
   "source": [
    "**Джоан Роулинг совместно с Мэри Гранпрэ** - автор с самым высоким рейтингом, оцененный более, чем 50 пользователями"
   ]
  },
  {
   "cell_type": "markdown",
   "metadata": {},
   "source": [
    "<font color='blue'>**Среднее количество обзоров от пользователей, которые поставили больше 50 оценок**</font>"
   ]
  },
  {
   "cell_type": "code",
   "execution_count": 26,
   "metadata": {},
   "outputs": [
    {
     "data": {
      "text/html": [
       "<div>\n",
       "<style scoped>\n",
       "    .dataframe tbody tr th:only-of-type {\n",
       "        vertical-align: middle;\n",
       "    }\n",
       "\n",
       "    .dataframe tbody tr th {\n",
       "        vertical-align: top;\n",
       "    }\n",
       "\n",
       "    .dataframe thead th {\n",
       "        text-align: right;\n",
       "    }\n",
       "</style>\n",
       "<table border=\"1\" class=\"dataframe\">\n",
       "  <thead>\n",
       "    <tr style=\"text-align: right;\">\n",
       "      <th></th>\n",
       "      <th>avg_review</th>\n",
       "    </tr>\n",
       "  </thead>\n",
       "  <tbody>\n",
       "    <tr>\n",
       "      <td>0</td>\n",
       "      <td>24.333333</td>\n",
       "    </tr>\n",
       "  </tbody>\n",
       "</table>\n",
       "</div>"
      ],
      "text/plain": [
       "   avg_review\n",
       "0   24.333333"
      ]
     },
     "execution_count": 26,
     "metadata": {},
     "output_type": "execute_result"
    }
   ],
   "source": [
    "query_10 = ''' SELECT\n",
    "                AVG(cnt_review)  as avg_review\n",
    "            FROM \n",
    "            (SELECT\n",
    "                reviews.username AS username, \n",
    "                COUNT(DISTINCT ratings.rating_id) AS cnt_rating_book,\n",
    "                COUNT (DISTINCT reviews.review_id) AS cnt_review  \n",
    "            FROM\n",
    "                reviews\n",
    "                INNER JOIN ratings ON ratings.username  = reviews.username\n",
    "            GROUP BY\n",
    "                  reviews.username \n",
    "            HAVING\n",
    "                COUNT(DISTINCT ratings.rating_id) > 50\n",
    "            )\n",
    "            AS avg_review \n",
    "            '''\n",
    "median_review  = pd.io.sql.read_sql(query_10, con = engine) \n",
    "\n",
    "median_review"
   ]
  },
  {
   "cell_type": "markdown",
   "metadata": {},
   "source": [
    "**24 обзора** - Среднее количество от пользователей, которые поставили больше 50 оценок."
   ]
  },
  {
   "cell_type": "code",
   "execution_count": null,
   "metadata": {},
   "outputs": [],
   "source": []
  },
  {
   "cell_type": "markdown",
   "metadata": {},
   "source": [
    "# <a id=\"vyvod\"></a><font style=\"background-color: Cyan; color=black\">3. Общий вывод</font> #"
   ]
  },
  {
   "cell_type": "markdown",
   "metadata": {},
   "source": [
    "Мною был проведен анализ баз данных сервиса для чтения книг - *5 таблиц с информацией о книгах, авторах, издательствах, пользовательких оценках и обзорах.*\n",
    "\n",
    "Был обнаружен **один дубль** - одинаковые названия, разные ID.\n",
    "\n",
    "По запланированным задачам получены следующие результаты:\n",
    "- После 01.01.2000 выпущено **819 книг**;\n",
    "- **999 книг с отзывами (от 2 до 1120 на книгу) и средними оценками от 1,5 до 5**;\n",
    "- **\"Penguin Books\"** - издательство, выпустившее наибольшее количество книг (42), толщиной более 50 страниц; на втором месте издательство *Vintage* (31), на третьем - *Grand Central Publishing* (25)\n",
    "- **Джоан Роулинг совместно с Мэри Гранпрэ** - автор с самым высоким рейтингом (4,289), оцененный более, чем 50 пользователями; Также в топ-5 входят:\n",
    "    - Агата Кристи - 4,283\n",
    "    - Маркус Зусак - 4,264\n",
    "    - Джон Рональд Руэл Толкин - 4,241\n",
    "    - Роальд Даль - 4,21\n",
    "- **24 обзора** - Среднее количество от пользователей, которые поставили больше 50 оценок."
   ]
  }
 ],
 "metadata": {
  "ExecuteTimeLog": [
   {
    "duration": 887,
    "start_time": "2021-12-20T14:03:05.427Z"
   },
   {
    "duration": 55,
    "start_time": "2021-12-20T14:04:53.647Z"
   },
   {
    "duration": 6,
    "start_time": "2021-12-20T14:07:27.347Z"
   },
   {
    "duration": 484,
    "start_time": "2021-12-20T14:07:41.656Z"
   },
   {
    "duration": 282,
    "start_time": "2021-12-20T14:09:09.254Z"
   },
   {
    "duration": 982,
    "start_time": "2021-12-20T14:09:40.005Z"
   },
   {
    "duration": 72,
    "start_time": "2021-12-20T14:09:42.766Z"
   },
   {
    "duration": 467,
    "start_time": "2021-12-20T14:09:44.347Z"
   },
   {
    "duration": 4,
    "start_time": "2021-12-20T14:10:03.502Z"
   },
   {
    "duration": 529,
    "start_time": "2021-12-20T14:10:04.505Z"
   },
   {
    "duration": 4,
    "start_time": "2021-12-20T14:12:46.881Z"
   },
   {
    "duration": 5,
    "start_time": "2021-12-20T14:12:48.741Z"
   },
   {
    "duration": 1158,
    "start_time": "2021-12-20T14:12:53.885Z"
   },
   {
    "duration": 71,
    "start_time": "2021-12-20T14:12:55.046Z"
   },
   {
    "duration": 4,
    "start_time": "2021-12-20T14:12:55.121Z"
   },
   {
    "duration": 556,
    "start_time": "2021-12-20T14:12:55.128Z"
   },
   {
    "duration": 5,
    "start_time": "2021-12-20T14:12:55.687Z"
   },
   {
    "duration": 6,
    "start_time": "2021-12-20T14:12:55.695Z"
   },
   {
    "duration": 795,
    "start_time": "2021-12-20T14:13:07.144Z"
   },
   {
    "duration": 278,
    "start_time": "2021-12-20T14:13:19.674Z"
   },
   {
    "duration": 248,
    "start_time": "2021-12-20T14:14:03.008Z"
   },
   {
    "duration": 252,
    "start_time": "2021-12-20T14:14:22.027Z"
   },
   {
    "duration": 19,
    "start_time": "2021-12-20T14:14:39.692Z"
   },
   {
    "duration": 6,
    "start_time": "2021-12-20T14:14:44.850Z"
   },
   {
    "duration": 885,
    "start_time": "2021-12-20T14:15:18.153Z"
   },
   {
    "duration": 50,
    "start_time": "2021-12-20T14:15:19.041Z"
   },
   {
    "duration": 4,
    "start_time": "2021-12-20T14:15:19.098Z"
   },
   {
    "duration": 452,
    "start_time": "2021-12-20T14:15:19.105Z"
   },
   {
    "duration": -138,
    "start_time": "2021-12-20T14:15:19.698Z"
   },
   {
    "duration": -140,
    "start_time": "2021-12-20T14:15:19.701Z"
   },
   {
    "duration": -146,
    "start_time": "2021-12-20T14:15:19.708Z"
   },
   {
    "duration": 5,
    "start_time": "2021-12-20T14:15:44.668Z"
   },
   {
    "duration": 393,
    "start_time": "2021-12-20T14:16:07.781Z"
   },
   {
    "duration": 246,
    "start_time": "2021-12-20T14:17:17.840Z"
   },
   {
    "duration": 71,
    "start_time": "2021-12-20T14:17:42.041Z"
   },
   {
    "duration": 846,
    "start_time": "2021-12-20T14:18:43.845Z"
   },
   {
    "duration": 43,
    "start_time": "2021-12-20T14:18:45.646Z"
   },
   {
    "duration": 217,
    "start_time": "2021-12-20T14:18:48.418Z"
   },
   {
    "duration": 61,
    "start_time": "2021-12-20T14:18:49.421Z"
   },
   {
    "duration": 92,
    "start_time": "2021-12-20T14:18:50.987Z"
   },
   {
    "duration": 122,
    "start_time": "2021-12-20T14:18:54.117Z"
   },
   {
    "duration": 92,
    "start_time": "2021-12-20T14:18:55.574Z"
   },
   {
    "duration": 5,
    "start_time": "2021-12-20T14:19:17.237Z"
   },
   {
    "duration": 4,
    "start_time": "2021-12-20T14:19:27.133Z"
   },
   {
    "duration": 70,
    "start_time": "2021-12-20T14:19:29.811Z"
   },
   {
    "duration": 15,
    "start_time": "2021-12-20T14:19:41.586Z"
   },
   {
    "duration": 887,
    "start_time": "2021-12-20T14:22:33.277Z"
   },
   {
    "duration": 50,
    "start_time": "2021-12-20T14:22:34.167Z"
   },
   {
    "duration": 6,
    "start_time": "2021-12-20T14:22:34.228Z"
   },
   {
    "duration": 16,
    "start_time": "2021-12-20T14:22:34.237Z"
   },
   {
    "duration": 203,
    "start_time": "2021-12-20T14:22:34.256Z"
   },
   {
    "duration": 80,
    "start_time": "2021-12-20T14:22:34.463Z"
   },
   {
    "duration": 18,
    "start_time": "2021-12-20T14:22:34.550Z"
   },
   {
    "duration": 55,
    "start_time": "2021-12-20T14:22:34.572Z"
   },
   {
    "duration": 57,
    "start_time": "2021-12-20T14:22:34.629Z"
   },
   {
    "duration": 16,
    "start_time": "2021-12-20T14:22:34.688Z"
   },
   {
    "duration": 52,
    "start_time": "2021-12-20T14:22:34.706Z"
   },
   {
    "duration": 55,
    "start_time": "2021-12-20T14:22:34.760Z"
   },
   {
    "duration": 22,
    "start_time": "2021-12-20T14:22:34.818Z"
   },
   {
    "duration": 92,
    "start_time": "2021-12-20T14:22:34.843Z"
   },
   {
    "duration": 58,
    "start_time": "2021-12-20T14:22:34.938Z"
   },
   {
    "duration": 14,
    "start_time": "2021-12-20T14:22:34.998Z"
   },
   {
    "duration": 68,
    "start_time": "2021-12-20T14:22:35.014Z"
   },
   {
    "duration": 58,
    "start_time": "2021-12-20T14:22:35.084Z"
   },
   {
    "duration": 14,
    "start_time": "2021-12-20T14:22:35.144Z"
   },
   {
    "duration": 57,
    "start_time": "2021-12-20T14:28:14.360Z"
   },
   {
    "duration": 108,
    "start_time": "2021-12-20T14:29:31.252Z"
   },
   {
    "duration": 56,
    "start_time": "2021-12-20T14:30:47.285Z"
   },
   {
    "duration": 56,
    "start_time": "2021-12-20T14:31:02.461Z"
   },
   {
    "duration": 62,
    "start_time": "2021-12-20T14:33:24.497Z"
   },
   {
    "duration": 65,
    "start_time": "2021-12-20T14:35:20.901Z"
   },
   {
    "duration": 90,
    "start_time": "2021-12-20T14:37:08.061Z"
   },
   {
    "duration": 913,
    "start_time": "2021-12-20T14:45:10.034Z"
   },
   {
    "duration": 39,
    "start_time": "2021-12-20T14:45:10.950Z"
   },
   {
    "duration": 4,
    "start_time": "2021-12-20T14:45:10.992Z"
   },
   {
    "duration": 6,
    "start_time": "2021-12-20T14:45:10.999Z"
   },
   {
    "duration": 236,
    "start_time": "2021-12-20T14:45:11.007Z"
   },
   {
    "duration": 88,
    "start_time": "2021-12-20T14:45:11.245Z"
   },
   {
    "duration": 16,
    "start_time": "2021-12-20T14:45:11.338Z"
   },
   {
    "duration": 57,
    "start_time": "2021-12-20T14:45:11.357Z"
   },
   {
    "duration": 61,
    "start_time": "2021-12-20T14:45:11.418Z"
   },
   {
    "duration": 12,
    "start_time": "2021-12-20T14:45:11.482Z"
   },
   {
    "duration": 60,
    "start_time": "2021-12-20T14:45:11.497Z"
   },
   {
    "duration": 66,
    "start_time": "2021-12-20T14:45:11.560Z"
   },
   {
    "duration": 15,
    "start_time": "2021-12-20T14:45:11.629Z"
   },
   {
    "duration": 96,
    "start_time": "2021-12-20T14:45:11.646Z"
   },
   {
    "duration": 60,
    "start_time": "2021-12-20T14:45:11.745Z"
   },
   {
    "duration": 14,
    "start_time": "2021-12-20T14:45:11.808Z"
   },
   {
    "duration": 71,
    "start_time": "2021-12-20T14:45:11.825Z"
   },
   {
    "duration": 65,
    "start_time": "2021-12-20T14:45:11.899Z"
   },
   {
    "duration": 13,
    "start_time": "2021-12-20T14:45:11.967Z"
   },
   {
    "duration": 66,
    "start_time": "2021-12-20T14:45:11.982Z"
   },
   {
    "duration": 98,
    "start_time": "2021-12-20T14:45:12.050Z"
   },
   {
    "duration": 58,
    "start_time": "2021-12-20T14:45:12.151Z"
   },
   {
    "duration": 58,
    "start_time": "2021-12-20T14:45:12.213Z"
   },
   {
    "duration": 67,
    "start_time": "2021-12-20T14:45:12.274Z"
   },
   {
    "duration": 71,
    "start_time": "2021-12-20T14:45:12.344Z"
   },
   {
    "duration": 100,
    "start_time": "2021-12-20T14:45:12.420Z"
   },
   {
    "duration": 870,
    "start_time": "2021-12-20T17:22:03.447Z"
   },
   {
    "duration": 53,
    "start_time": "2021-12-20T17:22:04.319Z"
   },
   {
    "duration": 5,
    "start_time": "2021-12-20T17:22:04.376Z"
   },
   {
    "duration": 10,
    "start_time": "2021-12-20T17:22:04.384Z"
   },
   {
    "duration": 50,
    "start_time": "2021-12-20T17:22:04.396Z"
   },
   {
    "duration": 27,
    "start_time": "2021-12-20T17:22:04.448Z"
   },
   {
    "duration": 14,
    "start_time": "2021-12-20T17:22:04.477Z"
   },
   {
    "duration": 12,
    "start_time": "2021-12-20T17:22:04.496Z"
   },
   {
    "duration": 13,
    "start_time": "2021-12-20T17:22:04.511Z"
   },
   {
    "duration": 43,
    "start_time": "2021-12-20T17:22:04.526Z"
   },
   {
    "duration": 12,
    "start_time": "2021-12-20T17:22:04.572Z"
   },
   {
    "duration": 17,
    "start_time": "2021-12-20T17:22:04.587Z"
   },
   {
    "duration": 12,
    "start_time": "2021-12-20T17:22:04.607Z"
   },
   {
    "duration": 29,
    "start_time": "2021-12-20T17:22:04.660Z"
   },
   {
    "duration": 16,
    "start_time": "2021-12-20T17:22:04.692Z"
   },
   {
    "duration": 14,
    "start_time": "2021-12-20T17:22:04.711Z"
   },
   {
    "duration": 48,
    "start_time": "2021-12-20T17:22:04.727Z"
   },
   {
    "duration": 16,
    "start_time": "2021-12-20T17:22:04.779Z"
   },
   {
    "duration": 16,
    "start_time": "2021-12-20T17:22:04.797Z"
   },
   {
    "duration": 52,
    "start_time": "2021-12-20T17:22:04.815Z"
   },
   {
    "duration": 48,
    "start_time": "2021-12-20T17:22:04.869Z"
   },
   {
    "duration": 16,
    "start_time": "2021-12-20T17:22:04.919Z"
   },
   {
    "duration": 21,
    "start_time": "2021-12-20T17:22:04.939Z"
   },
   {
    "duration": 24,
    "start_time": "2021-12-20T17:22:04.963Z"
   },
   {
    "duration": 27,
    "start_time": "2021-12-20T17:22:04.990Z"
   },
   {
    "duration": 48,
    "start_time": "2021-12-20T17:22:05.020Z"
   },
   {
    "duration": 6,
    "start_time": "2021-12-20T17:22:24.336Z"
   },
   {
    "duration": 102,
    "start_time": "2021-12-20T17:24:17.929Z"
   }
  ],
  "kernelspec": {
   "display_name": "Python 3 (ipykernel)",
   "language": "python",
   "name": "python3"
  },
  "language_info": {
   "codemirror_mode": {
    "name": "ipython",
    "version": 3
   },
   "file_extension": ".py",
   "mimetype": "text/x-python",
   "name": "python",
   "nbconvert_exporter": "python",
   "pygments_lexer": "ipython3",
   "version": "3.9.7"
  },
  "toc": {
   "base_numbering": 1,
   "nav_menu": {},
   "number_sections": true,
   "sideBar": true,
   "skip_h1_title": true,
   "title_cell": "Table of Contents",
   "title_sidebar": "Contents",
   "toc_cell": false,
   "toc_position": {},
   "toc_section_display": true,
   "toc_window_display": false
  }
 },
 "nbformat": 4,
 "nbformat_minor": 2
}
