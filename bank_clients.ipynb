{
 "cells": [
  {
   "cell_type": "markdown",
   "metadata": {},
   "source": [
    "## Исследование надёжности заёмщиков\n",
    "\n",
    "Заказчик — кредитный отдел банка. Нужно разобраться, влияет ли семейное положение и количество детей клиента на факт погашения кредита в срок. Входные данные от банка — статистика о платёжеспособности клиентов.\n",
    "\n",
    "Результаты исследования будут учтены при построении модели **кредитного скоринга** — специальной системы, которая оценивает способность потенциального заёмщика вернуть кредит банку."
   ]
  },
  {
   "cell_type": "markdown",
   "metadata": {},
   "source": [
    "### Шаг 1. Откройте файл с данными и изучите общую информацию. "
   ]
  },
  {
   "cell_type": "code",
   "execution_count": 1,
   "metadata": {},
   "outputs": [
    {
     "name": "stdout",
     "output_type": "stream",
     "text": [
      "<class 'pandas.core.frame.DataFrame'>\n",
      "RangeIndex: 21525 entries, 0 to 21524\n",
      "Data columns (total 12 columns):\n",
      "children            21525 non-null int64\n",
      "days_employed       19351 non-null float64\n",
      "dob_years           21525 non-null int64\n",
      "education           21525 non-null object\n",
      "education_id        21525 non-null int64\n",
      "family_status       21525 non-null object\n",
      "family_status_id    21525 non-null int64\n",
      "gender              21525 non-null object\n",
      "income_type         21525 non-null object\n",
      "debt                21525 non-null int64\n",
      "total_income        19351 non-null float64\n",
      "purpose             21525 non-null object\n",
      "dtypes: float64(2), int64(5), object(5)\n",
      "memory usage: 2.0+ MB\n"
     ]
    }
   ],
   "source": [
    "from pymystem3 import Mystem\n",
    "m = Mystem()\n",
    "\n",
    "import pandas as pd\n",
    "df = pd.read_csv('/datasets/data.csv')\n",
    "df['dob_years'].unique()\n",
    "df.isnull().sum()\n",
    "df.count()\n",
    "df.info()\n",
    "#print(df.loc[df['dob_years'] == 0].count())"
   ]
  },
  {
   "cell_type": "markdown",
   "metadata": {},
   "source": [
    "### Вывод"
   ]
  },
  {
   "cell_type": "markdown",
   "metadata": {},
   "source": [
    "В нашей таблице присутствуют отрицательные значения трудового стажа; образование местами введено курсивом; трудовой стаж в днях записан не целыми числами; где-то значения трудового стажа вызывают подозрения количеством дней; цели кредитов одинаковы, но записаны по разному; местами возраст равен 0; есть пропуски"
   ]
  },
  {
   "cell_type": "markdown",
   "metadata": {},
   "source": [
    "### Шаг 2. Предобработка данных"
   ]
  },
  {
   "cell_type": "markdown",
   "metadata": {},
   "source": [
    "### Обработка пропусков"
   ]
  },
  {
   "cell_type": "code",
   "execution_count": 2,
   "metadata": {},
   "outputs": [
    {
     "name": "stdout",
     "output_type": "stream",
     "text": [
      "<class 'pandas.core.frame.DataFrame'>\n",
      "RangeIndex: 21525 entries, 0 to 21524\n",
      "Data columns (total 12 columns):\n",
      "children            21525 non-null int64\n",
      "days_employed       21525 non-null float64\n",
      "dob_years           21525 non-null int64\n",
      "education           21525 non-null object\n",
      "education_id        21525 non-null int64\n",
      "family_status       21525 non-null object\n",
      "family_status_id    21525 non-null int64\n",
      "gender              21525 non-null object\n",
      "income_type         21525 non-null object\n",
      "debt                21525 non-null int64\n",
      "total_income        21525 non-null float64\n",
      "purpose             21525 non-null object\n",
      "dtypes: float64(2), int64(5), object(5)\n",
      "memory usage: 2.0+ MB\n"
     ]
    }
   ],
   "source": [
    "#df.info()\n",
    "#df.isnull().sum()\n",
    "# Пропуски в данных и совпадение количества пропусков в днях и доходе могут означать, что человек никогда не работал и не\n",
    "# получал доход, либо ошибся в вводе и пропустил данные, либо безработный. \n",
    "# Количество пропусков - 2174.Это чуть больше 10% от общего количества.\n",
    "# Такое количество данных удалять нельзя, поэтому заменю из медианами по каждой категории профессии.\n",
    "df['days_employed'] = abs(df['days_employed'])\n",
    "df['children']=abs(df['children'])\n",
    "df['income_type'].unique()\n",
    "for row in df['income_type'].unique():\n",
    "    median_income = df.loc[df['income_type'] == row, 'total_income'].median()\n",
    "    df.loc[(df['income_type'] == row)&(df['total_income'].isna()), 'total_income'] = median_income\n",
    "for row in df['income_type'].unique():\n",
    "    median_income = df.loc[df['income_type'] == row, 'days_employed'].median()\n",
    "    df.loc[(df['income_type'] == row)&(df['days_employed'].isna()), 'days_employed'] = median_income\n",
    "df.info()\n",
    "# df['dob_years'].unique()\n",
    "# print(df.loc[df['dob_years'] == 0].count())\n",
    "# пропуски также есть и в годах, но их всего 101, что составляет слишком малый %, их можно не изменять"
   ]
  },
  {
   "cell_type": "markdown",
   "metadata": {},
   "source": [
    "### Вывод"
   ]
  },
  {
   "cell_type": "markdown",
   "metadata": {},
   "source": [
    "Теперь у нас в таблице нет пропусков. По этим данным можно анализировать.\n",
    "Медианные значения были выбраны мной по каждой категории профессии. Такой подход я выбрал, чтобы не терять людей, которые ошиблись, но и доход их был сопоставим их должности или статусу (безработный, пенсионер)"
   ]
  },
  {
   "cell_type": "markdown",
   "metadata": {},
   "source": [
    "### Замена типа данных"
   ]
  },
  {
   "cell_type": "code",
   "execution_count": 3,
   "metadata": {},
   "outputs": [
    {
     "name": "stdout",
     "output_type": "stream",
     "text": [
      "children            3858\n",
      "days_employed       3858\n",
      "dob_years           3858\n",
      "education           3858\n",
      "education_id        3858\n",
      "family_status       3858\n",
      "family_status_id    3858\n",
      "gender              3858\n",
      "income_type         3858\n",
      "debt                3858\n",
      "total_income        3858\n",
      "purpose             3858\n",
      "years               3858\n",
      "dtype: int64\n"
     ]
    }
   ],
   "source": [
    "df['education']=df['education'].str.lower()\n",
    "df['family_status']=df['family_status'].str.lower()\n",
    "df['purpose']=df['purpose'].str.lower()\n",
    "df.loc[df['gender'] == 'XNA', 'gender'] = 'M'\n",
    "def employed_years(days):\n",
    "    if 0 <= days <= 2190:\n",
    "        return 'без опыта'\n",
    "    if 2190 < days <= 21900:\n",
    "        return 'опытный'\n",
    "    if days > 21900:\n",
    "        return 'подозрительные данные'\n",
    "df['years'] = df['days_employed'].apply(employed_years)\n",
    "print(df.loc[df['years'] == 'подозрительные данные'].count())"
   ]
  },
  {
   "cell_type": "code",
   "execution_count": 19,
   "metadata": {},
   "outputs": [
    {
     "name": "stdout",
     "output_type": "stream",
     "text": [
      "Empty DataFrame\n",
      "Columns: [children, days_employed, dob_years, education, education_id, family_status, family_status_id, gender, income_type, debt, total_income, purpose, years, purpose_lem, purpose_one]\n",
      "Index: []\n",
      "children            0\n",
      "days_employed       0\n",
      "dob_years           0\n",
      "education           0\n",
      "education_id        0\n",
      "family_status       0\n",
      "family_status_id    0\n",
      "gender              0\n",
      "income_type         0\n",
      "debt                0\n",
      "total_income        0\n",
      "purpose             0\n",
      "years               0\n",
      "purpose_lem         0\n",
      "purpose_one         0\n",
      "dtype: int64\n"
     ]
    }
   ],
   "source": [
    "def employed_years(days):\n",
    "    if 0 <= days <= 2190:\n",
    "        return 'без опыта'\n",
    "    if 2190 < days <= 21900:\n",
    "        return 'опытный'\n",
    "    if days > 21900:\n",
    "        return 'подозрительные данные'\n",
    "df['years'] = df['days_employed'].apply(employed_years)\n",
    "print(df.loc[df['years'] == 'подозрительные данные'])\n",
    "df.loc[df['days_employed'] > 300000, 'days_employed'] /= 24\n",
    "df['days_employed']=df['days_employed'].astype('int64')\n",
    "df['total_income']=df['total_income'].astype('int64')\n",
    "print(df.loc[df['years'] == 'подозрительные данные'].count())"
   ]
  },
  {
   "cell_type": "code",
   "execution_count": 5,
   "metadata": {},
   "outputs": [],
   "source": [
    "# Я узнал, что происходит с данными по дням в стаже.За основу взял расчет, что есть люди с опытом работы менее полугода (180 дней) \n",
    "# или \"без опыта\", от полугода до 60 лет трудового стажа или \"опытный\" и более 60 лет - \"подозрительные данные\". \n",
    "# Методом count() я узнал, что подозрительных данных по этой группе 3858.\n",
    "# Скорее всего данные были указаны просто некорректно. Была выбрана неправильная мера измерения.\n",
    "# Секунды и минуты дали бы мне слишком маленькие значения, значит буду пробовать часы (разделить на 24)\n",
    "# Данный расчет позволил мне получить подходящие значения у пенсионеров с \"подозрительными данными\""
   ]
  },
  {
   "cell_type": "code",
   "execution_count": 6,
   "metadata": {},
   "outputs": [
    {
     "data": {
      "text/plain": [
       "array([ 1,  0,  3,  2,  4, 20,  5])"
      ]
     },
     "execution_count": 6,
     "metadata": {},
     "output_type": "execute_result"
    }
   ],
   "source": [
    "df['children'].unique()"
   ]
  },
  {
   "cell_type": "code",
   "execution_count": 7,
   "metadata": {},
   "outputs": [
    {
     "name": "stdout",
     "output_type": "stream",
     "text": [
      "       children  days_employed  dob_years education  education_id  \\\n",
      "606          20            880         21   среднее             1   \n",
      "720          20            855         44   среднее             1   \n",
      "1074         20           3310         56   среднее             1   \n",
      "2510         20           2714         59    высшее             0   \n",
      "2941         20           2161          0   среднее             1   \n",
      "...         ...            ...        ...       ...           ...   \n",
      "21008        20           1240         40   среднее             1   \n",
      "21325        20            601         37   среднее             1   \n",
      "21390        20           1547         53   среднее             1   \n",
      "21404        20            494         52   среднее             1   \n",
      "21491        20            173         27   среднее             1   \n",
      "\n",
      "         family_status  family_status_id gender income_type  debt  \\\n",
      "606    женат / замужем                 0      M   компаньон     0   \n",
      "720    женат / замужем                 0      F   компаньон     0   \n",
      "1074   женат / замужем                 0      F   сотрудник     1   \n",
      "2510    вдовец / вдова                 2      F   сотрудник     0   \n",
      "2941   женат / замужем                 0      F   сотрудник     0   \n",
      "...                ...               ...    ...         ...   ...   \n",
      "21008  женат / замужем                 0      F   сотрудник     1   \n",
      "21325  женат / замужем                 0      F   компаньон     0   \n",
      "21390  женат / замужем                 0      M   компаньон     0   \n",
      "21404  женат / замужем                 0      M   компаньон     0   \n",
      "21491  женат / замужем                 0      F   сотрудник     0   \n",
      "\n",
      "       total_income                                purpose      years  \n",
      "606          145334                          покупка жилья  без опыта  \n",
      "720          112998                   покупка недвижимости  без опыта  \n",
      "1074         229518                  получение образования    опытный  \n",
      "2510         264474  операции с коммерческой недвижимостью    опытный  \n",
      "2941         199739                  на покупку автомобиля  без опыта  \n",
      "...             ...                                    ...        ...  \n",
      "21008        133524                        свой автомобиль  без опыта  \n",
      "21325        102986                 профильное образование  без опыта  \n",
      "21390        172357             покупка жилой недвижимости  без опыта  \n",
      "21404        156629        операции со своей недвижимостью  без опыта  \n",
      "21491        155520     на покупку подержанного автомобиля  без опыта  \n",
      "\n",
      "[76 rows x 13 columns]\n",
      "children            76\n",
      "days_employed       76\n",
      "dob_years           76\n",
      "education           76\n",
      "education_id        76\n",
      "family_status       76\n",
      "family_status_id    76\n",
      "gender              76\n",
      "income_type         76\n",
      "debt                76\n",
      "total_income        76\n",
      "purpose             76\n",
      "years               76\n",
      "dtype: int64\n"
     ]
    }
   ],
   "source": [
    "print(df.loc[df['children'] == 20])\n",
    "print(df.loc[df['children'] == 20].count())"
   ]
  },
  {
   "cell_type": "code",
   "execution_count": 8,
   "metadata": {},
   "outputs": [],
   "source": [
    "# 20 детей встречается у 76 человек, однако среди них много людей с небольшим возрастом\n",
    "# Скорее всего была допущена ошибка при заполнении\n",
    "# так как 76 человек - ничтожно малая часть от общей таблицы, то заменим все данные по 20 детям на 2"
   ]
  },
  {
   "cell_type": "code",
   "execution_count": 9,
   "metadata": {},
   "outputs": [
    {
     "data": {
      "text/plain": [
       "array([1, 0, 3, 2, 4, 5])"
      ]
     },
     "execution_count": 9,
     "metadata": {},
     "output_type": "execute_result"
    }
   ],
   "source": [
    "df['children']=df['children'].replace(20, 2)\n",
    "df['children'].unique()"
   ]
  },
  {
   "cell_type": "code",
   "execution_count": 10,
   "metadata": {},
   "outputs": [],
   "source": [
    "# Подозрительные данные отсутствуют"
   ]
  },
  {
   "cell_type": "markdown",
   "metadata": {},
   "source": [
    "### Вывод"
   ]
  },
  {
   "cell_type": "markdown",
   "metadata": {},
   "source": [
    "Теперь все подозрительные данные отсутствуют. Наша таблица готова к анализу"
   ]
  },
  {
   "cell_type": "markdown",
   "metadata": {},
   "source": [
    "### Обработка дубликатов"
   ]
  },
  {
   "cell_type": "code",
   "execution_count": 11,
   "metadata": {},
   "outputs": [
    {
     "name": "stdout",
     "output_type": "stream",
     "text": [
      "Количество дублей до удаления: 71\n"
     ]
    }
   ],
   "source": [
    "print('Количество дублей до удаления:', df.duplicated().sum())"
   ]
  },
  {
   "cell_type": "code",
   "execution_count": 12,
   "metadata": {},
   "outputs": [
    {
     "name": "stdout",
     "output_type": "stream",
     "text": [
      "Количество дублей после удаления: 0\n"
     ]
    }
   ],
   "source": [
    "df.drop_duplicates(inplace=True)\n",
    "print('Количество дублей после удаления:', df.duplicated().sum())"
   ]
  },
  {
   "cell_type": "markdown",
   "metadata": {},
   "source": [
    "### Вывод"
   ]
  },
  {
   "cell_type": "markdown",
   "metadata": {},
   "source": [
    "Удалив дубликаты, получили таблицу для анализа. Такие дубликаты могли возникнуть, если человек подавал два заявления на кредит."
   ]
  },
  {
   "cell_type": "markdown",
   "metadata": {},
   "source": [
    "### Лемматизация"
   ]
  },
  {
   "cell_type": "code",
   "execution_count": 13,
   "metadata": {},
   "outputs": [
    {
     "name": "stdout",
     "output_type": "stream",
     "text": [
      "['недвижимость' 'автомобиль' 'образование' 'свадьба' 'бизнес']\n"
     ]
    },
    {
     "data": {
      "text/plain": [
       "Counter({'покупка жилье\\n': 646,\n",
       "         'приобретение автомобиль\\n': 461,\n",
       "         'дополнительный образование\\n': 460,\n",
       "         'сыграть свадьба\\n': 765,\n",
       "         'операция с жилье\\n': 652,\n",
       "         'образование\\n': 447,\n",
       "         'на проведение свадьба\\n': 768,\n",
       "         'покупка жилье для семья\\n': 638,\n",
       "         'покупка недвижимость\\n': 621,\n",
       "         'покупка коммерческий недвижимость\\n': 661,\n",
       "         'покупка жилой недвижимость\\n': 606,\n",
       "         'строительство собственный недвижимость\\n': 635,\n",
       "         'недвижимость\\n': 633,\n",
       "         'строительство недвижимость\\n': 619,\n",
       "         'на покупка подержать автомобиль\\n': 478,\n",
       "         'на покупка свой автомобиль\\n': 505,\n",
       "         'операция с коммерческий недвижимость\\n': 650,\n",
       "         'строительство жилой недвижимость\\n': 624,\n",
       "         'жилье\\n': 646,\n",
       "         'операция со свой недвижимость\\n': 627,\n",
       "         'автомобиль\\n': 972,\n",
       "         'заниматься образование\\n': 408,\n",
       "         'сделка с подержанный автомобиль\\n': 486,\n",
       "         'получение образование\\n': 442,\n",
       "         'свадьба\\n': 791,\n",
       "         'получение дополнительный образование\\n': 446,\n",
       "         'покупка свой жилье\\n': 620,\n",
       "         'операция с недвижимость\\n': 675,\n",
       "         'получение высокий образование\\n': 426,\n",
       "         'свой автомобиль\\n': 478,\n",
       "         'сделка с автомобиль\\n': 455,\n",
       "         'профильный образование\\n': 436,\n",
       "         'высокий образование\\n': 452,\n",
       "         'покупка жилье для сдача\\n': 651,\n",
       "         'на покупка автомобиль\\n': 471,\n",
       "         'ремонт жилье\\n': 607,\n",
       "         'заниматься высокий образование\\n': 496})"
      ]
     },
     "metadata": {},
     "output_type": "display_data"
    }
   ],
   "source": [
    "def purpose_lem(purpose):\n",
    "    lemmas = ''.join(m.lemmatize(purpose))\n",
    "    return lemmas \n",
    "df['purpose_lem'] = df['purpose'].apply(purpose_lem)\n",
    "#print(df['purpose_lem'].unique())\n",
    "def purpose_one(purpose):\n",
    "    if 'жилье' in purpose:\n",
    "        return 'недвижимость'\n",
    "    if 'автомобиль' in purpose:\n",
    "        return 'автомобиль'\n",
    "    if 'свадьба' in purpose:\n",
    "        return 'свадьба'\n",
    "    if 'образование' in purpose:\n",
    "        return 'образование'\n",
    "    if 'недвижимость' and 'коммерческий' in purpose:\n",
    "        return 'бизнес'\n",
    "    if 'коммерческий' or 'недвижимость' in purpose:\n",
    "        return 'недвижимость'\n",
    "df['purpose_one'] = df['purpose_lem'].apply(purpose_one)\n",
    "print(df['purpose_one'].unique())\n",
    "from collections import Counter\n",
    "display(Counter(df['purpose_lem']))"
   ]
  },
  {
   "cell_type": "markdown",
   "metadata": {},
   "source": [
    "### Вывод"
   ]
  },
  {
   "cell_type": "markdown",
   "metadata": {},
   "source": [
    "Применив лемматизацию, я выяснил основные потребности для получения кредита: авто, жилье, свадьба, образование, покупка коммерческой недвижимости (бизнес)"
   ]
  },
  {
   "cell_type": "markdown",
   "metadata": {},
   "source": [
    "### Категоризация данных"
   ]
  },
  {
   "cell_type": "code",
   "execution_count": 14,
   "metadata": {
    "scrolled": true
   },
   "outputs": [],
   "source": [
    "income=pd.cut(df['total_income'], [0, 90000, 135000, 195000, 2300000])\n",
    "dob=pd.cut(df['dob_years'], [18, 35, 100])"
   ]
  },
  {
   "cell_type": "markdown",
   "metadata": {},
   "source": [
    "Вывод"
   ]
  },
  {
   "cell_type": "markdown",
   "metadata": {},
   "source": [
    "Максимальный доход - 2265604\n",
    "Минимальный - 20667\n",
    "Задаю основные диапазоны, по которым буду проводить исследования: возраст (от 18 до 35, потому что молодые, от 35 и выше); доход (до 90000 - маленький, до 135000 - средний, до 195000 - выше среднего, свыше 195000 - богатые). Это поможет узнать: для чего берут кредит, есть ли просрочки, как дети и семейное положение влияют на кредит."
   ]
  },
  {
   "cell_type": "markdown",
   "metadata": {},
   "source": [
    "### Шаг 3. Ответьте на вопросы"
   ]
  },
  {
   "cell_type": "markdown",
   "metadata": {},
   "source": [
    "Есть ли зависимость между наличием детей и возвратом кредита в срок?"
   ]
  },
  {
   "cell_type": "code",
   "execution_count": 15,
   "metadata": {},
   "outputs": [
    {
     "name": "stdout",
     "output_type": "stream",
     "text": [
      "children\n",
      "0    7.543822\n",
      "1    9.165808\n",
      "2    9.492481\n",
      "3    8.181818\n",
      "4    9.756098\n",
      "5    0.000000\n",
      "Name: debt, dtype: float64\n"
     ]
    },
    {
     "data": {
      "text/html": [
       "<div>\n",
       "<style scoped>\n",
       "    .dataframe tbody tr th:only-of-type {\n",
       "        vertical-align: middle;\n",
       "    }\n",
       "\n",
       "    .dataframe tbody tr th {\n",
       "        vertical-align: top;\n",
       "    }\n",
       "\n",
       "    .dataframe thead th {\n",
       "        text-align: right;\n",
       "    }\n",
       "</style>\n",
       "<table border=\"1\" class=\"dataframe\">\n",
       "  <thead>\n",
       "    <tr style=\"text-align: right;\">\n",
       "      <th></th>\n",
       "      <th>children</th>\n",
       "      <th>count</th>\n",
       "      <th>sum</th>\n",
       "      <th>ratio</th>\n",
       "    </tr>\n",
       "  </thead>\n",
       "  <tbody>\n",
       "    <tr>\n",
       "      <td>0</td>\n",
       "      <td>0</td>\n",
       "      <td>13028.0</td>\n",
       "      <td>1063.0</td>\n",
       "      <td>8.159349</td>\n",
       "    </tr>\n",
       "    <tr>\n",
       "      <td>1</td>\n",
       "      <td>1</td>\n",
       "      <td>4410.0</td>\n",
       "      <td>445.0</td>\n",
       "      <td>10.090703</td>\n",
       "    </tr>\n",
       "    <tr>\n",
       "      <td>2</td>\n",
       "      <td>2</td>\n",
       "      <td>1926.0</td>\n",
       "      <td>202.0</td>\n",
       "      <td>10.488058</td>\n",
       "    </tr>\n",
       "    <tr>\n",
       "      <td>3</td>\n",
       "      <td>3</td>\n",
       "      <td>303.0</td>\n",
       "      <td>27.0</td>\n",
       "      <td>8.910891</td>\n",
       "    </tr>\n",
       "    <tr>\n",
       "      <td>4</td>\n",
       "      <td>4</td>\n",
       "      <td>37.0</td>\n",
       "      <td>4.0</td>\n",
       "      <td>10.810811</td>\n",
       "    </tr>\n",
       "    <tr>\n",
       "      <td>5</td>\n",
       "      <td>5</td>\n",
       "      <td>9.0</td>\n",
       "      <td>NaN</td>\n",
       "      <td>NaN</td>\n",
       "    </tr>\n",
       "  </tbody>\n",
       "</table>\n",
       "</div>"
      ],
      "text/plain": [
       "   children    count     sum      ratio\n",
       "0         0  13028.0  1063.0   8.159349\n",
       "1         1   4410.0   445.0  10.090703\n",
       "2         2   1926.0   202.0  10.488058\n",
       "3         3    303.0    27.0   8.910891\n",
       "4         4     37.0     4.0  10.810811\n",
       "5         5      9.0     NaN        NaN"
      ]
     },
     "metadata": {},
     "output_type": "display_data"
    }
   ],
   "source": [
    "children_group_count = df.groupby('children')['debt'].count()\n",
    "children_group_sum = df.groupby('children')['debt'].sum()\n",
    "# общее количество просрочек по каждой категории детей\n",
    "children_sum_count = children_group_sum / children_group_count * 100\n",
    "print(children_sum_count)\n",
    "# группируем по количеству детей в просрочках по кредиту,\n",
    "# находим сумму всех просрочек и смотрим их отношение к количеству просрочек\n",
    "\n",
    "df_pivot_children = df.pivot_table(index = ['children'], columns = ['debt'], values = ['purpose_one'], aggfunc='count')\n",
    "df_pivot_children = df_pivot_children.reset_index()\n",
    "df_pivot_children.columns = ['children', 'count', 'sum']\n",
    "df_pivot_children['ratio'] = df_pivot_children['sum'] / df_pivot_children['count'] * 100\n",
    "display(df_pivot_children)"
   ]
  },
  {
   "cell_type": "markdown",
   "metadata": {},
   "source": [
    "### Вывод"
   ]
  },
  {
   "cell_type": "markdown",
   "metadata": {},
   "source": [
    "Количество детей влияет на количество кредитов. Чем меньше детей - тем больше берут кредиты.\n",
    "Вероятность просрочки выше у людей с детьми, чем у бездетных."
   ]
  },
  {
   "cell_type": "markdown",
   "metadata": {},
   "source": [
    "- Есть ли зависимость между семейным положением и возвратом кредита в срок?"
   ]
  },
  {
   "cell_type": "code",
   "execution_count": 16,
   "metadata": {},
   "outputs": [
    {
     "name": "stdout",
     "output_type": "stream",
     "text": [
      "family_status\n",
      "в разводе                7.112971\n",
      "вдовец / вдова           6.569343\n",
      "гражданский брак         9.347145\n",
      "женат / замужем          7.545182\n",
      "не женат / не замужем    9.750890\n",
      "Name: debt, dtype: float64\n"
     ]
    },
    {
     "data": {
      "text/html": [
       "<div>\n",
       "<style scoped>\n",
       "    .dataframe tbody tr th:only-of-type {\n",
       "        vertical-align: middle;\n",
       "    }\n",
       "\n",
       "    .dataframe tbody tr th {\n",
       "        vertical-align: top;\n",
       "    }\n",
       "\n",
       "    .dataframe thead th {\n",
       "        text-align: right;\n",
       "    }\n",
       "</style>\n",
       "<table border=\"1\" class=\"dataframe\">\n",
       "  <thead>\n",
       "    <tr style=\"text-align: right;\">\n",
       "      <th></th>\n",
       "      <th>family_status</th>\n",
       "      <th>count</th>\n",
       "      <th>sum</th>\n",
       "      <th>ratio</th>\n",
       "    </tr>\n",
       "  </thead>\n",
       "  <tbody>\n",
       "    <tr>\n",
       "      <td>0</td>\n",
       "      <td>в разводе</td>\n",
       "      <td>1110</td>\n",
       "      <td>85</td>\n",
       "      <td>7.657658</td>\n",
       "    </tr>\n",
       "    <tr>\n",
       "      <td>1</td>\n",
       "      <td>вдовец / вдова</td>\n",
       "      <td>896</td>\n",
       "      <td>63</td>\n",
       "      <td>7.031250</td>\n",
       "    </tr>\n",
       "    <tr>\n",
       "      <td>2</td>\n",
       "      <td>гражданский брак</td>\n",
       "      <td>3763</td>\n",
       "      <td>388</td>\n",
       "      <td>10.310922</td>\n",
       "    </tr>\n",
       "    <tr>\n",
       "      <td>3</td>\n",
       "      <td>женат / замужем</td>\n",
       "      <td>11408</td>\n",
       "      <td>931</td>\n",
       "      <td>8.160940</td>\n",
       "    </tr>\n",
       "    <tr>\n",
       "      <td>4</td>\n",
       "      <td>не женат / не замужем</td>\n",
       "      <td>2536</td>\n",
       "      <td>274</td>\n",
       "      <td>10.804416</td>\n",
       "    </tr>\n",
       "  </tbody>\n",
       "</table>\n",
       "</div>"
      ],
      "text/plain": [
       "           family_status  count  sum      ratio\n",
       "0              в разводе   1110   85   7.657658\n",
       "1         вдовец / вдова    896   63   7.031250\n",
       "2       гражданский брак   3763  388  10.310922\n",
       "3        женат / замужем  11408  931   8.160940\n",
       "4  не женат / не замужем   2536  274  10.804416"
      ]
     },
     "metadata": {},
     "output_type": "display_data"
    }
   ],
   "source": [
    "family_status_sum_count = df.groupby('family_status')['debt'].sum() / df.groupby('family_status')['debt'].count() * 100\n",
    "print(family_status_sum_count)\n",
    "\n",
    "df_pivot_family = df.pivot_table(index=['family_status'], columns=['debt'], values=['total_income'], aggfunc='count')\n",
    "df_pivot_family = df_pivot_family.reset_index()\n",
    "df_pivot_family.columns = ['family_status', 'count', 'sum']\n",
    "df_pivot_family['ratio'] = df_pivot_family['sum'] / df_pivot_family['count'] * 100\n",
    "display(df_pivot_family)"
   ]
  },
  {
   "cell_type": "markdown",
   "metadata": {},
   "source": [
    "### Вывод"
   ]
  },
  {
   "cell_type": "markdown",
   "metadata": {},
   "source": [
    "Хуже всего кредиты отдают люди, находящиеся в гражданском браке, и не женат/не замужем. Скорее всего это связано с тем, что люди подвержены частым изменениям в жизни (появление пары). "
   ]
  },
  {
   "cell_type": "markdown",
   "metadata": {},
   "source": [
    "- Есть ли зависимость между уровнем дохода и возвратом кредита в срок?"
   ]
  },
  {
   "cell_type": "code",
   "execution_count": 17,
   "metadata": {},
   "outputs": [
    {
     "data": {
      "text/html": [
       "<div>\n",
       "<style scoped>\n",
       "    .dataframe tbody tr th:only-of-type {\n",
       "        vertical-align: middle;\n",
       "    }\n",
       "\n",
       "    .dataframe tbody tr th {\n",
       "        vertical-align: top;\n",
       "    }\n",
       "\n",
       "    .dataframe thead th {\n",
       "        text-align: right;\n",
       "    }\n",
       "</style>\n",
       "<table border=\"1\" class=\"dataframe\">\n",
       "  <thead>\n",
       "    <tr style=\"text-align: right;\">\n",
       "      <th></th>\n",
       "      <th>income</th>\n",
       "      <th>count</th>\n",
       "      <th>sum</th>\n",
       "      <th>ratio</th>\n",
       "    </tr>\n",
       "  </thead>\n",
       "  <tbody>\n",
       "    <tr>\n",
       "      <td>0</td>\n",
       "      <td>(0, 90000]</td>\n",
       "      <td>3086</td>\n",
       "      <td>262</td>\n",
       "      <td>8.489955</td>\n",
       "    </tr>\n",
       "    <tr>\n",
       "      <td>1</td>\n",
       "      <td>(90000, 135000]</td>\n",
       "      <td>5108</td>\n",
       "      <td>468</td>\n",
       "      <td>9.162099</td>\n",
       "    </tr>\n",
       "    <tr>\n",
       "      <td>2</td>\n",
       "      <td>(135000, 195000]</td>\n",
       "      <td>6484</td>\n",
       "      <td>622</td>\n",
       "      <td>9.592844</td>\n",
       "    </tr>\n",
       "    <tr>\n",
       "      <td>3</td>\n",
       "      <td>(195000, 2300000]</td>\n",
       "      <td>5035</td>\n",
       "      <td>389</td>\n",
       "      <td>7.725919</td>\n",
       "    </tr>\n",
       "  </tbody>\n",
       "</table>\n",
       "</div>"
      ],
      "text/plain": [
       "              income  count  sum     ratio\n",
       "0         (0, 90000]   3086  262  8.489955\n",
       "1    (90000, 135000]   5108  468  9.162099\n",
       "2   (135000, 195000]   6484  622  9.592844\n",
       "3  (195000, 2300000]   5035  389  7.725919"
      ]
     },
     "metadata": {},
     "output_type": "display_data"
    }
   ],
   "source": [
    "income=pd.cut(df['total_income'], [0, 90000, 135000, 195000, 2300000])\n",
    "dob=pd.cut(df['dob_years'], [18, 35, 100])\n",
    "df_pivot_income = df.pivot_table(index=[income], columns=['debt'], values=['education_id'], aggfunc='count')\n",
    "df_pivot_income = df_pivot_income.reset_index()\n",
    "df_pivot_income.columns = ['income', 'count', 'sum']\n",
    "df_pivot_income['ratio'] = df_pivot_income['sum'] / df_pivot_income['count'] * 100\n",
    "display(df_pivot_income)"
   ]
  },
  {
   "cell_type": "markdown",
   "metadata": {},
   "source": [
    "### Вывод"
   ]
  },
  {
   "cell_type": "markdown",
   "metadata": {},
   "source": [
    "Кредиты не возвращают все. Чаще всего - люди со средним и выше среднего дохода. "
   ]
  },
  {
   "cell_type": "markdown",
   "metadata": {},
   "source": [
    "- Как разные цели кредита влияют на его возврат в срок?"
   ]
  },
  {
   "cell_type": "code",
   "execution_count": 18,
   "metadata": {},
   "outputs": [
    {
     "data": {
      "text/html": [
       "<div>\n",
       "<style scoped>\n",
       "    .dataframe tbody tr th:only-of-type {\n",
       "        vertical-align: middle;\n",
       "    }\n",
       "\n",
       "    .dataframe tbody tr th {\n",
       "        vertical-align: top;\n",
       "    }\n",
       "\n",
       "    .dataframe thead th {\n",
       "        text-align: right;\n",
       "    }\n",
       "</style>\n",
       "<table border=\"1\" class=\"dataframe\">\n",
       "  <thead>\n",
       "    <tr style=\"text-align: right;\">\n",
       "      <th></th>\n",
       "      <th>purpose</th>\n",
       "      <th>count</th>\n",
       "      <th>sum</th>\n",
       "      <th>ratio</th>\n",
       "    </tr>\n",
       "  </thead>\n",
       "  <tbody>\n",
       "    <tr>\n",
       "      <td>0</td>\n",
       "      <td>автомобиль</td>\n",
       "      <td>3903</td>\n",
       "      <td>403</td>\n",
       "      <td>10.325391</td>\n",
       "    </tr>\n",
       "    <tr>\n",
       "      <td>1</td>\n",
       "      <td>бизнес</td>\n",
       "      <td>1212</td>\n",
       "      <td>99</td>\n",
       "      <td>8.168317</td>\n",
       "    </tr>\n",
       "    <tr>\n",
       "      <td>2</td>\n",
       "      <td>недвижимость</td>\n",
       "      <td>8817</td>\n",
       "      <td>683</td>\n",
       "      <td>7.746399</td>\n",
       "    </tr>\n",
       "    <tr>\n",
       "      <td>3</td>\n",
       "      <td>образование</td>\n",
       "      <td>3643</td>\n",
       "      <td>370</td>\n",
       "      <td>10.156464</td>\n",
       "    </tr>\n",
       "    <tr>\n",
       "      <td>4</td>\n",
       "      <td>свадьба</td>\n",
       "      <td>2138</td>\n",
       "      <td>186</td>\n",
       "      <td>8.699719</td>\n",
       "    </tr>\n",
       "  </tbody>\n",
       "</table>\n",
       "</div>"
      ],
      "text/plain": [
       "        purpose  count  sum      ratio\n",
       "0    автомобиль   3903  403  10.325391\n",
       "1        бизнес   1212   99   8.168317\n",
       "2  недвижимость   8817  683   7.746399\n",
       "3   образование   3643  370  10.156464\n",
       "4       свадьба   2138  186   8.699719"
      ]
     },
     "metadata": {},
     "output_type": "display_data"
    }
   ],
   "source": [
    "df_pivot_purpose = df.pivot_table(index=['purpose_one'], columns=['debt'], values=['dob_years'], aggfunc='count')\n",
    "df_pivot_purpose = df_pivot_purpose.reset_index()\n",
    "df_pivot_purpose.columns = ['purpose', 'count', 'sum']\n",
    "df_pivot_purpose['ratio'] = df_pivot_purpose['sum'] / df_pivot_purpose['count'] * 100\n",
    "display(df_pivot_purpose)"
   ]
  },
  {
   "cell_type": "markdown",
   "metadata": {},
   "source": [
    "### Вывод"
   ]
  },
  {
   "cell_type": "markdown",
   "metadata": {},
   "source": [
    "Чаще всего не возвращают кредит за автомобиль и образование. Следом идет свадьба и бизнес. Эти категории в чём-то схожи: не всегда затраты на такие мероприятия продуманы и, следовательно, могут потребовать гораздо больше денег, которых будет не хватать. Меньше всего проблем с недвижимостью. Вероятно это связано с тем, что это очень серьезное вложение и люди никак не хотят допустить его потери."
   ]
  },
  {
   "cell_type": "markdown",
   "metadata": {},
   "source": [
    "### Шаг 4. Общий вывод"
   ]
  },
  {
   "cell_type": "markdown",
   "metadata": {},
   "source": [
    "Изучив закономерности, пришел к выводу, что больше всего на просрочки по кредиту влияет именно наличие детей. Возможно, ребенок выступает гарантом, что для человека такой кредит осознанный, он знает, на что идет.\n",
    "Семейное положение тоже влияет, но в меньшей степени. Находясь в гражданском браке и без пары, люди чаще всего совершали просрочки.\n",
    "Очень влияет цель кредита. А именно покупка автомобиля. Вероятно связано это с тем, что автомобиль в кредит стараются взять все, вот только такие кредиты порой очень каторжные.\n",
    "Доход же не оказывает сильное влияние. Просрочки совершают все"
   ]
  },
  {
   "cell_type": "code",
   "execution_count": null,
   "metadata": {},
   "outputs": [],
   "source": []
  }
 ],
 "metadata": {
  "kernelspec": {
   "display_name": "Python 3 (ipykernel)",
   "language": "python",
   "name": "python3"
  },
  "language_info": {
   "codemirror_mode": {
    "name": "ipython",
    "version": 3
   },
   "file_extension": ".py",
   "mimetype": "text/x-python",
   "name": "python",
   "nbconvert_exporter": "python",
   "pygments_lexer": "ipython3",
   "version": "3.9.5"
  },
  "toc": {
   "base_numbering": 1,
   "nav_menu": {},
   "number_sections": true,
   "sideBar": true,
   "skip_h1_title": true,
   "title_cell": "Table of Contents",
   "title_sidebar": "Contents",
   "toc_cell": false,
   "toc_position": {},
   "toc_section_display": true,
   "toc_window_display": false
  }
 },
 "nbformat": 4,
 "nbformat_minor": 2
}
