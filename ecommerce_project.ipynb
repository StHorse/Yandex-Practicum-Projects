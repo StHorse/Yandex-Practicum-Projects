{
 "cells": [
  {
   "cell_type": "markdown",
   "metadata": {},
   "source": [
    "# <center><font color='OrangeRed'>Проверка гипотез и A/B-тест для увеличения выручки интернет-магазина</font></center>"
   ]
  },
  {
   "cell_type": "markdown",
   "metadata": {},
   "source": [
    "Мною будут проверены гипотезы и проведен A/B-тест для увеличения выручки интернет-магазина.\n",
    "\n",
    "У меня есть следующие *исходные данные*:\n",
    " - 9 гипотез по увеличению выручки интернет-магазина с указанными параметрами Reach, Impact, Confidence, Effort;\n",
    " - файлы с результатами A/B-теста.\n",
    " \n",
    "Исследование будет построено из следующих *этапов*:\n",
    "\n",
    "1. [Описание предоставленных данных](#obzor)\n",
    "2. [Приоритезация гипотез](#hyp)\n",
    "3. [Анализ A/B-теста](#ab)\n",
    "4. [Вывод по результату исследования](#vyvod)\n",
    "\n",
    "Результатами данного исследование будут являться информация о гипотезах и выводы по проведенному A/B-тесту."
   ]
  },
  {
   "cell_type": "markdown",
   "metadata": {},
   "source": [
    "# <a id=\"obzor\"></a><font style=\"background-color: Cyan; color=black\">1. Описание предоставленных данных</font> #"
   ]
  },
  {
   "cell_type": "markdown",
   "metadata": {},
   "source": [
    "Файл **hypothesis.csv**:\n",
    " - Hypothesis — краткое описание гипотезы;\n",
    " - Reach — охват пользователей по 10-балльной шкале;\n",
    " - Impact — влияние на пользователей по 10-балльной шкале;\n",
    " - Confidence — уверенность в гипотезе по 10-балльной шкале;\n",
    " - Efforts — затраты ресурсов на проверку гипотезы по 10-балльной шкале. Чем больше значение Efforts, тем дороже проверка  гипотезы.\n",
    " \n",
    "Файл **orders.csv**:\n",
    " - transactionId — идентификатор заказа;\n",
    " - visitorId — идентификатор пользователя, совершившего заказ;\n",
    " - date — дата, когда был совершён заказ;\n",
    " - revenue — выручка заказа;\n",
    " - group — группа A/B-теста, в которую попал заказ.\n",
    " \n",
    "Файл **visitors.csv**:\n",
    " - date — дата;\n",
    " - group — группа A/B-теста;\n",
    " - visitors — количество пользователей в указанную дату в указанной группе A/B-теста"
   ]
  },
  {
   "cell_type": "markdown",
   "metadata": {},
   "source": [
    "# <a id=\"hyp\"></a><font style=\"background-color: Cyan; color=black\">2. Приоритезация гипотез</font> #"
   ]
  },
  {
   "cell_type": "markdown",
   "metadata": {},
   "source": [
    "Загружаю все необходимые библиотеки. Получаю доступ к файлам."
   ]
  },
  {
   "cell_type": "code",
   "execution_count": 1,
   "metadata": {},
   "outputs": [],
   "source": [
    "import random\n",
    "import pandas as pd\n",
    "import numpy as np\n",
    "from IPython.display import display\n",
    "import matplotlib.pyplot as plt\n",
    "import seaborn as sns\n",
    "sns.set(rc={'figure.figsize':(12, 10)})\n",
    "\n",
    "from datetime import datetime, timedelta\n",
    "import math\n",
    "import scipy.stats as stats\n",
    "from scipy import stats as st"
   ]
  },
  {
   "cell_type": "code",
   "execution_count": 2,
   "metadata": {},
   "outputs": [],
   "source": [
    "hypothesis = pd.read_csv('/datasets/hypothesis.csv')\n",
    "orders = pd.read_csv('/datasets/orders.csv')\n",
    "visitors = pd.read_csv('/datasets/visitors.csv')"
   ]
  },
  {
   "cell_type": "code",
   "execution_count": 3,
   "metadata": {},
   "outputs": [],
   "source": [
    "colors=['green', 'hotpink', 'orangered', 'deepskyblue', \n",
    "        'cyan', 'purple', 'gold', 'chocolate', 'dimgrey', 'darkviolet',\n",
    "       'navy', 'lime', 'coral', 'black']"
   ]
  },
  {
   "cell_type": "code",
   "execution_count": 4,
   "metadata": {},
   "outputs": [],
   "source": [
    "def check_df(df):\n",
    "    display(df.head(10))\n",
    "    print(f'Количество дубликатов в датафрейме: {df.duplicated().sum()}')\n",
    "    print()\n",
    "    print('Количество пропущенных значений:')\n",
    "    display(df.isna().sum())\n",
    "    print()\n",
    "    print('Общая информация о датафрейме:')\n",
    "    display(df.info()) "
   ]
  },
  {
   "cell_type": "code",
   "execution_count": 5,
   "metadata": {},
   "outputs": [
    {
     "data": {
      "text/html": [
       "<div>\n",
       "<style scoped>\n",
       "    .dataframe tbody tr th:only-of-type {\n",
       "        vertical-align: middle;\n",
       "    }\n",
       "\n",
       "    .dataframe tbody tr th {\n",
       "        vertical-align: top;\n",
       "    }\n",
       "\n",
       "    .dataframe thead th {\n",
       "        text-align: right;\n",
       "    }\n",
       "</style>\n",
       "<table border=\"1\" class=\"dataframe\">\n",
       "  <thead>\n",
       "    <tr style=\"text-align: right;\">\n",
       "      <th></th>\n",
       "      <th>Hypothesis</th>\n",
       "      <th>Reach</th>\n",
       "      <th>Impact</th>\n",
       "      <th>Confidence</th>\n",
       "      <th>Efforts</th>\n",
       "    </tr>\n",
       "  </thead>\n",
       "  <tbody>\n",
       "    <tr>\n",
       "      <td>0</td>\n",
       "      <td>Добавить два новых канала привлечения трафика,...</td>\n",
       "      <td>3</td>\n",
       "      <td>10</td>\n",
       "      <td>8</td>\n",
       "      <td>6</td>\n",
       "    </tr>\n",
       "    <tr>\n",
       "      <td>1</td>\n",
       "      <td>Запустить собственную службу доставки, что сок...</td>\n",
       "      <td>2</td>\n",
       "      <td>5</td>\n",
       "      <td>4</td>\n",
       "      <td>10</td>\n",
       "    </tr>\n",
       "    <tr>\n",
       "      <td>2</td>\n",
       "      <td>Добавить блоки рекомендаций товаров на сайт ин...</td>\n",
       "      <td>8</td>\n",
       "      <td>3</td>\n",
       "      <td>7</td>\n",
       "      <td>3</td>\n",
       "    </tr>\n",
       "    <tr>\n",
       "      <td>3</td>\n",
       "      <td>Изменить структура категорий, что увеличит кон...</td>\n",
       "      <td>8</td>\n",
       "      <td>3</td>\n",
       "      <td>3</td>\n",
       "      <td>8</td>\n",
       "    </tr>\n",
       "    <tr>\n",
       "      <td>4</td>\n",
       "      <td>Изменить цвет фона главной страницы, чтобы уве...</td>\n",
       "      <td>3</td>\n",
       "      <td>1</td>\n",
       "      <td>1</td>\n",
       "      <td>1</td>\n",
       "    </tr>\n",
       "    <tr>\n",
       "      <td>5</td>\n",
       "      <td>Добавить страницу отзывов клиентов о магазине,...</td>\n",
       "      <td>3</td>\n",
       "      <td>2</td>\n",
       "      <td>2</td>\n",
       "      <td>3</td>\n",
       "    </tr>\n",
       "    <tr>\n",
       "      <td>6</td>\n",
       "      <td>Показать на главной странице баннеры с актуаль...</td>\n",
       "      <td>5</td>\n",
       "      <td>3</td>\n",
       "      <td>8</td>\n",
       "      <td>3</td>\n",
       "    </tr>\n",
       "    <tr>\n",
       "      <td>7</td>\n",
       "      <td>Добавить форму подписки на все основные страни...</td>\n",
       "      <td>10</td>\n",
       "      <td>7</td>\n",
       "      <td>8</td>\n",
       "      <td>5</td>\n",
       "    </tr>\n",
       "    <tr>\n",
       "      <td>8</td>\n",
       "      <td>Запустить акцию, дающую скидку на товар в день...</td>\n",
       "      <td>1</td>\n",
       "      <td>9</td>\n",
       "      <td>9</td>\n",
       "      <td>5</td>\n",
       "    </tr>\n",
       "  </tbody>\n",
       "</table>\n",
       "</div>"
      ],
      "text/plain": [
       "                                          Hypothesis  Reach  Impact  \\\n",
       "0  Добавить два новых канала привлечения трафика,...      3      10   \n",
       "1  Запустить собственную службу доставки, что сок...      2       5   \n",
       "2  Добавить блоки рекомендаций товаров на сайт ин...      8       3   \n",
       "3  Изменить структура категорий, что увеличит кон...      8       3   \n",
       "4  Изменить цвет фона главной страницы, чтобы уве...      3       1   \n",
       "5  Добавить страницу отзывов клиентов о магазине,...      3       2   \n",
       "6  Показать на главной странице баннеры с актуаль...      5       3   \n",
       "7  Добавить форму подписки на все основные страни...     10       7   \n",
       "8  Запустить акцию, дающую скидку на товар в день...      1       9   \n",
       "\n",
       "   Confidence  Efforts  \n",
       "0           8        6  \n",
       "1           4       10  \n",
       "2           7        3  \n",
       "3           3        8  \n",
       "4           1        1  \n",
       "5           2        3  \n",
       "6           8        3  \n",
       "7           8        5  \n",
       "8           9        5  "
      ]
     },
     "metadata": {},
     "output_type": "display_data"
    },
    {
     "name": "stdout",
     "output_type": "stream",
     "text": [
      "Количество дубликатов в датафрейме: 0\n",
      "\n",
      "Количество пропущенных значений:\n"
     ]
    },
    {
     "data": {
      "text/plain": [
       "Hypothesis    0\n",
       "Reach         0\n",
       "Impact        0\n",
       "Confidence    0\n",
       "Efforts       0\n",
       "dtype: int64"
      ]
     },
     "metadata": {},
     "output_type": "display_data"
    },
    {
     "name": "stdout",
     "output_type": "stream",
     "text": [
      "\n",
      "Общая информация о датафрейме:\n",
      "<class 'pandas.core.frame.DataFrame'>\n",
      "RangeIndex: 9 entries, 0 to 8\n",
      "Data columns (total 5 columns):\n",
      "Hypothesis    9 non-null object\n",
      "Reach         9 non-null int64\n",
      "Impact        9 non-null int64\n",
      "Confidence    9 non-null int64\n",
      "Efforts       9 non-null int64\n",
      "dtypes: int64(4), object(1)\n",
      "memory usage: 488.0+ bytes\n"
     ]
    },
    {
     "data": {
      "text/plain": [
       "None"
      ]
     },
     "metadata": {},
     "output_type": "display_data"
    }
   ],
   "source": [
    "check_df(hypothesis)"
   ]
  },
  {
   "cell_type": "code",
   "execution_count": 6,
   "metadata": {},
   "outputs": [
    {
     "data": {
      "text/html": [
       "<div>\n",
       "<style scoped>\n",
       "    .dataframe tbody tr th:only-of-type {\n",
       "        vertical-align: middle;\n",
       "    }\n",
       "\n",
       "    .dataframe tbody tr th {\n",
       "        vertical-align: top;\n",
       "    }\n",
       "\n",
       "    .dataframe thead th {\n",
       "        text-align: right;\n",
       "    }\n",
       "</style>\n",
       "<table border=\"1\" class=\"dataframe\">\n",
       "  <thead>\n",
       "    <tr style=\"text-align: right;\">\n",
       "      <th></th>\n",
       "      <th>transactionId</th>\n",
       "      <th>visitorId</th>\n",
       "      <th>date</th>\n",
       "      <th>revenue</th>\n",
       "      <th>group</th>\n",
       "    </tr>\n",
       "  </thead>\n",
       "  <tbody>\n",
       "    <tr>\n",
       "      <td>0</td>\n",
       "      <td>3667963787</td>\n",
       "      <td>3312258926</td>\n",
       "      <td>2019-08-15</td>\n",
       "      <td>1650</td>\n",
       "      <td>B</td>\n",
       "    </tr>\n",
       "    <tr>\n",
       "      <td>1</td>\n",
       "      <td>2804400009</td>\n",
       "      <td>3642806036</td>\n",
       "      <td>2019-08-15</td>\n",
       "      <td>730</td>\n",
       "      <td>B</td>\n",
       "    </tr>\n",
       "    <tr>\n",
       "      <td>2</td>\n",
       "      <td>2961555356</td>\n",
       "      <td>4069496402</td>\n",
       "      <td>2019-08-15</td>\n",
       "      <td>400</td>\n",
       "      <td>A</td>\n",
       "    </tr>\n",
       "    <tr>\n",
       "      <td>3</td>\n",
       "      <td>3797467345</td>\n",
       "      <td>1196621759</td>\n",
       "      <td>2019-08-15</td>\n",
       "      <td>9759</td>\n",
       "      <td>B</td>\n",
       "    </tr>\n",
       "    <tr>\n",
       "      <td>4</td>\n",
       "      <td>2282983706</td>\n",
       "      <td>2322279887</td>\n",
       "      <td>2019-08-15</td>\n",
       "      <td>2308</td>\n",
       "      <td>B</td>\n",
       "    </tr>\n",
       "    <tr>\n",
       "      <td>5</td>\n",
       "      <td>182168103</td>\n",
       "      <td>935554773</td>\n",
       "      <td>2019-08-15</td>\n",
       "      <td>2210</td>\n",
       "      <td>B</td>\n",
       "    </tr>\n",
       "    <tr>\n",
       "      <td>6</td>\n",
       "      <td>398296753</td>\n",
       "      <td>2900797465</td>\n",
       "      <td>2019-08-15</td>\n",
       "      <td>1860</td>\n",
       "      <td>B</td>\n",
       "    </tr>\n",
       "    <tr>\n",
       "      <td>7</td>\n",
       "      <td>2626614568</td>\n",
       "      <td>78758296</td>\n",
       "      <td>2019-08-15</td>\n",
       "      <td>1044</td>\n",
       "      <td>A</td>\n",
       "    </tr>\n",
       "    <tr>\n",
       "      <td>8</td>\n",
       "      <td>1576988021</td>\n",
       "      <td>295230930</td>\n",
       "      <td>2019-08-15</td>\n",
       "      <td>13710</td>\n",
       "      <td>A</td>\n",
       "    </tr>\n",
       "    <tr>\n",
       "      <td>9</td>\n",
       "      <td>1506739906</td>\n",
       "      <td>1882260405</td>\n",
       "      <td>2019-08-15</td>\n",
       "      <td>1855</td>\n",
       "      <td>B</td>\n",
       "    </tr>\n",
       "  </tbody>\n",
       "</table>\n",
       "</div>"
      ],
      "text/plain": [
       "   transactionId   visitorId        date  revenue group\n",
       "0     3667963787  3312258926  2019-08-15     1650     B\n",
       "1     2804400009  3642806036  2019-08-15      730     B\n",
       "2     2961555356  4069496402  2019-08-15      400     A\n",
       "3     3797467345  1196621759  2019-08-15     9759     B\n",
       "4     2282983706  2322279887  2019-08-15     2308     B\n",
       "5      182168103   935554773  2019-08-15     2210     B\n",
       "6      398296753  2900797465  2019-08-15     1860     B\n",
       "7     2626614568    78758296  2019-08-15     1044     A\n",
       "8     1576988021   295230930  2019-08-15    13710     A\n",
       "9     1506739906  1882260405  2019-08-15     1855     B"
      ]
     },
     "metadata": {},
     "output_type": "display_data"
    },
    {
     "name": "stdout",
     "output_type": "stream",
     "text": [
      "Количество дубликатов в датафрейме: 0\n",
      "\n",
      "Количество пропущенных значений:\n"
     ]
    },
    {
     "data": {
      "text/plain": [
       "transactionId    0\n",
       "visitorId        0\n",
       "date             0\n",
       "revenue          0\n",
       "group            0\n",
       "dtype: int64"
      ]
     },
     "metadata": {},
     "output_type": "display_data"
    },
    {
     "name": "stdout",
     "output_type": "stream",
     "text": [
      "\n",
      "Общая информация о датафрейме:\n",
      "<class 'pandas.core.frame.DataFrame'>\n",
      "RangeIndex: 1197 entries, 0 to 1196\n",
      "Data columns (total 5 columns):\n",
      "transactionId    1197 non-null int64\n",
      "visitorId        1197 non-null int64\n",
      "date             1197 non-null object\n",
      "revenue          1197 non-null int64\n",
      "group            1197 non-null object\n",
      "dtypes: int64(3), object(2)\n",
      "memory usage: 46.9+ KB\n"
     ]
    },
    {
     "data": {
      "text/plain": [
       "None"
      ]
     },
     "metadata": {},
     "output_type": "display_data"
    }
   ],
   "source": [
    "check_df(orders)"
   ]
  },
  {
   "cell_type": "code",
   "execution_count": 7,
   "metadata": {},
   "outputs": [
    {
     "data": {
      "text/html": [
       "<div>\n",
       "<style scoped>\n",
       "    .dataframe tbody tr th:only-of-type {\n",
       "        vertical-align: middle;\n",
       "    }\n",
       "\n",
       "    .dataframe tbody tr th {\n",
       "        vertical-align: top;\n",
       "    }\n",
       "\n",
       "    .dataframe thead th {\n",
       "        text-align: right;\n",
       "    }\n",
       "</style>\n",
       "<table border=\"1\" class=\"dataframe\">\n",
       "  <thead>\n",
       "    <tr style=\"text-align: right;\">\n",
       "      <th></th>\n",
       "      <th>date</th>\n",
       "      <th>group</th>\n",
       "      <th>visitors</th>\n",
       "    </tr>\n",
       "  </thead>\n",
       "  <tbody>\n",
       "    <tr>\n",
       "      <td>0</td>\n",
       "      <td>2019-08-01</td>\n",
       "      <td>A</td>\n",
       "      <td>719</td>\n",
       "    </tr>\n",
       "    <tr>\n",
       "      <td>1</td>\n",
       "      <td>2019-08-02</td>\n",
       "      <td>A</td>\n",
       "      <td>619</td>\n",
       "    </tr>\n",
       "    <tr>\n",
       "      <td>2</td>\n",
       "      <td>2019-08-03</td>\n",
       "      <td>A</td>\n",
       "      <td>507</td>\n",
       "    </tr>\n",
       "    <tr>\n",
       "      <td>3</td>\n",
       "      <td>2019-08-04</td>\n",
       "      <td>A</td>\n",
       "      <td>717</td>\n",
       "    </tr>\n",
       "    <tr>\n",
       "      <td>4</td>\n",
       "      <td>2019-08-05</td>\n",
       "      <td>A</td>\n",
       "      <td>756</td>\n",
       "    </tr>\n",
       "    <tr>\n",
       "      <td>5</td>\n",
       "      <td>2019-08-06</td>\n",
       "      <td>A</td>\n",
       "      <td>667</td>\n",
       "    </tr>\n",
       "    <tr>\n",
       "      <td>6</td>\n",
       "      <td>2019-08-07</td>\n",
       "      <td>A</td>\n",
       "      <td>644</td>\n",
       "    </tr>\n",
       "    <tr>\n",
       "      <td>7</td>\n",
       "      <td>2019-08-08</td>\n",
       "      <td>A</td>\n",
       "      <td>610</td>\n",
       "    </tr>\n",
       "    <tr>\n",
       "      <td>8</td>\n",
       "      <td>2019-08-09</td>\n",
       "      <td>A</td>\n",
       "      <td>617</td>\n",
       "    </tr>\n",
       "    <tr>\n",
       "      <td>9</td>\n",
       "      <td>2019-08-10</td>\n",
       "      <td>A</td>\n",
       "      <td>406</td>\n",
       "    </tr>\n",
       "  </tbody>\n",
       "</table>\n",
       "</div>"
      ],
      "text/plain": [
       "         date group  visitors\n",
       "0  2019-08-01     A       719\n",
       "1  2019-08-02     A       619\n",
       "2  2019-08-03     A       507\n",
       "3  2019-08-04     A       717\n",
       "4  2019-08-05     A       756\n",
       "5  2019-08-06     A       667\n",
       "6  2019-08-07     A       644\n",
       "7  2019-08-08     A       610\n",
       "8  2019-08-09     A       617\n",
       "9  2019-08-10     A       406"
      ]
     },
     "metadata": {},
     "output_type": "display_data"
    },
    {
     "name": "stdout",
     "output_type": "stream",
     "text": [
      "Количество дубликатов в датафрейме: 0\n",
      "\n",
      "Количество пропущенных значений:\n"
     ]
    },
    {
     "data": {
      "text/plain": [
       "date        0\n",
       "group       0\n",
       "visitors    0\n",
       "dtype: int64"
      ]
     },
     "metadata": {},
     "output_type": "display_data"
    },
    {
     "name": "stdout",
     "output_type": "stream",
     "text": [
      "\n",
      "Общая информация о датафрейме:\n",
      "<class 'pandas.core.frame.DataFrame'>\n",
      "RangeIndex: 62 entries, 0 to 61\n",
      "Data columns (total 3 columns):\n",
      "date        62 non-null object\n",
      "group       62 non-null object\n",
      "visitors    62 non-null int64\n",
      "dtypes: int64(1), object(2)\n",
      "memory usage: 1.6+ KB\n"
     ]
    },
    {
     "data": {
      "text/plain": [
       "None"
      ]
     },
     "metadata": {},
     "output_type": "display_data"
    }
   ],
   "source": [
    "check_df(visitors)"
   ]
  },
  {
   "cell_type": "markdown",
   "metadata": {},
   "source": [
    "В датафреймах у столбцов с датами не подходящий тип. Исправляю"
   ]
  },
  {
   "cell_type": "code",
   "execution_count": 8,
   "metadata": {},
   "outputs": [],
   "source": [
    "orders['date'] = pd.to_datetime(orders['date'])\n",
    "visitors['date'] = pd.to_datetime(visitors['date'])"
   ]
  },
  {
   "cell_type": "markdown",
   "metadata": {},
   "source": [
    "<font color='blue'>Фреймворк ICE</font>"
   ]
  },
  {
   "cell_type": "code",
   "execution_count": 9,
   "metadata": {},
   "outputs": [],
   "source": [
    "hypothesis['ICE'] = (hypothesis['Impact'] * hypothesis['Confidence'] / hypothesis['Efforts']).round(2)"
   ]
  },
  {
   "cell_type": "code",
   "execution_count": 10,
   "metadata": {
    "scrolled": true
   },
   "outputs": [
    {
     "data": {
      "text/html": [
       "<div>\n",
       "<style scoped>\n",
       "    .dataframe tbody tr th:only-of-type {\n",
       "        vertical-align: middle;\n",
       "    }\n",
       "\n",
       "    .dataframe tbody tr th {\n",
       "        vertical-align: top;\n",
       "    }\n",
       "\n",
       "    .dataframe thead th {\n",
       "        text-align: right;\n",
       "    }\n",
       "</style>\n",
       "<table border=\"1\" class=\"dataframe\">\n",
       "  <thead>\n",
       "    <tr style=\"text-align: right;\">\n",
       "      <th></th>\n",
       "      <th>Hypothesis</th>\n",
       "      <th>Reach</th>\n",
       "      <th>Impact</th>\n",
       "      <th>Confidence</th>\n",
       "      <th>Efforts</th>\n",
       "      <th>ICE</th>\n",
       "    </tr>\n",
       "  </thead>\n",
       "  <tbody>\n",
       "    <tr>\n",
       "      <td>8</td>\n",
       "      <td>Запустить акцию, дающую скидку на товар в день рождения</td>\n",
       "      <td>1</td>\n",
       "      <td>9</td>\n",
       "      <td>9</td>\n",
       "      <td>5</td>\n",
       "      <td>16.20</td>\n",
       "    </tr>\n",
       "    <tr>\n",
       "      <td>0</td>\n",
       "      <td>Добавить два новых канала привлечения трафика, что позволит привлекать на 30% больше пользователей</td>\n",
       "      <td>3</td>\n",
       "      <td>10</td>\n",
       "      <td>8</td>\n",
       "      <td>6</td>\n",
       "      <td>13.33</td>\n",
       "    </tr>\n",
       "    <tr>\n",
       "      <td>7</td>\n",
       "      <td>Добавить форму подписки на все основные страницы, чтобы собрать базу клиентов для email-рассылок</td>\n",
       "      <td>10</td>\n",
       "      <td>7</td>\n",
       "      <td>8</td>\n",
       "      <td>5</td>\n",
       "      <td>11.20</td>\n",
       "    </tr>\n",
       "    <tr>\n",
       "      <td>6</td>\n",
       "      <td>Показать на главной странице баннеры с актуальными акциями и распродажами, чтобы увеличить конверсию</td>\n",
       "      <td>5</td>\n",
       "      <td>3</td>\n",
       "      <td>8</td>\n",
       "      <td>3</td>\n",
       "      <td>8.00</td>\n",
       "    </tr>\n",
       "    <tr>\n",
       "      <td>2</td>\n",
       "      <td>Добавить блоки рекомендаций товаров на сайт интернет магазина, чтобы повысить конверсию и средний чек заказа</td>\n",
       "      <td>8</td>\n",
       "      <td>3</td>\n",
       "      <td>7</td>\n",
       "      <td>3</td>\n",
       "      <td>7.00</td>\n",
       "    </tr>\n",
       "  </tbody>\n",
       "</table>\n",
       "</div>"
      ],
      "text/plain": [
       "                                                                                                     Hypothesis  \\\n",
       "8                                                       Запустить акцию, дающую скидку на товар в день рождения   \n",
       "0            Добавить два новых канала привлечения трафика, что позволит привлекать на 30% больше пользователей   \n",
       "7              Добавить форму подписки на все основные страницы, чтобы собрать базу клиентов для email-рассылок   \n",
       "6          Показать на главной странице баннеры с актуальными акциями и распродажами, чтобы увеличить конверсию   \n",
       "2  Добавить блоки рекомендаций товаров на сайт интернет магазина, чтобы повысить конверсию и средний чек заказа   \n",
       "\n",
       "   Reach  Impact  Confidence  Efforts    ICE  \n",
       "8      1       9           9        5  16.20  \n",
       "0      3      10           8        6  13.33  \n",
       "7     10       7           8        5  11.20  \n",
       "6      5       3           8        3   8.00  \n",
       "2      8       3           7        3   7.00  "
      ]
     },
     "execution_count": 10,
     "metadata": {},
     "output_type": "execute_result"
    }
   ],
   "source": [
    "#при установлении количества символов без ограничения (None) выдает ошибку\n",
    "pd.set_option('display.max_colwidth', 1000)\n",
    "hypothesis.sort_values('ICE', ascending=False).head()"
   ]
  },
  {
   "cell_type": "code",
   "execution_count": 11,
   "metadata": {},
   "outputs": [
    {
     "data": {
      "image/png": "[encoded data removed]",
      "text/plain": [
       "<Figure size 864x720 with 1 Axes>"
      ]
     },
     "metadata": {},
     "output_type": "display_data"
    }
   ],
   "source": [
    "ax = hypothesis[['Hypothesis', 'ICE']].set_index('Hypothesis').sort_values('ICE', ascending=True).plot(kind='barh', color=random.choice(colors))\n",
    "ax.set(title='Приоритет', xlabel='ICE', ylabel='Гипотеза')\n",
    "plt.show()"
   ]
  },
  {
   "cell_type": "markdown",
   "metadata": {},
   "source": [
    "**Перспективные гипотезы** - 8, 0, 7, 6"
   ]
  },
  {
   "cell_type": "markdown",
   "metadata": {},
   "source": [
    "<font color='blue'>Фреймворк RICE</font>"
   ]
  },
  {
   "cell_type": "code",
   "execution_count": 12,
   "metadata": {},
   "outputs": [],
   "source": [
    "hypothesis['RICE'] = (hypothesis['Reach'] * hypothesis['Impact'] * hypothesis['Confidence'] / hypothesis['Efforts']).round(2)"
   ]
  },
  {
   "cell_type": "code",
   "execution_count": 13,
   "metadata": {},
   "outputs": [
    {
     "data": {
      "text/html": [
       "<div>\n",
       "<style scoped>\n",
       "    .dataframe tbody tr th:only-of-type {\n",
       "        vertical-align: middle;\n",
       "    }\n",
       "\n",
       "    .dataframe tbody tr th {\n",
       "        vertical-align: top;\n",
       "    }\n",
       "\n",
       "    .dataframe thead th {\n",
       "        text-align: right;\n",
       "    }\n",
       "</style>\n",
       "<table border=\"1\" class=\"dataframe\">\n",
       "  <thead>\n",
       "    <tr style=\"text-align: right;\">\n",
       "      <th></th>\n",
       "      <th>Hypothesis</th>\n",
       "      <th>Reach</th>\n",
       "      <th>Impact</th>\n",
       "      <th>Confidence</th>\n",
       "      <th>Efforts</th>\n",
       "      <th>ICE</th>\n",
       "      <th>RICE</th>\n",
       "    </tr>\n",
       "  </thead>\n",
       "  <tbody>\n",
       "    <tr>\n",
       "      <td>7</td>\n",
       "      <td>Добавить форму подписки на все основные страницы, чтобы собрать базу клиентов для email-рассылок</td>\n",
       "      <td>10</td>\n",
       "      <td>7</td>\n",
       "      <td>8</td>\n",
       "      <td>5</td>\n",
       "      <td>11.20</td>\n",
       "      <td>112.0</td>\n",
       "    </tr>\n",
       "    <tr>\n",
       "      <td>2</td>\n",
       "      <td>Добавить блоки рекомендаций товаров на сайт интернет магазина, чтобы повысить конверсию и средний чек заказа</td>\n",
       "      <td>8</td>\n",
       "      <td>3</td>\n",
       "      <td>7</td>\n",
       "      <td>3</td>\n",
       "      <td>7.00</td>\n",
       "      <td>56.0</td>\n",
       "    </tr>\n",
       "    <tr>\n",
       "      <td>0</td>\n",
       "      <td>Добавить два новых канала привлечения трафика, что позволит привлекать на 30% больше пользователей</td>\n",
       "      <td>3</td>\n",
       "      <td>10</td>\n",
       "      <td>8</td>\n",
       "      <td>6</td>\n",
       "      <td>13.33</td>\n",
       "      <td>40.0</td>\n",
       "    </tr>\n",
       "    <tr>\n",
       "      <td>6</td>\n",
       "      <td>Показать на главной странице баннеры с актуальными акциями и распродажами, чтобы увеличить конверсию</td>\n",
       "      <td>5</td>\n",
       "      <td>3</td>\n",
       "      <td>8</td>\n",
       "      <td>3</td>\n",
       "      <td>8.00</td>\n",
       "      <td>40.0</td>\n",
       "    </tr>\n",
       "    <tr>\n",
       "      <td>8</td>\n",
       "      <td>Запустить акцию, дающую скидку на товар в день рождения</td>\n",
       "      <td>1</td>\n",
       "      <td>9</td>\n",
       "      <td>9</td>\n",
       "      <td>5</td>\n",
       "      <td>16.20</td>\n",
       "      <td>16.2</td>\n",
       "    </tr>\n",
       "  </tbody>\n",
       "</table>\n",
       "</div>"
      ],
      "text/plain": [
       "                                                                                                     Hypothesis  \\\n",
       "7              Добавить форму подписки на все основные страницы, чтобы собрать базу клиентов для email-рассылок   \n",
       "2  Добавить блоки рекомендаций товаров на сайт интернет магазина, чтобы повысить конверсию и средний чек заказа   \n",
       "0            Добавить два новых канала привлечения трафика, что позволит привлекать на 30% больше пользователей   \n",
       "6          Показать на главной странице баннеры с актуальными акциями и распродажами, чтобы увеличить конверсию   \n",
       "8                                                       Запустить акцию, дающую скидку на товар в день рождения   \n",
       "\n",
       "   Reach  Impact  Confidence  Efforts    ICE   RICE  \n",
       "7     10       7           8        5  11.20  112.0  \n",
       "2      8       3           7        3   7.00   56.0  \n",
       "0      3      10           8        6  13.33   40.0  \n",
       "6      5       3           8        3   8.00   40.0  \n",
       "8      1       9           9        5  16.20   16.2  "
      ]
     },
     "execution_count": 13,
     "metadata": {},
     "output_type": "execute_result"
    }
   ],
   "source": [
    "hypothesis.sort_values('RICE', ascending=False).head()"
   ]
  },
  {
   "cell_type": "code",
   "execution_count": 14,
   "metadata": {},
   "outputs": [
    {
     "data": {
      "image/png": "[encoded data removed]",
      "text/plain": [
       "<Figure size 864x720 with 1 Axes>"
      ]
     },
     "metadata": {},
     "output_type": "display_data"
    }
   ],
   "source": [
    "ax = hypothesis[['Hypothesis', 'RICE']].set_index('Hypothesis').sort_values('RICE', ascending=True).plot(kind='barh', color=random.choice(colors))\n",
    "ax.set(title='Приоритет', xlabel='RICE', ylabel='Гипотеза')\n",
    "plt.show()"
   ]
  },
  {
   "cell_type": "markdown",
   "metadata": {},
   "source": [
    "**Перспективные гипотезы** - 7, 2, 0, 6"
   ]
  },
  {
   "cell_type": "markdown",
   "metadata": {},
   "source": [
    "С помочью фреймворка **RICE** на первое место вышла гипотеза *7* - в этом фреймворке у нас добавляется в числитель параметр **Reach** (скольких пользователей затронет изменение, которое вы хотите внести) - у гипотезы 7 он равен 10 (максимальное), а у 8 - 1; у гипотез 0 и 6 - 3 и 5, соответственно."
   ]
  },
  {
   "cell_type": "markdown",
   "metadata": {},
   "source": [
    "# <a id=\"ab\"></a><font style=\"background-color: Cyan; color=black\">2. Анализ A/B-теста</font> #"
   ]
  },
  {
   "cell_type": "markdown",
   "metadata": {},
   "source": [
    "<font color='blue'>График кумулятивной выручки по группам</font>"
   ]
  },
  {
   "cell_type": "markdown",
   "metadata": {},
   "source": [
    "Создаю датафрейм datesGroups с уникальными парами значений 'date' и 'group' из таблицы orders."
   ]
  },
  {
   "cell_type": "code",
   "execution_count": 15,
   "metadata": {},
   "outputs": [
    {
     "data": {
      "text/html": [
       "<div>\n",
       "<style scoped>\n",
       "    .dataframe tbody tr th:only-of-type {\n",
       "        vertical-align: middle;\n",
       "    }\n",
       "\n",
       "    .dataframe tbody tr th {\n",
       "        vertical-align: top;\n",
       "    }\n",
       "\n",
       "    .dataframe thead th {\n",
       "        text-align: right;\n",
       "    }\n",
       "</style>\n",
       "<table border=\"1\" class=\"dataframe\">\n",
       "  <thead>\n",
       "    <tr style=\"text-align: right;\">\n",
       "      <th></th>\n",
       "      <th>date</th>\n",
       "      <th>group</th>\n",
       "    </tr>\n",
       "  </thead>\n",
       "  <tbody>\n",
       "    <tr>\n",
       "      <td>0</td>\n",
       "      <td>2019-08-15</td>\n",
       "      <td>B</td>\n",
       "    </tr>\n",
       "    <tr>\n",
       "      <td>2</td>\n",
       "      <td>2019-08-15</td>\n",
       "      <td>A</td>\n",
       "    </tr>\n",
       "    <tr>\n",
       "      <td>45</td>\n",
       "      <td>2019-08-16</td>\n",
       "      <td>A</td>\n",
       "    </tr>\n",
       "    <tr>\n",
       "      <td>47</td>\n",
       "      <td>2019-08-16</td>\n",
       "      <td>B</td>\n",
       "    </tr>\n",
       "    <tr>\n",
       "      <td>55</td>\n",
       "      <td>2019-08-01</td>\n",
       "      <td>A</td>\n",
       "    </tr>\n",
       "  </tbody>\n",
       "</table>\n",
       "</div>"
      ],
      "text/plain": [
       "         date group\n",
       "0  2019-08-15     B\n",
       "2  2019-08-15     A\n",
       "45 2019-08-16     A\n",
       "47 2019-08-16     B\n",
       "55 2019-08-01     A"
      ]
     },
     "execution_count": 15,
     "metadata": {},
     "output_type": "execute_result"
    }
   ],
   "source": [
    "datesGroups = orders[['date','group']].drop_duplicates()\n",
    "datesGroups.head(5)"
   ]
  },
  {
   "cell_type": "markdown",
   "metadata": {},
   "source": [
    "*Агрегированные кумулятивные по дням данные о заказах*"
   ]
  },
  {
   "cell_type": "code",
   "execution_count": 16,
   "metadata": {},
   "outputs": [
    {
     "data": {
      "text/html": [
       "<div>\n",
       "<style scoped>\n",
       "    .dataframe tbody tr th:only-of-type {\n",
       "        vertical-align: middle;\n",
       "    }\n",
       "\n",
       "    .dataframe tbody tr th {\n",
       "        vertical-align: top;\n",
       "    }\n",
       "\n",
       "    .dataframe thead th {\n",
       "        text-align: right;\n",
       "    }\n",
       "</style>\n",
       "<table border=\"1\" class=\"dataframe\">\n",
       "  <thead>\n",
       "    <tr style=\"text-align: right;\">\n",
       "      <th></th>\n",
       "      <th>date</th>\n",
       "      <th>group</th>\n",
       "      <th>transactionId</th>\n",
       "      <th>visitorId</th>\n",
       "      <th>revenue</th>\n",
       "    </tr>\n",
       "  </thead>\n",
       "  <tbody>\n",
       "    <tr>\n",
       "      <td>55</td>\n",
       "      <td>2019-08-01</td>\n",
       "      <td>A</td>\n",
       "      <td>24</td>\n",
       "      <td>20</td>\n",
       "      <td>148579</td>\n",
       "    </tr>\n",
       "    <tr>\n",
       "      <td>66</td>\n",
       "      <td>2019-08-01</td>\n",
       "      <td>B</td>\n",
       "      <td>21</td>\n",
       "      <td>20</td>\n",
       "      <td>101217</td>\n",
       "    </tr>\n",
       "    <tr>\n",
       "      <td>175</td>\n",
       "      <td>2019-08-02</td>\n",
       "      <td>A</td>\n",
       "      <td>44</td>\n",
       "      <td>38</td>\n",
       "      <td>242401</td>\n",
       "    </tr>\n",
       "    <tr>\n",
       "      <td>173</td>\n",
       "      <td>2019-08-02</td>\n",
       "      <td>B</td>\n",
       "      <td>45</td>\n",
       "      <td>43</td>\n",
       "      <td>266748</td>\n",
       "    </tr>\n",
       "    <tr>\n",
       "      <td>291</td>\n",
       "      <td>2019-08-03</td>\n",
       "      <td>A</td>\n",
       "      <td>68</td>\n",
       "      <td>62</td>\n",
       "      <td>354874</td>\n",
       "    </tr>\n",
       "  </tbody>\n",
       "</table>\n",
       "</div>"
      ],
      "text/plain": [
       "          date group  transactionId  visitorId  revenue\n",
       "55  2019-08-01     A             24         20   148579\n",
       "66  2019-08-01     B             21         20   101217\n",
       "175 2019-08-02     A             44         38   242401\n",
       "173 2019-08-02     B             45         43   266748\n",
       "291 2019-08-03     A             68         62   354874"
      ]
     },
     "execution_count": 16,
     "metadata": {},
     "output_type": "execute_result"
    }
   ],
   "source": [
    "ordersAggregated = datesGroups.apply(lambda x: orders[np.logical_and(orders['date'] <= x['date'], orders['group'] == x['group'])]\\\n",
    ".agg({'date' : 'max', 'group' : 'max', 'transactionId' : pd.Series.nunique, 'visitorId' : pd.Series.nunique, 'revenue' : 'sum'}), axis=1).sort_values(by=['date','group'])\n",
    "ordersAggregated.head(5)"
   ]
  },
  {
   "cell_type": "markdown",
   "metadata": {},
   "source": [
    "*Агрегированные кумулятивные по дням данные о посетителях интернет-магазина*"
   ]
  },
  {
   "cell_type": "code",
   "execution_count": 17,
   "metadata": {},
   "outputs": [
    {
     "data": {
      "text/html": [
       "<div>\n",
       "<style scoped>\n",
       "    .dataframe tbody tr th:only-of-type {\n",
       "        vertical-align: middle;\n",
       "    }\n",
       "\n",
       "    .dataframe tbody tr th {\n",
       "        vertical-align: top;\n",
       "    }\n",
       "\n",
       "    .dataframe thead th {\n",
       "        text-align: right;\n",
       "    }\n",
       "</style>\n",
       "<table border=\"1\" class=\"dataframe\">\n",
       "  <thead>\n",
       "    <tr style=\"text-align: right;\">\n",
       "      <th></th>\n",
       "      <th>date</th>\n",
       "      <th>group</th>\n",
       "      <th>visitors</th>\n",
       "    </tr>\n",
       "  </thead>\n",
       "  <tbody>\n",
       "    <tr>\n",
       "      <td>55</td>\n",
       "      <td>2019-08-01</td>\n",
       "      <td>A</td>\n",
       "      <td>719</td>\n",
       "    </tr>\n",
       "    <tr>\n",
       "      <td>66</td>\n",
       "      <td>2019-08-01</td>\n",
       "      <td>B</td>\n",
       "      <td>713</td>\n",
       "    </tr>\n",
       "    <tr>\n",
       "      <td>175</td>\n",
       "      <td>2019-08-02</td>\n",
       "      <td>A</td>\n",
       "      <td>1338</td>\n",
       "    </tr>\n",
       "    <tr>\n",
       "      <td>173</td>\n",
       "      <td>2019-08-02</td>\n",
       "      <td>B</td>\n",
       "      <td>1294</td>\n",
       "    </tr>\n",
       "    <tr>\n",
       "      <td>291</td>\n",
       "      <td>2019-08-03</td>\n",
       "      <td>A</td>\n",
       "      <td>1845</td>\n",
       "    </tr>\n",
       "  </tbody>\n",
       "</table>\n",
       "</div>"
      ],
      "text/plain": [
       "          date group  visitors\n",
       "55  2019-08-01     A       719\n",
       "66  2019-08-01     B       713\n",
       "175 2019-08-02     A      1338\n",
       "173 2019-08-02     B      1294\n",
       "291 2019-08-03     A      1845"
      ]
     },
     "execution_count": 17,
     "metadata": {},
     "output_type": "execute_result"
    }
   ],
   "source": [
    "visitorsAggregated = datesGroups.apply(lambda x: visitors[np.logical_and(visitors['date'] <= x['date'], visitors['group'] == x['group'])]\n",
    "                                       .agg({'date' : 'max', 'group' : 'max', 'visitors' : 'sum'}), axis=1).sort_values(by=['date','group'])\n",
    "visitorsAggregated.head(5)"
   ]
  },
  {
   "cell_type": "code",
   "execution_count": 18,
   "metadata": {},
   "outputs": [
    {
     "data": {
      "text/html": [
       "<div>\n",
       "<style scoped>\n",
       "    .dataframe tbody tr th:only-of-type {\n",
       "        vertical-align: middle;\n",
       "    }\n",
       "\n",
       "    .dataframe tbody tr th {\n",
       "        vertical-align: top;\n",
       "    }\n",
       "\n",
       "    .dataframe thead th {\n",
       "        text-align: right;\n",
       "    }\n",
       "</style>\n",
       "<table border=\"1\" class=\"dataframe\">\n",
       "  <thead>\n",
       "    <tr style=\"text-align: right;\">\n",
       "      <th></th>\n",
       "      <th>date</th>\n",
       "      <th>group</th>\n",
       "      <th>orders</th>\n",
       "      <th>buyers</th>\n",
       "      <th>revenue</th>\n",
       "      <th>visitors</th>\n",
       "    </tr>\n",
       "  </thead>\n",
       "  <tbody>\n",
       "    <tr>\n",
       "      <td>0</td>\n",
       "      <td>2019-08-01</td>\n",
       "      <td>A</td>\n",
       "      <td>24</td>\n",
       "      <td>20</td>\n",
       "      <td>148579</td>\n",
       "      <td>719</td>\n",
       "    </tr>\n",
       "    <tr>\n",
       "      <td>1</td>\n",
       "      <td>2019-08-01</td>\n",
       "      <td>B</td>\n",
       "      <td>21</td>\n",
       "      <td>20</td>\n",
       "      <td>101217</td>\n",
       "      <td>713</td>\n",
       "    </tr>\n",
       "    <tr>\n",
       "      <td>2</td>\n",
       "      <td>2019-08-02</td>\n",
       "      <td>A</td>\n",
       "      <td>44</td>\n",
       "      <td>38</td>\n",
       "      <td>242401</td>\n",
       "      <td>1338</td>\n",
       "    </tr>\n",
       "    <tr>\n",
       "      <td>3</td>\n",
       "      <td>2019-08-02</td>\n",
       "      <td>B</td>\n",
       "      <td>45</td>\n",
       "      <td>43</td>\n",
       "      <td>266748</td>\n",
       "      <td>1294</td>\n",
       "    </tr>\n",
       "    <tr>\n",
       "      <td>4</td>\n",
       "      <td>2019-08-03</td>\n",
       "      <td>A</td>\n",
       "      <td>68</td>\n",
       "      <td>62</td>\n",
       "      <td>354874</td>\n",
       "      <td>1845</td>\n",
       "    </tr>\n",
       "  </tbody>\n",
       "</table>\n",
       "</div>"
      ],
      "text/plain": [
       "        date group  orders  buyers  revenue  visitors\n",
       "0 2019-08-01     A      24      20   148579       719\n",
       "1 2019-08-01     B      21      20   101217       713\n",
       "2 2019-08-02     A      44      38   242401      1338\n",
       "3 2019-08-02     B      45      43   266748      1294\n",
       "4 2019-08-03     A      68      62   354874      1845"
      ]
     },
     "execution_count": 18,
     "metadata": {},
     "output_type": "execute_result"
    }
   ],
   "source": [
    "cumulativeData = ordersAggregated.merge(visitorsAggregated, left_on=['date', 'group'], right_on=['date', 'group'])\n",
    "cumulativeData.columns = ['date', 'group', 'orders', 'buyers', 'revenue', 'visitors']\n",
    "cumulativeData.head(5)"
   ]
  },
  {
   "cell_type": "markdown",
   "metadata": {},
   "source": [
    "*Графики кумулятивной выручки по дням и группам A/B-тестирования:*"
   ]
  },
  {
   "cell_type": "markdown",
   "metadata": {},
   "source": [
    "Кумулятивное количество заказов и кумулятивная выручка по дням в группе А"
   ]
  },
  {
   "cell_type": "code",
   "execution_count": 19,
   "metadata": {},
   "outputs": [],
   "source": [
    "cumulativeRevenueA = cumulativeData[cumulativeData['group']=='A'][['date','revenue', 'orders']]"
   ]
  },
  {
   "cell_type": "markdown",
   "metadata": {},
   "source": [
    "Кумулятивное количество заказов и кумулятивная выручка по дням в группе B"
   ]
  },
  {
   "cell_type": "code",
   "execution_count": 20,
   "metadata": {},
   "outputs": [],
   "source": [
    "cumulativeRevenueB = cumulativeData[cumulativeData['group']=='B'][['date','revenue', 'orders']]"
   ]
  },
  {
   "cell_type": "code",
   "execution_count": 21,
   "metadata": {
    "scrolled": false
   },
   "outputs": [
    {
     "data": {
      "image/png": "[encoded data removed]",
      "text/plain": [
       "<Figure size 864x720 with 1 Axes>"
      ]
     },
     "metadata": {},
     "output_type": "display_data"
    }
   ],
   "source": [
    "plt.plot(cumulativeRevenueA['date'], cumulativeRevenueA['revenue'], label='A', color='lime')\n",
    "plt.plot(cumulativeRevenueB['date'], cumulativeRevenueB['revenue'], label='B', color='red')\n",
    "plt.legend() \n",
    "plt.title(\"Кумулятивная выручка по группам А и В\")\n",
    "plt.xlabel('Дата')\n",
    "plt.ylabel('Кумулятивная выручка')\n",
    "plt.xticks(rotation=90)\n",
    "plt.show()"
   ]
  },
  {
   "cell_type": "markdown",
   "metadata": {},
   "source": [
    "Выручка увеличивается в течение всего теста. \n",
    "\n",
    "- На графике выручка **группы В** резко растет между 17 и 21 августа. Это может сигнализировать о всплесках числа заказов, либо о появлении очень дорогих заказов в выборке. \n",
    "- Выручка **группы А** растет довольно равномерно, без сильных всплесков"
   ]
  },
  {
   "cell_type": "markdown",
   "metadata": {},
   "source": [
    "<font color='blue'>График кумулятивного среднего чека по группам</font>"
   ]
  },
  {
   "cell_type": "code",
   "execution_count": 22,
   "metadata": {},
   "outputs": [
    {
     "data": {
      "image/png": "[encoded data removed]",
      "text/plain": [
       "<Figure size 864x720 with 1 Axes>"
      ]
     },
     "metadata": {},
     "output_type": "display_data"
    }
   ],
   "source": [
    "plt.plot(cumulativeRevenueA['date'], cumulativeRevenueA['revenue']/cumulativeRevenueA['orders'], label='A', color='lime')\n",
    "plt.plot(cumulativeRevenueB['date'], cumulativeRevenueB['revenue']/cumulativeRevenueB['orders'], label='B', color='red')\n",
    "plt.legend() \n",
    "plt.title(\"Кумулятивный средний чек по группам\")\n",
    "plt.xlabel('Дата')\n",
    "plt.ylabel('Средний чек')\n",
    "plt.xticks(rotation=90)\n",
    "plt.show()"
   ]
  },
  {
   "cell_type": "markdown",
   "metadata": {},
   "source": [
    "Средний чек становится равномерным к самому концу теста (примерно к 29 августа). Есть резкий всплекс по среднему чеку в **группе В** после 17 августа. Возможно, в этот период стало больше заказов или заказы стали дороже."
   ]
  },
  {
   "cell_type": "markdown",
   "metadata": {},
   "source": [
    "<font color='blue'>График относительного изменения кумулятивного среднего чека группы B к группе A</font>"
   ]
  },
  {
   "cell_type": "code",
   "execution_count": 23,
   "metadata": {},
   "outputs": [],
   "source": [
    "mergedCumulativeRevenue = cumulativeRevenueA.merge(cumulativeRevenueB, left_on='date', right_on='date', how='left', suffixes=['A', 'B'])"
   ]
  },
  {
   "cell_type": "code",
   "execution_count": 24,
   "metadata": {},
   "outputs": [
    {
     "data": {
      "image/png": "[encoded data removed]",
      "text/plain": [
       "<Figure size 864x720 with 1 Axes>"
      ]
     },
     "metadata": {},
     "output_type": "display_data"
    }
   ],
   "source": [
    "plt.plot(mergedCumulativeRevenue['date'], (mergedCumulativeRevenue['revenueB']/mergedCumulativeRevenue['ordersB'])/(mergedCumulativeRevenue['revenueA']/mergedCumulativeRevenue['ordersA'])-1, color=random.choice(colors))\n",
    "plt.axhline(y=0, color=random.choice(colors), linestyle='--') \n",
    "plt.title(\"Соотношение средних чеков\")\n",
    "plt.xlabel('Дата')\n",
    "plt.ylabel('Отношение средних чеков')\n",
    "plt.xticks(rotation=90)\n",
    "plt.show()"
   ]
  },
  {
   "cell_type": "markdown",
   "metadata": {},
   "source": [
    "В нескольких точках есть резкие спады и скачки средних чеков. После 17 августа средний чек **группы В** стал почти на 50% выше среднего чека **группы А**. Возможно, это влияние размера заказов \"аномальные заказы\". \n",
    "\n",
    "На графике видно, что результаты **группы В**, хоть и начали снижаться после 21 августа, но все равно, к концу тестового периода,остаются примерно на 25% лучше результатов **группы А**."
   ]
  },
  {
   "cell_type": "markdown",
   "metadata": {},
   "source": [
    "<font color='blue'>График кумулятивной конверсии по группам</font>"
   ]
  },
  {
   "cell_type": "code",
   "execution_count": 25,
   "metadata": {},
   "outputs": [
    {
     "data": {
      "text/html": [
       "<div>\n",
       "<style scoped>\n",
       "    .dataframe tbody tr th:only-of-type {\n",
       "        vertical-align: middle;\n",
       "    }\n",
       "\n",
       "    .dataframe tbody tr th {\n",
       "        vertical-align: top;\n",
       "    }\n",
       "\n",
       "    .dataframe thead th {\n",
       "        text-align: right;\n",
       "    }\n",
       "</style>\n",
       "<table border=\"1\" class=\"dataframe\">\n",
       "  <thead>\n",
       "    <tr style=\"text-align: right;\">\n",
       "      <th></th>\n",
       "      <th>date</th>\n",
       "      <th>group</th>\n",
       "      <th>orders</th>\n",
       "      <th>buyers</th>\n",
       "      <th>revenue</th>\n",
       "      <th>visitors</th>\n",
       "      <th>conversion</th>\n",
       "    </tr>\n",
       "  </thead>\n",
       "  <tbody>\n",
       "    <tr>\n",
       "      <td>0</td>\n",
       "      <td>2019-08-01</td>\n",
       "      <td>A</td>\n",
       "      <td>24</td>\n",
       "      <td>20</td>\n",
       "      <td>148579</td>\n",
       "      <td>719</td>\n",
       "      <td>0.033380</td>\n",
       "    </tr>\n",
       "    <tr>\n",
       "      <td>1</td>\n",
       "      <td>2019-08-01</td>\n",
       "      <td>B</td>\n",
       "      <td>21</td>\n",
       "      <td>20</td>\n",
       "      <td>101217</td>\n",
       "      <td>713</td>\n",
       "      <td>0.029453</td>\n",
       "    </tr>\n",
       "    <tr>\n",
       "      <td>2</td>\n",
       "      <td>2019-08-02</td>\n",
       "      <td>A</td>\n",
       "      <td>44</td>\n",
       "      <td>38</td>\n",
       "      <td>242401</td>\n",
       "      <td>1338</td>\n",
       "      <td>0.032885</td>\n",
       "    </tr>\n",
       "    <tr>\n",
       "      <td>3</td>\n",
       "      <td>2019-08-02</td>\n",
       "      <td>B</td>\n",
       "      <td>45</td>\n",
       "      <td>43</td>\n",
       "      <td>266748</td>\n",
       "      <td>1294</td>\n",
       "      <td>0.034776</td>\n",
       "    </tr>\n",
       "    <tr>\n",
       "      <td>4</td>\n",
       "      <td>2019-08-03</td>\n",
       "      <td>A</td>\n",
       "      <td>68</td>\n",
       "      <td>62</td>\n",
       "      <td>354874</td>\n",
       "      <td>1845</td>\n",
       "      <td>0.036856</td>\n",
       "    </tr>\n",
       "  </tbody>\n",
       "</table>\n",
       "</div>"
      ],
      "text/plain": [
       "        date group  orders  buyers  revenue  visitors  conversion\n",
       "0 2019-08-01     A      24      20   148579       719    0.033380\n",
       "1 2019-08-01     B      21      20   101217       713    0.029453\n",
       "2 2019-08-02     A      44      38   242401      1338    0.032885\n",
       "3 2019-08-02     B      45      43   266748      1294    0.034776\n",
       "4 2019-08-03     A      68      62   354874      1845    0.036856"
      ]
     },
     "execution_count": 25,
     "metadata": {},
     "output_type": "execute_result"
    }
   ],
   "source": [
    "cumulativeData['conversion'] = cumulativeData['orders']/cumulativeData['visitors']\n",
    "cumulativeData.head(5)"
   ]
  },
  {
   "cell_type": "markdown",
   "metadata": {},
   "source": [
    "**Группа А**"
   ]
  },
  {
   "cell_type": "code",
   "execution_count": 26,
   "metadata": {},
   "outputs": [
    {
     "data": {
      "text/html": [
       "<div>\n",
       "<style scoped>\n",
       "    .dataframe tbody tr th:only-of-type {\n",
       "        vertical-align: middle;\n",
       "    }\n",
       "\n",
       "    .dataframe tbody tr th {\n",
       "        vertical-align: top;\n",
       "    }\n",
       "\n",
       "    .dataframe thead th {\n",
       "        text-align: right;\n",
       "    }\n",
       "</style>\n",
       "<table border=\"1\" class=\"dataframe\">\n",
       "  <thead>\n",
       "    <tr style=\"text-align: right;\">\n",
       "      <th></th>\n",
       "      <th>date</th>\n",
       "      <th>group</th>\n",
       "      <th>orders</th>\n",
       "      <th>buyers</th>\n",
       "      <th>revenue</th>\n",
       "      <th>visitors</th>\n",
       "      <th>conversion</th>\n",
       "    </tr>\n",
       "  </thead>\n",
       "  <tbody>\n",
       "    <tr>\n",
       "      <td>0</td>\n",
       "      <td>2019-08-01</td>\n",
       "      <td>A</td>\n",
       "      <td>24</td>\n",
       "      <td>20</td>\n",
       "      <td>148579</td>\n",
       "      <td>719</td>\n",
       "      <td>0.033380</td>\n",
       "    </tr>\n",
       "    <tr>\n",
       "      <td>2</td>\n",
       "      <td>2019-08-02</td>\n",
       "      <td>A</td>\n",
       "      <td>44</td>\n",
       "      <td>38</td>\n",
       "      <td>242401</td>\n",
       "      <td>1338</td>\n",
       "      <td>0.032885</td>\n",
       "    </tr>\n",
       "    <tr>\n",
       "      <td>4</td>\n",
       "      <td>2019-08-03</td>\n",
       "      <td>A</td>\n",
       "      <td>68</td>\n",
       "      <td>62</td>\n",
       "      <td>354874</td>\n",
       "      <td>1845</td>\n",
       "      <td>0.036856</td>\n",
       "    </tr>\n",
       "    <tr>\n",
       "      <td>6</td>\n",
       "      <td>2019-08-04</td>\n",
       "      <td>A</td>\n",
       "      <td>84</td>\n",
       "      <td>77</td>\n",
       "      <td>425699</td>\n",
       "      <td>2562</td>\n",
       "      <td>0.032787</td>\n",
       "    </tr>\n",
       "    <tr>\n",
       "      <td>8</td>\n",
       "      <td>2019-08-05</td>\n",
       "      <td>A</td>\n",
       "      <td>109</td>\n",
       "      <td>100</td>\n",
       "      <td>549917</td>\n",
       "      <td>3318</td>\n",
       "      <td>0.032851</td>\n",
       "    </tr>\n",
       "  </tbody>\n",
       "</table>\n",
       "</div>"
      ],
      "text/plain": [
       "        date group  orders  buyers  revenue  visitors  conversion\n",
       "0 2019-08-01     A      24      20   148579       719    0.033380\n",
       "2 2019-08-02     A      44      38   242401      1338    0.032885\n",
       "4 2019-08-03     A      68      62   354874      1845    0.036856\n",
       "6 2019-08-04     A      84      77   425699      2562    0.032787\n",
       "8 2019-08-05     A     109     100   549917      3318    0.032851"
      ]
     },
     "execution_count": 26,
     "metadata": {},
     "output_type": "execute_result"
    }
   ],
   "source": [
    "cumulativeDataA = cumulativeData[cumulativeData['group']=='A']\n",
    "cumulativeDataA.head(5)"
   ]
  },
  {
   "cell_type": "markdown",
   "metadata": {},
   "source": [
    "**Группа В**"
   ]
  },
  {
   "cell_type": "code",
   "execution_count": 27,
   "metadata": {},
   "outputs": [
    {
     "data": {
      "text/html": [
       "<div>\n",
       "<style scoped>\n",
       "    .dataframe tbody tr th:only-of-type {\n",
       "        vertical-align: middle;\n",
       "    }\n",
       "\n",
       "    .dataframe tbody tr th {\n",
       "        vertical-align: top;\n",
       "    }\n",
       "\n",
       "    .dataframe thead th {\n",
       "        text-align: right;\n",
       "    }\n",
       "</style>\n",
       "<table border=\"1\" class=\"dataframe\">\n",
       "  <thead>\n",
       "    <tr style=\"text-align: right;\">\n",
       "      <th></th>\n",
       "      <th>date</th>\n",
       "      <th>group</th>\n",
       "      <th>orders</th>\n",
       "      <th>buyers</th>\n",
       "      <th>revenue</th>\n",
       "      <th>visitors</th>\n",
       "      <th>conversion</th>\n",
       "    </tr>\n",
       "  </thead>\n",
       "  <tbody>\n",
       "    <tr>\n",
       "      <td>1</td>\n",
       "      <td>2019-08-01</td>\n",
       "      <td>B</td>\n",
       "      <td>21</td>\n",
       "      <td>20</td>\n",
       "      <td>101217</td>\n",
       "      <td>713</td>\n",
       "      <td>0.029453</td>\n",
       "    </tr>\n",
       "    <tr>\n",
       "      <td>3</td>\n",
       "      <td>2019-08-02</td>\n",
       "      <td>B</td>\n",
       "      <td>45</td>\n",
       "      <td>43</td>\n",
       "      <td>266748</td>\n",
       "      <td>1294</td>\n",
       "      <td>0.034776</td>\n",
       "    </tr>\n",
       "    <tr>\n",
       "      <td>5</td>\n",
       "      <td>2019-08-03</td>\n",
       "      <td>B</td>\n",
       "      <td>61</td>\n",
       "      <td>59</td>\n",
       "      <td>380996</td>\n",
       "      <td>1803</td>\n",
       "      <td>0.033833</td>\n",
       "    </tr>\n",
       "    <tr>\n",
       "      <td>7</td>\n",
       "      <td>2019-08-04</td>\n",
       "      <td>B</td>\n",
       "      <td>78</td>\n",
       "      <td>75</td>\n",
       "      <td>489567</td>\n",
       "      <td>2573</td>\n",
       "      <td>0.030315</td>\n",
       "    </tr>\n",
       "    <tr>\n",
       "      <td>9</td>\n",
       "      <td>2019-08-05</td>\n",
       "      <td>B</td>\n",
       "      <td>101</td>\n",
       "      <td>98</td>\n",
       "      <td>581995</td>\n",
       "      <td>3280</td>\n",
       "      <td>0.030793</td>\n",
       "    </tr>\n",
       "  </tbody>\n",
       "</table>\n",
       "</div>"
      ],
      "text/plain": [
       "        date group  orders  buyers  revenue  visitors  conversion\n",
       "1 2019-08-01     B      21      20   101217       713    0.029453\n",
       "3 2019-08-02     B      45      43   266748      1294    0.034776\n",
       "5 2019-08-03     B      61      59   380996      1803    0.033833\n",
       "7 2019-08-04     B      78      75   489567      2573    0.030315\n",
       "9 2019-08-05     B     101      98   581995      3280    0.030793"
      ]
     },
     "execution_count": 27,
     "metadata": {},
     "output_type": "execute_result"
    }
   ],
   "source": [
    "cumulativeDataB = cumulativeData[cumulativeData['group']=='B']\n",
    "cumulativeDataB.head(5)"
   ]
  },
  {
   "cell_type": "code",
   "execution_count": 28,
   "metadata": {
    "scrolled": false
   },
   "outputs": [
    {
     "data": {
      "image/png": "[encoded data removed]",
      "text/plain": [
       "<Figure size 864x720 with 1 Axes>"
      ]
     },
     "metadata": {},
     "output_type": "display_data"
    }
   ],
   "source": [
    "plt.plot(cumulativeDataA['date'], cumulativeDataA['conversion'], label='A', color='lime')\n",
    "plt.plot(cumulativeDataB['date'], cumulativeDataB['conversion'], label='B', color='red')\n",
    "plt.title(\"Кумулятивная конверсия по группам\")\n",
    "plt.xlabel('Дата')\n",
    "plt.ylabel('Кумулятивная конверсия')\n",
    "plt.axis([\"2019-08-01\", '2019-08-31', 0.025, 0.04]) \n",
    "plt.xticks(rotation=90)\n",
    "plt.legend()\n",
    "plt.show()"
   ]
  },
  {
   "cell_type": "markdown",
   "metadata": {},
   "source": [
    "Получается симметричный график конверсий, до 5 августа группы колебались около одного значения, затем конверсия группы В начала рост и зафиксировалась, а конверсия группы А просела и также зафиксировалась."
   ]
  },
  {
   "cell_type": "markdown",
   "metadata": {},
   "source": [
    "<font color='blue'>График относительного изменения кумулятивной конверсии группы B к группе A</font>"
   ]
  },
  {
   "cell_type": "code",
   "execution_count": 29,
   "metadata": {},
   "outputs": [
    {
     "data": {
      "text/html": [
       "<div>\n",
       "<style scoped>\n",
       "    .dataframe tbody tr th:only-of-type {\n",
       "        vertical-align: middle;\n",
       "    }\n",
       "\n",
       "    .dataframe tbody tr th {\n",
       "        vertical-align: top;\n",
       "    }\n",
       "\n",
       "    .dataframe thead th {\n",
       "        text-align: right;\n",
       "    }\n",
       "</style>\n",
       "<table border=\"1\" class=\"dataframe\">\n",
       "  <thead>\n",
       "    <tr style=\"text-align: right;\">\n",
       "      <th></th>\n",
       "      <th>date</th>\n",
       "      <th>conversionA</th>\n",
       "      <th>conversionB</th>\n",
       "    </tr>\n",
       "  </thead>\n",
       "  <tbody>\n",
       "    <tr>\n",
       "      <td>0</td>\n",
       "      <td>2019-08-01</td>\n",
       "      <td>0.033380</td>\n",
       "      <td>0.029453</td>\n",
       "    </tr>\n",
       "    <tr>\n",
       "      <td>1</td>\n",
       "      <td>2019-08-02</td>\n",
       "      <td>0.032885</td>\n",
       "      <td>0.034776</td>\n",
       "    </tr>\n",
       "    <tr>\n",
       "      <td>2</td>\n",
       "      <td>2019-08-03</td>\n",
       "      <td>0.036856</td>\n",
       "      <td>0.033833</td>\n",
       "    </tr>\n",
       "    <tr>\n",
       "      <td>3</td>\n",
       "      <td>2019-08-04</td>\n",
       "      <td>0.032787</td>\n",
       "      <td>0.030315</td>\n",
       "    </tr>\n",
       "    <tr>\n",
       "      <td>4</td>\n",
       "      <td>2019-08-05</td>\n",
       "      <td>0.032851</td>\n",
       "      <td>0.030793</td>\n",
       "    </tr>\n",
       "  </tbody>\n",
       "</table>\n",
       "</div>"
      ],
      "text/plain": [
       "        date  conversionA  conversionB\n",
       "0 2019-08-01     0.033380     0.029453\n",
       "1 2019-08-02     0.032885     0.034776\n",
       "2 2019-08-03     0.036856     0.033833\n",
       "3 2019-08-04     0.032787     0.030315\n",
       "4 2019-08-05     0.032851     0.030793"
      ]
     },
     "execution_count": 29,
     "metadata": {},
     "output_type": "execute_result"
    }
   ],
   "source": [
    "mergedCumulativeConversions = cumulativeDataA[['date','conversion']].merge(cumulativeDataB[['date','conversion']], left_on='date', right_on='date', how='left', suffixes=['A', 'B'])\n",
    "mergedCumulativeConversions.head(5)"
   ]
  },
  {
   "cell_type": "code",
   "execution_count": 30,
   "metadata": {},
   "outputs": [
    {
     "data": {
      "image/png": "[encoded data removed]",
      "text/plain": [
       "<Figure size 864x720 with 1 Axes>"
      ]
     },
     "metadata": {},
     "output_type": "display_data"
    }
   ],
   "source": [
    "plt.plot(mergedCumulativeConversions['date'], mergedCumulativeConversions['conversionB']/mergedCumulativeConversions['conversionA']-1, label=\"Относительный прирост конверсии B относительно A\", color=random.choice(colors))\n",
    "plt.legend()\n",
    "plt.axhline(y=0, color=random.choice(colors), linestyle='--')\n",
    "plt.axis([\"2019-08-01\", '2019-08-31', -0.2, 0.3]) \n",
    "plt.title(\"Относительное изменение кумулятивной конверсии группы B к группе A\")\n",
    "plt.xlabel('Дата')\n",
    "plt.ylabel('Отношение кумулятивных конверсий')\n",
    "plt.xticks(rotation=90)\n",
    "plt.legend()\n",
    "plt.show()"
   ]
  },
  {
   "cell_type": "markdown",
   "metadata": {},
   "source": [
    "Конверсия группы В имеет волнообразный характер, достигает пиков прироста в 20% относительно группы А в первой половине августа, потом колебалась вверх-вниз и зафиксировалась к концу месяца примерно на уровне 10%. Можно говорить о том, что результаты группы В лучше результатов группы А."
   ]
  },
  {
   "cell_type": "markdown",
   "metadata": {},
   "source": [
    "<font color='blue'>Точечный график количества заказов по пользователям</font>"
   ]
  },
  {
   "cell_type": "code",
   "execution_count": 31,
   "metadata": {},
   "outputs": [
    {
     "data": {
      "text/html": [
       "<div>\n",
       "<style scoped>\n",
       "    .dataframe tbody tr th:only-of-type {\n",
       "        vertical-align: middle;\n",
       "    }\n",
       "\n",
       "    .dataframe tbody tr th {\n",
       "        vertical-align: top;\n",
       "    }\n",
       "\n",
       "    .dataframe thead th {\n",
       "        text-align: right;\n",
       "    }\n",
       "</style>\n",
       "<table border=\"1\" class=\"dataframe\">\n",
       "  <thead>\n",
       "    <tr style=\"text-align: right;\">\n",
       "      <th></th>\n",
       "      <th>userId</th>\n",
       "      <th>orders</th>\n",
       "    </tr>\n",
       "  </thead>\n",
       "  <tbody>\n",
       "    <tr>\n",
       "      <td>1023</td>\n",
       "      <td>4256040402</td>\n",
       "      <td>11</td>\n",
       "    </tr>\n",
       "    <tr>\n",
       "      <td>591</td>\n",
       "      <td>2458001652</td>\n",
       "      <td>11</td>\n",
       "    </tr>\n",
       "    <tr>\n",
       "      <td>569</td>\n",
       "      <td>2378935119</td>\n",
       "      <td>9</td>\n",
       "    </tr>\n",
       "    <tr>\n",
       "      <td>487</td>\n",
       "      <td>2038680547</td>\n",
       "      <td>8</td>\n",
       "    </tr>\n",
       "    <tr>\n",
       "      <td>44</td>\n",
       "      <td>199603092</td>\n",
       "      <td>5</td>\n",
       "    </tr>\n",
       "    <tr>\n",
       "      <td>744</td>\n",
       "      <td>3062433592</td>\n",
       "      <td>5</td>\n",
       "    </tr>\n",
       "    <tr>\n",
       "      <td>55</td>\n",
       "      <td>237748145</td>\n",
       "      <td>5</td>\n",
       "    </tr>\n",
       "    <tr>\n",
       "      <td>917</td>\n",
       "      <td>3803269165</td>\n",
       "      <td>5</td>\n",
       "    </tr>\n",
       "    <tr>\n",
       "      <td>299</td>\n",
       "      <td>1230306981</td>\n",
       "      <td>5</td>\n",
       "    </tr>\n",
       "    <tr>\n",
       "      <td>897</td>\n",
       "      <td>3717692402</td>\n",
       "      <td>5</td>\n",
       "    </tr>\n",
       "  </tbody>\n",
       "</table>\n",
       "</div>"
      ],
      "text/plain": [
       "          userId  orders\n",
       "1023  4256040402      11\n",
       "591   2458001652      11\n",
       "569   2378935119       9\n",
       "487   2038680547       8\n",
       "44     199603092       5\n",
       "744   3062433592       5\n",
       "55     237748145       5\n",
       "917   3803269165       5\n",
       "299   1230306981       5\n",
       "897   3717692402       5"
      ]
     },
     "metadata": {},
     "output_type": "display_data"
    }
   ],
   "source": [
    "ordersByUsers = (\n",
    "    orders.drop(['group', 'revenue', 'date'], axis=1).groupby('visitorId', as_index=False).agg({'transactionId' : pd.Series.nunique})\n",
    ")\n",
    "ordersByUsers.columns = ['userId', 'orders']\n",
    "display(ordersByUsers.sort_values(by='orders', ascending=False).head(10))"
   ]
  },
  {
   "cell_type": "code",
   "execution_count": 32,
   "metadata": {
    "scrolled": false
   },
   "outputs": [
    {
     "data": {
      "image/png": "[encoded data removed]",
      "text/plain": [
       "<Figure size 864x720 with 1 Axes>"
      ]
     },
     "metadata": {},
     "output_type": "display_data"
    }
   ],
   "source": [
    "x_values = pd.Series(range(0, len(ordersByUsers)))\n",
    "plt.scatter(x_values, ordersByUsers['orders'], color=random.choice(colors)) \n",
    "plt.title(\"Точечный график количества заказов по пользователям\")\n",
    "plt.xlabel('Пользователи')\n",
    "plt.ylabel('Количество заказов')\n",
    "plt.show()"
   ]
  },
  {
   "cell_type": "markdown",
   "metadata": {},
   "source": [
    "Мало пользователей, которые сделали больше 2 заказов. Оценить аномалия это или нет, можно если рассчитать выборочные перцентили."
   ]
  },
  {
   "cell_type": "markdown",
   "metadata": {},
   "source": [
    "<font color='blue'>95-й и 99-й перцентили количества заказов на пользователя</font>"
   ]
  },
  {
   "cell_type": "code",
   "execution_count": 33,
   "metadata": {},
   "outputs": [
    {
     "data": {
      "text/plain": [
       "array([2., 4.])"
      ]
     },
     "metadata": {},
     "output_type": "display_data"
    }
   ],
   "source": [
    "display(np.percentile(ordersByUsers['orders'], [ 95, 99]))"
   ]
  },
  {
   "cell_type": "markdown",
   "metadata": {},
   "source": [
    "Не более 5% пользователей оформляли больше, чем 2 заказа. \n",
    "\n",
    "1% пользователей заказывал более 4 раз.\n",
    "\n",
    "2 заказа на одного пользователя - нижняя граница числа заказов. По ней отрежу аномальных пользователей."
   ]
  },
  {
   "cell_type": "markdown",
   "metadata": {},
   "source": [
    "<font color='blue'>Точечный график стоимостей заказов</font>"
   ]
  },
  {
   "cell_type": "code",
   "execution_count": 34,
   "metadata": {},
   "outputs": [
    {
     "data": {
      "image/png": "[encoded data removed]",
      "text/plain": [
       "<Figure size 864x720 with 1 Axes>"
      ]
     },
     "metadata": {},
     "output_type": "display_data"
    }
   ],
   "source": [
    "x_values = pd.Series(range(0,len(orders['revenue'])))\n",
    "plt.scatter(x_values, orders['revenue'], color=random.choice(colors)) \n",
    "plt.title(\"Точечный график стоимости заказов\")\n",
    "plt.xlabel('Заказы')\n",
    "plt.ylabel('Стоимость')\n",
    "plt.show()"
   ]
  },
  {
   "cell_type": "markdown",
   "metadata": {},
   "source": [
    "Очень мало заказов дороже 20 000 (только 2 явных выброса). Возьму 19 000 как границу для аномальных заказов, так как в эту сумму укладывается большая часть совершенных заказов."
   ]
  },
  {
   "cell_type": "markdown",
   "metadata": {},
   "source": [
    "<font color='blue'>95-й и 99-й перцентили стоимости заказов</font>"
   ]
  },
  {
   "cell_type": "code",
   "execution_count": 35,
   "metadata": {},
   "outputs": [
    {
     "data": {
      "text/plain": [
       "array([28000. , 58233.2])"
      ]
     },
     "metadata": {},
     "output_type": "display_data"
    }
   ],
   "source": [
    "display(np.percentile(orders['revenue'], [95, 99]))"
   ]
  },
  {
   "cell_type": "markdown",
   "metadata": {},
   "source": [
    "Не более 5% заказов дороже 28 000 и не более 1% дороже 58 233,2. 28 000 - граница для определения аномальных заказов."
   ]
  },
  {
   "cell_type": "markdown",
   "metadata": {},
   "source": [
    "<font color='blue'>Статистическая значимость различий в конверсии между группами по «сырым» данным</font>"
   ]
  },
  {
   "cell_type": "code",
   "execution_count": 36,
   "metadata": {},
   "outputs": [
    {
     "data": {
      "text/html": [
       "<div>\n",
       "<style scoped>\n",
       "    .dataframe tbody tr th:only-of-type {\n",
       "        vertical-align: middle;\n",
       "    }\n",
       "\n",
       "    .dataframe tbody tr th {\n",
       "        vertical-align: top;\n",
       "    }\n",
       "\n",
       "    .dataframe thead th {\n",
       "        text-align: right;\n",
       "    }\n",
       "</style>\n",
       "<table border=\"1\" class=\"dataframe\">\n",
       "  <thead>\n",
       "    <tr style=\"text-align: right;\">\n",
       "      <th></th>\n",
       "      <th>date</th>\n",
       "      <th>visitorsPerDateA</th>\n",
       "    </tr>\n",
       "  </thead>\n",
       "  <tbody>\n",
       "    <tr>\n",
       "      <td>0</td>\n",
       "      <td>2019-08-01</td>\n",
       "      <td>719</td>\n",
       "    </tr>\n",
       "    <tr>\n",
       "      <td>1</td>\n",
       "      <td>2019-08-02</td>\n",
       "      <td>619</td>\n",
       "    </tr>\n",
       "    <tr>\n",
       "      <td>2</td>\n",
       "      <td>2019-08-03</td>\n",
       "      <td>507</td>\n",
       "    </tr>\n",
       "    <tr>\n",
       "      <td>3</td>\n",
       "      <td>2019-08-04</td>\n",
       "      <td>717</td>\n",
       "    </tr>\n",
       "    <tr>\n",
       "      <td>4</td>\n",
       "      <td>2019-08-05</td>\n",
       "      <td>756</td>\n",
       "    </tr>\n",
       "  </tbody>\n",
       "</table>\n",
       "</div>"
      ],
      "text/plain": [
       "        date  visitorsPerDateA\n",
       "0 2019-08-01               719\n",
       "1 2019-08-02               619\n",
       "2 2019-08-03               507\n",
       "3 2019-08-04               717\n",
       "4 2019-08-05               756"
      ]
     },
     "execution_count": 36,
     "metadata": {},
     "output_type": "execute_result"
    }
   ],
   "source": [
    "visitorsADaily = visitors[visitors['group'] == 'A'][['date', 'visitors']]\n",
    "visitorsADaily.columns = ['date', 'visitorsPerDateA']\n",
    "visitorsADaily.head(5)"
   ]
  },
  {
   "cell_type": "code",
   "execution_count": 37,
   "metadata": {},
   "outputs": [
    {
     "data": {
      "text/html": [
       "<div>\n",
       "<style scoped>\n",
       "    .dataframe tbody tr th:only-of-type {\n",
       "        vertical-align: middle;\n",
       "    }\n",
       "\n",
       "    .dataframe tbody tr th {\n",
       "        vertical-align: top;\n",
       "    }\n",
       "\n",
       "    .dataframe thead th {\n",
       "        text-align: right;\n",
       "    }\n",
       "</style>\n",
       "<table border=\"1\" class=\"dataframe\">\n",
       "  <thead>\n",
       "    <tr style=\"text-align: right;\">\n",
       "      <th></th>\n",
       "      <th>date</th>\n",
       "      <th>visitorsCummulativeA</th>\n",
       "    </tr>\n",
       "  </thead>\n",
       "  <tbody>\n",
       "    <tr>\n",
       "      <td>0</td>\n",
       "      <td>2019-08-01</td>\n",
       "      <td>719</td>\n",
       "    </tr>\n",
       "    <tr>\n",
       "      <td>1</td>\n",
       "      <td>2019-08-02</td>\n",
       "      <td>1338</td>\n",
       "    </tr>\n",
       "    <tr>\n",
       "      <td>2</td>\n",
       "      <td>2019-08-03</td>\n",
       "      <td>1845</td>\n",
       "    </tr>\n",
       "    <tr>\n",
       "      <td>3</td>\n",
       "      <td>2019-08-04</td>\n",
       "      <td>2562</td>\n",
       "    </tr>\n",
       "    <tr>\n",
       "      <td>4</td>\n",
       "      <td>2019-08-05</td>\n",
       "      <td>3318</td>\n",
       "    </tr>\n",
       "  </tbody>\n",
       "</table>\n",
       "</div>"
      ],
      "text/plain": [
       "        date  visitorsCummulativeA\n",
       "0 2019-08-01                   719\n",
       "1 2019-08-02                  1338\n",
       "2 2019-08-03                  1845\n",
       "3 2019-08-04                  2562\n",
       "4 2019-08-05                  3318"
      ]
     },
     "execution_count": 37,
     "metadata": {},
     "output_type": "execute_result"
    }
   ],
   "source": [
    "visitorsACummulative = visitorsADaily.apply(\n",
    "    lambda x: visitorsADaily[visitorsADaily['date'] <= x['date']].agg(\n",
    "        {'date': 'max', 'visitorsPerDateA': 'sum'}\n",
    "    ),\n",
    "    axis=1,\n",
    ")\n",
    "visitorsACummulative.columns = ['date', 'visitorsCummulativeA']\n",
    "visitorsACummulative.head(5)"
   ]
  },
  {
   "cell_type": "code",
   "execution_count": 38,
   "metadata": {},
   "outputs": [],
   "source": [
    "visitorsBDaily = visitors[visitors['group'] == 'B'][['date', 'visitors']]\n",
    "visitorsBDaily.columns = ['date', 'visitorsPerDateB']"
   ]
  },
  {
   "cell_type": "code",
   "execution_count": 39,
   "metadata": {},
   "outputs": [
    {
     "data": {
      "text/html": [
       "<div>\n",
       "<style scoped>\n",
       "    .dataframe tbody tr th:only-of-type {\n",
       "        vertical-align: middle;\n",
       "    }\n",
       "\n",
       "    .dataframe tbody tr th {\n",
       "        vertical-align: top;\n",
       "    }\n",
       "\n",
       "    .dataframe thead th {\n",
       "        text-align: right;\n",
       "    }\n",
       "</style>\n",
       "<table border=\"1\" class=\"dataframe\">\n",
       "  <thead>\n",
       "    <tr style=\"text-align: right;\">\n",
       "      <th></th>\n",
       "      <th>date</th>\n",
       "      <th>visitorsCummulativeB</th>\n",
       "    </tr>\n",
       "  </thead>\n",
       "  <tbody>\n",
       "    <tr>\n",
       "      <td>31</td>\n",
       "      <td>2019-08-01</td>\n",
       "      <td>713</td>\n",
       "    </tr>\n",
       "    <tr>\n",
       "      <td>32</td>\n",
       "      <td>2019-08-02</td>\n",
       "      <td>1294</td>\n",
       "    </tr>\n",
       "    <tr>\n",
       "      <td>33</td>\n",
       "      <td>2019-08-03</td>\n",
       "      <td>1803</td>\n",
       "    </tr>\n",
       "    <tr>\n",
       "      <td>34</td>\n",
       "      <td>2019-08-04</td>\n",
       "      <td>2573</td>\n",
       "    </tr>\n",
       "    <tr>\n",
       "      <td>35</td>\n",
       "      <td>2019-08-05</td>\n",
       "      <td>3280</td>\n",
       "    </tr>\n",
       "  </tbody>\n",
       "</table>\n",
       "</div>"
      ],
      "text/plain": [
       "         date  visitorsCummulativeB\n",
       "31 2019-08-01                   713\n",
       "32 2019-08-02                  1294\n",
       "33 2019-08-03                  1803\n",
       "34 2019-08-04                  2573\n",
       "35 2019-08-05                  3280"
      ]
     },
     "execution_count": 39,
     "metadata": {},
     "output_type": "execute_result"
    }
   ],
   "source": [
    "visitorsBCummulative = visitorsBDaily.apply(\n",
    "    lambda x: visitorsBDaily[visitorsBDaily['date'] <= x['date']].agg(\n",
    "        {'date': 'max', 'visitorsPerDateB': 'sum'}\n",
    "    ),\n",
    "    axis=1,\n",
    ")\n",
    "visitorsBCummulative.columns = ['date', 'visitorsCummulativeB']\n",
    "visitorsBCummulative.head(5)"
   ]
  },
  {
   "cell_type": "code",
   "execution_count": 40,
   "metadata": {},
   "outputs": [
    {
     "data": {
      "text/html": [
       "<div>\n",
       "<style scoped>\n",
       "    .dataframe tbody tr th:only-of-type {\n",
       "        vertical-align: middle;\n",
       "    }\n",
       "\n",
       "    .dataframe tbody tr th {\n",
       "        vertical-align: top;\n",
       "    }\n",
       "\n",
       "    .dataframe thead th {\n",
       "        text-align: right;\n",
       "    }\n",
       "</style>\n",
       "<table border=\"1\" class=\"dataframe\">\n",
       "  <thead>\n",
       "    <tr style=\"text-align: right;\">\n",
       "      <th></th>\n",
       "      <th>date</th>\n",
       "      <th>ordersPerDateA</th>\n",
       "      <th>revenuePerDateA</th>\n",
       "    </tr>\n",
       "  </thead>\n",
       "  <tbody>\n",
       "    <tr>\n",
       "      <td>0</td>\n",
       "      <td>2019-08-01</td>\n",
       "      <td>24</td>\n",
       "      <td>148579</td>\n",
       "    </tr>\n",
       "    <tr>\n",
       "      <td>1</td>\n",
       "      <td>2019-08-02</td>\n",
       "      <td>20</td>\n",
       "      <td>93822</td>\n",
       "    </tr>\n",
       "    <tr>\n",
       "      <td>2</td>\n",
       "      <td>2019-08-03</td>\n",
       "      <td>24</td>\n",
       "      <td>112473</td>\n",
       "    </tr>\n",
       "    <tr>\n",
       "      <td>3</td>\n",
       "      <td>2019-08-04</td>\n",
       "      <td>16</td>\n",
       "      <td>70825</td>\n",
       "    </tr>\n",
       "    <tr>\n",
       "      <td>4</td>\n",
       "      <td>2019-08-05</td>\n",
       "      <td>25</td>\n",
       "      <td>124218</td>\n",
       "    </tr>\n",
       "  </tbody>\n",
       "</table>\n",
       "</div>"
      ],
      "text/plain": [
       "        date  ordersPerDateA  revenuePerDateA\n",
       "0 2019-08-01              24           148579\n",
       "1 2019-08-02              20            93822\n",
       "2 2019-08-03              24           112473\n",
       "3 2019-08-04              16            70825\n",
       "4 2019-08-05              25           124218"
      ]
     },
     "execution_count": 40,
     "metadata": {},
     "output_type": "execute_result"
    }
   ],
   "source": [
    "ordersADaily = (\n",
    "    orders[orders['group'] == 'A'][['date', 'transactionId', 'visitorId', 'revenue']]\n",
    "    .groupby('date', as_index=False)\n",
    "    .agg({'transactionId': pd.Series.nunique, 'revenue': 'sum'})\n",
    ")\n",
    "ordersADaily.columns = ['date', 'ordersPerDateA', 'revenuePerDateA']\n",
    "ordersADaily.head(5)"
   ]
  },
  {
   "cell_type": "code",
   "execution_count": 41,
   "metadata": {},
   "outputs": [
    {
     "data": {
      "text/html": [
       "<div>\n",
       "<style scoped>\n",
       "    .dataframe tbody tr th:only-of-type {\n",
       "        vertical-align: middle;\n",
       "    }\n",
       "\n",
       "    .dataframe tbody tr th {\n",
       "        vertical-align: top;\n",
       "    }\n",
       "\n",
       "    .dataframe thead th {\n",
       "        text-align: right;\n",
       "    }\n",
       "</style>\n",
       "<table border=\"1\" class=\"dataframe\">\n",
       "  <thead>\n",
       "    <tr style=\"text-align: right;\">\n",
       "      <th></th>\n",
       "      <th>date</th>\n",
       "      <th>ordersCummulativeA</th>\n",
       "      <th>revenueCummulativeA</th>\n",
       "    </tr>\n",
       "  </thead>\n",
       "  <tbody>\n",
       "    <tr>\n",
       "      <td>0</td>\n",
       "      <td>2019-08-01</td>\n",
       "      <td>24</td>\n",
       "      <td>148579</td>\n",
       "    </tr>\n",
       "    <tr>\n",
       "      <td>1</td>\n",
       "      <td>2019-08-02</td>\n",
       "      <td>44</td>\n",
       "      <td>242401</td>\n",
       "    </tr>\n",
       "    <tr>\n",
       "      <td>2</td>\n",
       "      <td>2019-08-03</td>\n",
       "      <td>68</td>\n",
       "      <td>354874</td>\n",
       "    </tr>\n",
       "    <tr>\n",
       "      <td>3</td>\n",
       "      <td>2019-08-04</td>\n",
       "      <td>84</td>\n",
       "      <td>425699</td>\n",
       "    </tr>\n",
       "    <tr>\n",
       "      <td>4</td>\n",
       "      <td>2019-08-05</td>\n",
       "      <td>109</td>\n",
       "      <td>549917</td>\n",
       "    </tr>\n",
       "  </tbody>\n",
       "</table>\n",
       "</div>"
      ],
      "text/plain": [
       "        date  ordersCummulativeA  revenueCummulativeA\n",
       "0 2019-08-01                  24               148579\n",
       "1 2019-08-02                  44               242401\n",
       "2 2019-08-03                  68               354874\n",
       "3 2019-08-04                  84               425699\n",
       "4 2019-08-05                 109               549917"
      ]
     },
     "execution_count": 41,
     "metadata": {},
     "output_type": "execute_result"
    }
   ],
   "source": [
    "ordersACummulative = ordersADaily.apply(\n",
    "    lambda x: ordersADaily[ordersADaily['date'] <= x['date']].agg(\n",
    "        {'date': 'max', 'ordersPerDateA': 'sum', 'revenuePerDateA': 'sum'}\n",
    "    ),\n",
    "    axis=1,\n",
    ").sort_values(by=['date'])\n",
    "ordersACummulative.columns = ['date', 'ordersCummulativeA', 'revenueCummulativeA']\n",
    "ordersACummulative.head(5)"
   ]
  },
  {
   "cell_type": "code",
   "execution_count": 42,
   "metadata": {},
   "outputs": [
    {
     "data": {
      "text/html": [
       "<div>\n",
       "<style scoped>\n",
       "    .dataframe tbody tr th:only-of-type {\n",
       "        vertical-align: middle;\n",
       "    }\n",
       "\n",
       "    .dataframe tbody tr th {\n",
       "        vertical-align: top;\n",
       "    }\n",
       "\n",
       "    .dataframe thead th {\n",
       "        text-align: right;\n",
       "    }\n",
       "</style>\n",
       "<table border=\"1\" class=\"dataframe\">\n",
       "  <thead>\n",
       "    <tr style=\"text-align: right;\">\n",
       "      <th></th>\n",
       "      <th>date</th>\n",
       "      <th>ordersPerDateB</th>\n",
       "      <th>revenuePerDateB</th>\n",
       "    </tr>\n",
       "  </thead>\n",
       "  <tbody>\n",
       "    <tr>\n",
       "      <td>0</td>\n",
       "      <td>2019-08-01</td>\n",
       "      <td>21</td>\n",
       "      <td>101217</td>\n",
       "    </tr>\n",
       "    <tr>\n",
       "      <td>1</td>\n",
       "      <td>2019-08-02</td>\n",
       "      <td>24</td>\n",
       "      <td>165531</td>\n",
       "    </tr>\n",
       "    <tr>\n",
       "      <td>2</td>\n",
       "      <td>2019-08-03</td>\n",
       "      <td>16</td>\n",
       "      <td>114248</td>\n",
       "    </tr>\n",
       "    <tr>\n",
       "      <td>3</td>\n",
       "      <td>2019-08-04</td>\n",
       "      <td>17</td>\n",
       "      <td>108571</td>\n",
       "    </tr>\n",
       "    <tr>\n",
       "      <td>4</td>\n",
       "      <td>2019-08-05</td>\n",
       "      <td>23</td>\n",
       "      <td>92428</td>\n",
       "    </tr>\n",
       "  </tbody>\n",
       "</table>\n",
       "</div>"
      ],
      "text/plain": [
       "        date  ordersPerDateB  revenuePerDateB\n",
       "0 2019-08-01              21           101217\n",
       "1 2019-08-02              24           165531\n",
       "2 2019-08-03              16           114248\n",
       "3 2019-08-04              17           108571\n",
       "4 2019-08-05              23            92428"
      ]
     },
     "execution_count": 42,
     "metadata": {},
     "output_type": "execute_result"
    }
   ],
   "source": [
    "ordersBDaily = (\n",
    "    orders[orders['group'] == 'B'][['date', 'transactionId', 'visitorId', 'revenue']]\n",
    "    .groupby('date', as_index=False)\n",
    "    .agg({'transactionId': pd.Series.nunique, 'revenue': 'sum'})\n",
    ")\n",
    "ordersBDaily.columns = ['date', 'ordersPerDateB', 'revenuePerDateB']\n",
    "ordersBDaily.head(5)"
   ]
  },
  {
   "cell_type": "code",
   "execution_count": 43,
   "metadata": {},
   "outputs": [
    {
     "data": {
      "text/html": [
       "<div>\n",
       "<style scoped>\n",
       "    .dataframe tbody tr th:only-of-type {\n",
       "        vertical-align: middle;\n",
       "    }\n",
       "\n",
       "    .dataframe tbody tr th {\n",
       "        vertical-align: top;\n",
       "    }\n",
       "\n",
       "    .dataframe thead th {\n",
       "        text-align: right;\n",
       "    }\n",
       "</style>\n",
       "<table border=\"1\" class=\"dataframe\">\n",
       "  <thead>\n",
       "    <tr style=\"text-align: right;\">\n",
       "      <th></th>\n",
       "      <th>date</th>\n",
       "      <th>ordersCummulativeB</th>\n",
       "      <th>revenueCummulativeB</th>\n",
       "    </tr>\n",
       "  </thead>\n",
       "  <tbody>\n",
       "    <tr>\n",
       "      <td>0</td>\n",
       "      <td>2019-08-01</td>\n",
       "      <td>21</td>\n",
       "      <td>101217</td>\n",
       "    </tr>\n",
       "    <tr>\n",
       "      <td>1</td>\n",
       "      <td>2019-08-02</td>\n",
       "      <td>45</td>\n",
       "      <td>266748</td>\n",
       "    </tr>\n",
       "    <tr>\n",
       "      <td>2</td>\n",
       "      <td>2019-08-03</td>\n",
       "      <td>61</td>\n",
       "      <td>380996</td>\n",
       "    </tr>\n",
       "    <tr>\n",
       "      <td>3</td>\n",
       "      <td>2019-08-04</td>\n",
       "      <td>78</td>\n",
       "      <td>489567</td>\n",
       "    </tr>\n",
       "    <tr>\n",
       "      <td>4</td>\n",
       "      <td>2019-08-05</td>\n",
       "      <td>101</td>\n",
       "      <td>581995</td>\n",
       "    </tr>\n",
       "  </tbody>\n",
       "</table>\n",
       "</div>"
      ],
      "text/plain": [
       "        date  ordersCummulativeB  revenueCummulativeB\n",
       "0 2019-08-01                  21               101217\n",
       "1 2019-08-02                  45               266748\n",
       "2 2019-08-03                  61               380996\n",
       "3 2019-08-04                  78               489567\n",
       "4 2019-08-05                 101               581995"
      ]
     },
     "execution_count": 43,
     "metadata": {},
     "output_type": "execute_result"
    }
   ],
   "source": [
    "ordersBCummulative = ordersBDaily.apply(\n",
    "    lambda x: ordersBDaily[ordersBDaily['date'] <= x['date']].agg(\n",
    "        {'date': 'max', 'ordersPerDateB': 'sum', 'revenuePerDateB': 'sum'}\n",
    "    ),\n",
    "    axis=1,\n",
    ").sort_values(by=['date'])\n",
    "ordersBCummulative.columns = ['date', 'ordersCummulativeB', 'revenueCummulativeB']\n",
    "ordersBCummulative.head(5)"
   ]
  },
  {
   "cell_type": "code",
   "execution_count": 44,
   "metadata": {},
   "outputs": [
    {
     "data": {
      "text/html": [
       "<div>\n",
       "<style scoped>\n",
       "    .dataframe tbody tr th:only-of-type {\n",
       "        vertical-align: middle;\n",
       "    }\n",
       "\n",
       "    .dataframe tbody tr th {\n",
       "        vertical-align: top;\n",
       "    }\n",
       "\n",
       "    .dataframe thead th {\n",
       "        text-align: right;\n",
       "    }\n",
       "</style>\n",
       "<table border=\"1\" class=\"dataframe\">\n",
       "  <thead>\n",
       "    <tr style=\"text-align: right;\">\n",
       "      <th></th>\n",
       "      <th>date</th>\n",
       "      <th>ordersPerDateA</th>\n",
       "      <th>revenuePerDateA</th>\n",
       "      <th>ordersPerDateB</th>\n",
       "      <th>revenuePerDateB</th>\n",
       "      <th>ordersCummulativeA</th>\n",
       "      <th>revenueCummulativeA</th>\n",
       "      <th>ordersCummulativeB</th>\n",
       "      <th>revenueCummulativeB</th>\n",
       "      <th>visitorsPerDateA</th>\n",
       "      <th>visitorsPerDateB</th>\n",
       "      <th>visitorsCummulativeA</th>\n",
       "      <th>visitorsCummulativeB</th>\n",
       "    </tr>\n",
       "  </thead>\n",
       "  <tbody>\n",
       "    <tr>\n",
       "      <td>0</td>\n",
       "      <td>2019-08-01</td>\n",
       "      <td>24</td>\n",
       "      <td>148579</td>\n",
       "      <td>21</td>\n",
       "      <td>101217</td>\n",
       "      <td>24</td>\n",
       "      <td>148579</td>\n",
       "      <td>21</td>\n",
       "      <td>101217</td>\n",
       "      <td>719</td>\n",
       "      <td>713</td>\n",
       "      <td>719</td>\n",
       "      <td>713</td>\n",
       "    </tr>\n",
       "    <tr>\n",
       "      <td>1</td>\n",
       "      <td>2019-08-02</td>\n",
       "      <td>20</td>\n",
       "      <td>93822</td>\n",
       "      <td>24</td>\n",
       "      <td>165531</td>\n",
       "      <td>44</td>\n",
       "      <td>242401</td>\n",
       "      <td>45</td>\n",
       "      <td>266748</td>\n",
       "      <td>619</td>\n",
       "      <td>581</td>\n",
       "      <td>1338</td>\n",
       "      <td>1294</td>\n",
       "    </tr>\n",
       "    <tr>\n",
       "      <td>2</td>\n",
       "      <td>2019-08-03</td>\n",
       "      <td>24</td>\n",
       "      <td>112473</td>\n",
       "      <td>16</td>\n",
       "      <td>114248</td>\n",
       "      <td>68</td>\n",
       "      <td>354874</td>\n",
       "      <td>61</td>\n",
       "      <td>380996</td>\n",
       "      <td>507</td>\n",
       "      <td>509</td>\n",
       "      <td>1845</td>\n",
       "      <td>1803</td>\n",
       "    </tr>\n",
       "    <tr>\n",
       "      <td>3</td>\n",
       "      <td>2019-08-04</td>\n",
       "      <td>16</td>\n",
       "      <td>70825</td>\n",
       "      <td>17</td>\n",
       "      <td>108571</td>\n",
       "      <td>84</td>\n",
       "      <td>425699</td>\n",
       "      <td>78</td>\n",
       "      <td>489567</td>\n",
       "      <td>717</td>\n",
       "      <td>770</td>\n",
       "      <td>2562</td>\n",
       "      <td>2573</td>\n",
       "    </tr>\n",
       "    <tr>\n",
       "      <td>4</td>\n",
       "      <td>2019-08-05</td>\n",
       "      <td>25</td>\n",
       "      <td>124218</td>\n",
       "      <td>23</td>\n",
       "      <td>92428</td>\n",
       "      <td>109</td>\n",
       "      <td>549917</td>\n",
       "      <td>101</td>\n",
       "      <td>581995</td>\n",
       "      <td>756</td>\n",
       "      <td>707</td>\n",
       "      <td>3318</td>\n",
       "      <td>3280</td>\n",
       "    </tr>\n",
       "  </tbody>\n",
       "</table>\n",
       "</div>"
      ],
      "text/plain": [
       "        date  ordersPerDateA  revenuePerDateA  ordersPerDateB  \\\n",
       "0 2019-08-01              24           148579              21   \n",
       "1 2019-08-02              20            93822              24   \n",
       "2 2019-08-03              24           112473              16   \n",
       "3 2019-08-04              16            70825              17   \n",
       "4 2019-08-05              25           124218              23   \n",
       "\n",
       "   revenuePerDateB  ordersCummulativeA  revenueCummulativeA  \\\n",
       "0           101217                  24               148579   \n",
       "1           165531                  44               242401   \n",
       "2           114248                  68               354874   \n",
       "3           108571                  84               425699   \n",
       "4            92428                 109               549917   \n",
       "\n",
       "   ordersCummulativeB  revenueCummulativeB  visitorsPerDateA  \\\n",
       "0                  21               101217               719   \n",
       "1                  45               266748               619   \n",
       "2                  61               380996               507   \n",
       "3                  78               489567               717   \n",
       "4                 101               581995               756   \n",
       "\n",
       "   visitorsPerDateB  visitorsCummulativeA  visitorsCummulativeB  \n",
       "0               713                   719                   713  \n",
       "1               581                  1338                  1294  \n",
       "2               509                  1845                  1803  \n",
       "3               770                  2562                  2573  \n",
       "4               707                  3318                  3280  "
      ]
     },
     "metadata": {},
     "output_type": "display_data"
    }
   ],
   "source": [
    "data = (\n",
    "    ordersADaily.merge(\n",
    "        ordersBDaily, left_on='date', right_on='date', how='left'\n",
    "    )\n",
    "    .merge(ordersACummulative, left_on='date', right_on='date', how='left')\n",
    "    .merge(ordersBCummulative, left_on='date', right_on='date', how='left')\n",
    "    .merge(visitorsADaily, left_on='date', right_on='date', how='left')\n",
    "    .merge(visitorsBDaily, left_on='date', right_on='date', how='left')\n",
    "    .merge(visitorsACummulative, left_on='date', right_on='date', how='left')\n",
    "    .merge(visitorsBCummulative, left_on='date', right_on='date', how='left')\n",
    ")\n",
    "display(data.head(5))"
   ]
  },
  {
   "cell_type": "markdown",
   "metadata": {},
   "source": [
    "Описание данных в таблице data:\n",
    "\n",
    " - ordersPerDateA — количество заказов в выбранную дату в группе A;\n",
    " - revenuePerDateA — суммарная выручка в выбранную дату в группе A;\n",
    " - ordersPerDateB — количество заказов в выбранную дату в группе B;\n",
    " - revenuePerDateB — суммарная выручка в выбранную дату в группе B;\n",
    " - ordersCummulativeA — суммарное число заказов до выбранной даты включительно в группе A;\n",
    " - revenueCummulativeA — суммарная выручка до выбранной даты включительно в группе A;\n",
    " - ordersCummulativeB — суммарное количество заказов до выбранной даты включительно в группе B;\n",
    " - revenueCummulativeB — суммарная выручка до выбранной даты включительно в группе B;\n",
    " - visitorsPerDateA — количество пользователей в выбранную дату в группе A;\n",
    " - visitorsPerDateB — количество пользователей в выбранную дату в группе B;\n",
    " - visitorsCummulativeA — количество пользователей до выбранной даты включительно в группе A;\n",
    " - visitorsCummulativeB — количество пользователей до выбранной даты включительно в группе B."
   ]
  },
  {
   "cell_type": "markdown",
   "metadata": {},
   "source": [
    "Статистическая значимость различия в конверсии между группами.\n",
    "\n",
    "Создам переменные ordersByUsersA и ordersByUsersB со столбцами 'userId', 'orders'. В них для пользователей, которые заказывали хотя бы 1 раз, укажу число совершённых заказов."
   ]
  },
  {
   "cell_type": "code",
   "execution_count": 45,
   "metadata": {},
   "outputs": [
    {
     "data": {
      "text/html": [
       "<div>\n",
       "<style scoped>\n",
       "    .dataframe tbody tr th:only-of-type {\n",
       "        vertical-align: middle;\n",
       "    }\n",
       "\n",
       "    .dataframe tbody tr th {\n",
       "        vertical-align: top;\n",
       "    }\n",
       "\n",
       "    .dataframe thead th {\n",
       "        text-align: right;\n",
       "    }\n",
       "</style>\n",
       "<table border=\"1\" class=\"dataframe\">\n",
       "  <thead>\n",
       "    <tr style=\"text-align: right;\">\n",
       "      <th></th>\n",
       "      <th>userId</th>\n",
       "      <th>orders</th>\n",
       "    </tr>\n",
       "  </thead>\n",
       "  <tbody>\n",
       "    <tr>\n",
       "      <td>0</td>\n",
       "      <td>8300375</td>\n",
       "      <td>1</td>\n",
       "    </tr>\n",
       "    <tr>\n",
       "      <td>1</td>\n",
       "      <td>11685486</td>\n",
       "      <td>1</td>\n",
       "    </tr>\n",
       "    <tr>\n",
       "      <td>2</td>\n",
       "      <td>54447517</td>\n",
       "      <td>1</td>\n",
       "    </tr>\n",
       "    <tr>\n",
       "      <td>3</td>\n",
       "      <td>66685450</td>\n",
       "      <td>1</td>\n",
       "    </tr>\n",
       "    <tr>\n",
       "      <td>4</td>\n",
       "      <td>78758296</td>\n",
       "      <td>1</td>\n",
       "    </tr>\n",
       "  </tbody>\n",
       "</table>\n",
       "</div>"
      ],
      "text/plain": [
       "     userId  orders\n",
       "0   8300375       1\n",
       "1  11685486       1\n",
       "2  54447517       1\n",
       "3  66685450       1\n",
       "4  78758296       1"
      ]
     },
     "execution_count": 45,
     "metadata": {},
     "output_type": "execute_result"
    }
   ],
   "source": [
    "ordersByUsersA = (\n",
    "    orders[orders['group'] == 'A']\n",
    "    .groupby('visitorId', as_index=False)\n",
    "    .agg({'transactionId': pd.Series.nunique})\n",
    ")\n",
    "ordersByUsersA.columns = ['userId', 'orders']\n",
    "ordersByUsersA.head(5)"
   ]
  },
  {
   "cell_type": "code",
   "execution_count": 46,
   "metadata": {},
   "outputs": [
    {
     "data": {
      "text/html": [
       "<div>\n",
       "<style scoped>\n",
       "    .dataframe tbody tr th:only-of-type {\n",
       "        vertical-align: middle;\n",
       "    }\n",
       "\n",
       "    .dataframe tbody tr th {\n",
       "        vertical-align: top;\n",
       "    }\n",
       "\n",
       "    .dataframe thead th {\n",
       "        text-align: right;\n",
       "    }\n",
       "</style>\n",
       "<table border=\"1\" class=\"dataframe\">\n",
       "  <thead>\n",
       "    <tr style=\"text-align: right;\">\n",
       "      <th></th>\n",
       "      <th>userId</th>\n",
       "      <th>orders</th>\n",
       "    </tr>\n",
       "  </thead>\n",
       "  <tbody>\n",
       "    <tr>\n",
       "      <td>0</td>\n",
       "      <td>5114589</td>\n",
       "      <td>1</td>\n",
       "    </tr>\n",
       "    <tr>\n",
       "      <td>1</td>\n",
       "      <td>6958315</td>\n",
       "      <td>1</td>\n",
       "    </tr>\n",
       "    <tr>\n",
       "      <td>2</td>\n",
       "      <td>8300375</td>\n",
       "      <td>1</td>\n",
       "    </tr>\n",
       "    <tr>\n",
       "      <td>3</td>\n",
       "      <td>39475350</td>\n",
       "      <td>1</td>\n",
       "    </tr>\n",
       "    <tr>\n",
       "      <td>4</td>\n",
       "      <td>47206413</td>\n",
       "      <td>1</td>\n",
       "    </tr>\n",
       "  </tbody>\n",
       "</table>\n",
       "</div>"
      ],
      "text/plain": [
       "     userId  orders\n",
       "0   5114589       1\n",
       "1   6958315       1\n",
       "2   8300375       1\n",
       "3  39475350       1\n",
       "4  47206413       1"
      ]
     },
     "execution_count": 46,
     "metadata": {},
     "output_type": "execute_result"
    }
   ],
   "source": [
    "ordersByUsersB = (\n",
    "    orders[orders['group'] == 'B']\n",
    "    .groupby('visitorId', as_index=False)\n",
    "    .agg({'transactionId': pd.Series.nunique})\n",
    ")\n",
    "ordersByUsersB.columns = ['userId', 'orders']\n",
    "ordersByUsersB.head(5)"
   ]
  },
  {
   "cell_type": "markdown",
   "metadata": {},
   "source": [
    "Создам переменные sampleA и sampleB, в которых пользователям из разных групп будет соответствовать количество заказов. Тем, кто ничего не заказал, будут соответствовать нули. Это необходимо, чтобы подготовить выборки к проверке критерием Манна-Уитни.\n",
    "\n",
    "Переменные должны состоять из двух частей: \n",
    " - список с количеством заказов для каждого из пользователей,\n",
    " - нули для пользователей, которые ничего не заказывали."
   ]
  },
  {
   "cell_type": "code",
   "execution_count": 47,
   "metadata": {},
   "outputs": [
    {
     "data": {
      "text/plain": [
       "0        0\n",
       "1        0\n",
       "2        0\n",
       "3        0\n",
       "4        0\n",
       "        ..\n",
       "18228    0\n",
       "18229    0\n",
       "18230    0\n",
       "18231    0\n",
       "18232    0\n",
       "Name: orders, Length: 18233, dtype: int64"
      ]
     },
     "execution_count": 47,
     "metadata": {},
     "output_type": "execute_result"
    }
   ],
   "source": [
    "pd.Series(0, index=np.arange(data['visitorsPerDateA'].sum() - len(ordersByUsersA['orders'])), name='orders')"
   ]
  },
  {
   "cell_type": "code",
   "execution_count": 48,
   "metadata": {},
   "outputs": [
    {
     "data": {
      "text/plain": [
       "[0      1\n",
       " 1      1\n",
       " 2      1\n",
       " 3      1\n",
       " 4      1\n",
       "       ..\n",
       " 498    1\n",
       " 499    7\n",
       " 500    1\n",
       " 501    1\n",
       " 502    1\n",
       " Name: orders, Length: 503, dtype: int64,\n",
       " 0        0\n",
       " 1        0\n",
       " 2        0\n",
       " 3        0\n",
       " 4        0\n",
       "         ..\n",
       " 18228    0\n",
       " 18229    0\n",
       " 18230    0\n",
       " 18231    0\n",
       " 18232    0\n",
       " Name: orders, Length: 18233, dtype: int64]"
      ]
     },
     "execution_count": 48,
     "metadata": {},
     "output_type": "execute_result"
    }
   ],
   "source": [
    "[ordersByUsersA['orders'],pd.Series(0, index=np.arange(data['visitorsPerDateA'].sum() - len(ordersByUsersA['orders'])), name='orders')]"
   ]
  },
  {
   "cell_type": "code",
   "execution_count": 49,
   "metadata": {},
   "outputs": [],
   "source": [
    "sampleA = pd.concat([ordersByUsersA['orders'],pd.Series(0, index=np.arange(data['visitorsPerDateA'].sum() - len(ordersByUsersA['orders'])), name='orders')],axis=0)"
   ]
  },
  {
   "cell_type": "code",
   "execution_count": 50,
   "metadata": {},
   "outputs": [],
   "source": [
    "sampleB = pd.concat([ordersByUsersB['orders'],pd.Series(0, index=np.arange(data['visitorsPerDateB'].sum() - len(ordersByUsersB['orders'])), name='orders')],axis=0)"
   ]
  },
  {
   "cell_type": "markdown",
   "metadata": {},
   "source": [
    "Нахожу конверсию. \n",
    "\n",
    "В sampleA сохранена выборка, где каждый элемент — число заказов определённого пользователя, в том числе ноль. Значит, число элементов sampleA — это количество пользователей, сумма всех элементов — количество заказов. Чтобы получить конверсию в группе, необходимо поделить сумму заказов на число пользователей — найду среднее в выборке sampleA методом mean(). Аналогично применю к  конверсии группы B: sampleB.mean()"
   ]
  },
  {
   "cell_type": "code",
   "execution_count": 51,
   "metadata": {},
   "outputs": [],
   "source": [
    "sampleA = pd.concat(\n",
    "    [\n",
    "        ordersByUsersA['orders'],\n",
    "        pd.Series(\n",
    "            0,\n",
    "            index=np.arange(\n",
    "                data['visitorsPerDateA'].sum() - len(ordersByUsersA['orders'])\n",
    "            ),\n",
    "            name='orders',\n",
    "        ),\n",
    "    ],\n",
    "    axis=0,\n",
    ")"
   ]
  },
  {
   "cell_type": "code",
   "execution_count": 52,
   "metadata": {},
   "outputs": [],
   "source": [
    "sampleB = pd.concat(\n",
    "    [\n",
    "        ordersByUsersB['orders'],\n",
    "        pd.Series(\n",
    "            0,\n",
    "            index=np.arange(\n",
    "                data['visitorsPerDateB'].sum() - len(ordersByUsersB['orders'])\n",
    "            ),\n",
    "            name='orders',\n",
    "        ),\n",
    "    ],\n",
    "    axis=0,\n",
    ")"
   ]
  },
  {
   "cell_type": "markdown",
   "metadata": {},
   "source": [
    "**Нулевая гипотеза (Н0)**: конверсия в группе В равна конверсии в группе А. \n",
    "\n",
    "**Альтернативная гипотеза (Н1)**: конверсия в группе В не равна конверсии в группе А."
   ]
  },
  {
   "cell_type": "markdown",
   "metadata": {},
   "source": [
    "**Нулевая гипотеза (Н0)** - внесение изменений не изменило конверсию (различие конверсий не является статистически значимым).\n",
    "\n",
    "**Альтернативная гипотеза (Н1)** - внесение изменений изменило конверсию (разница статистически значима)."
   ]
  },
  {
   "cell_type": "code",
   "execution_count": 53,
   "metadata": {},
   "outputs": [
    {
     "name": "stdout",
     "output_type": "stream",
     "text": [
      "p-значение:  0.016792355056752608\n",
      "Отвергаем нулевую гипотезу: разница статистически значима\n"
     ]
    }
   ],
   "source": [
    "alpha = 0.05 \n",
    "\n",
    "results = st.mannwhitneyu(sampleA, sampleB, alternative='two-sided')\n",
    "\n",
    "print('p-значение: ', results.pvalue)\n",
    "\n",
    "if results.pvalue < alpha:\n",
    "    print('Отвергаем нулевую гипотезу: разница статистически значима')\n",
    "else:\n",
    "    print(\n",
    "        'Не получилось отвергнуть нулевую гипотезу, вывод о различии сделать нельзя'\n",
    "    )"
   ]
  },
  {
   "cell_type": "code",
   "execution_count": 54,
   "metadata": {},
   "outputs": [
    {
     "data": {
      "text/plain": [
       "'0.008'"
      ]
     },
     "metadata": {},
     "output_type": "display_data"
    }
   ],
   "source": [
    "display(\"{0:.3f}\".format(stats.mannwhitneyu(sampleA, sampleB)[1]))"
   ]
  },
  {
   "cell_type": "code",
   "execution_count": 55,
   "metadata": {},
   "outputs": [
    {
     "data": {
      "text/plain": [
       "'0.138'"
      ]
     },
     "metadata": {},
     "output_type": "display_data"
    }
   ],
   "source": [
    "display(\"{0:.3f}\".format(sampleB.mean() / sampleA.mean() - 1))"
   ]
  },
  {
   "cell_type": "markdown",
   "metadata": {},
   "source": [
    "0.008 меньше 0.05 - Нулевая гипотеза **отвергается** - в конверсии между группами есть статистически значимые различия. Прирост конверсии группы В к группе А равен 13,8%. \n",
    "\n",
    "Вывод: по «сырым» данным различия в конверсии групп A и B есть."
   ]
  },
  {
   "cell_type": "markdown",
   "metadata": {},
   "source": [
    "<font color='blue'>Статистическая значимость различий в среднем чеке заказа между группами по «сырым» данным</font>"
   ]
  },
  {
   "cell_type": "markdown",
   "metadata": {},
   "source": [
    "Для рассчета статистической значимости различий в среднем чеке между сегментами, передам критерию mannwhitneyu() данные о выручке с заказов, и найду относительные различия в среднем чеке между группами.\n",
    "\n",
    " - **Нулевая гипотеза (Н0)**: средний чек в группе В равен среднему чеку в группе А,\n",
    " - **Альтернативная гипотеза (Н1)**: средний чек в группе В не равен среднему чеку в группе А."
   ]
  },
  {
   "cell_type": "markdown",
   "metadata": {},
   "source": [
    "**Нулевая гипотеза (Н0)** - внесение изменений не изменило средний чек (различие средних чеков не является статистически значимым). \n",
    "\n",
    "**Альтернативная гипотеза (Н1)** - внесение изменений изменило средний чек (разница статистически значима)."
   ]
  },
  {
   "cell_type": "code",
   "execution_count": 56,
   "metadata": {},
   "outputs": [
    {
     "name": "stdout",
     "output_type": "stream",
     "text": [
      "p-значение:  0.7292909855432458\n",
      "Не получилось отвергнуть нулевую гипотезу, вывод о различии сделать нельзя\n"
     ]
    }
   ],
   "source": [
    "alpha = 0.05 \n",
    "\n",
    "results = st.mannwhitneyu(orders[orders['group']=='A']['revenue'], orders[orders['group']=='B']['revenue'], \n",
    "                          alternative='two-sided')\n",
    "\n",
    "print('p-значение: ', results.pvalue)\n",
    "\n",
    "if results.pvalue < alpha:\n",
    "    print('Отвергаем нулевую гипотезу: разница статистически значима')\n",
    "else:\n",
    "    print(\n",
    "        'Не получилось отвергнуть нулевую гипотезу, вывод о различии сделать нельзя'\n",
    "    )"
   ]
  },
  {
   "cell_type": "code",
   "execution_count": 57,
   "metadata": {},
   "outputs": [
    {
     "data": {
      "text/plain": [
       "'0.365'"
      ]
     },
     "metadata": {},
     "output_type": "display_data"
    }
   ],
   "source": [
    "display('{0:.3f}'.format(stats.mannwhitneyu(orders[orders['group']=='A']['revenue'], orders[orders['group']=='B']['revenue'])[1]))"
   ]
  },
  {
   "cell_type": "code",
   "execution_count": 58,
   "metadata": {},
   "outputs": [
    {
     "data": {
      "text/plain": [
       "'0.259'"
      ]
     },
     "metadata": {},
     "output_type": "display_data"
    }
   ],
   "source": [
    "display('{0:.3f}'.format(orders[orders['group']=='B']['revenue'].mean()/orders[orders['group']=='A']['revenue'].mean()-1))"
   ]
  },
  {
   "cell_type": "markdown",
   "metadata": {},
   "source": [
    "p-value (0,365) больше 0,05 - статистически значимых различий в среднем чеке между группами нет. Относительное различие среднего чека между группами всего 2,5%. По «сырым» данным различий в среднем чеке групп A и B нет. Надо проанализировать аномалии."
   ]
  },
  {
   "cell_type": "markdown",
   "metadata": {},
   "source": [
    "<font color='blue'>Статистическая значимость различий в конверсии между группами по «очищенным» данным</font>"
   ]
  },
  {
   "cell_type": "markdown",
   "metadata": {},
   "source": [
    "95-й и 99-й перцентили средних чеков равны 28 000 и 58 233. 95-й и 99-й перцентили количества заказов на одного пользователя равны 2 и 4 заказа на пользователя. Приму за аномальных пользователей тех, кто совершил от 3 заказов или совершил заказ дороже 19 000 рублей. Сделаю срезы пользователей с числом заказов больше 3 — *usersWithManyOrders* и пользователей, совершивших заказы дороже 19 000 — *usersWithExpensiveOrders*. Объединю их в таблице *abnormalUsers*. Методом shape() выясню, сколько всего аномальных пользователей."
   ]
  },
  {
   "cell_type": "code",
   "execution_count": 59,
   "metadata": {},
   "outputs": [
    {
     "data": {
      "text/plain": [
       "568     113298937\n",
       "1099    148427295\n",
       "461     154576532\n",
       "18      199603092\n",
       "928     204675465\n",
       "dtype: int64"
      ]
     },
     "metadata": {},
     "output_type": "display_data"
    }
   ],
   "source": [
    "usersWithManyOrders = pd.concat(\n",
    "    [\n",
    "        ordersByUsersA[ordersByUsersA['orders'] > 3]['userId'],\n",
    "        ordersByUsersB[ordersByUsersB['orders'] > 3]['userId'],\n",
    "    ],\n",
    "    axis=0,\n",
    ")\n",
    "usersWithExpensiveOrders = orders[orders['revenue'] > 19000]['visitorId']\n",
    "abnormalUsers = (\n",
    "    pd.concat([usersWithManyOrders, usersWithExpensiveOrders], axis=0)\n",
    "    .drop_duplicates()\n",
    "    .sort_values()\n",
    ")\n",
    "display(abnormalUsers.head(5))"
   ]
  },
  {
   "cell_type": "code",
   "execution_count": 60,
   "metadata": {},
   "outputs": [
    {
     "data": {
      "text/plain": [
       "(105,)"
      ]
     },
     "metadata": {},
     "output_type": "display_data"
    }
   ],
   "source": [
    "display(abnormalUsers.shape)"
   ]
  },
  {
   "cell_type": "markdown",
   "metadata": {},
   "source": [
    "Всего **105 аномальных пользователей**\n",
    "\n",
    "Необходимо посмотреть, как их действия повлияли на результаты теста. \n",
    "\n",
    "Посчитаюю статистическую значимость различий в конверсии между группами теста по очищенным данным. "
   ]
  },
  {
   "cell_type": "markdown",
   "metadata": {},
   "source": [
    "Выборка количества заказов по пользователям по группам теста:"
   ]
  },
  {
   "cell_type": "code",
   "execution_count": 61,
   "metadata": {},
   "outputs": [],
   "source": [
    "sampleAFiltered = pd.concat(\n",
    "    [\n",
    "        ordersByUsersA[\n",
    "            np.logical_not(ordersByUsersA['userId'].isin(abnormalUsers))\n",
    "        ]['orders'],\n",
    "        pd.Series(\n",
    "            0,\n",
    "            index=np.arange(\n",
    "                data['visitorsPerDateA'].sum() - len(ordersByUsersA['orders'])\n",
    "            ),\n",
    "            name='orders',\n",
    "        ),\n",
    "    ],\n",
    "    axis=0,\n",
    ")"
   ]
  },
  {
   "cell_type": "code",
   "execution_count": 62,
   "metadata": {},
   "outputs": [],
   "source": [
    "sampleBFiltered = pd.concat(\n",
    "    [\n",
    "        ordersByUsersB[\n",
    "            np.logical_not(ordersByUsersB['userId'].isin(abnormalUsers))\n",
    "        ]['orders'],\n",
    "        pd.Series(\n",
    "            0,\n",
    "            index=np.arange(\n",
    "                data['visitorsPerDateB'].sum() - len(ordersByUsersB['orders'])\n",
    "            ),\n",
    "            name='orders',\n",
    "        ),\n",
    "    ],\n",
    "    axis=0,\n",
    ")"
   ]
  },
  {
   "cell_type": "markdown",
   "metadata": {},
   "source": [
    "**Нулевая гипотеза (Н0)** - внесение изменений не изменило конверсию по \"очищенным\" данным (различие конверсий не является статистически значимой).\n",
    "\n",
    "**Альтернативная гипотеза (Н1)** - внесение коррективов изменило конверсию по \"очищенным\" данным (разница статистически значима)."
   ]
  },
  {
   "cell_type": "code",
   "execution_count": 63,
   "metadata": {},
   "outputs": [
    {
     "name": "stdout",
     "output_type": "stream",
     "text": [
      "p-значение:  0.029311577747636944\n",
      "Отвергаем нулевую гипотезу: разница статистически значима\n"
     ]
    }
   ],
   "source": [
    "alpha = 0.05\n",
    "\n",
    "results = st.mannwhitneyu(sampleAFiltered, sampleBFiltered, alternative='two-sided')\n",
    "\n",
    "print('p-значение: ', results.pvalue)\n",
    "\n",
    "if results.pvalue < alpha:\n",
    "    print('Отвергаем нулевую гипотезу: разница статистически значима')\n",
    "else:\n",
    "    print(\n",
    "        'Не получилось отвергнуть нулевую гипотезу, вывод о различии сделать нельзя'\n",
    "    )"
   ]
  },
  {
   "cell_type": "markdown",
   "metadata": {},
   "source": [
    "Статистический критерий **Манна-Уитни** к полученным выборкам:"
   ]
  },
  {
   "cell_type": "code",
   "execution_count": 64,
   "metadata": {},
   "outputs": [
    {
     "data": {
      "text/plain": [
       "'0.015'"
      ]
     },
     "metadata": {},
     "output_type": "display_data"
    }
   ],
   "source": [
    "display('{0:.3f}'.format(stats.mannwhitneyu(sampleAFiltered, sampleBFiltered)[1]))"
   ]
  },
  {
   "cell_type": "markdown",
   "metadata": {},
   "source": [
    "p-value увеличился по сравнению с p-value \"сырых\" данных; но 0,015 меньше 0.05 - нулевую гипотезу **отвергаю** - в конверсии между группами есть статистически значимые различия"
   ]
  },
  {
   "cell_type": "code",
   "execution_count": 65,
   "metadata": {},
   "outputs": [
    {
     "data": {
      "text/plain": [
       "'0.149'"
      ]
     },
     "metadata": {},
     "output_type": "display_data"
    }
   ],
   "source": [
    "display('{0:.3f}'.format(sampleBFiltered.mean()/sampleAFiltered.mean()-1))"
   ]
  },
  {
   "cell_type": "markdown",
   "metadata": {},
   "source": [
    "Прирост конверсии группы В к группе А равен 14,9%. \n",
    "\n",
    "Вывод: по «очищенным» данным различия в конверсии групп A и B есть. Сегмент В значительно *лучше* сегмента А."
   ]
  },
  {
   "cell_type": "markdown",
   "metadata": {},
   "source": [
    "По \"сырым\" данным были показатели 0,008 и 0,138, соответственно. В целом, результаты по конверсии по \"очищенным\" данным выше, чем по \"сырым\", но вывод мы получили остается таким же - есть статистические различия в конверсиях между группами."
   ]
  },
  {
   "cell_type": "markdown",
   "metadata": {},
   "source": [
    "<font color='blue'>Статистическая значимость различий в среднем чеке заказа между группами по «очищенным» данным</font>"
   ]
  },
  {
   "cell_type": "code",
   "execution_count": 66,
   "metadata": {},
   "outputs": [
    {
     "data": {
      "text/plain": [
       "'0.465'"
      ]
     },
     "metadata": {},
     "output_type": "display_data"
    }
   ],
   "source": [
    "display(\n",
    "    '{0:.3f}'.format(\n",
    "        stats.mannwhitneyu(\n",
    "            orders[\n",
    "                np.logical_and(\n",
    "                    orders['group'] == 'A',\n",
    "                    np.logical_not(orders['visitorId'].isin(abnormalUsers)),\n",
    "                )\n",
    "            ]['revenue'],\n",
    "            orders[\n",
    "                np.logical_and(\n",
    "                    orders['group'] == 'B',\n",
    "                    np.logical_not(orders['visitorId'].isin(abnormalUsers)),\n",
    "                )\n",
    "            ]['revenue'],\n",
    "        )[1]\n",
    "    )\n",
    ")"
   ]
  },
  {
   "cell_type": "code",
   "execution_count": 67,
   "metadata": {},
   "outputs": [
    {
     "data": {
      "text/plain": [
       "'-0.029'"
      ]
     },
     "metadata": {},
     "output_type": "display_data"
    }
   ],
   "source": [
    "display(\n",
    "    \"{0:.3f}\".format(\n",
    "        orders[\n",
    "            np.logical_and(\n",
    "                orders['group'] == 'B',\n",
    "                np.logical_not(orders['visitorId'].isin(abnormalUsers)),\n",
    "            )\n",
    "        ]['revenue'].mean()\n",
    "        / orders[\n",
    "            np.logical_and(\n",
    "                orders['group'] == 'A',\n",
    "                np.logical_not(orders['visitorId'].isin(abnormalUsers)),\n",
    "            )\n",
    "        ]['revenue'].mean()\n",
    "        - 1\n",
    "    )\n",
    ")"
   ]
  },
  {
   "cell_type": "markdown",
   "metadata": {},
   "source": [
    "P-value увеличился (в \"сырых\" данных был 0,365), но он тоже больше 0,05 - статистически значимых различий в среднем чеке между группами нет. Но средний чек группы B получился ниже среднего чека группы A. Общий вывод по результатам теста не изменился."
   ]
  },
  {
   "cell_type": "markdown",
   "metadata": {},
   "source": [
    "**Нулевая гипотеза (Н0)** - внесение коррективов не изменило средний чек \"очищенных\" данных (различие средних чеков не является статистически значимым).\n",
    "\n",
    "**Альтернативная гипотеза (Н1)** - внесение коррективов изменило средний чек \"очищенных\" данных (разница статистически значима)."
   ]
  },
  {
   "cell_type": "markdown",
   "metadata": {},
   "source": [
    "<font color='red'>Вывод:</font>\n",
    "\n",
    "Согласно сравнению конверсии и среднего чека по \"сырым\" и \"очищенным\" данным, могу сделать следующие выводы:\n",
    " - Есть статистически значимое различие по конверсии между группами и по «сырым», и по данным после фильтрации аномалий;\n",
    " - Нет статистически значимого различия по среднему чеку между группами ни по «сырым», ни по данным после фильтрации аномалий;\n",
    " - По графику относительного изменения кумулятивной конверсии группы B к группе A видно, что конверсия группы В имеет волнообразный характер, достигает пиков прироста в 20% относительно группы А в первой половине августа, потом колебалась вверх-вниз и зафиксировалась к концу месяца примерно на уровне 10%. Это позволяет говорить о том, что результаты группы В лучше результатов группы А;\n",
    " - По графику относительного изменения кумулятивного среднего чека группы B к группе A видно, что в нескольких точках есть резкие спады и скачки средних чеков. После 17 августа средний чек группы В стал почти на 50% выше среднего чека группы А. Возможно, это влияние размера заказов \"аномальные заказы\". На графике видно, что результаты группы В, хоть и начали снижаться после 21 августа, но все равно, к концу тестового периода,остаются примерно на 25% лучше результатов группы А."
   ]
  },
  {
   "cell_type": "markdown",
   "metadata": {},
   "source": [
    "# <a id=\"vyvod\"></a><font style=\"background-color: Cyan; color=black\">Вывод по результату исследования</font> #"
   ]
  },
  {
   "cell_type": "markdown",
   "metadata": {},
   "source": [
    "На основании выводов, приведенных выше, тест можно признать **успешным**. \n",
    "\n",
    "Победа **группы В**. \n",
    "\n",
    "Тест **останавливаем**"
   ]
  }
 ],
 "metadata": {
  "ExecuteTimeLog": [
   {
    "duration": 1286,
    "start_time": "2021-10-22T08:55:15.190Z"
   },
   {
    "duration": 69,
    "start_time": "2021-10-22T08:55:19.350Z"
   },
   {
    "duration": 3,
    "start_time": "2021-10-22T08:55:28.648Z"
   },
   {
    "duration": 3,
    "start_time": "2021-10-22T08:57:07.646Z"
   },
   {
    "duration": 19,
    "start_time": "2021-10-22T08:57:24.904Z"
   },
   {
    "duration": 19,
    "start_time": "2021-10-22T08:57:37.380Z"
   },
   {
    "duration": 16,
    "start_time": "2021-10-22T08:57:49.614Z"
   },
   {
    "duration": 7,
    "start_time": "2021-10-22T08:58:38.663Z"
   },
   {
    "duration": 9,
    "start_time": "2021-10-22T08:59:17.748Z"
   },
   {
    "duration": 10,
    "start_time": "2021-10-22T08:59:27.529Z"
   },
   {
    "duration": 4,
    "start_time": "2021-10-22T09:00:16.809Z"
   },
   {
    "duration": 20,
    "start_time": "2021-10-22T09:00:16.814Z"
   },
   {
    "duration": 560,
    "start_time": "2021-10-22T09:00:39.305Z"
   },
   {
    "duration": 890,
    "start_time": "2021-10-22T09:04:01.032Z"
   },
   {
    "duration": 487,
    "start_time": "2021-10-22T09:04:34.462Z"
   },
   {
    "duration": 495,
    "start_time": "2021-10-22T09:05:17.431Z"
   },
   {
    "duration": 486,
    "start_time": "2021-10-22T09:05:23.921Z"
   },
   {
    "duration": 5,
    "start_time": "2021-10-22T09:06:54.962Z"
   },
   {
    "duration": 11,
    "start_time": "2021-10-22T09:07:02.540Z"
   },
   {
    "duration": 519,
    "start_time": "2021-10-22T09:07:27.044Z"
   },
   {
    "duration": 530,
    "start_time": "2021-10-22T09:07:42.135Z"
   },
   {
    "duration": 7,
    "start_time": "2021-10-22T09:17:49.544Z"
   },
   {
    "duration": 12,
    "start_time": "2021-10-22T09:17:56.848Z"
   },
   {
    "duration": 275,
    "start_time": "2021-10-22T09:19:00.871Z"
   },
   {
    "duration": 161,
    "start_time": "2021-10-22T09:19:37.063Z"
   },
   {
    "duration": 169,
    "start_time": "2021-10-22T09:20:01.278Z"
   },
   {
    "duration": 7,
    "start_time": "2021-10-22T09:20:21.713Z"
   },
   {
    "duration": 13,
    "start_time": "2021-10-22T09:20:36.666Z"
   },
   {
    "duration": 6,
    "start_time": "2021-10-22T09:22:30.330Z"
   },
   {
    "duration": 5,
    "start_time": "2021-10-22T09:22:41.243Z"
   },
   {
    "duration": 384,
    "start_time": "2021-10-22T09:23:08.477Z"
   },
   {
    "duration": 379,
    "start_time": "2021-10-22T09:23:20.369Z"
   },
   {
    "duration": 651,
    "start_time": "2021-10-22T09:24:38.112Z"
   },
   {
    "duration": 380,
    "start_time": "2021-10-22T09:25:02.780Z"
   },
   {
    "duration": 390,
    "start_time": "2021-10-22T09:25:15.357Z"
   },
   {
    "duration": 379,
    "start_time": "2021-10-22T09:25:19.671Z"
   },
   {
    "duration": 391,
    "start_time": "2021-10-22T09:25:23.673Z"
   },
   {
    "duration": 396,
    "start_time": "2021-10-22T09:25:28.058Z"
   },
   {
    "duration": 383,
    "start_time": "2021-10-22T09:28:55.796Z"
   },
   {
    "duration": 375,
    "start_time": "2021-10-22T09:29:05.038Z"
   },
   {
    "duration": 6,
    "start_time": "2021-10-22T09:31:43.707Z"
   },
   {
    "duration": 466,
    "start_time": "2021-10-22T09:32:54.078Z"
   },
   {
    "duration": 1471,
    "start_time": "2021-10-22T09:33:34.414Z"
   },
   {
    "duration": 569,
    "start_time": "2021-10-22T09:33:42.104Z"
   },
   {
    "duration": 469,
    "start_time": "2021-10-22T09:33:53.775Z"
   },
   {
    "duration": 12,
    "start_time": "2021-10-22T09:36:04.955Z"
   },
   {
    "duration": 11,
    "start_time": "2021-10-22T09:36:20.965Z"
   },
   {
    "duration": 16,
    "start_time": "2021-10-22T09:37:18.814Z"
   },
   {
    "duration": 17,
    "start_time": "2021-10-22T09:37:18.960Z"
   },
   {
    "duration": 371,
    "start_time": "2021-10-22T09:38:33.766Z"
   },
   {
    "duration": 9,
    "start_time": "2021-10-22T09:40:29.720Z"
   },
   {
    "duration": 16,
    "start_time": "2021-10-22T09:40:41.619Z"
   },
   {
    "duration": 528,
    "start_time": "2021-10-22T09:41:22.133Z"
   },
   {
    "duration": 741,
    "start_time": "2021-10-22T09:41:30.664Z"
   },
   {
    "duration": 210,
    "start_time": "2021-10-22T09:43:03.635Z"
   },
   {
    "duration": 704,
    "start_time": "2021-10-22T09:43:52.458Z"
   },
   {
    "duration": 465,
    "start_time": "2021-10-22T09:43:57.276Z"
   },
   {
    "duration": 700,
    "start_time": "2021-10-22T09:44:07.730Z"
   },
   {
    "duration": 6,
    "start_time": "2021-10-22T09:45:19.560Z"
   },
   {
    "duration": 478,
    "start_time": "2021-10-22T09:47:33.359Z"
   },
   {
    "duration": 5,
    "start_time": "2021-10-22T09:50:07.367Z"
   },
   {
    "duration": 9,
    "start_time": "2021-10-22T09:52:39.856Z"
   },
   {
    "duration": 60,
    "start_time": "2021-10-22T09:53:15.072Z"
   },
   {
    "duration": 576,
    "start_time": "2021-10-22T09:53:59.877Z"
   },
   {
    "duration": 64,
    "start_time": "2021-10-22T09:54:20.807Z"
   },
   {
    "duration": 6,
    "start_time": "2021-10-22T09:54:33.709Z"
   },
   {
    "duration": 62,
    "start_time": "2021-10-22T09:54:34.335Z"
   },
   {
    "duration": 21,
    "start_time": "2021-10-22T09:55:11.030Z"
   },
   {
    "duration": 71,
    "start_time": "2021-10-22T09:55:46.024Z"
   },
   {
    "duration": 18,
    "start_time": "2021-10-22T09:56:08.449Z"
   },
   {
    "duration": 104,
    "start_time": "2021-10-22T10:00:20.342Z"
   },
   {
    "duration": 24,
    "start_time": "2021-10-22T10:03:25.726Z"
   },
   {
    "duration": 31,
    "start_time": "2021-10-22T10:03:33.488Z"
   },
   {
    "duration": 65,
    "start_time": "2021-10-22T10:06:27.798Z"
   },
   {
    "duration": 66,
    "start_time": "2021-10-22T10:09:04.727Z"
   },
   {
    "duration": 6,
    "start_time": "2021-10-22T10:10:20.763Z"
   },
   {
    "duration": 8,
    "start_time": "2021-10-22T10:10:29.660Z"
   },
   {
    "duration": 4,
    "start_time": "2021-10-22T10:10:46.989Z"
   },
   {
    "duration": 5,
    "start_time": "2021-10-22T10:10:55.305Z"
   },
   {
    "duration": 5,
    "start_time": "2021-10-22T10:12:13.322Z"
   },
   {
    "duration": 5,
    "start_time": "2021-10-22T10:12:19.232Z"
   },
   {
    "duration": 5,
    "start_time": "2021-10-22T10:12:27.440Z"
   },
   {
    "duration": 7,
    "start_time": "2021-10-22T10:13:17.763Z"
   },
   {
    "duration": 5,
    "start_time": "2021-10-22T10:13:34.162Z"
   },
   {
    "duration": 10,
    "start_time": "2021-10-22T10:19:29.425Z"
   },
   {
    "duration": 7,
    "start_time": "2021-10-22T10:19:51.149Z"
   },
   {
    "duration": 11,
    "start_time": "2021-10-22T10:23:12.582Z"
   },
   {
    "duration": 4,
    "start_time": "2021-10-22T10:23:24.081Z"
   },
   {
    "duration": 6,
    "start_time": "2021-10-22T10:25:07.422Z"
   },
   {
    "duration": 6,
    "start_time": "2021-10-22T10:25:12.370Z"
   },
   {
    "duration": 7,
    "start_time": "2021-10-22T10:25:44.163Z"
   },
   {
    "duration": 136,
    "start_time": "2021-10-22T10:25:57.082Z"
   },
   {
    "duration": 5,
    "start_time": "2021-10-22T10:26:59.848Z"
   },
   {
    "duration": 14,
    "start_time": "2021-10-22T10:33:35.831Z"
   },
   {
    "duration": 14,
    "start_time": "2021-10-22T10:33:48.587Z"
   },
   {
    "duration": 1197,
    "start_time": "2021-10-22T10:41:36.217Z"
   },
   {
    "duration": 69,
    "start_time": "2021-10-22T10:41:37.416Z"
   },
   {
    "duration": 2,
    "start_time": "2021-10-22T10:41:37.487Z"
   },
   {
    "duration": 10,
    "start_time": "2021-10-22T10:41:37.491Z"
   },
   {
    "duration": 31,
    "start_time": "2021-10-22T10:41:37.502Z"
   },
   {
    "duration": 18,
    "start_time": "2021-10-22T10:41:37.534Z"
   },
   {
    "duration": 15,
    "start_time": "2021-10-22T10:41:37.554Z"
   },
   {
    "duration": 6,
    "start_time": "2021-10-22T10:41:37.571Z"
   },
   {
    "duration": 13,
    "start_time": "2021-10-22T10:41:37.579Z"
   },
   {
    "duration": 9,
    "start_time": "2021-10-22T10:41:37.594Z"
   },
   {
    "duration": 514,
    "start_time": "2021-10-22T10:41:37.645Z"
   },
   {
    "duration": 5,
    "start_time": "2021-10-22T10:41:38.161Z"
   },
   {
    "duration": 12,
    "start_time": "2021-10-22T10:41:38.168Z"
   },
   {
    "duration": 514,
    "start_time": "2021-10-22T10:41:38.182Z"
   },
   {
    "duration": 11,
    "start_time": "2021-10-22T10:41:38.698Z"
   },
   {
    "duration": 247,
    "start_time": "2021-10-22T10:41:38.711Z"
   },
   {
    "duration": 171,
    "start_time": "2021-10-22T10:41:38.960Z"
   },
   {
    "duration": 20,
    "start_time": "2021-10-22T10:41:39.133Z"
   },
   {
    "duration": 6,
    "start_time": "2021-10-22T10:41:39.155Z"
   },
   {
    "duration": 7,
    "start_time": "2021-10-22T10:41:39.162Z"
   },
   {
    "duration": 437,
    "start_time": "2021-10-22T10:41:39.170Z"
   },
   {
    "duration": 396,
    "start_time": "2021-10-22T10:41:39.609Z"
   },
   {
    "duration": 6,
    "start_time": "2021-10-22T10:41:40.010Z"
   },
   {
    "duration": 527,
    "start_time": "2021-10-22T10:41:40.020Z"
   },
   {
    "duration": 10,
    "start_time": "2021-10-22T10:41:40.549Z"
   },
   {
    "duration": 12,
    "start_time": "2021-10-22T10:41:40.561Z"
   },
   {
    "duration": 15,
    "start_time": "2021-10-22T10:41:40.575Z"
   },
   {
    "duration": 682,
    "start_time": "2021-10-22T10:41:40.593Z"
   },
   {
    "duration": 17,
    "start_time": "2021-10-22T10:41:41.278Z"
   },
   {
    "duration": 553,
    "start_time": "2021-10-22T10:41:41.297Z"
   },
   {
    "duration": 126,
    "start_time": "2021-10-22T10:41:41.853Z"
   },
   {
    "duration": 438,
    "start_time": "2021-10-22T10:41:41.980Z"
   },
   {
    "duration": 5,
    "start_time": "2021-10-22T10:41:42.420Z"
   },
   {
    "duration": 18,
    "start_time": "2021-10-22T10:41:42.427Z"
   },
   {
    "duration": 10,
    "start_time": "2021-10-22T10:41:42.447Z"
   },
   {
    "duration": 85,
    "start_time": "2021-10-22T10:41:42.459Z"
   },
   {
    "duration": 5,
    "start_time": "2021-10-22T10:41:42.546Z"
   },
   {
    "duration": 64,
    "start_time": "2021-10-22T10:41:42.552Z"
   },
   {
    "duration": 43,
    "start_time": "2021-10-22T10:41:42.618Z"
   },
   {
    "duration": 85,
    "start_time": "2021-10-22T10:41:42.663Z"
   },
   {
    "duration": 17,
    "start_time": "2021-10-22T10:41:42.750Z"
   },
   {
    "duration": 89,
    "start_time": "2021-10-22T10:41:42.768Z"
   },
   {
    "duration": 32,
    "start_time": "2021-10-22T10:41:42.859Z"
   },
   {
    "duration": 88,
    "start_time": "2021-10-22T10:41:42.893Z"
   },
   {
    "duration": 87,
    "start_time": "2021-10-22T10:41:42.983Z"
   },
   {
    "duration": 7,
    "start_time": "2021-10-22T10:41:43.072Z"
   },
   {
    "duration": 12,
    "start_time": "2021-10-22T10:41:43.081Z"
   },
   {
    "duration": 9,
    "start_time": "2021-10-22T10:41:43.095Z"
   },
   {
    "duration": 9,
    "start_time": "2021-10-22T10:41:43.106Z"
   },
   {
    "duration": 27,
    "start_time": "2021-10-22T10:41:43.117Z"
   },
   {
    "duration": 12,
    "start_time": "2021-10-22T10:41:43.146Z"
   },
   {
    "duration": 18,
    "start_time": "2021-10-22T10:41:43.160Z"
   },
   {
    "duration": 7,
    "start_time": "2021-10-22T10:41:43.180Z"
   },
   {
    "duration": 11,
    "start_time": "2021-10-22T10:41:43.189Z"
   },
   {
    "duration": 8,
    "start_time": "2021-10-22T10:41:43.202Z"
   },
   {
    "duration": 14,
    "start_time": "2021-10-22T10:41:43.212Z"
   },
   {
    "duration": 19,
    "start_time": "2021-10-22T10:41:43.227Z"
   },
   {
    "duration": 8,
    "start_time": "2021-10-22T10:41:43.248Z"
   },
   {
    "duration": 8,
    "start_time": "2021-10-22T10:41:43.258Z"
   },
   {
    "duration": 12,
    "start_time": "2021-10-22T10:41:43.268Z"
   },
   {
    "duration": 5,
    "start_time": "2021-10-22T10:41:43.281Z"
   },
   {
    "duration": 12,
    "start_time": "2021-10-22T10:41:43.288Z"
   },
   {
    "duration": 12,
    "start_time": "2021-10-22T10:41:43.301Z"
   },
   {
    "duration": 7,
    "start_time": "2021-10-22T14:12:21.517Z"
   },
   {
    "duration": 62,
    "start_time": "2021-10-22T14:12:23.504Z"
   },
   {
    "duration": 5,
    "start_time": "2021-10-22T14:12:25.203Z"
   },
   {
    "duration": 4,
    "start_time": "2021-10-22T14:12:26.225Z"
   },
   {
    "duration": 26,
    "start_time": "2021-10-22T14:12:28.084Z"
   },
   {
    "duration": 26,
    "start_time": "2021-10-22T14:12:32.697Z"
   },
   {
    "duration": 25,
    "start_time": "2021-10-22T14:12:36.208Z"
   },
   {
    "duration": 83,
    "start_time": "2021-10-22T14:13:14.825Z"
   },
   {
    "duration": 15,
    "start_time": "2021-10-22T14:13:15.430Z"
   },
   {
    "duration": 781,
    "start_time": "2021-10-22T14:13:21.625Z"
   },
   {
    "duration": 7,
    "start_time": "2021-10-22T14:13:36.992Z"
   },
   {
    "duration": 15,
    "start_time": "2021-10-22T14:13:40.877Z"
   },
   {
    "duration": 494,
    "start_time": "2021-10-22T14:22:21.804Z"
   },
   {
    "duration": 6,
    "start_time": "2021-10-22T14:22:25.582Z"
   },
   {
    "duration": 62,
    "start_time": "2021-10-22T14:22:25.606Z"
   },
   {
    "duration": 5,
    "start_time": "2021-10-22T14:22:25.671Z"
   },
   {
    "duration": 14,
    "start_time": "2021-10-22T14:22:25.679Z"
   },
   {
    "duration": 41,
    "start_time": "2021-10-22T14:22:25.696Z"
   },
   {
    "duration": 46,
    "start_time": "2021-10-22T14:22:25.739Z"
   },
   {
    "duration": 21,
    "start_time": "2021-10-22T14:22:25.788Z"
   },
   {
    "duration": 8,
    "start_time": "2021-10-22T14:22:25.812Z"
   },
   {
    "duration": 59,
    "start_time": "2021-10-22T14:22:25.824Z"
   },
   {
    "duration": 26,
    "start_time": "2021-10-22T14:22:25.886Z"
   },
   {
    "duration": 785,
    "start_time": "2021-10-22T14:22:25.914Z"
   },
   {
    "duration": 6,
    "start_time": "2021-10-22T14:22:26.702Z"
   },
   {
    "duration": 20,
    "start_time": "2021-10-22T14:22:26.710Z"
   },
   {
    "duration": 767,
    "start_time": "2021-10-22T14:22:26.732Z"
   },
   {
    "duration": 16,
    "start_time": "2021-10-22T14:22:27.501Z"
   },
   {
    "duration": 429,
    "start_time": "2021-10-22T14:22:27.519Z"
   },
   {
    "duration": 287,
    "start_time": "2021-10-22T14:22:27.950Z"
   },
   {
    "duration": 19,
    "start_time": "2021-10-22T14:22:28.239Z"
   },
   {
    "duration": 27,
    "start_time": "2021-10-22T14:22:28.260Z"
   },
   {
    "duration": 8,
    "start_time": "2021-10-22T14:22:28.289Z"
   },
   {
    "duration": 625,
    "start_time": "2021-10-22T14:22:28.300Z"
   },
   {
    "duration": 610,
    "start_time": "2021-10-22T14:22:28.928Z"
   },
   {
    "duration": 10,
    "start_time": "2021-10-22T14:22:29.541Z"
   },
   {
    "duration": 743,
    "start_time": "2021-10-22T14:22:29.558Z"
   },
   {
    "duration": 15,
    "start_time": "2021-10-22T14:22:30.304Z"
   },
   {
    "duration": 49,
    "start_time": "2021-10-22T14:22:30.321Z"
   },
   {
    "duration": 37,
    "start_time": "2021-10-22T14:22:30.373Z"
   },
   {
    "duration": 683,
    "start_time": "2021-10-22T14:22:30.412Z"
   },
   {
    "duration": 22,
    "start_time": "2021-10-22T14:22:31.098Z"
   },
   {
    "duration": 732,
    "start_time": "2021-10-22T14:22:31.123Z"
   },
   {
    "duration": 186,
    "start_time": "2021-10-22T14:22:31.857Z"
   },
   {
    "duration": 701,
    "start_time": "2021-10-22T14:22:32.045Z"
   },
   {
    "duration": 8,
    "start_time": "2021-10-22T14:22:32.748Z"
   },
   {
    "duration": 27,
    "start_time": "2021-10-22T14:22:32.759Z"
   },
   {
    "duration": 17,
    "start_time": "2021-10-22T14:22:32.789Z"
   },
   {
    "duration": 131,
    "start_time": "2021-10-22T14:22:32.809Z"
   },
   {
    "duration": 8,
    "start_time": "2021-10-22T14:22:32.943Z"
   },
   {
    "duration": 116,
    "start_time": "2021-10-22T14:22:32.953Z"
   },
   {
    "duration": 31,
    "start_time": "2021-10-22T14:22:33.082Z"
   },
   {
    "duration": 125,
    "start_time": "2021-10-22T14:22:33.115Z"
   },
   {
    "duration": 49,
    "start_time": "2021-10-22T14:22:33.242Z"
   },
   {
    "duration": 127,
    "start_time": "2021-10-22T14:22:33.293Z"
   },
   {
    "duration": 86,
    "start_time": "2021-10-22T14:22:33.423Z"
   },
   {
    "duration": 123,
    "start_time": "2021-10-22T14:22:33.511Z"
   },
   {
    "duration": 125,
    "start_time": "2021-10-22T14:22:33.636Z"
   },
   {
    "duration": 8,
    "start_time": "2021-10-22T14:22:33.763Z"
   },
   {
    "duration": 16,
    "start_time": "2021-10-22T14:22:33.773Z"
   },
   {
    "duration": 6,
    "start_time": "2021-10-22T14:22:33.791Z"
   },
   {
    "duration": 7,
    "start_time": "2021-10-22T14:22:33.800Z"
   },
   {
    "duration": 9,
    "start_time": "2021-10-22T14:22:33.810Z"
   },
   {
    "duration": 11,
    "start_time": "2021-10-22T14:22:33.821Z"
   },
   {
    "duration": 54,
    "start_time": "2021-10-22T14:22:33.835Z"
   },
   {
    "duration": 5,
    "start_time": "2021-10-22T14:22:33.892Z"
   },
   {
    "duration": 20,
    "start_time": "2021-10-22T14:22:33.900Z"
   },
   {
    "duration": 9,
    "start_time": "2021-10-22T14:22:33.922Z"
   },
   {
    "duration": 49,
    "start_time": "2021-10-22T14:22:33.933Z"
   },
   {
    "duration": 5,
    "start_time": "2021-10-22T14:22:33.984Z"
   },
   {
    "duration": 9,
    "start_time": "2021-10-22T14:22:33.991Z"
   },
   {
    "duration": 8,
    "start_time": "2021-10-22T14:22:34.002Z"
   },
   {
    "duration": 13,
    "start_time": "2021-10-22T14:22:34.012Z"
   },
   {
    "duration": 8,
    "start_time": "2021-10-22T14:22:34.028Z"
   },
   {
    "duration": 49,
    "start_time": "2021-10-22T14:22:34.038Z"
   },
   {
    "duration": 14,
    "start_time": "2021-10-22T14:22:34.090Z"
   },
   {
    "duration": 332,
    "start_time": "2021-10-25T06:40:05.575Z"
   },
   {
    "duration": 1501,
    "start_time": "2021-10-25T06:40:13.795Z"
   },
   {
    "duration": 65,
    "start_time": "2021-10-25T06:40:15.299Z"
   },
   {
    "duration": 4,
    "start_time": "2021-10-25T06:40:15.368Z"
   },
   {
    "duration": 11,
    "start_time": "2021-10-25T06:40:15.375Z"
   },
   {
    "duration": 38,
    "start_time": "2021-10-25T06:40:15.388Z"
   },
   {
    "duration": 25,
    "start_time": "2021-10-25T06:40:15.428Z"
   },
   {
    "duration": 67,
    "start_time": "2021-10-25T06:40:15.455Z"
   },
   {
    "duration": 9,
    "start_time": "2021-10-25T06:40:15.525Z"
   },
   {
    "duration": 21,
    "start_time": "2021-10-25T06:40:15.538Z"
   },
   {
    "duration": 28,
    "start_time": "2021-10-25T06:40:15.562Z"
   },
   {
    "duration": 838,
    "start_time": "2021-10-25T06:40:15.592Z"
   },
   {
    "duration": 6,
    "start_time": "2021-10-25T06:40:16.433Z"
   },
   {
    "duration": 40,
    "start_time": "2021-10-25T06:40:16.441Z"
   },
   {
    "duration": 768,
    "start_time": "2021-10-25T06:40:16.484Z"
   },
   {
    "duration": 16,
    "start_time": "2021-10-25T06:40:17.254Z"
   },
   {
    "duration": 366,
    "start_time": "2021-10-25T06:40:17.273Z"
   },
   {
    "duration": 302,
    "start_time": "2021-10-25T06:40:17.641Z"
   },
   {
    "duration": 19,
    "start_time": "2021-10-25T06:40:17.945Z"
   },
   {
    "duration": 9,
    "start_time": "2021-10-25T06:40:17.967Z"
   },
   {
    "duration": 18,
    "start_time": "2021-10-25T06:40:17.979Z"
   },
   {
    "duration": 1048,
    "start_time": "2021-10-25T06:40:17.999Z"
   },
   {
    "duration": 3328,
    "start_time": "2021-10-25T06:40:15.724Z"
   },
   {
    "duration": 3310,
    "start_time": "2021-10-25T06:40:15.744Z"
   },
   {
    "duration": 3305,
    "start_time": "2021-10-25T06:40:15.750Z"
   },
   {
    "duration": 3301,
    "start_time": "2021-10-25T06:40:15.756Z"
   },
   {
    "duration": 3298,
    "start_time": "2021-10-25T06:40:15.760Z"
   },
   {
    "duration": 3294,
    "start_time": "2021-10-25T06:40:15.765Z"
   },
   {
    "duration": 3293,
    "start_time": "2021-10-25T06:40:15.768Z"
   },
   {
    "duration": 3289,
    "start_time": "2021-10-25T06:40:15.773Z"
   },
   {
    "duration": 3286,
    "start_time": "2021-10-25T06:40:15.777Z"
   },
   {
    "duration": 3273,
    "start_time": "2021-10-25T06:40:15.792Z"
   },
   {
    "duration": 3271,
    "start_time": "2021-10-25T06:40:15.796Z"
   },
   {
    "duration": 3268,
    "start_time": "2021-10-25T06:40:15.800Z"
   },
   {
    "duration": 3265,
    "start_time": "2021-10-25T06:40:15.805Z"
   },
   {
    "duration": 3261,
    "start_time": "2021-10-25T06:40:15.810Z"
   },
   {
    "duration": 3258,
    "start_time": "2021-10-25T06:40:15.815Z"
   },
   {
    "duration": 3256,
    "start_time": "2021-10-25T06:40:15.819Z"
   },
   {
    "duration": 3253,
    "start_time": "2021-10-25T06:40:15.823Z"
   },
   {
    "duration": 3250,
    "start_time": "2021-10-25T06:40:15.827Z"
   },
   {
    "duration": 3247,
    "start_time": "2021-10-25T06:40:15.831Z"
   },
   {
    "duration": 3287,
    "start_time": "2021-10-25T06:40:15.835Z"
   },
   {
    "duration": 3284,
    "start_time": "2021-10-25T06:40:15.840Z"
   },
   {
    "duration": 3269,
    "start_time": "2021-10-25T06:40:15.856Z"
   },
   {
    "duration": 3258,
    "start_time": "2021-10-25T06:40:15.868Z"
   },
   {
    "duration": 3240,
    "start_time": "2021-10-25T06:40:15.888Z"
   },
   {
    "duration": 3228,
    "start_time": "2021-10-25T06:40:15.901Z"
   },
   {
    "duration": 3213,
    "start_time": "2021-10-25T06:40:15.917Z"
   },
   {
    "duration": 3208,
    "start_time": "2021-10-25T06:40:15.924Z"
   },
   {
    "duration": 3197,
    "start_time": "2021-10-25T06:40:15.936Z"
   },
   {
    "duration": 3184,
    "start_time": "2021-10-25T06:40:15.950Z"
   },
   {
    "duration": 3178,
    "start_time": "2021-10-25T06:40:15.958Z"
   },
   {
    "duration": 3167,
    "start_time": "2021-10-25T06:40:15.970Z"
   },
   {
    "duration": 3154,
    "start_time": "2021-10-25T06:40:15.984Z"
   },
   {
    "duration": 3147,
    "start_time": "2021-10-25T06:40:15.992Z"
   },
   {
    "duration": 3136,
    "start_time": "2021-10-25T06:40:16.005Z"
   },
   {
    "duration": 3109,
    "start_time": "2021-10-25T06:40:16.033Z"
   },
   {
    "duration": 3092,
    "start_time": "2021-10-25T06:40:16.052Z"
   },
   {
    "duration": 3079,
    "start_time": "2021-10-25T06:40:16.066Z"
   },
   {
    "duration": 3072,
    "start_time": "2021-10-25T06:40:16.074Z"
   },
   {
    "duration": 3069,
    "start_time": "2021-10-25T06:40:16.078Z"
   },
   {
    "duration": 3067,
    "start_time": "2021-10-25T06:40:16.082Z"
   },
   {
    "duration": 3064,
    "start_time": "2021-10-25T06:40:16.086Z"
   },
   {
    "duration": 3060,
    "start_time": "2021-10-25T06:40:16.091Z"
   },
   {
    "duration": 1220,
    "start_time": "2021-10-25T06:42:53.702Z"
   },
   {
    "duration": 975,
    "start_time": "2021-10-25T06:44:42.008Z"
   },
   {
    "duration": 943,
    "start_time": "2021-10-25T06:45:42.006Z"
   },
   {
    "duration": 975,
    "start_time": "2021-10-25T06:47:42.213Z"
   },
   {
    "duration": 1103,
    "start_time": "2021-10-25T06:48:04.695Z"
   },
   {
    "duration": 1147,
    "start_time": "2021-10-25T06:48:13.367Z"
   },
   {
    "duration": 657,
    "start_time": "2021-10-25T06:50:50.183Z"
   },
   {
    "duration": 647,
    "start_time": "2021-10-25T06:51:26.113Z"
   },
   {
    "duration": 772,
    "start_time": "2021-10-25T06:51:40.202Z"
   },
   {
    "duration": 838,
    "start_time": "2021-10-25T06:52:33.528Z"
   },
   {
    "duration": 1437,
    "start_time": "2021-10-25T06:52:48.548Z"
   },
   {
    "duration": 66,
    "start_time": "2021-10-25T06:52:49.988Z"
   },
   {
    "duration": 4,
    "start_time": "2021-10-25T06:52:50.059Z"
   },
   {
    "duration": 8,
    "start_time": "2021-10-25T06:52:50.067Z"
   },
   {
    "duration": 46,
    "start_time": "2021-10-25T06:52:50.077Z"
   },
   {
    "duration": 29,
    "start_time": "2021-10-25T06:52:50.126Z"
   },
   {
    "duration": 68,
    "start_time": "2021-10-25T06:52:50.159Z"
   },
   {
    "duration": 11,
    "start_time": "2021-10-25T06:52:50.230Z"
   },
   {
    "duration": 14,
    "start_time": "2021-10-25T06:52:50.246Z"
   },
   {
    "duration": 18,
    "start_time": "2021-10-25T06:52:50.264Z"
   },
   {
    "duration": 852,
    "start_time": "2021-10-25T06:52:50.285Z"
   },
   {
    "duration": 7,
    "start_time": "2021-10-25T06:52:51.140Z"
   },
   {
    "duration": 22,
    "start_time": "2021-10-25T06:52:51.150Z"
   },
   {
    "duration": 790,
    "start_time": "2021-10-25T06:52:51.174Z"
   },
   {
    "duration": 16,
    "start_time": "2021-10-25T06:52:51.967Z"
   },
   {
    "duration": 372,
    "start_time": "2021-10-25T06:52:51.986Z"
   },
   {
    "duration": 286,
    "start_time": "2021-10-25T06:52:52.360Z"
   },
   {
    "duration": 23,
    "start_time": "2021-10-25T06:52:52.649Z"
   },
   {
    "duration": 7,
    "start_time": "2021-10-25T06:52:52.675Z"
   },
   {
    "duration": 41,
    "start_time": "2021-10-25T06:52:52.684Z"
   },
   {
    "duration": 642,
    "start_time": "2021-10-25T06:52:52.728Z"
   },
   {
    "duration": 635,
    "start_time": "2021-10-25T06:52:53.373Z"
   },
   {
    "duration": 17,
    "start_time": "2021-10-25T06:52:54.010Z"
   },
   {
    "duration": 696,
    "start_time": "2021-10-25T06:52:54.029Z"
   },
   {
    "duration": 15,
    "start_time": "2021-10-25T06:52:54.728Z"
   },
   {
    "duration": 16,
    "start_time": "2021-10-25T06:52:54.745Z"
   },
   {
    "duration": 14,
    "start_time": "2021-10-25T06:52:54.767Z"
   },
   {
    "duration": 649,
    "start_time": "2021-10-25T06:52:54.784Z"
   },
   {
    "duration": 19,
    "start_time": "2021-10-25T06:52:55.436Z"
   },
   {
    "duration": 828,
    "start_time": "2021-10-25T06:52:55.458Z"
   },
   {
    "duration": 191,
    "start_time": "2021-10-25T06:52:56.288Z"
   },
   {
    "duration": 694,
    "start_time": "2021-10-25T06:52:56.481Z"
   },
   {
    "duration": 6,
    "start_time": "2021-10-25T06:52:57.178Z"
   },
   {
    "duration": 9,
    "start_time": "2021-10-25T06:52:57.186Z"
   },
   {
    "duration": 38,
    "start_time": "2021-10-25T06:52:57.197Z"
   },
   {
    "duration": 123,
    "start_time": "2021-10-25T06:52:57.238Z"
   },
   {
    "duration": 9,
    "start_time": "2021-10-25T06:52:57.364Z"
   },
   {
    "duration": 114,
    "start_time": "2021-10-25T06:52:57.375Z"
   },
   {
    "duration": 46,
    "start_time": "2021-10-25T06:52:57.491Z"
   },
   {
    "duration": 115,
    "start_time": "2021-10-25T06:52:57.540Z"
   },
   {
    "duration": 31,
    "start_time": "2021-10-25T06:52:57.658Z"
   },
   {
    "duration": 143,
    "start_time": "2021-10-25T06:52:57.691Z"
   },
   {
    "duration": 64,
    "start_time": "2021-10-25T06:52:57.837Z"
   },
   {
    "duration": 132,
    "start_time": "2021-10-25T06:52:57.923Z"
   },
   {
    "duration": 122,
    "start_time": "2021-10-25T06:52:58.058Z"
   },
   {
    "duration": 8,
    "start_time": "2021-10-25T06:52:58.182Z"
   },
   {
    "duration": 32,
    "start_time": "2021-10-25T06:52:58.192Z"
   },
   {
    "duration": 6,
    "start_time": "2021-10-25T06:52:58.226Z"
   },
   {
    "duration": 11,
    "start_time": "2021-10-25T06:52:58.234Z"
   },
   {
    "duration": 12,
    "start_time": "2021-10-25T06:52:58.247Z"
   },
   {
    "duration": 16,
    "start_time": "2021-10-25T06:52:58.262Z"
   },
   {
    "duration": 19,
    "start_time": "2021-10-25T06:52:58.280Z"
   },
   {
    "duration": 6,
    "start_time": "2021-10-25T06:52:58.302Z"
   },
   {
    "duration": 11,
    "start_time": "2021-10-25T06:52:58.323Z"
   },
   {
    "duration": 9,
    "start_time": "2021-10-25T06:52:58.336Z"
   },
   {
    "duration": 20,
    "start_time": "2021-10-25T06:52:58.348Z"
   },
   {
    "duration": 14,
    "start_time": "2021-10-25T06:52:58.370Z"
   },
   {
    "duration": 38,
    "start_time": "2021-10-25T06:52:58.386Z"
   },
   {
    "duration": 14,
    "start_time": "2021-10-25T06:52:58.426Z"
   },
   {
    "duration": 26,
    "start_time": "2021-10-25T06:52:58.442Z"
   },
   {
    "duration": 6,
    "start_time": "2021-10-25T06:52:58.471Z"
   },
   {
    "duration": 25,
    "start_time": "2021-10-25T06:52:58.479Z"
   },
   {
    "duration": 22,
    "start_time": "2021-10-25T06:52:58.506Z"
   },
   {
    "duration": 2033,
    "start_time": "2021-10-25T07:01:15.203Z"
   },
   {
    "duration": 64,
    "start_time": "2021-10-25T07:01:17.239Z"
   },
   {
    "duration": 3,
    "start_time": "2021-10-25T07:01:17.306Z"
   },
   {
    "duration": 6,
    "start_time": "2021-10-25T07:01:17.312Z"
   },
   {
    "duration": 33,
    "start_time": "2021-10-25T07:01:17.320Z"
   },
   {
    "duration": 25,
    "start_time": "2021-10-25T07:01:17.355Z"
   },
   {
    "duration": 57,
    "start_time": "2021-10-25T07:01:17.382Z"
   },
   {
    "duration": 9,
    "start_time": "2021-10-25T07:01:17.443Z"
   },
   {
    "duration": 15,
    "start_time": "2021-10-25T07:01:17.455Z"
   },
   {
    "duration": 14,
    "start_time": "2021-10-25T07:01:17.473Z"
   },
   {
    "duration": 848,
    "start_time": "2021-10-25T07:01:17.522Z"
   },
   {
    "duration": 7,
    "start_time": "2021-10-25T07:01:18.372Z"
   },
   {
    "duration": 18,
    "start_time": "2021-10-25T07:01:18.382Z"
   },
   {
    "duration": 824,
    "start_time": "2021-10-25T07:01:18.402Z"
   },
   {
    "duration": 16,
    "start_time": "2021-10-25T07:01:19.228Z"
   },
   {
    "duration": 371,
    "start_time": "2021-10-25T07:01:19.246Z"
   },
   {
    "duration": 306,
    "start_time": "2021-10-25T07:01:19.622Z"
   },
   {
    "duration": 23,
    "start_time": "2021-10-25T07:01:19.931Z"
   },
   {
    "duration": 7,
    "start_time": "2021-10-25T07:01:19.956Z"
   },
   {
    "duration": 10,
    "start_time": "2021-10-25T07:01:19.966Z"
   },
   {
    "duration": 677,
    "start_time": "2021-10-25T07:01:19.978Z"
   },
   {
    "duration": 669,
    "start_time": "2021-10-25T07:01:20.658Z"
   },
   {
    "duration": 9,
    "start_time": "2021-10-25T07:01:21.333Z"
   },
   {
    "duration": 720,
    "start_time": "2021-10-25T07:01:21.346Z"
   },
   {
    "duration": 16,
    "start_time": "2021-10-25T07:01:22.069Z"
   },
   {
    "duration": 38,
    "start_time": "2021-10-25T07:01:22.088Z"
   },
   {
    "duration": 22,
    "start_time": "2021-10-25T07:01:22.128Z"
   },
   {
    "duration": 647,
    "start_time": "2021-10-25T07:01:22.153Z"
   },
   {
    "duration": 32,
    "start_time": "2021-10-25T07:01:22.802Z"
   },
   {
    "duration": 820,
    "start_time": "2021-10-25T07:01:22.837Z"
   },
   {
    "duration": 224,
    "start_time": "2021-10-25T07:01:23.660Z"
   },
   {
    "duration": 703,
    "start_time": "2021-10-25T07:01:23.886Z"
   },
   {
    "duration": 6,
    "start_time": "2021-10-25T07:01:24.592Z"
   },
   {
    "duration": 22,
    "start_time": "2021-10-25T07:01:24.600Z"
   },
   {
    "duration": 14,
    "start_time": "2021-10-25T07:01:24.625Z"
   },
   {
    "duration": 124,
    "start_time": "2021-10-25T07:01:24.641Z"
   },
   {
    "duration": 11,
    "start_time": "2021-10-25T07:01:24.768Z"
   },
   {
    "duration": 110,
    "start_time": "2021-10-25T07:01:24.781Z"
   },
   {
    "duration": 44,
    "start_time": "2021-10-25T07:01:24.894Z"
   },
   {
    "duration": 118,
    "start_time": "2021-10-25T07:01:24.941Z"
   },
   {
    "duration": 31,
    "start_time": "2021-10-25T07:01:25.061Z"
   },
   {
    "duration": 138,
    "start_time": "2021-10-25T07:01:25.095Z"
   },
   {
    "duration": 47,
    "start_time": "2021-10-25T07:01:25.236Z"
   },
   {
    "duration": 144,
    "start_time": "2021-10-25T07:01:25.285Z"
   },
   {
    "duration": 147,
    "start_time": "2021-10-25T07:01:25.432Z"
   },
   {
    "duration": 10,
    "start_time": "2021-10-25T07:01:25.582Z"
   },
   {
    "duration": 32,
    "start_time": "2021-10-25T07:01:25.594Z"
   },
   {
    "duration": 8,
    "start_time": "2021-10-25T07:01:25.629Z"
   },
   {
    "duration": 11,
    "start_time": "2021-10-25T07:01:25.640Z"
   },
   {
    "duration": 9,
    "start_time": "2021-10-25T07:01:25.653Z"
   },
   {
    "duration": 9,
    "start_time": "2021-10-25T07:01:25.665Z"
   },
   {
    "duration": 45,
    "start_time": "2021-10-25T07:01:25.676Z"
   },
   {
    "duration": 6,
    "start_time": "2021-10-25T07:01:25.724Z"
   },
   {
    "duration": 11,
    "start_time": "2021-10-25T07:01:25.733Z"
   },
   {
    "duration": 9,
    "start_time": "2021-10-25T07:01:25.747Z"
   },
   {
    "duration": 15,
    "start_time": "2021-10-25T07:01:25.759Z"
   },
   {
    "duration": 48,
    "start_time": "2021-10-25T07:01:25.777Z"
   },
   {
    "duration": 14,
    "start_time": "2021-10-25T07:01:25.828Z"
   },
   {
    "duration": 10,
    "start_time": "2021-10-25T07:01:25.845Z"
   },
   {
    "duration": 13,
    "start_time": "2021-10-25T07:01:25.858Z"
   },
   {
    "duration": 6,
    "start_time": "2021-10-25T07:01:25.874Z"
   },
   {
    "duration": 48,
    "start_time": "2021-10-25T07:01:25.883Z"
   },
   {
    "duration": 22,
    "start_time": "2021-10-25T07:01:25.934Z"
   },
   {
    "duration": 687,
    "start_time": "2021-10-25T07:03:58.330Z"
   },
   {
    "duration": 745,
    "start_time": "2021-10-25T07:04:16.996Z"
   },
   {
    "duration": 993,
    "start_time": "2021-10-25T07:04:34.211Z"
   },
   {
    "duration": 1613,
    "start_time": "2021-10-25T07:05:29.093Z"
   },
   {
    "duration": 65,
    "start_time": "2021-10-25T07:05:30.709Z"
   },
   {
    "duration": 4,
    "start_time": "2021-10-25T07:05:30.777Z"
   },
   {
    "duration": 9,
    "start_time": "2021-10-25T07:05:30.784Z"
   },
   {
    "duration": 39,
    "start_time": "2021-10-25T07:05:30.795Z"
   },
   {
    "duration": 28,
    "start_time": "2021-10-25T07:05:30.837Z"
   },
   {
    "duration": 65,
    "start_time": "2021-10-25T07:05:30.868Z"
   },
   {
    "duration": 9,
    "start_time": "2021-10-25T07:05:30.937Z"
   },
   {
    "duration": 23,
    "start_time": "2021-10-25T07:05:30.949Z"
   },
   {
    "duration": 27,
    "start_time": "2021-10-25T07:05:30.975Z"
   },
   {
    "duration": 828,
    "start_time": "2021-10-25T07:05:31.005Z"
   },
   {
    "duration": 6,
    "start_time": "2021-10-25T07:05:31.836Z"
   },
   {
    "duration": 22,
    "start_time": "2021-10-25T07:05:31.845Z"
   },
   {
    "duration": 798,
    "start_time": "2021-10-25T07:05:31.871Z"
   },
   {
    "duration": 18,
    "start_time": "2021-10-25T07:05:32.672Z"
   },
   {
    "duration": 390,
    "start_time": "2021-10-25T07:05:32.693Z"
   },
   {
    "duration": 293,
    "start_time": "2021-10-25T07:05:33.085Z"
   },
   {
    "duration": 18,
    "start_time": "2021-10-25T07:05:33.381Z"
   },
   {
    "duration": 24,
    "start_time": "2021-10-25T07:05:33.401Z"
   },
   {
    "duration": 6,
    "start_time": "2021-10-25T07:05:33.428Z"
   },
   {
    "duration": 650,
    "start_time": "2021-10-25T07:05:33.436Z"
   },
   {
    "duration": 638,
    "start_time": "2021-10-25T07:05:34.088Z"
   },
   {
    "duration": 9,
    "start_time": "2021-10-25T07:05:34.731Z"
   },
   {
    "duration": 731,
    "start_time": "2021-10-25T07:05:34.743Z"
   },
   {
    "duration": 15,
    "start_time": "2021-10-25T07:05:35.476Z"
   },
   {
    "duration": 39,
    "start_time": "2021-10-25T07:05:35.493Z"
   },
   {
    "duration": 15,
    "start_time": "2021-10-25T07:05:35.534Z"
   },
   {
    "duration": 642,
    "start_time": "2021-10-25T07:05:35.551Z"
   },
   {
    "duration": 33,
    "start_time": "2021-10-25T07:05:36.196Z"
   },
   {
    "duration": 820,
    "start_time": "2021-10-25T07:05:36.231Z"
   },
   {
    "duration": 222,
    "start_time": "2021-10-25T07:05:37.053Z"
   },
   {
    "duration": 714,
    "start_time": "2021-10-25T07:05:37.278Z"
   },
   {
    "duration": 6,
    "start_time": "2021-10-25T07:05:37.994Z"
   },
   {
    "duration": 719,
    "start_time": "2021-10-25T07:05:38.003Z"
   },
   {
    "duration": 7,
    "start_time": "2021-10-25T07:05:38.724Z"
   },
   {
    "duration": 16,
    "start_time": "2021-10-25T07:05:38.733Z"
   },
   {
    "duration": 120,
    "start_time": "2021-10-25T07:05:38.751Z"
   },
   {
    "duration": 14,
    "start_time": "2021-10-25T07:05:38.874Z"
   },
   {
    "duration": 110,
    "start_time": "2021-10-25T07:05:38.891Z"
   },
   {
    "duration": 40,
    "start_time": "2021-10-25T07:05:39.003Z"
   },
   {
    "duration": 128,
    "start_time": "2021-10-25T07:05:39.045Z"
   },
   {
    "duration": 38,
    "start_time": "2021-10-25T07:05:39.175Z"
   },
   {
    "duration": 122,
    "start_time": "2021-10-25T07:05:39.222Z"
   },
   {
    "duration": 51,
    "start_time": "2021-10-25T07:05:39.346Z"
   },
   {
    "duration": 139,
    "start_time": "2021-10-25T07:05:39.400Z"
   },
   {
    "duration": 162,
    "start_time": "2021-10-25T07:05:39.541Z"
   },
   {
    "duration": 21,
    "start_time": "2021-10-25T07:05:39.705Z"
   },
   {
    "duration": 21,
    "start_time": "2021-10-25T07:05:39.729Z"
   },
   {
    "duration": 17,
    "start_time": "2021-10-25T07:05:39.752Z"
   },
   {
    "duration": 21,
    "start_time": "2021-10-25T07:05:39.772Z"
   },
   {
    "duration": 20,
    "start_time": "2021-10-25T07:05:39.796Z"
   },
   {
    "duration": 14,
    "start_time": "2021-10-25T07:05:39.818Z"
   },
   {
    "duration": 28,
    "start_time": "2021-10-25T07:05:39.835Z"
   },
   {
    "duration": 16,
    "start_time": "2021-10-25T07:05:39.865Z"
   },
   {
    "duration": 20,
    "start_time": "2021-10-25T07:05:39.883Z"
   },
   {
    "duration": 12,
    "start_time": "2021-10-25T07:05:39.905Z"
   },
   {
    "duration": 14,
    "start_time": "2021-10-25T07:05:39.920Z"
   },
   {
    "duration": 21,
    "start_time": "2021-10-25T07:05:39.937Z"
   },
   {
    "duration": 16,
    "start_time": "2021-10-25T07:05:39.960Z"
   },
   {
    "duration": 21,
    "start_time": "2021-10-25T07:05:39.978Z"
   },
   {
    "duration": 16,
    "start_time": "2021-10-25T07:05:40.001Z"
   },
   {
    "duration": 13,
    "start_time": "2021-10-25T07:05:40.019Z"
   },
   {
    "duration": 22,
    "start_time": "2021-10-25T07:05:40.035Z"
   },
   {
    "duration": 17,
    "start_time": "2021-10-25T07:05:40.059Z"
   },
   {
    "duration": 421,
    "start_time": "2021-10-25T08:12:14.249Z"
   },
   {
    "duration": 8,
    "start_time": "2021-10-25T08:12:35.435Z"
   },
   {
    "duration": 5,
    "start_time": "2021-10-25T08:12:40.346Z"
   },
   {
    "duration": 19,
    "start_time": "2021-10-25T08:12:52.011Z"
   },
   {
    "duration": 16,
    "start_time": "2021-10-25T08:13:02.111Z"
   },
   {
    "duration": 272,
    "start_time": "2021-10-25T08:13:10.824Z"
   },
   {
    "duration": 335,
    "start_time": "2021-10-25T08:14:03.716Z"
   },
   {
    "duration": 17,
    "start_time": "2021-10-25T08:14:16.305Z"
   },
   {
    "duration": 22,
    "start_time": "2021-10-25T08:14:22.786Z"
   },
   {
    "duration": 16,
    "start_time": "2021-10-25T08:14:39.380Z"
   },
   {
    "duration": 17,
    "start_time": "2021-10-25T08:16:52.806Z"
   },
   {
    "duration": 10,
    "start_time": "2021-10-25T08:33:41.198Z"
   },
   {
    "duration": 13,
    "start_time": "2021-10-25T08:37:49.084Z"
   },
   {
    "duration": 11,
    "start_time": "2021-10-25T08:40:36.851Z"
   },
   {
    "duration": 1511,
    "start_time": "2021-10-25T14:41:00.681Z"
   },
   {
    "duration": 79,
    "start_time": "2021-10-25T14:41:02.195Z"
   },
   {
    "duration": 3,
    "start_time": "2021-10-25T14:41:02.277Z"
   },
   {
    "duration": 7,
    "start_time": "2021-10-25T14:41:02.283Z"
   },
   {
    "duration": 34,
    "start_time": "2021-10-25T14:41:02.292Z"
   },
   {
    "duration": 28,
    "start_time": "2021-10-25T14:41:02.328Z"
   },
   {
    "duration": 66,
    "start_time": "2021-10-25T14:41:02.358Z"
   },
   {
    "duration": 9,
    "start_time": "2021-10-25T14:41:02.427Z"
   },
   {
    "duration": 10,
    "start_time": "2021-10-25T14:41:02.440Z"
   },
   {
    "duration": 19,
    "start_time": "2021-10-25T14:41:02.453Z"
   },
   {
    "duration": 874,
    "start_time": "2021-10-25T14:41:02.474Z"
   },
   {
    "duration": 9,
    "start_time": "2021-10-25T14:41:03.350Z"
   },
   {
    "duration": 25,
    "start_time": "2021-10-25T14:41:03.361Z"
   },
   {
    "duration": 788,
    "start_time": "2021-10-25T14:41:03.389Z"
   },
   {
    "duration": 15,
    "start_time": "2021-10-25T14:41:04.180Z"
   },
   {
    "duration": 387,
    "start_time": "2021-10-25T14:41:04.198Z"
   },
   {
    "duration": 308,
    "start_time": "2021-10-25T14:41:04.588Z"
   },
   {
    "duration": 35,
    "start_time": "2021-10-25T14:41:04.899Z"
   },
   {
    "duration": 13,
    "start_time": "2021-10-25T14:41:04.936Z"
   },
   {
    "duration": 8,
    "start_time": "2021-10-25T14:41:04.952Z"
   },
   {
    "duration": 677,
    "start_time": "2021-10-25T14:41:04.963Z"
   },
   {
    "duration": 662,
    "start_time": "2021-10-25T14:41:05.642Z"
   },
   {
    "duration": 20,
    "start_time": "2021-10-25T14:41:06.307Z"
   },
   {
    "duration": 737,
    "start_time": "2021-10-25T14:41:06.330Z"
   },
   {
    "duration": 16,
    "start_time": "2021-10-25T14:41:07.069Z"
   },
   {
    "duration": 41,
    "start_time": "2021-10-25T14:41:07.088Z"
   },
   {
    "duration": 15,
    "start_time": "2021-10-25T14:41:07.136Z"
   },
   {
    "duration": 667,
    "start_time": "2021-10-25T14:41:07.155Z"
   },
   {
    "duration": 20,
    "start_time": "2021-10-25T14:41:07.825Z"
   },
   {
    "duration": 818,
    "start_time": "2021-10-25T14:41:07.848Z"
   },
   {
    "duration": 208,
    "start_time": "2021-10-25T14:41:08.669Z"
   },
   {
    "duration": 800,
    "start_time": "2021-10-25T14:41:08.880Z"
   },
   {
    "duration": 8,
    "start_time": "2021-10-25T14:41:09.683Z"
   },
   {
    "duration": 816,
    "start_time": "2021-10-25T14:41:09.693Z"
   },
   {
    "duration": 15,
    "start_time": "2021-10-25T14:41:10.512Z"
   },
   {
    "duration": 15,
    "start_time": "2021-10-25T14:41:10.529Z"
   },
   {
    "duration": 130,
    "start_time": "2021-10-25T14:41:10.546Z"
   },
   {
    "duration": 8,
    "start_time": "2021-10-25T14:41:10.678Z"
   },
   {
    "duration": 122,
    "start_time": "2021-10-25T14:41:10.688Z"
   },
   {
    "duration": 42,
    "start_time": "2021-10-25T14:41:10.813Z"
   },
   {
    "duration": 145,
    "start_time": "2021-10-25T14:41:10.858Z"
   },
   {
    "duration": 36,
    "start_time": "2021-10-25T14:41:11.022Z"
   },
   {
    "duration": 138,
    "start_time": "2021-10-25T14:41:11.061Z"
   },
   {
    "duration": 67,
    "start_time": "2021-10-25T14:41:11.201Z"
   },
   {
    "duration": 126,
    "start_time": "2021-10-25T14:41:11.272Z"
   },
   {
    "duration": 145,
    "start_time": "2021-10-25T14:41:11.402Z"
   },
   {
    "duration": 11,
    "start_time": "2021-10-25T14:41:11.550Z"
   },
   {
    "duration": 19,
    "start_time": "2021-10-25T14:41:11.564Z"
   },
   {
    "duration": 37,
    "start_time": "2021-10-25T14:41:11.585Z"
   },
   {
    "duration": 6,
    "start_time": "2021-10-25T14:41:11.625Z"
   },
   {
    "duration": 8,
    "start_time": "2021-10-25T14:41:11.633Z"
   },
   {
    "duration": 10,
    "start_time": "2021-10-25T14:41:11.643Z"
   },
   {
    "duration": 17,
    "start_time": "2021-10-25T14:41:11.655Z"
   },
   {
    "duration": 8,
    "start_time": "2021-10-25T14:41:11.675Z"
   },
   {
    "duration": 44,
    "start_time": "2021-10-25T14:41:11.685Z"
   },
   {
    "duration": 10,
    "start_time": "2021-10-25T14:41:11.732Z"
   },
   {
    "duration": 20,
    "start_time": "2021-10-25T14:41:11.745Z"
   },
   {
    "duration": 11,
    "start_time": "2021-10-25T14:41:11.768Z"
   },
   {
    "duration": 44,
    "start_time": "2021-10-25T14:41:11.782Z"
   },
   {
    "duration": 11,
    "start_time": "2021-10-25T14:41:11.828Z"
   },
   {
    "duration": 15,
    "start_time": "2021-10-25T14:41:11.841Z"
   },
   {
    "duration": 13,
    "start_time": "2021-10-25T14:41:11.859Z"
   },
   {
    "duration": 19,
    "start_time": "2021-10-25T14:41:11.874Z"
   },
   {
    "duration": 30,
    "start_time": "2021-10-25T14:41:11.896Z"
   },
   {
    "duration": 6,
    "start_time": "2021-10-25T14:41:11.929Z"
   },
   {
    "duration": 24,
    "start_time": "2021-10-25T14:41:11.937Z"
   },
   {
    "duration": 20,
    "start_time": "2021-10-25T14:41:11.964Z"
   }
  ],
  "kernelspec": {
   "display_name": "Python 3 (ipykernel)",
   "language": "python",
   "name": "python3"
  },
  "language_info": {
   "codemirror_mode": {
    "name": "ipython",
    "version": 3
   },
   "file_extension": ".py",
   "mimetype": "text/x-python",
   "name": "python",
   "nbconvert_exporter": "python",
   "pygments_lexer": "ipython3",
   "version": "3.9.7"
  },
  "toc": {
   "base_numbering": 1,
   "nav_menu": {},
   "number_sections": true,
   "sideBar": true,
   "skip_h1_title": true,
   "title_cell": "Table of Contents",
   "title_sidebar": "Contents",
   "toc_cell": false,
   "toc_position": {},
   "toc_section_display": true,
   "toc_window_display": false
  }
 },
 "nbformat": 4,
 "nbformat_minor": 2
}
